{
 "cells": [
  {
   "cell_type": "markdown",
   "metadata": {},
   "source": [
    "# San Francisco Housing Rental Analysis\n",
    "\n",
    "In this assignment, you will perform basic analysis for the San Francisco Housing Market to allow potential real estate investors to choose rental investment properties. "
   ]
  },
  {
   "cell_type": "code",
   "execution_count": 219,
   "metadata": {},
   "outputs": [],
   "source": [
    "# initial imports\n",
    "import os\n",
    "import pandas as pd\n",
    "import numpy as np\n",
    "import panel as pn\n",
    "from panel.interact import interact\n",
    "from panel import widgets\n",
    "import matplotlib.pyplot as plt\n",
    "import hvplot.pandas\n",
    "import plotly.express as px\n",
    "from pathlib import Path\n",
    "from dotenv import load_dotenv\n",
    "\n",
    "%matplotlib inline"
   ]
  },
  {
   "cell_type": "code",
   "execution_count": 220,
   "metadata": {},
   "outputs": [],
   "source": [
    "# Read the Mapbox API key\n",
    "load_dotenv()\n",
    "mapbox_token = os.getenv(\"MAPBOX_API_KEY\")"
   ]
  },
  {
   "cell_type": "code",
   "execution_count": 221,
   "metadata": {},
   "outputs": [
    {
     "data": {
      "text/plain": [
       "89"
      ]
     },
     "execution_count": 221,
     "metadata": {},
     "output_type": "execute_result"
    }
   ],
   "source": [
    "# Use the len() check to see if the API key has loaded properly\n",
    "len(mapbox_token)"
   ]
  },
  {
   "cell_type": "code",
   "execution_count": 222,
   "metadata": {},
   "outputs": [],
   "source": [
    "# Set mapbox API\n",
    "px.set_mapbox_access_token(mapbox_token) "
   ]
  },
  {
   "cell_type": "markdown",
   "metadata": {},
   "source": [
    "## Load Data"
   ]
  },
  {
   "cell_type": "code",
   "execution_count": 223,
   "metadata": {},
   "outputs": [
    {
     "data": {
      "text/html": [
       "<div>\n",
       "<style scoped>\n",
       "    .dataframe tbody tr th:only-of-type {\n",
       "        vertical-align: middle;\n",
       "    }\n",
       "\n",
       "    .dataframe tbody tr th {\n",
       "        vertical-align: top;\n",
       "    }\n",
       "\n",
       "    .dataframe thead th {\n",
       "        text-align: right;\n",
       "    }\n",
       "</style>\n",
       "<table border=\"1\" class=\"dataframe\">\n",
       "  <thead>\n",
       "    <tr style=\"text-align: right;\">\n",
       "      <th></th>\n",
       "      <th>neighborhood</th>\n",
       "      <th>sale_price_sqr_foot</th>\n",
       "      <th>housing_units</th>\n",
       "      <th>gross_rent</th>\n",
       "    </tr>\n",
       "    <tr>\n",
       "      <th>year</th>\n",
       "      <th></th>\n",
       "      <th></th>\n",
       "      <th></th>\n",
       "      <th></th>\n",
       "    </tr>\n",
       "  </thead>\n",
       "  <tbody>\n",
       "    <tr>\n",
       "      <th>2010</th>\n",
       "      <td>Alamo Square</td>\n",
       "      <td>291.182945</td>\n",
       "      <td>372560</td>\n",
       "      <td>1239</td>\n",
       "    </tr>\n",
       "    <tr>\n",
       "      <th>2010</th>\n",
       "      <td>Anza Vista</td>\n",
       "      <td>267.932583</td>\n",
       "      <td>372560</td>\n",
       "      <td>1239</td>\n",
       "    </tr>\n",
       "    <tr>\n",
       "      <th>2010</th>\n",
       "      <td>Bayview</td>\n",
       "      <td>170.098665</td>\n",
       "      <td>372560</td>\n",
       "      <td>1239</td>\n",
       "    </tr>\n",
       "    <tr>\n",
       "      <th>2010</th>\n",
       "      <td>Buena Vista Park</td>\n",
       "      <td>347.394919</td>\n",
       "      <td>372560</td>\n",
       "      <td>1239</td>\n",
       "    </tr>\n",
       "    <tr>\n",
       "      <th>2010</th>\n",
       "      <td>Central Richmond</td>\n",
       "      <td>319.027623</td>\n",
       "      <td>372560</td>\n",
       "      <td>1239</td>\n",
       "    </tr>\n",
       "  </tbody>\n",
       "</table>\n",
       "</div>"
      ],
      "text/plain": [
       "          neighborhood  sale_price_sqr_foot  housing_units  gross_rent\n",
       "year                                                                  \n",
       "2010      Alamo Square           291.182945         372560        1239\n",
       "2010        Anza Vista           267.932583         372560        1239\n",
       "2010           Bayview           170.098665         372560        1239\n",
       "2010  Buena Vista Park           347.394919         372560        1239\n",
       "2010  Central Richmond           319.027623         372560        1239"
      ]
     },
     "execution_count": 223,
     "metadata": {},
     "output_type": "execute_result"
    }
   ],
   "source": [
    "# Read the census data into a Pandas DataFrame\n",
    "file_path = Path(\"Data/sfo_neighborhoods_census_data.csv\")\n",
    "sfo_data = pd.read_csv(file_path, index_col=\"year\")\n",
    "sfo_data.head()"
   ]
  },
  {
   "cell_type": "markdown",
   "metadata": {},
   "source": [
    "- - - "
   ]
  },
  {
   "cell_type": "markdown",
   "metadata": {},
   "source": [
    "## Housing Units Per Year\n",
    "\n",
    "In this section, you will calculate the number of housing units per year and visualize the results as a bar chart using the Pandas plot function. \n",
    "\n",
    "Hint: Use the Pandas groupby function\n",
    "\n",
    "Optional challenge: Use the min, max, and std to scale the y limits of the chart."
   ]
  },
  {
   "cell_type": "code",
   "execution_count": 224,
   "metadata": {},
   "outputs": [
    {
     "data": {
      "text/html": [
       "<div>\n",
       "<style scoped>\n",
       "    .dataframe tbody tr th:only-of-type {\n",
       "        vertical-align: middle;\n",
       "    }\n",
       "\n",
       "    .dataframe tbody tr th {\n",
       "        vertical-align: top;\n",
       "    }\n",
       "\n",
       "    .dataframe thead th {\n",
       "        text-align: right;\n",
       "    }\n",
       "</style>\n",
       "<table border=\"1\" class=\"dataframe\">\n",
       "  <thead>\n",
       "    <tr style=\"text-align: right;\">\n",
       "      <th></th>\n",
       "      <th>housing_units</th>\n",
       "    </tr>\n",
       "    <tr>\n",
       "      <th>year</th>\n",
       "      <th></th>\n",
       "    </tr>\n",
       "  </thead>\n",
       "  <tbody>\n",
       "    <tr>\n",
       "      <th>2010</th>\n",
       "      <td>372560</td>\n",
       "    </tr>\n",
       "    <tr>\n",
       "      <th>2011</th>\n",
       "      <td>374507</td>\n",
       "    </tr>\n",
       "    <tr>\n",
       "      <th>2012</th>\n",
       "      <td>376454</td>\n",
       "    </tr>\n",
       "    <tr>\n",
       "      <th>2013</th>\n",
       "      <td>378401</td>\n",
       "    </tr>\n",
       "    <tr>\n",
       "      <th>2014</th>\n",
       "      <td>380348</td>\n",
       "    </tr>\n",
       "    <tr>\n",
       "      <th>2015</th>\n",
       "      <td>382295</td>\n",
       "    </tr>\n",
       "    <tr>\n",
       "      <th>2016</th>\n",
       "      <td>384242</td>\n",
       "    </tr>\n",
       "  </tbody>\n",
       "</table>\n",
       "</div>"
      ],
      "text/plain": [
       "      housing_units\n",
       "year               \n",
       "2010         372560\n",
       "2011         374507\n",
       "2012         376454\n",
       "2013         378401\n",
       "2014         380348\n",
       "2015         382295\n",
       "2016         384242"
      ]
     },
     "execution_count": 224,
     "metadata": {},
     "output_type": "execute_result"
    }
   ],
   "source": [
    "# Calculate the mean number of housing units per year (hint: use groupby) \n",
    "sfo_data_group = sfo_data.groupby('year').mean().drop(columns=[\"sale_price_sqr_foot\",\"gross_rent\"])\n",
    "sfo_data_group"
   ]
  },
  {
   "cell_type": "code",
   "execution_count": 225,
   "metadata": {},
   "outputs": [
    {
     "data": {
      "text/plain": [
       "<matplotlib.axes._subplots.AxesSubplot at 0x1e4f6714448>"
      ]
     },
     "execution_count": 225,
     "metadata": {},
     "output_type": "execute_result"
    },
    {
     "data": {
      "image/png": "[encoded data removed]",
      "text/plain": [
       "<Figure size 432x288 with 1 Axes>"
      ]
     },
     "metadata": {
      "needs_background": "light"
     },
     "output_type": "display_data"
    }
   ],
   "source": [
    "# Use the Pandas plot function to plot the average housing units per year.\n",
    "# Note: You will need to manually adjust the y limit of the chart using the min and max values from above.\n",
    "sfo_data_group.plot(kind=\"bar\")"
   ]
  },
  {
   "cell_type": "code",
   "execution_count": 226,
   "metadata": {},
   "outputs": [
    {
     "data": {
      "image/png": "[encoded data removed]",
      "text/plain": [
       "<Figure size 432x288 with 1 Axes>"
      ]
     },
     "metadata": {
      "needs_background": "light"
     },
     "output_type": "display_data"
    }
   ],
   "source": [
    "# Optional Challenge: Use ylim to change the range of the y-axis for a more readable bar chart\n",
    "X = sfo_data_group.index\n",
    "plt.ylim(370000, 390000)\n",
    "plt.bar(X, sfo_data_group[\"housing_units\"])\n",
    "plt.show()"
   ]
  },
  {
   "cell_type": "markdown",
   "metadata": {},
   "source": [
    "- - - "
   ]
  },
  {
   "cell_type": "markdown",
   "metadata": {},
   "source": [
    "## Average Prices per Square Foot\n",
    "\n",
    "In this section, you will calculate the average gross rent and average sales price for each year. Plot the results as a line chart."
   ]
  },
  {
   "cell_type": "markdown",
   "metadata": {},
   "source": [
    "### Average Gross Rent in San Francisco Per Year"
   ]
  },
  {
   "cell_type": "code",
   "execution_count": 227,
   "metadata": {},
   "outputs": [
    {
     "data": {
      "text/html": [
       "<div>\n",
       "<style scoped>\n",
       "    .dataframe tbody tr th:only-of-type {\n",
       "        vertical-align: middle;\n",
       "    }\n",
       "\n",
       "    .dataframe tbody tr th {\n",
       "        vertical-align: top;\n",
       "    }\n",
       "\n",
       "    .dataframe thead th {\n",
       "        text-align: right;\n",
       "    }\n",
       "</style>\n",
       "<table border=\"1\" class=\"dataframe\">\n",
       "  <thead>\n",
       "    <tr style=\"text-align: right;\">\n",
       "      <th></th>\n",
       "      <th>sale_price_sqr_foot</th>\n",
       "      <th>gross_rent</th>\n",
       "    </tr>\n",
       "    <tr>\n",
       "      <th>year</th>\n",
       "      <th></th>\n",
       "      <th></th>\n",
       "    </tr>\n",
       "  </thead>\n",
       "  <tbody>\n",
       "    <tr>\n",
       "      <th>2010</th>\n",
       "      <td>369.344353</td>\n",
       "      <td>1239</td>\n",
       "    </tr>\n",
       "    <tr>\n",
       "      <th>2011</th>\n",
       "      <td>341.903429</td>\n",
       "      <td>1530</td>\n",
       "    </tr>\n",
       "    <tr>\n",
       "      <th>2012</th>\n",
       "      <td>399.389968</td>\n",
       "      <td>2324</td>\n",
       "    </tr>\n",
       "    <tr>\n",
       "      <th>2013</th>\n",
       "      <td>483.600304</td>\n",
       "      <td>2971</td>\n",
       "    </tr>\n",
       "    <tr>\n",
       "      <th>2014</th>\n",
       "      <td>556.277273</td>\n",
       "      <td>3528</td>\n",
       "    </tr>\n",
       "    <tr>\n",
       "      <th>2015</th>\n",
       "      <td>632.540352</td>\n",
       "      <td>3739</td>\n",
       "    </tr>\n",
       "    <tr>\n",
       "      <th>2016</th>\n",
       "      <td>697.643709</td>\n",
       "      <td>4390</td>\n",
       "    </tr>\n",
       "  </tbody>\n",
       "</table>\n",
       "</div>"
      ],
      "text/plain": [
       "      sale_price_sqr_foot  gross_rent\n",
       "year                                 \n",
       "2010           369.344353        1239\n",
       "2011           341.903429        1530\n",
       "2012           399.389968        2324\n",
       "2013           483.600304        2971\n",
       "2014           556.277273        3528\n",
       "2015           632.540352        3739\n",
       "2016           697.643709        4390"
      ]
     },
     "execution_count": 227,
     "metadata": {},
     "output_type": "execute_result"
    }
   ],
   "source": [
    "# Calculate the average gross rent and average sale price per square foot\n",
    "sfo_data_group_2 = sfo_data.groupby('year').mean().drop(columns=[\"housing_units\"])\n",
    "sfo_data_group_2"
   ]
  },
  {
   "cell_type": "code",
   "execution_count": 228,
   "metadata": {},
   "outputs": [
    {
     "data": {
      "text/plain": [
       "<matplotlib.axes._subplots.AxesSubplot at 0x1e4f6c26d48>"
      ]
     },
     "execution_count": 228,
     "metadata": {},
     "output_type": "execute_result"
    },
    {
     "data": {
      "image/png": "[encoded data removed]",
      "text/plain": [
       "<Figure size 432x288 with 1 Axes>"
      ]
     },
     "metadata": {
      "needs_background": "light"
     },
     "output_type": "display_data"
    }
   ],
   "source": [
    "# Plot the Average Gross Rent per Year as a Line Chart \n",
    "sfo_data_group_3 = sfo_data_group_2.drop(columns=[\"sale_price_sqr_foot\"])\n",
    "sfo_data_group_3.plot(kind=\"line\")"
   ]
  },
  {
   "cell_type": "markdown",
   "metadata": {},
   "source": [
    "### Average Sales Price per Year"
   ]
  },
  {
   "cell_type": "code",
   "execution_count": 229,
   "metadata": {},
   "outputs": [
    {
     "data": {
      "text/plain": [
       "<matplotlib.axes._subplots.AxesSubplot at 0x1e4f66d6688>"
      ]
     },
     "execution_count": 229,
     "metadata": {},
     "output_type": "execute_result"
    },
    {
     "data": {
      "image/png": "[encoded data removed]",
      "text/plain": [
       "<Figure size 432x288 with 1 Axes>"
      ]
     },
     "metadata": {
      "needs_background": "light"
     },
     "output_type": "display_data"
    }
   ],
   "source": [
    "# Plot the Average Sales Price per Year as a line chart\n",
    "sfo_data_group_4 = sfo_data_group_2.drop(columns=[\"gross_rent\"])\n",
    "sfo_data_group_4.plot(kind=\"line\")"
   ]
  },
  {
   "cell_type": "markdown",
   "metadata": {},
   "source": [
    "- - - "
   ]
  },
  {
   "cell_type": "markdown",
   "metadata": {},
   "source": [
    "## Average Prices by Neighborhood\n",
    "\n",
    "In this section, you will use hvplot to create an interactive visulization of the Average Prices with a dropdown selector for the neighborhood.\n",
    "\n",
    "Hint: It will be easier to create a new DataFrame from grouping the data and calculating the mean prices for each year and neighborhood"
   ]
  },
  {
   "cell_type": "code",
   "execution_count": 230,
   "metadata": {},
   "outputs": [
    {
     "data": {
      "text/html": [
       "<div>\n",
       "<style scoped>\n",
       "    .dataframe tbody tr th:only-of-type {\n",
       "        vertical-align: middle;\n",
       "    }\n",
       "\n",
       "    .dataframe tbody tr th {\n",
       "        vertical-align: top;\n",
       "    }\n",
       "\n",
       "    .dataframe thead th {\n",
       "        text-align: right;\n",
       "    }\n",
       "</style>\n",
       "<table border=\"1\" class=\"dataframe\">\n",
       "  <thead>\n",
       "    <tr style=\"text-align: right;\">\n",
       "      <th></th>\n",
       "      <th></th>\n",
       "      <th>sale_price_sqr_foot</th>\n",
       "    </tr>\n",
       "    <tr>\n",
       "      <th>year</th>\n",
       "      <th>neighborhood</th>\n",
       "      <th></th>\n",
       "    </tr>\n",
       "  </thead>\n",
       "  <tbody>\n",
       "    <tr>\n",
       "      <th rowspan=\"5\" valign=\"top\">2010</th>\n",
       "      <th>Alamo Square</th>\n",
       "      <td>291.182945</td>\n",
       "    </tr>\n",
       "    <tr>\n",
       "      <th>Anza Vista</th>\n",
       "      <td>267.932583</td>\n",
       "    </tr>\n",
       "    <tr>\n",
       "      <th>Bayview</th>\n",
       "      <td>170.098665</td>\n",
       "    </tr>\n",
       "    <tr>\n",
       "      <th>Buena Vista Park</th>\n",
       "      <td>347.394919</td>\n",
       "    </tr>\n",
       "    <tr>\n",
       "      <th>Central Richmond</th>\n",
       "      <td>319.027623</td>\n",
       "    </tr>\n",
       "  </tbody>\n",
       "</table>\n",
       "</div>"
      ],
      "text/plain": [
       "                       sale_price_sqr_foot\n",
       "year neighborhood                         \n",
       "2010 Alamo Square               291.182945\n",
       "     Anza Vista                 267.932583\n",
       "     Bayview                    170.098665\n",
       "     Buena Vista Park           347.394919\n",
       "     Central Richmond           319.027623"
      ]
     },
     "execution_count": 230,
     "metadata": {},
     "output_type": "execute_result"
    }
   ],
   "source": [
    "# Group by year and neighborhood and then create a new dataframe of the mean values\n",
    "sfo_data_group_5 = sfo_data.groupby([\"year\", \"neighborhood\"]).mean()\n",
    "# Remove non-sale price related columns\n",
    "sfo_data_group_5 = sfo_data_group_5.drop(columns=['housing_units', 'gross_rent'])\n",
    "sfo_data_group_5.head()"
   ]
  },
  {
   "cell_type": "code",
   "execution_count": 231,
   "metadata": {},
   "outputs": [],
   "source": [
    "# Use hvplot to create an interactive line chart of the average price per sq ft.\n",
    "# The plot should have a dropdown selector for the neighborhood\n",
    "# First, define a function for \"choose year\"\n",
    "def choose_neighborhood(neighborhood):\n",
    "    return neighborhood"
   ]
  },
  {
   "cell_type": "code",
   "execution_count": 232,
   "metadata": {},
   "outputs": [
    {
     "data": {
      "text/plain": [
       "year\n",
       "2010        Alamo Square\n",
       "2010          Anza Vista\n",
       "2010             Bayview\n",
       "2010    Buena Vista Park\n",
       "2010    Central Richmond\n",
       "Name: neighborhood, dtype: object"
      ]
     },
     "execution_count": 232,
     "metadata": {},
     "output_type": "execute_result"
    }
   ],
   "source": [
    "# Create a dataframe with only neighborhoods\n",
    "sfo_neighborhood = sfo_data['neighborhood']\n",
    "sfo_neighborhood.head()"
   ]
  },
  {
   "cell_type": "code",
   "execution_count": 233,
   "metadata": {},
   "outputs": [
    {
     "name": "stdout",
     "output_type": "stream",
     "text": [
      "['Alamo Square', 'Anza Vista', 'Bayview', 'Buena Vista Park', 'Central Richmond', 'Central Sunset', 'Corona Heights', 'Cow Hollow', 'Croker Amazon', 'Diamond Heights', 'Downtown ', 'Eureka Valley/Dolores Heights', 'Excelsior', 'Financial District North', 'Financial District South', 'Forest Knolls', 'Glen Park', 'Golden Gate Heights', 'Haight Ashbury', 'Hayes Valley', 'Hunters Point', 'Ingleside ', 'Inner Mission', 'Inner Parkside', 'Inner Richmond', 'Inner Sunset', 'Jordan Park/Laurel Heights', 'Lake --The Presidio', 'Lone Mountain', 'Lower Pacific Heights', 'Marina', 'Miraloma Park', 'Mission Bay', 'Mission Dolores', 'Mission Terrace', 'Nob Hill', 'Noe Valley', 'Oceanview', 'Outer Parkside', 'Outer Richmond ', 'Outer Sunset', 'Pacific Heights', 'Park North', 'Parkside', 'Parnassus/Ashbury Heights', 'Portola', 'Potrero Hill', 'Presidio Heights', 'Russian Hill', 'South Beach', 'South of Market', 'Sunnyside', 'Telegraph Hill', 'Twin Peaks', 'Union Square District', 'Van Ness/ Civic Center', 'West Portal', 'Western Addition', 'Yerba Buena', 'Bernal Heights ', 'Clarendon Heights', 'Duboce Triangle', 'Ingleside Heights', 'North Beach', 'North Waterfront', 'Outer Mission', 'Westwood Highlands', 'Merced Heights', 'Midtown Terrace', 'Visitacion Valley', 'Silver Terrace', 'Westwood Park', 'Bayview Heights']\n"
     ]
    }
   ],
   "source": [
    "# Convert neighborhood dataframe to list\n",
    "sfo_neighborhood_list = sfo_neighborhood.values.tolist()\n",
    "# Remove duplicates from list\n",
    "sfo_neighborhood_list = list(dict.fromkeys(sfo_neighborhood_list))\n",
    "print(sfo_neighborhood_list)"
   ]
  },
  {
   "cell_type": "code",
   "execution_count": 234,
   "metadata": {},
   "outputs": [
    {
     "data": {
      "application/vnd.holoviews_exec.v0+json": "",
      "text/html": [
       "<div id='10676'>\n",
       "\n",
       "\n",
       "\n",
       "\n",
       "\n",
       "  <div class=\"bk-root\" id=\"c5a7e2c6-bf0f-4a70-8637-3d4e6dd0a37a\" data-root-id=\"10676\"></div>\n",
       "</div>\n",
       "<script type=\"application/javascript\">(function(root) {\n",
       "  function embed_document(root) {\n",
       "  var docs_json = {\"f0b366ce-8f5a-4c05-90ec-581c5a52f376\":{\"roots\":{\"references\":[{\"attributes\":{\"children\":[{\"id\":\"10677\"},{\"id\":\"10679\"}],\"margin\":[0,0,0,0],\"name\":\"Column16432\"},\"id\":\"10676\",\"type\":\"Column\"},{\"attributes\":{\"css_classes\":[\"markdown\"],\"margin\":[5,5,5,5],\"name\":\"interactive16431\",\"text\":\"&lt;p&gt;Alamo Square&lt;/p&gt;\"},\"id\":\"10680\",\"type\":\"panel.models.markup.HTML\"},{\"attributes\":{\"margin\":[5,10,5,10],\"options\":[\"Alamo Square\",\"Anza Vista\",\"Bayview\",\"Buena Vista Park\",\"Central Richmond\",\"Central Sunset\",\"Corona Heights\",\"Cow Hollow\",\"Croker Amazon\",\"Diamond Heights\",\"Downtown \",\"Eureka Valley/Dolores Heights\",\"Excelsior\",\"Financial District North\",\"Financial District South\",\"Forest Knolls\",\"Glen Park\",\"Golden Gate Heights\",\"Haight Ashbury\",\"Hayes Valley\",\"Hunters Point\",\"Ingleside \",\"Inner Mission\",\"Inner Parkside\",\"Inner Richmond\",\"Inner Sunset\",\"Jordan Park/Laurel Heights\",\"Lake --The Presidio\",\"Lone Mountain\",\"Lower Pacific Heights\",\"Marina\",\"Miraloma Park\",\"Mission Bay\",\"Mission Dolores\",\"Mission Terrace\",\"Nob Hill\",\"Noe Valley\",\"Oceanview\",\"Outer Parkside\",\"Outer Richmond \",\"Outer Sunset\",\"Pacific Heights\",\"Park North\",\"Parkside\",\"Parnassus/Ashbury Heights\",\"Portola\",\"Potrero Hill\",\"Presidio Heights\",\"Russian Hill\",\"South Beach\",\"South of Market\",\"Sunnyside\",\"Telegraph Hill\",\"Twin Peaks\",\"Union Square District\",\"Van Ness/ Civic Center\",\"West Portal\",\"Western Addition\",\"Yerba Buena\",\"Bernal Heights \",\"Clarendon Heights\",\"Duboce Triangle\",\"Ingleside Heights\",\"North Beach\",\"North Waterfront\",\"Outer Mission\",\"Westwood Highlands\",\"Merced Heights\",\"Midtown Terrace\",\"Visitacion Valley\",\"Silver Terrace\",\"Westwood Park\",\"Bayview Heights\"],\"title\":\"neighborhood\",\"value\":\"Alamo Square\"},\"id\":\"10678\",\"type\":\"Select\"},{\"attributes\":{\"children\":[{\"id\":\"10680\"}],\"margin\":[0,0,0,0],\"name\":\"Row16436\"},\"id\":\"10679\",\"type\":\"Row\"},{\"attributes\":{\"client_comm_id\":\"1c77b61c99e349ae9b449ad03425d38c\",\"comm_id\":\"070f810a3278414aaad976586372fe2e\",\"plot_id\":\"10676\"},\"id\":\"10681\",\"type\":\"panel.models.comm_manager.CommManager\"},{\"attributes\":{\"children\":[{\"id\":\"10678\"}],\"margin\":[0,0,0,0],\"name\":\"Column16437\"},\"id\":\"10677\",\"type\":\"Column\"}],\"root_ids\":[\"10676\",\"10681\"]},\"title\":\"Bokeh Application\",\"version\":\"2.0.2\"}};\n",
       "  var render_items = [{\"docid\":\"f0b366ce-8f5a-4c05-90ec-581c5a52f376\",\"root_ids\":[\"10676\"],\"roots\":{\"10676\":\"c5a7e2c6-bf0f-4a70-8637-3d4e6dd0a37a\"}}];\n",
       "  root.Bokeh.embed.embed_items_notebook(docs_json, render_items);\n",
       "  }\n",
       "if (root.Bokeh !== undefined) {\n",
       "    embed_document(root);\n",
       "  } else {\n",
       "    var attempts = 0;\n",
       "    var timer = setInterval(function(root) {\n",
       "      if (root.Bokeh !== undefined) {\n",
       "        clearInterval(timer);\n",
       "        embed_document(root);\n",
       "      } else if (document.readyState == \"complete\") {\n",
       "        attempts++;\n",
       "        if (attempts > 100) {\n",
       "          clearInterval(timer);\n",
       "          console.log(\"Bokeh: ERROR: Unable to run BokehJS code because BokehJS library is missing\");\n",
       "        }\n",
       "      }\n",
       "    }, 10, root)\n",
       "  }\n",
       "})(window);</script>"
      ],
      "text/plain": [
       "Column\n",
       "    [0] Column\n",
       "        [0] Select(name='neighborhood', options=['Alamo Square', ...], value='Alamo Square')\n",
       "    [1] Row\n",
       "        [0] Markdown(str, name='interactive16431')"
      ]
     },
     "execution_count": 234,
     "metadata": {
      "application/vnd.holoviews_exec.v0+json": {
       "id": "10676"
      }
     },
     "output_type": "execute_result"
    }
   ],
   "source": [
    "# Create the interactive drop down list from using the list of years\n",
    "interact(choose_neighborhood, neighborhood=sfo_neighborhood_list)"
   ]
  },
  {
   "cell_type": "code",
   "execution_count": 235,
   "metadata": {},
   "outputs": [
    {
     "data": {
      "application/vnd.holoviews_exec.v0+json": "",
      "text/html": [
       "<div id='10682'>\n",
       "\n",
       "\n",
       "\n",
       "\n",
       "\n",
       "  <div class=\"bk-root\" id=\"ea786c3e-f313-4359-8c9d-89bf902af432\" data-root-id=\"10682\"></div>\n",
       "</div>\n",
       "<script type=\"application/javascript\">(function(root) {\n",
       "  function embed_document(root) {\n",
       "  var docs_json = {\"e23f46f8-354c-4ec2-aa01-9de08a77962b\":{\"roots\":{\"references\":[{\"attributes\":{\"fill_alpha\":{\"value\":0.2},\"fill_color\":{\"value\":\"#004d52\"},\"line_alpha\":{\"value\":0.2},\"line_color\":{\"value\":\"#004d52\"},\"size\":{\"units\":\"screen\",\"value\":5.477225575051661},\"x\":{\"field\":\"year\"},\"y\":{\"field\":\"sale_price_sqr_foot\"}},\"id\":\"11326\",\"type\":\"Scatter\"},{\"attributes\":{\"axis\":{\"id\":\"10772\"},\"dimension\":1,\"grid_line_color\":null,\"ticker\":null},\"id\":\"10775\",\"type\":\"Grid\"},{\"attributes\":{\"fill_alpha\":{\"value\":0.2},\"fill_color\":{\"value\":\"#ff018c\"},\"line_alpha\":{\"value\":0.2},\"line_color\":{\"value\":\"#ff018c\"},\"size\":{\"units\":\"screen\",\"value\":5.477225575051661},\"x\":{\"field\":\"year\"},\"y\":{\"field\":\"sale_price_sqr_foot\"}},\"id\":\"12686\",\"type\":\"Scatter\"},{\"attributes\":{},\"id\":\"10915\",\"type\":\"Selection\"},{\"attributes\":{},\"id\":\"12767\",\"type\":\"UnionRenderers\"},{\"attributes\":{\"fill_alpha\":{\"value\":0.2},\"fill_color\":{\"value\":\"#004d52\"},\"line_alpha\":{\"value\":0.2},\"line_color\":{\"value\":\"#004d52\"},\"size\":{\"units\":\"screen\",\"value\":5.477225575051661},\"x\":{\"field\":\"year\"},\"y\":{\"field\":\"sale_price_sqr_foot\"}},\"id\":\"11325\",\"type\":\"Scatter\"},{\"attributes\":{\"source\":{\"id\":\"13661\"}},\"id\":\"13668\",\"type\":\"CDSView\"},{\"attributes\":{},\"id\":\"13246\",\"type\":\"Selection\"},{\"attributes\":{},\"id\":\"13662\",\"type\":\"Selection\"},{\"attributes\":{\"label\":{\"value\":\"Midtown Terrace\"},\"renderers\":[{\"id\":\"12687\"}]},\"id\":\"12769\",\"type\":\"LegendItem\"},{\"attributes\":{\"data_source\":{\"id\":\"11321\"},\"glyph\":{\"id\":\"11324\"},\"hover_glyph\":null,\"muted_glyph\":{\"id\":\"11326\"},\"nonselection_glyph\":{\"id\":\"11325\"},\"selection_glyph\":null,\"view\":{\"id\":\"11328\"}},\"id\":\"11327\",\"type\":\"GlyphRenderer\"},{\"attributes\":{\"label\":{\"value\":\"Financial District North\"},\"renderers\":[{\"id\":\"11327\"}]},\"id\":\"11369\",\"type\":\"LegendItem\"},{\"attributes\":{\"axis\":{\"id\":\"10768\"},\"grid_line_color\":null,\"ticker\":null},\"id\":\"10771\",\"type\":\"Grid\"},{\"attributes\":{\"data_source\":{\"id\":\"12041\"},\"glyph\":{\"id\":\"12044\"},\"hover_glyph\":null,\"muted_glyph\":{\"id\":\"12046\"},\"nonselection_glyph\":{\"id\":\"12045\"},\"selection_glyph\":null,\"view\":{\"id\":\"12048\"}},\"id\":\"12047\",\"type\":\"GlyphRenderer\"},{\"attributes\":{\"fill_alpha\":{\"value\":0.2},\"fill_color\":{\"value\":\"#5b3400\"},\"line_alpha\":{\"value\":0.2},\"line_color\":{\"value\":\"#5b3400\"},\"size\":{\"units\":\"screen\",\"value\":5.477225575051661},\"x\":{\"field\":\"year\"},\"y\":{\"field\":\"sale_price_sqr_foot\"}},\"id\":\"12046\",\"type\":\"Scatter\"},{\"attributes\":{},\"id\":\"11367\",\"type\":\"UnionRenderers\"},{\"attributes\":{\"fill_alpha\":{\"value\":0.2},\"fill_color\":{\"value\":\"#6e8956\"},\"line_alpha\":{\"value\":0.2},\"line_color\":{\"value\":\"#6e8956\"},\"size\":{\"units\":\"screen\",\"value\":5.477225575051661},\"x\":{\"field\":\"year\"},\"y\":{\"field\":\"sale_price_sqr_foot\"}},\"id\":\"13665\",\"type\":\"Scatter\"},{\"attributes\":{},\"id\":\"10938\",\"type\":\"UnionRenderers\"},{\"attributes\":{\"fill_alpha\":{\"value\":0.2},\"fill_color\":{\"value\":\"#d8afa1\"},\"line_alpha\":{\"value\":0.2},\"line_color\":{\"value\":\"#d8afa1\"},\"size\":{\"units\":\"screen\",\"value\":5.477225575051661},\"x\":{\"field\":\"year\"},\"y\":{\"field\":\"sale_price_sqr_foot\"}},\"id\":\"11232\",\"type\":\"Scatter\"},{\"attributes\":{\"fill_alpha\":{\"value\":0.2},\"fill_color\":{\"value\":\"#ac8944\"},\"line_alpha\":{\"value\":0.2},\"line_color\":{\"value\":\"#ac8944\"},\"size\":{\"units\":\"screen\",\"value\":5.477225575051661},\"x\":{\"field\":\"year\"},\"y\":{\"field\":\"sale_price_sqr_foot\"}},\"id\":\"11974\",\"type\":\"Scatter\"},{\"attributes\":{},\"id\":\"10769\",\"type\":\"BasicTicker\"},{\"attributes\":{},\"id\":\"13767\",\"type\":\"UnionRenderers\"},{\"attributes\":{\"data\":{\"neighborhood\":[\"Forest Knolls\",\"Forest Knolls\"],\"sale_price_sqr_foot\":{\"__ndarray__\":\"tVpzFZQhakB0pGAXHip7QA==\",\"dtype\":\"float64\",\"shape\":[2]},\"year\":[2010,2012]},\"selected\":{\"id\":\"11422\"},\"selection_policy\":{\"id\":\"11526\"}},\"id\":\"11421\",\"type\":\"ColumnDataSource\"},{\"attributes\":{\"fill_alpha\":{\"value\":0.2},\"fill_color\":{\"value\":\"#017000\"},\"line_alpha\":{\"value\":0.2},\"line_color\":{\"value\":\"#017000\"},\"size\":{\"units\":\"screen\",\"value\":5.477225575051661},\"x\":{\"field\":\"year\"},\"y\":{\"field\":\"sale_price_sqr_foot\"}},\"id\":\"13054\",\"type\":\"Scatter\"},{\"attributes\":{\"fill_alpha\":{\"value\":0.2},\"fill_color\":{\"value\":\"#e277c1\"},\"line_alpha\":{\"value\":0.2},\"line_color\":{\"value\":\"#e277c1\"},\"size\":{\"units\":\"screen\",\"value\":5.477225575051661},\"x\":{\"field\":\"year\"},\"y\":{\"field\":\"sale_price_sqr_foot\"}},\"id\":\"10918\",\"type\":\"Scatter\"},{\"attributes\":{},\"id\":\"11422\",\"type\":\"Selection\"},{\"attributes\":{},\"id\":\"12342\",\"type\":\"UnionRenderers\"},{\"attributes\":{\"source\":{\"id\":\"10914\"}},\"id\":\"10921\",\"type\":\"CDSView\"},{\"attributes\":{\"axis_label\":\"year\",\"bounds\":\"auto\",\"formatter\":{\"id\":\"10790\"},\"major_label_orientation\":\"horizontal\",\"ticker\":{\"id\":\"10769\"}},\"id\":\"10768\",\"type\":\"LinearAxis\"},{\"attributes\":{\"fill_alpha\":{\"value\":0.2},\"fill_color\":{\"value\":\"#e277c1\"},\"line_alpha\":{\"value\":0.2},\"line_color\":{\"value\":\"#e277c1\"},\"size\":{\"units\":\"screen\",\"value\":5.477225575051661},\"x\":{\"field\":\"year\"},\"y\":{\"field\":\"sale_price_sqr_foot\"}},\"id\":\"10919\",\"type\":\"Scatter\"},{\"attributes\":{\"label\":{\"value\":\"Mission Terrace\"},\"renderers\":[{\"id\":\"13055\"}]},\"id\":\"13145\",\"type\":\"LegendItem\"},{\"attributes\":{\"data_source\":{\"id\":\"11421\"},\"glyph\":{\"id\":\"11424\"},\"hover_glyph\":null,\"muted_glyph\":{\"id\":\"11426\"},\"nonselection_glyph\":{\"id\":\"11425\"},\"selection_glyph\":null,\"view\":{\"id\":\"11428\"}},\"id\":\"11427\",\"type\":\"GlyphRenderer\"},{\"attributes\":{},\"id\":\"10773\",\"type\":\"BasicTicker\"},{\"attributes\":{\"text\":\"\",\"text_color\":{\"value\":\"black\"},\"text_font_size\":{\"value\":\"12pt\"}},\"id\":\"10760\",\"type\":\"Title\"},{\"attributes\":{\"data\":{\"neighborhood\":[\"Presidio Heights\",\"Presidio Heights\",\"Presidio Heights\",\"Presidio Heights\",\"Presidio Heights\",\"Presidio Heights\",\"Presidio Heights\"],\"sale_price_sqr_foot\":{\"__ndarray__\":\"1qRW7FcrgUCiXLTmCd1+QNBJCsu8qXpA+gIs1LgGgECnjECkm9uCQAAAAAAAAPh/hyUc1d/nlkA=\",\"dtype\":\"float64\",\"shape\":[7]},\"year\":[2010,2011,2012,2013,2014,2015,2016]},\"selected\":{\"id\":\"14842\"},\"selection_policy\":{\"id\":\"15098\"}},\"id\":\"14841\",\"type\":\"ColumnDataSource\"},{\"attributes\":{\"fill_alpha\":{\"value\":0.2},\"fill_color\":{\"value\":\"#7c0100\"},\"line_alpha\":{\"value\":0.2},\"line_color\":{\"value\":\"#7c0100\"},\"size\":{\"units\":\"screen\",\"value\":5.477225575051661},\"x\":{\"field\":\"year\"},\"y\":{\"field\":\"sale_price_sqr_foot\"}},\"id\":\"11426\",\"type\":\"Scatter\"},{\"attributes\":{\"fill_alpha\":{\"value\":0.2},\"fill_color\":{\"value\":\"#ffff9a\"},\"line_alpha\":{\"value\":0.2},\"line_color\":{\"value\":\"#ffff9a\"},\"size\":{\"units\":\"screen\",\"value\":5.477225575051661},\"x\":{\"field\":\"year\"},\"y\":{\"field\":\"sale_price_sqr_foot\"}},\"id\":\"11532\",\"type\":\"Scatter\"},{\"attributes\":{\"fill_alpha\":{\"value\":0.2},\"fill_color\":{\"value\":\"#6e8956\"},\"line_alpha\":{\"value\":0.2},\"line_color\":{\"value\":\"#6e8956\"},\"size\":{\"units\":\"screen\",\"value\":5.477225575051661},\"x\":{\"field\":\"year\"},\"y\":{\"field\":\"sale_price_sqr_foot\"}},\"id\":\"13666\",\"type\":\"Scatter\"},{\"attributes\":{\"align\":null,\"below\":[{\"id\":\"10768\"}],\"center\":[{\"id\":\"10771\"},{\"id\":\"10775\"}],\"left\":[{\"id\":\"10772\"}],\"margin\":null,\"min_border_bottom\":10,\"min_border_left\":10,\"min_border_right\":10,\"min_border_top\":10,\"plot_height\":300,\"plot_width\":700,\"renderers\":[{\"id\":\"10799\"},{\"id\":\"10815\"},{\"id\":\"10832\"},{\"id\":\"10851\"},{\"id\":\"10872\"},{\"id\":\"10895\"},{\"id\":\"10920\"},{\"id\":\"10947\"},{\"id\":\"10976\"},{\"id\":\"11007\"},{\"id\":\"11040\"},{\"id\":\"11075\"},{\"id\":\"11112\"},{\"id\":\"11151\"},{\"id\":\"11192\"},{\"id\":\"11235\"},{\"id\":\"11280\"},{\"id\":\"11327\"},{\"id\":\"11376\"},{\"id\":\"11427\"},{\"id\":\"11480\"},{\"id\":\"11535\"},{\"id\":\"11592\"},{\"id\":\"11651\"},{\"id\":\"11712\"},{\"id\":\"11775\"},{\"id\":\"11840\"},{\"id\":\"11907\"},{\"id\":\"11976\"},{\"id\":\"12047\"},{\"id\":\"12120\"},{\"id\":\"12195\"},{\"id\":\"12272\"},{\"id\":\"12351\"},{\"id\":\"12432\"},{\"id\":\"12515\"},{\"id\":\"12600\"},{\"id\":\"12687\"},{\"id\":\"12776\"},{\"id\":\"12867\"},{\"id\":\"12960\"},{\"id\":\"13055\"},{\"id\":\"13152\"},{\"id\":\"13251\"},{\"id\":\"13352\"},{\"id\":\"13455\"},{\"id\":\"13560\"},{\"id\":\"13667\"},{\"id\":\"13776\"},{\"id\":\"13887\"},{\"id\":\"14000\"},{\"id\":\"14115\"},{\"id\":\"14232\"},{\"id\":\"14351\"},{\"id\":\"14472\"},{\"id\":\"14595\"},{\"id\":\"14720\"},{\"id\":\"14847\"},{\"id\":\"14976\"},{\"id\":\"15107\"},{\"id\":\"15240\"},{\"id\":\"15375\"},{\"id\":\"15512\"},{\"id\":\"15651\"},{\"id\":\"15792\"},{\"id\":\"15935\"},{\"id\":\"16080\"},{\"id\":\"16227\"},{\"id\":\"16376\"},{\"id\":\"16527\"},{\"id\":\"16680\"},{\"id\":\"16835\"},{\"id\":\"16992\"}],\"right\":[{\"id\":\"10807\"}],\"sizing_mode\":\"fixed\",\"title\":{\"id\":\"10760\"},\"toolbar\":{\"id\":\"10782\"},\"x_range\":{\"id\":\"10684\"},\"x_scale\":{\"id\":\"10764\"},\"y_range\":{\"id\":\"10685\"},\"y_scale\":{\"id\":\"10766\"}},\"id\":\"10759\",\"subtype\":\"Figure\",\"type\":\"Plot\"},{\"attributes\":{\"data\":{\"neighborhood\":[\"Central Richmond\",\"Central Richmond\",\"Central Richmond\",\"Central Richmond\",\"Central Richmond\",\"Central Richmond\",\"Central Richmond\"],\"sale_price_sqr_foot\":{\"__ndarray__\":\"/qBYJHHwc0B9ZxvtnlpwQB+s/3N7cHFAjxvCQN5wdUCCLplePn96QG3yb/yekn1A84Oo8YOohEA=\",\"dtype\":\"float64\",\"shape\":[7]},\"year\":[2010,2011,2012,2013,2014,2015,2016]},\"selected\":{\"id\":\"10915\"},\"selection_policy\":{\"id\":\"10967\"}},\"id\":\"10914\",\"type\":\"ColumnDataSource\"},{\"attributes\":{\"data_source\":{\"id\":\"13661\"},\"glyph\":{\"id\":\"13664\"},\"hover_glyph\":null,\"muted_glyph\":{\"id\":\"13666\"},\"nonselection_glyph\":{\"id\":\"13665\"},\"selection_glyph\":null,\"view\":{\"id\":\"13668\"}},\"id\":\"13667\",\"type\":\"GlyphRenderer\"},{\"attributes\":{},\"id\":\"10776\",\"type\":\"SaveTool\"},{\"attributes\":{},\"id\":\"11322\",\"type\":\"Selection\"},{\"attributes\":{},\"id\":\"10777\",\"type\":\"PanTool\"},{\"attributes\":{\"data_source\":{\"id\":\"15506\"},\"glyph\":{\"id\":\"15509\"},\"hover_glyph\":null,\"muted_glyph\":{\"id\":\"15511\"},\"nonselection_glyph\":{\"id\":\"15510\"},\"selection_glyph\":null,\"view\":{\"id\":\"15513\"}},\"id\":\"15512\",\"type\":\"GlyphRenderer\"},{\"attributes\":{\"label\":{\"value\":\"Lake --The Presidio\"},\"renderers\":[{\"id\":\"12272\"}]},\"id\":\"12344\",\"type\":\"LegendItem\"},{\"attributes\":{\"fill_alpha\":{\"value\":0.2},\"fill_color\":{\"value\":\"#cd4f6b\"},\"line_alpha\":{\"value\":0.2},\"line_color\":{\"value\":\"#cd4f6b\"},\"size\":{\"units\":\"screen\",\"value\":5.477225575051661},\"x\":{\"field\":\"year\"},\"y\":{\"field\":\"sale_price_sqr_foot\"}},\"id\":\"16373\",\"type\":\"Scatter\"},{\"attributes\":{\"source\":{\"id\":\"11321\"}},\"id\":\"11328\",\"type\":\"CDSView\"},{\"attributes\":{\"data\":{\"neighborhood\":[\"Twin Peaks\",\"Twin Peaks\",\"Twin Peaks\",\"Twin Peaks\",\"Twin Peaks\",\"Twin Peaks\",\"Twin Peaks\"],\"sale_price_sqr_foot\":{\"__ndarray__\":\"WOE2XOW4dEC1UWNLEslxQAmC4vRkDnNA+JW2mPjmeUDKE/I0SpeBQBwTSrZdFXpACq/wCq9QjkA=\",\"dtype\":\"float64\",\"shape\":[7]},\"year\":[2010,2011,2012,2013,2014,2015,2016]},\"selected\":{\"id\":\"15787\"},\"selection_policy\":{\"id\":\"16071\"}},\"id\":\"15786\",\"type\":\"ColumnDataSource\"},{\"attributes\":{\"data_source\":{\"id\":\"10914\"},\"glyph\":{\"id\":\"10917\"},\"hover_glyph\":null,\"muted_glyph\":{\"id\":\"10919\"},\"nonselection_glyph\":{\"id\":\"10918\"},\"selection_glyph\":null,\"view\":{\"id\":\"10921\"}},\"id\":\"10920\",\"type\":\"GlyphRenderer\"},{\"attributes\":{\"fill_alpha\":{\"value\":0.2},\"fill_color\":{\"value\":\"#90ff00\"},\"line_alpha\":{\"value\":0.2},\"line_color\":{\"value\":\"#90ff00\"},\"size\":{\"units\":\"screen\",\"value\":5.477225575051661},\"x\":{\"field\":\"year\"},\"y\":{\"field\":\"sale_price_sqr_foot\"}},\"id\":\"11837\",\"type\":\"Scatter\"},{\"attributes\":{\"fill_alpha\":{\"value\":0.2},\"fill_color\":{\"value\":\"#e277c1\"},\"line_alpha\":{\"value\":0.2},\"line_color\":{\"value\":\"#e277c1\"},\"size\":{\"units\":\"screen\",\"value\":5.477225575051661},\"x\":{\"field\":\"year\"},\"y\":{\"field\":\"sale_price_sqr_foot\"}},\"id\":\"10917\",\"type\":\"Scatter\"},{\"attributes\":{},\"id\":\"10766\",\"type\":\"LinearScale\"},{\"attributes\":{\"axis_label\":\"sale_price_sqr_foot\",\"bounds\":\"auto\",\"formatter\":{\"id\":\"10792\"},\"major_label_orientation\":\"horizontal\",\"ticker\":{\"id\":\"10773\"}},\"id\":\"10772\",\"type\":\"LinearAxis\"},{\"attributes\":{\"source\":{\"id\":\"13049\"}},\"id\":\"13056\",\"type\":\"CDSView\"},{\"attributes\":{},\"id\":\"13143\",\"type\":\"UnionRenderers\"},{\"attributes\":{},\"id\":\"15507\",\"type\":\"Selection\"},{\"attributes\":{\"source\":{\"id\":\"12266\"}},\"id\":\"12273\",\"type\":\"CDSView\"},{\"attributes\":{\"data_source\":{\"id\":\"13049\"},\"glyph\":{\"id\":\"13052\"},\"hover_glyph\":null,\"muted_glyph\":{\"id\":\"13054\"},\"nonselection_glyph\":{\"id\":\"13053\"},\"selection_glyph\":null,\"view\":{\"id\":\"13056\"}},\"id\":\"13055\",\"type\":\"GlyphRenderer\"},{\"attributes\":{\"data\":{\"neighborhood\":[\"Mission Terrace\",\"Mission Terrace\",\"Mission Terrace\",\"Mission Terrace\",\"Mission Terrace\"],\"sale_price_sqr_foot\":{\"__ndarray__\":\"5Up2MwRucEDCIHpXN3uCQAn27jf/wnJA7NvKAco+gkD7adXXIniLQA==\",\"dtype\":\"float64\",\"shape\":[5]},\"year\":[2010,2013,2014,2015,2016]},\"selected\":{\"id\":\"13050\"},\"selection_policy\":{\"id\":\"13242\"}},\"id\":\"13049\",\"type\":\"ColumnDataSource\"},{\"attributes\":{\"fill_alpha\":{\"value\":0.2},\"fill_color\":{\"value\":\"#d62628\"},\"line_alpha\":{\"value\":0.2},\"line_color\":{\"value\":\"#d62628\"},\"size\":{\"units\":\"screen\",\"value\":5.477225575051661},\"x\":{\"field\":\"year\"},\"y\":{\"field\":\"sale_price_sqr_foot\"}},\"id\":\"10850\",\"type\":\"Scatter\"},{\"attributes\":{\"source\":{\"id\":\"11421\"}},\"id\":\"11428\",\"type\":\"CDSView\"},{\"attributes\":{\"data_source\":{\"id\":\"12266\"},\"glyph\":{\"id\":\"12269\"},\"hover_glyph\":null,\"muted_glyph\":{\"id\":\"12271\"},\"nonselection_glyph\":{\"id\":\"12270\"},\"selection_glyph\":null,\"view\":{\"id\":\"12273\"}},\"id\":\"12272\",\"type\":\"GlyphRenderer\"},{\"attributes\":{},\"id\":\"15787\",\"type\":\"Selection\"},{\"attributes\":{\"fill_alpha\":{\"value\":0.2},\"fill_color\":{\"value\":\"#d62628\"},\"line_alpha\":{\"value\":0.2},\"line_color\":{\"value\":\"#d62628\"},\"size\":{\"units\":\"screen\",\"value\":5.477225575051661},\"x\":{\"field\":\"year\"},\"y\":{\"field\":\"sale_price_sqr_foot\"}},\"id\":\"10849\",\"type\":\"Scatter\"},{\"attributes\":{},\"id\":\"13050\",\"type\":\"Selection\"},{\"attributes\":{\"fill_alpha\":{\"value\":0.2},\"fill_color\":{\"value\":\"#7c0100\"},\"line_alpha\":{\"value\":0.2},\"line_color\":{\"value\":\"#7c0100\"},\"size\":{\"units\":\"screen\",\"value\":5.477225575051661},\"x\":{\"field\":\"year\"},\"y\":{\"field\":\"sale_price_sqr_foot\"}},\"id\":\"11425\",\"type\":\"Scatter\"},{\"attributes\":{\"fill_alpha\":{\"value\":0.2},\"fill_color\":{\"value\":\"#7c0100\"},\"line_alpha\":{\"value\":0.2},\"line_color\":{\"value\":\"#7c0100\"},\"size\":{\"units\":\"screen\",\"value\":5.477225575051661},\"x\":{\"field\":\"year\"},\"y\":{\"field\":\"sale_price_sqr_foot\"}},\"id\":\"11424\",\"type\":\"Scatter\"},{\"attributes\":{\"data\":{\"neighborhood\":[\"Silver Terrace\"],\"sale_price_sqr_foot\":{\"__ndarray__\":\"0ym0jlxJZUA=\",\"dtype\":\"float64\",\"shape\":[1]},\"year\":[2014]},\"selected\":{\"id\":\"15102\"},\"selection_policy\":{\"id\":\"15366\"}},\"id\":\"15101\",\"type\":\"ColumnDataSource\"},{\"attributes\":{\"fill_alpha\":{\"value\":0.2},\"fill_color\":{\"value\":\"#bcbcff\"},\"line_alpha\":{\"value\":0.2},\"line_color\":{\"value\":\"#bcbcff\"},\"size\":{\"units\":\"screen\",\"value\":5.477225575051661},\"x\":{\"field\":\"year\"},\"y\":{\"field\":\"sale_price_sqr_foot\"}},\"id\":\"11191\",\"type\":\"Scatter\"},{\"attributes\":{\"data\":{\"neighborhood\":[\"Financial District North\",\"Financial District North\",\"Financial District North\",\"Financial District North\",\"Financial District North\",\"Financial District North\",\"Financial District North\"],\"sale_price_sqr_foot\":{\"__ndarray__\":\"7AP43P8beUDn1P+nAZVxQHHD8reh5XFAr72zvFMncUAogOryGZ95QNWXMVjesoVAAAAAAAAA+H8=\",\"dtype\":\"float64\",\"shape\":[7]},\"year\":[2010,2011,2012,2013,2014,2015,2016]},\"selected\":{\"id\":\"11322\"},\"selection_policy\":{\"id\":\"11418\"}},\"id\":\"11321\",\"type\":\"ColumnDataSource\"},{\"attributes\":{},\"id\":\"13995\",\"type\":\"Selection\"},{\"attributes\":{},\"id\":\"11587\",\"type\":\"Selection\"},{\"attributes\":{},\"id\":\"11967\",\"type\":\"UnionRenderers\"},{\"attributes\":{\"fill_alpha\":{\"value\":0.2},\"fill_color\":{\"value\":\"#b80080\"},\"line_alpha\":{\"value\":0.2},\"line_color\":{\"value\":\"#b80080\"},\"size\":{\"units\":\"screen\",\"value\":5.477225575051661},\"x\":{\"field\":\"year\"},\"y\":{\"field\":\"sale_price_sqr_foot\"}},\"id\":\"11278\",\"type\":\"Scatter\"},{\"attributes\":{\"data_source\":{\"id\":\"11586\"},\"glyph\":{\"id\":\"11589\"},\"hover_glyph\":null,\"muted_glyph\":{\"id\":\"11591\"},\"nonselection_glyph\":{\"id\":\"11590\"},\"selection_glyph\":null,\"view\":{\"id\":\"11593\"}},\"id\":\"11592\",\"type\":\"GlyphRenderer\"},{\"attributes\":{\"callback\":null,\"renderers\":[{\"id\":\"10799\"},{\"id\":\"10815\"},{\"id\":\"10832\"},{\"id\":\"10851\"},{\"id\":\"10872\"},{\"id\":\"10895\"},{\"id\":\"10920\"},{\"id\":\"10947\"},{\"id\":\"10976\"},{\"id\":\"11007\"},{\"id\":\"11040\"},{\"id\":\"11075\"},{\"id\":\"11112\"},{\"id\":\"11151\"},{\"id\":\"11192\"},{\"id\":\"11235\"},{\"id\":\"11280\"},{\"id\":\"11327\"},{\"id\":\"11376\"},{\"id\":\"11427\"},{\"id\":\"11480\"},{\"id\":\"11535\"},{\"id\":\"11592\"},{\"id\":\"11651\"},{\"id\":\"11712\"},{\"id\":\"11775\"},{\"id\":\"11840\"},{\"id\":\"11907\"},{\"id\":\"11976\"},{\"id\":\"12047\"},{\"id\":\"12120\"},{\"id\":\"12195\"},{\"id\":\"12272\"},{\"id\":\"12351\"},{\"id\":\"12432\"},{\"id\":\"12515\"},{\"id\":\"12600\"},{\"id\":\"12687\"},{\"id\":\"12776\"},{\"id\":\"12867\"},{\"id\":\"12960\"},{\"id\":\"13055\"},{\"id\":\"13152\"},{\"id\":\"13251\"},{\"id\":\"13352\"},{\"id\":\"13455\"},{\"id\":\"13560\"},{\"id\":\"13667\"},{\"id\":\"13776\"},{\"id\":\"13887\"},{\"id\":\"14000\"},{\"id\":\"14115\"},{\"id\":\"14232\"},{\"id\":\"14351\"},{\"id\":\"14472\"},{\"id\":\"14595\"},{\"id\":\"14720\"},{\"id\":\"14847\"},{\"id\":\"14976\"},{\"id\":\"15107\"},{\"id\":\"15240\"},{\"id\":\"15375\"},{\"id\":\"15512\"},{\"id\":\"15651\"},{\"id\":\"15792\"},{\"id\":\"15935\"},{\"id\":\"16080\"},{\"id\":\"16227\"},{\"id\":\"16376\"},{\"id\":\"16527\"},{\"id\":\"16680\"},{\"id\":\"16835\"},{\"id\":\"16992\"}],\"tags\":[\"hv_created\"],\"tooltips\":[[\"neighborhood\",\"@{neighborhood}\"],[\"year\",\"@{year}\"],[\"sale_price_sqr_foot\",\"@{sale_price_sqr_foot}\"]]},\"id\":\"10686\",\"type\":\"HoverTool\"},{\"attributes\":{\"data\":{\"neighborhood\":[\"Outer Sunset\",\"Outer Sunset\",\"Outer Sunset\",\"Outer Sunset\",\"Outer Sunset\",\"Outer Sunset\",\"Outer Sunset\"],\"sale_price_sqr_foot\":{\"__ndarray__\":\"vsH9HfwEd0DfWRDO7ZNyQGMEtIPw0HlAduAUwFAhdECKxEQ80aV+QFgk0ahQXnZAWykPAzvpf0A=\",\"dtype\":\"float64\",\"shape\":[7]},\"year\":[2010,2011,2012,2013,2014,2015,2016]},\"selected\":{\"id\":\"13995\"},\"selection_policy\":{\"id\":\"14223\"}},\"id\":\"13994\",\"type\":\"ColumnDataSource\"},{\"attributes\":{\"fill_alpha\":{\"value\":0.2},\"fill_color\":{\"value\":\"#505646\"},\"line_alpha\":{\"value\":0.2},\"line_color\":{\"value\":\"#505646\"},\"size\":{\"units\":\"screen\",\"value\":5.477225575051661},\"x\":{\"field\":\"year\"},\"y\":{\"field\":\"sale_price_sqr_foot\"}},\"id\":\"12431\",\"type\":\"Scatter\"},{\"attributes\":{\"label\":{\"value\":\"Inner Mission\"},\"renderers\":[{\"id\":\"11907\"}]},\"id\":\"11969\",\"type\":\"LegendItem\"},{\"attributes\":{},\"id\":\"11070\",\"type\":\"Selection\"},{\"attributes\":{},\"id\":\"13882\",\"type\":\"Selection\"},{\"attributes\":{\"data\":{\"neighborhood\":[\"Corona Heights\",\"Corona Heights\",\"Corona Heights\",\"Corona Heights\",\"Corona Heights\"],\"sale_price_sqr_foot\":{\"__ndarray__\":\"of802b8Vd0B1PqvPK9JrQGuzdI63THZAEx6pB3XBi0CNbawuKjORQA==\",\"dtype\":\"float64\",\"shape\":[5]},\"year\":[2010,2011,2012,2014,2015]},\"selected\":{\"id\":\"11002\"},\"selection_policy\":{\"id\":\"11066\"}},\"id\":\"11001\",\"type\":\"ColumnDataSource\"},{\"attributes\":{\"fill_alpha\":{\"value\":0.2},\"fill_color\":{\"value\":\"#564964\"},\"line_alpha\":{\"value\":0.2},\"line_color\":{\"value\":\"#564964\"},\"size\":{\"units\":\"screen\",\"value\":5.477225575051661},\"x\":{\"field\":\"year\"},\"y\":{\"field\":\"sale_price_sqr_foot\"}},\"id\":\"11590\",\"type\":\"Scatter\"},{\"attributes\":{\"data\":{\"neighborhood\":[\"Westwood Highlands\",\"Westwood Highlands\"],\"sale_price_sqr_foot\":{\"__ndarray__\":\"MHLbdzABdEBpBeAVq1qHQA==\",\"dtype\":\"float64\",\"shape\":[2]},\"year\":[2011,2013]},\"selected\":{\"id\":\"16675\"},\"selection_policy\":{\"id\":\"16983\"}},\"id\":\"16674\",\"type\":\"ColumnDataSource\"},{\"attributes\":{\"fill_alpha\":{\"value\":0.2},\"fill_color\":{\"value\":\"#017000\"},\"line_alpha\":{\"value\":0.2},\"line_color\":{\"value\":\"#017000\"},\"size\":{\"units\":\"screen\",\"value\":5.477225575051661},\"x\":{\"field\":\"year\"},\"y\":{\"field\":\"sale_price_sqr_foot\"}},\"id\":\"13053\",\"type\":\"Scatter\"},{\"attributes\":{\"fill_alpha\":{\"value\":0.2},\"fill_color\":{\"value\":\"#564964\"},\"line_alpha\":{\"value\":0.2},\"line_color\":{\"value\":\"#564964\"},\"size\":{\"units\":\"screen\",\"value\":5.477225575051661},\"x\":{\"field\":\"year\"},\"y\":{\"field\":\"sale_price_sqr_foot\"}},\"id\":\"11591\",\"type\":\"Scatter\"},{\"attributes\":{\"data\":{\"neighborhood\":[\"Lake --The Presidio\",\"Lake --The Presidio\",\"Lake --The Presidio\",\"Lake --The Presidio\",\"Lake --The Presidio\",\"Lake --The Presidio\"],\"sale_price_sqr_foot\":{\"__ndarray__\":\"2VI3JcAMdECVIgEIvqF0QHq77f9XyHdAb0N7jTXFgUAxyTRQZw97QKwhg5D1qnpA\",\"dtype\":\"float64\",\"shape\":[6]},\"year\":[2010,2011,2012,2013,2014,2015]},\"selected\":{\"id\":\"12267\"},\"selection_policy\":{\"id\":\"12423\"}},\"id\":\"12266\",\"type\":\"ColumnDataSource\"},{\"attributes\":{},\"id\":\"11035\",\"type\":\"Selection\"},{\"attributes\":{\"data_source\":{\"id\":\"11186\"},\"glyph\":{\"id\":\"11189\"},\"hover_glyph\":null,\"muted_glyph\":{\"id\":\"11191\"},\"nonselection_glyph\":{\"id\":\"11190\"},\"selection_glyph\":null,\"view\":{\"id\":\"11193\"}},\"id\":\"11192\",\"type\":\"GlyphRenderer\"},{\"attributes\":{\"fill_alpha\":{\"value\":0.2},\"fill_color\":{\"value\":\"#bcbcff\"},\"line_alpha\":{\"value\":0.2},\"line_color\":{\"value\":\"#bcbcff\"},\"size\":{\"units\":\"screen\",\"value\":5.477225575051661},\"x\":{\"field\":\"year\"},\"y\":{\"field\":\"sale_price_sqr_foot\"}},\"id\":\"11190\",\"type\":\"Scatter\"},{\"attributes\":{\"label\":{\"value\":\"Central Richmond\"},\"renderers\":[{\"id\":\"10920\"}]},\"id\":\"10940\",\"type\":\"LegendItem\"},{\"attributes\":{\"fill_alpha\":{\"value\":0.2},\"fill_color\":{\"value\":\"#3a0182\"},\"line_alpha\":{\"value\":0.2},\"line_color\":{\"value\":\"#3a0182\"},\"size\":{\"units\":\"screen\",\"value\":5.477225575051661},\"x\":{\"field\":\"year\"},\"y\":{\"field\":\"sale_price_sqr_foot\"}},\"id\":\"11039\",\"type\":\"Scatter\"},{\"attributes\":{\"fill_alpha\":{\"value\":0.2},\"fill_color\":{\"value\":\"#564964\"},\"line_alpha\":{\"value\":0.2},\"line_color\":{\"value\":\"#564964\"},\"size\":{\"units\":\"screen\",\"value\":5.477225575051661},\"x\":{\"field\":\"year\"},\"y\":{\"field\":\"sale_price_sqr_foot\"}},\"id\":\"11589\",\"type\":\"Scatter\"},{\"attributes\":{\"fill_alpha\":{\"value\":0.2},\"fill_color\":{\"value\":\"#8c564b\"},\"line_alpha\":{\"value\":0.2},\"line_color\":{\"value\":\"#8c564b\"},\"size\":{\"units\":\"screen\",\"value\":5.477225575051661},\"x\":{\"field\":\"year\"},\"y\":{\"field\":\"sale_price_sqr_foot\"}},\"id\":\"10892\",\"type\":\"Scatter\"},{\"attributes\":{\"label\":{\"value\":\"Golden Gate Heights\"},\"renderers\":[{\"id\":\"11535\"}]},\"id\":\"11585\",\"type\":\"LegendItem\"},{\"attributes\":{\"data_source\":{\"id\":\"12426\"},\"glyph\":{\"id\":\"12429\"},\"hover_glyph\":null,\"muted_glyph\":{\"id\":\"12431\"},\"nonselection_glyph\":{\"id\":\"12430\"},\"selection_glyph\":null,\"view\":{\"id\":\"12433\"}},\"id\":\"12432\",\"type\":\"GlyphRenderer\"},{\"attributes\":{\"fill_alpha\":{\"value\":0.2},\"fill_color\":{\"value\":\"#bcbcff\"},\"line_alpha\":{\"value\":0.2},\"line_color\":{\"value\":\"#bcbcff\"},\"size\":{\"units\":\"screen\",\"value\":5.477225575051661},\"x\":{\"field\":\"year\"},\"y\":{\"field\":\"sale_price_sqr_foot\"}},\"id\":\"11189\",\"type\":\"Scatter\"},{\"attributes\":{\"source\":{\"id\":\"11586\"}},\"id\":\"11593\",\"type\":\"CDSView\"},{\"attributes\":{\"fill_alpha\":{\"value\":0.2},\"fill_color\":{\"value\":\"#00acff\"},\"line_alpha\":{\"value\":0.2},\"line_color\":{\"value\":\"#00acff\"},\"size\":{\"units\":\"screen\",\"value\":5.477225575051661},\"x\":{\"field\":\"year\"},\"y\":{\"field\":\"sale_price_sqr_foot\"}},\"id\":\"13997\",\"type\":\"Scatter\"},{\"attributes\":{\"fill_alpha\":{\"value\":0.2},\"fill_color\":{\"value\":\"#bfebc3\"},\"line_alpha\":{\"value\":0.2},\"line_color\":{\"value\":\"#bfebc3\"},\"size\":{\"units\":\"screen\",\"value\":5.477225575051661},\"x\":{\"field\":\"year\"},\"y\":{\"field\":\"sale_price_sqr_foot\"}},\"id\":\"13350\",\"type\":\"Scatter\"},{\"attributes\":{},\"id\":\"10792\",\"type\":\"BasicTickFormatter\"},{\"attributes\":{\"label\":{\"value\":\"Central Sunset\"},\"renderers\":[{\"id\":\"10947\"}]},\"id\":\"10969\",\"type\":\"LegendItem\"},{\"attributes\":{},\"id\":\"11642\",\"type\":\"UnionRenderers\"},{\"attributes\":{\"data_source\":{\"id\":\"11034\"},\"glyph\":{\"id\":\"11037\"},\"hover_glyph\":null,\"muted_glyph\":{\"id\":\"11039\"},\"nonselection_glyph\":{\"id\":\"11038\"},\"selection_glyph\":null,\"view\":{\"id\":\"11041\"}},\"id\":\"11040\",\"type\":\"GlyphRenderer\"},{\"attributes\":{\"fill_alpha\":{\"value\":0.2},\"fill_color\":{\"value\":\"#93fbff\"},\"line_alpha\":{\"value\":0.2},\"line_color\":{\"value\":\"#93fbff\"},\"size\":{\"units\":\"screen\",\"value\":5.477225575051661},\"x\":{\"field\":\"year\"},\"y\":{\"field\":\"sale_price_sqr_foot\"}},\"id\":\"11709\",\"type\":\"Scatter\"},{\"attributes\":{\"source\":{\"id\":\"12041\"}},\"id\":\"12048\",\"type\":\"CDSView\"},{\"attributes\":{\"fill_alpha\":{\"value\":0.2},\"fill_color\":{\"value\":\"#bfebc3\"},\"line_alpha\":{\"value\":0.2},\"line_color\":{\"value\":\"#bfebc3\"},\"size\":{\"units\":\"screen\",\"value\":5.477225575051661},\"x\":{\"field\":\"year\"},\"y\":{\"field\":\"sale_price_sqr_foot\"}},\"id\":\"13351\",\"type\":\"Scatter\"},{\"attributes\":{\"source\":{\"id\":\"11186\"}},\"id\":\"11193\",\"type\":\"CDSView\"},{\"attributes\":{\"source\":{\"id\":\"12426\"}},\"id\":\"12433\",\"type\":\"CDSView\"},{\"attributes\":{\"data\":{\"neighborhood\":[\"Park North\",\"Park North\",\"Park North\",\"Park North\",\"Park North\",\"Park North\",\"Park North\"],\"sale_price_sqr_foot\":{\"__ndarray__\":\"PTKCP0ZgdECglLmJsBlyQAQj45xBAXJAHcH4twsFgEB6Pk21yT53QIxwU0CURINAbp9n0qRpakA=\",\"dtype\":\"float64\",\"shape\":[7]},\"year\":[2010,2011,2012,2013,2014,2015,2016]},\"selected\":{\"id\":\"14227\"},\"selection_policy\":{\"id\":\"14463\"}},\"id\":\"14226\",\"type\":\"ColumnDataSource\"},{\"attributes\":{\"label\":{\"value\":\"Haight Ashbury\"},\"renderers\":[{\"id\":\"11592\"}]},\"id\":\"11644\",\"type\":\"LegendItem\"},{\"attributes\":{},\"id\":\"11103\",\"type\":\"UnionRenderers\"},{\"attributes\":{\"data_source\":{\"id\":\"11645\"},\"glyph\":{\"id\":\"11648\"},\"hover_glyph\":null,\"muted_glyph\":{\"id\":\"11650\"},\"nonselection_glyph\":{\"id\":\"11649\"},\"selection_glyph\":null,\"view\":{\"id\":\"11652\"}},\"id\":\"11651\",\"type\":\"GlyphRenderer\"},{\"attributes\":{},\"id\":\"10790\",\"type\":\"BasicTickFormatter\"},{\"attributes\":{},\"id\":\"11226\",\"type\":\"UnionRenderers\"},{\"attributes\":{\"fill_alpha\":{\"value\":0.2},\"fill_color\":{\"value\":\"#bfebc3\"},\"line_alpha\":{\"value\":0.2},\"line_color\":{\"value\":\"#bfebc3\"},\"size\":{\"units\":\"screen\",\"value\":5.477225575051661},\"x\":{\"field\":\"year\"},\"y\":{\"field\":\"sale_price_sqr_foot\"}},\"id\":\"13349\",\"type\":\"Scatter\"},{\"attributes\":{\"source\":{\"id\":\"13346\"}},\"id\":\"13353\",\"type\":\"CDSView\"},{\"attributes\":{\"label\":{\"value\":\"Duboce Triangle\"},\"renderers\":[{\"id\":\"11192\"}]},\"id\":\"11228\",\"type\":\"LegendItem\"},{\"attributes\":{\"fill_alpha\":{\"value\":0.2},\"fill_color\":{\"value\":\"#ff018c\"},\"line_alpha\":{\"value\":0.2},\"line_color\":{\"value\":\"#ff018c\"},\"size\":{\"units\":\"screen\",\"value\":5.477225575051661},\"x\":{\"field\":\"year\"},\"y\":{\"field\":\"sale_price_sqr_foot\"}},\"id\":\"12684\",\"type\":\"Scatter\"},{\"attributes\":{\"data\":{\"neighborhood\":[\"Ingleside Heights\",\"Ingleside Heights\"],\"sale_price_sqr_foot\":{\"__ndarray__\":\"m3bvB4LAaEBSzU7Oo9yBQA==\",\"dtype\":\"float64\",\"shape\":[2]},\"year\":[2011,2016]},\"selected\":{\"id\":\"11835\"},\"selection_policy\":{\"id\":\"11967\"}},\"id\":\"11834\",\"type\":\"ColumnDataSource\"},{\"attributes\":{\"data\":{\"neighborhood\":[\"North Beach\",\"North Beach\",\"North Beach\",\"North Beach\",\"North Beach\"],\"sale_price_sqr_foot\":{\"__ndarray__\":\"P33LjLwuckC+7VtQYymAQEOToDR6m3hA0knGOugNfEByKLVn2nh5QA==\",\"dtype\":\"float64\",\"shape\":[5]},\"year\":[2011,2012,2013,2015,2016]},\"selected\":{\"id\":\"13347\"},\"selection_policy\":{\"id\":\"13551\"}},\"id\":\"13346\",\"type\":\"ColumnDataSource\"},{\"attributes\":{},\"id\":\"12038\",\"type\":\"UnionRenderers\"},{\"attributes\":{},\"id\":\"12678\",\"type\":\"UnionRenderers\"},{\"attributes\":{\"label\":{\"value\":\"Merced Heights\"},\"renderers\":[{\"id\":\"12600\"}]},\"id\":\"12680\",\"type\":\"LegendItem\"},{\"attributes\":{\"source\":{\"id\":\"12189\"}},\"id\":\"12196\",\"type\":\"CDSView\"},{\"attributes\":{\"fill_alpha\":{\"value\":0.2},\"fill_color\":{\"value\":\"#ffbf60\"},\"line_alpha\":{\"value\":0.2},\"line_color\":{\"value\":\"#ffbf60\"},\"size\":{\"units\":\"screen\",\"value\":5.477225575051661},\"x\":{\"field\":\"year\"},\"y\":{\"field\":\"sale_price_sqr_foot\"}},\"id\":\"12599\",\"type\":\"Scatter\"},{\"attributes\":{\"label\":{\"value\":\"Inner Richmond\"},\"renderers\":[{\"id\":\"12047\"}]},\"id\":\"12113\",\"type\":\"LegendItem\"},{\"attributes\":{\"data\":{\"neighborhood\":[\"Lower Pacific Heights\",\"Lower Pacific Heights\",\"Lower Pacific Heights\",\"Lower Pacific Heights\",\"Lower Pacific Heights\",\"Lower Pacific Heights\",\"Lower Pacific Heights\"],\"sale_price_sqr_foot\":{\"__ndarray__\":\"76u8E+xgd0Bx+MIKtfhyQPfeWOC8wnhAyw2Bnl8ggUA7DXIXA2OGQApnfphPAIlAVYW5N3Ljg0A=\",\"dtype\":\"float64\",\"shape\":[7]},\"year\":[2010,2011,2012,2013,2014,2015,2016]},\"selected\":{\"id\":\"12427\"},\"selection_policy\":{\"id\":\"12591\"}},\"id\":\"12426\",\"type\":\"ColumnDataSource\"},{\"attributes\":{\"label\":{\"value\":\"North Beach\"},\"renderers\":[{\"id\":\"13352\"}]},\"id\":\"13448\",\"type\":\"LegendItem\"},{\"attributes\":{\"data_source\":{\"id\":\"12594\"},\"glyph\":{\"id\":\"12597\"},\"hover_glyph\":null,\"muted_glyph\":{\"id\":\"12599\"},\"nonselection_glyph\":{\"id\":\"12598\"},\"selection_glyph\":null,\"view\":{\"id\":\"12601\"}},\"id\":\"12600\",\"type\":\"GlyphRenderer\"},{\"attributes\":{},\"id\":\"10890\",\"type\":\"Selection\"},{\"attributes\":{},\"id\":\"11066\",\"type\":\"UnionRenderers\"},{\"attributes\":{\"end\":2480.495852663006,\"reset_end\":2480.495852663006,\"reset_start\":-181.02039531280724,\"start\":-181.02039531280724,\"tags\":[[[\"sale_price_sqr_foot\",\"sale_price_sqr_foot\",null]]]},\"id\":\"10685\",\"type\":\"Range1d\"},{\"attributes\":{\"fill_alpha\":{\"value\":0.2},\"fill_color\":{\"value\":\"#3a0182\"},\"line_alpha\":{\"value\":0.2},\"line_color\":{\"value\":\"#3a0182\"},\"size\":{\"units\":\"screen\",\"value\":5.477225575051661},\"x\":{\"field\":\"year\"},\"y\":{\"field\":\"sale_price_sqr_foot\"}},\"id\":\"11038\",\"type\":\"Scatter\"},{\"attributes\":{},\"id\":\"12111\",\"type\":\"UnionRenderers\"},{\"attributes\":{\"data_source\":{\"id\":\"12189\"},\"glyph\":{\"id\":\"12192\"},\"hover_glyph\":null,\"muted_glyph\":{\"id\":\"12194\"},\"nonselection_glyph\":{\"id\":\"12193\"},\"selection_glyph\":null,\"view\":{\"id\":\"12196\"}},\"id\":\"12195\",\"type\":\"GlyphRenderer\"},{\"attributes\":{\"source\":{\"id\":\"12594\"}},\"id\":\"12601\",\"type\":\"CDSView\"},{\"attributes\":{},\"id\":\"12427\",\"type\":\"Selection\"},{\"attributes\":{},\"id\":\"17295\",\"type\":\"UnionRenderers\"},{\"attributes\":{\"fill_alpha\":{\"value\":0.2},\"fill_color\":{\"value\":\"#ffbf60\"},\"line_alpha\":{\"value\":0.2},\"line_color\":{\"value\":\"#ffbf60\"},\"size\":{\"units\":\"screen\",\"value\":5.477225575051661},\"x\":{\"field\":\"year\"},\"y\":{\"field\":\"sale_price_sqr_foot\"}},\"id\":\"12597\",\"type\":\"Scatter\"},{\"attributes\":{\"label\":{\"value\":\"Hayes Valley\"},\"renderers\":[{\"id\":\"11651\"}]},\"id\":\"11705\",\"type\":\"LegendItem\"},{\"attributes\":{},\"id\":\"11583\",\"type\":\"UnionRenderers\"},{\"attributes\":{},\"id\":\"11703\",\"type\":\"UnionRenderers\"},{\"attributes\":{},\"id\":\"11835\",\"type\":\"Selection\"},{\"attributes\":{},\"id\":\"12267\",\"type\":\"Selection\"},{\"attributes\":{\"source\":{\"id\":\"11645\"}},\"id\":\"11652\",\"type\":\"CDSView\"},{\"attributes\":{\"fill_alpha\":{\"value\":0.2},\"fill_color\":{\"value\":\"#ffbf60\"},\"line_alpha\":{\"value\":0.2},\"line_color\":{\"value\":\"#ffbf60\"},\"size\":{\"units\":\"screen\",\"value\":5.477225575051661},\"x\":{\"field\":\"year\"},\"y\":{\"field\":\"sale_price_sqr_foot\"}},\"id\":\"12598\",\"type\":\"Scatter\"},{\"attributes\":{\"data\":{\"neighborhood\":[\"Outer Richmond \",\"Outer Richmond \",\"Outer Richmond \",\"Outer Richmond \",\"Outer Richmond \",\"Outer Richmond \",\"Outer Richmond \"],\"sale_price_sqr_foot\":{\"__ndarray__\":\"B35J6gQidUBmZTA2cfFwQKF06NAgKnVARYFoaYbGdECvXdvZ9R55QL5PqQ58Z3tAoL9q7ZSykkA=\",\"dtype\":\"float64\",\"shape\":[7]},\"year\":[2010,2011,2012,2013,2014,2015,2016]},\"selected\":{\"id\":\"13882\"},\"selection_policy\":{\"id\":\"14106\"}},\"id\":\"13881\",\"type\":\"ColumnDataSource\"},{\"attributes\":{\"data_source\":{\"id\":\"13346\"},\"glyph\":{\"id\":\"13349\"},\"hover_glyph\":null,\"muted_glyph\":{\"id\":\"13351\"},\"nonselection_glyph\":{\"id\":\"13350\"},\"selection_glyph\":null,\"view\":{\"id\":\"13353\"}},\"id\":\"13352\",\"type\":\"GlyphRenderer\"},{\"attributes\":{\"data\":{\"neighborhood\":[\"South Beach\",\"South Beach\",\"South Beach\"],\"sale_price_sqr_foot\":{\"__ndarray__\":\"l7v/LmY0kEAWxRU0T0p4QKOvzdQIZYBA\",\"dtype\":\"float64\",\"shape\":[3]},\"year\":[2010,2011,2014]},\"selected\":{\"id\":\"15235\"},\"selection_policy\":{\"id\":\"15503\"}},\"id\":\"15234\",\"type\":\"ColumnDataSource\"},{\"attributes\":{\"source\":{\"id\":\"11034\"}},\"id\":\"11041\",\"type\":\"CDSView\"},{\"attributes\":{\"label\":{\"value\":\"Lone Mountain\"},\"renderers\":[{\"id\":\"12351\"}]},\"id\":\"12425\",\"type\":\"LegendItem\"},{\"attributes\":{\"data_source\":{\"id\":\"11529\"},\"glyph\":{\"id\":\"11532\"},\"hover_glyph\":null,\"muted_glyph\":{\"id\":\"11534\"},\"nonselection_glyph\":{\"id\":\"11533\"},\"selection_glyph\":null,\"view\":{\"id\":\"11536\"}},\"id\":\"11535\",\"type\":\"GlyphRenderer\"},{\"attributes\":{\"fill_alpha\":{\"value\":0.2},\"fill_color\":{\"value\":\"#8cb893\"},\"line_alpha\":{\"value\":0.2},\"line_color\":{\"value\":\"#8cb893\"},\"size\":{\"units\":\"screen\",\"value\":5.477225575051661},\"x\":{\"field\":\"year\"},\"y\":{\"field\":\"sale_price_sqr_foot\"}},\"id\":\"11649\",\"type\":\"Scatter\"},{\"attributes\":{\"label\":{\"value\":\"Inner Parkside\"},\"renderers\":[{\"id\":\"11976\"}]},\"id\":\"12040\",\"type\":\"LegendItem\"},{\"attributes\":{},\"id\":\"13446\",\"type\":\"UnionRenderers\"},{\"attributes\":{\"data_source\":{\"id\":\"11970\"},\"glyph\":{\"id\":\"11973\"},\"hover_glyph\":null,\"muted_glyph\":{\"id\":\"11975\"},\"nonselection_glyph\":{\"id\":\"11974\"},\"selection_glyph\":null,\"view\":{\"id\":\"11977\"}},\"id\":\"11976\",\"type\":\"GlyphRenderer\"},{\"attributes\":{\"data\":{\"neighborhood\":[\"Buena Vista Park\",\"Buena Vista Park\",\"Buena Vista Park\",\"Buena Vista Park\",\"Buena Vista Park\",\"Buena Vista Park\"],\"sale_price_sqr_foot\":{\"__ndarray__\":\"8TcCl1G2dUB6BGYQt3hlQNMPoV2eKXVAK46qSn1zfEA6NDCikD2BQFP8ARQ2m4pA\",\"dtype\":\"float64\",\"shape\":[6]},\"year\":[2010,2011,2012,2013,2015,2016]},\"selected\":{\"id\":\"10890\"},\"selection_policy\":{\"id\":\"10938\"}},\"id\":\"10889\",\"type\":\"ColumnDataSource\"},{\"attributes\":{\"fill_alpha\":{\"value\":0.2},\"fill_color\":{\"value\":\"#8cb893\"},\"line_alpha\":{\"value\":0.2},\"line_color\":{\"value\":\"#8cb893\"},\"size\":{\"units\":\"screen\",\"value\":5.477225575051661},\"x\":{\"field\":\"year\"},\"y\":{\"field\":\"sale_price_sqr_foot\"}},\"id\":\"11650\",\"type\":\"Scatter\"},{\"attributes\":{\"data\":{\"neighborhood\":[\"Financial District South\",\"Financial District South\",\"Financial District South\",\"Financial District South\",\"Financial District South\"],\"sale_price_sqr_foot\":{\"__ndarray__\":\"0ENLWkdaZECjdAggpip2QCLvSpm+LoNAXi0AXVizhUDRgqbm7VZ8QA==\",\"dtype\":\"float64\",\"shape\":[5]},\"year\":[2010,2011,2012,2014,2015]},\"selected\":{\"id\":\"11371\"},\"selection_policy\":{\"id\":\"11471\"}},\"id\":\"11370\",\"type\":\"ColumnDataSource\"},{\"attributes\":{\"source\":{\"id\":\"11529\"}},\"id\":\"11536\",\"type\":\"CDSView\"},{\"attributes\":{\"fill_alpha\":{\"value\":0.2},\"fill_color\":{\"value\":\"#8cb893\"},\"line_alpha\":{\"value\":0.2},\"line_color\":{\"value\":\"#8cb893\"},\"size\":{\"units\":\"screen\",\"value\":5.477225575051661},\"x\":{\"field\":\"year\"},\"y\":{\"field\":\"sale_price_sqr_foot\"}},\"id\":\"11648\",\"type\":\"Scatter\"},{\"attributes\":{},\"id\":\"10967\",\"type\":\"UnionRenderers\"},{\"attributes\":{},\"id\":\"15235\",\"type\":\"Selection\"},{\"attributes\":{\"source\":{\"id\":\"11970\"}},\"id\":\"11977\",\"type\":\"CDSView\"},{\"attributes\":{\"fill_alpha\":{\"value\":0.2},\"fill_color\":{\"value\":\"#ac8944\"},\"line_alpha\":{\"value\":0.2},\"line_color\":{\"value\":\"#ac8944\"},\"size\":{\"units\":\"screen\",\"value\":5.477225575051661},\"x\":{\"field\":\"year\"},\"y\":{\"field\":\"sale_price_sqr_foot\"}},\"id\":\"11975\",\"type\":\"Scatter\"},{\"attributes\":{\"fill_alpha\":{\"value\":0.2},\"fill_color\":{\"value\":\"#ff6e75\"},\"line_alpha\":{\"value\":0.2},\"line_color\":{\"value\":\"#ff6e75\"},\"size\":{\"units\":\"screen\",\"value\":5.477225575051661},\"x\":{\"field\":\"year\"},\"y\":{\"field\":\"sale_price_sqr_foot\"}},\"id\":\"12194\",\"type\":\"Scatter\"},{\"attributes\":{\"fill_alpha\":{\"value\":0.2},\"fill_color\":{\"value\":\"#ffff9a\"},\"line_alpha\":{\"value\":0.2},\"line_color\":{\"value\":\"#ffff9a\"},\"size\":{\"units\":\"screen\",\"value\":5.477225575051661},\"x\":{\"field\":\"year\"},\"y\":{\"field\":\"sale_price_sqr_foot\"}},\"id\":\"11533\",\"type\":\"Scatter\"},{\"attributes\":{\"data\":{\"neighborhood\":[\"Telegraph Hill\",\"Telegraph Hill\",\"Telegraph Hill\",\"Telegraph Hill\",\"Telegraph Hill\",\"Telegraph Hill\",\"Telegraph Hill\"],\"sale_price_sqr_foot\":{\"__ndarray__\":\"COpLG1lmgEAS2VILfjZ+QB7+fX3VHH1AM0HkMH5qhECxLjJUiyGGQPfUt/jrJ49AqrAg7mU4jEA=\",\"dtype\":\"float64\",\"shape\":[7]},\"year\":[2010,2011,2012,2013,2014,2015,2016]},\"selected\":{\"id\":\"15646\"},\"selection_policy\":{\"id\":\"15926\"}},\"id\":\"15645\",\"type\":\"ColumnDataSource\"},{\"attributes\":{\"fill_alpha\":{\"value\":0.2},\"fill_color\":{\"value\":\"#018267\"},\"line_alpha\":{\"value\":0.2},\"line_color\":{\"value\":\"#018267\"},\"size\":{\"units\":\"screen\",\"value\":5.477225575051661},\"x\":{\"field\":\"year\"},\"y\":{\"field\":\"sale_price_sqr_foot\"}},\"id\":\"11773\",\"type\":\"Scatter\"},{\"attributes\":{\"data_source\":{\"id\":\"16829\"},\"glyph\":{\"id\":\"16832\"},\"hover_glyph\":null,\"muted_glyph\":{\"id\":\"16834\"},\"nonselection_glyph\":{\"id\":\"16833\"},\"selection_glyph\":null,\"view\":{\"id\":\"16836\"}},\"id\":\"16835\",\"type\":\"GlyphRenderer\"},{\"attributes\":{\"label\":{\"value\":\"Hunters Point\"},\"renderers\":[{\"id\":\"11712\"}]},\"id\":\"11768\",\"type\":\"LegendItem\"},{\"attributes\":{\"fill_alpha\":{\"value\":0.2},\"fill_color\":{\"value\":\"#7e3d70\"},\"line_alpha\":{\"value\":0.2},\"line_color\":{\"value\":\"#7e3d70\"},\"size\":{\"units\":\"screen\",\"value\":5.477225575051661},\"x\":{\"field\":\"year\"},\"y\":{\"field\":\"sale_price_sqr_foot\"}},\"id\":\"16833\",\"type\":\"Scatter\"},{\"attributes\":{},\"id\":\"11471\",\"type\":\"UnionRenderers\"},{\"attributes\":{\"source\":{\"id\":\"11001\"}},\"id\":\"11008\",\"type\":\"CDSView\"},{\"attributes\":{\"data_source\":{\"id\":\"11769\"},\"glyph\":{\"id\":\"11772\"},\"hover_glyph\":null,\"muted_glyph\":{\"id\":\"11774\"},\"nonselection_glyph\":{\"id\":\"11773\"},\"selection_glyph\":null,\"view\":{\"id\":\"11776\"}},\"id\":\"11775\",\"type\":\"GlyphRenderer\"},{\"attributes\":{\"fill_alpha\":{\"value\":0.2},\"fill_color\":{\"value\":\"#5d003f\"},\"line_alpha\":{\"value\":0.2},\"line_color\":{\"value\":\"#5d003f\"},\"size\":{\"units\":\"screen\",\"value\":5.477225575051661},\"x\":{\"field\":\"year\"},\"y\":{\"field\":\"sale_price_sqr_foot\"}},\"id\":\"11150\",\"type\":\"Scatter\"},{\"attributes\":{\"data\":{\"neighborhood\":[\"Hayes Valley\",\"Hayes Valley\",\"Hayes Valley\",\"Hayes Valley\",\"Hayes Valley\",\"Hayes Valley\",\"Hayes Valley\"],\"sale_price_sqr_foot\":{\"__ndarray__\":\"jyy7Ro8EcUDtvFOssItxQN/Eix0MJnNA6LhSnW25fkAXEdXax856QHX40/F0xIBA8aolPR3iZUA=\",\"dtype\":\"float64\",\"shape\":[7]},\"year\":[2010,2011,2012,2013,2014,2015,2016]},\"selected\":{\"id\":\"11646\"},\"selection_policy\":{\"id\":\"11766\"}},\"id\":\"11645\",\"type\":\"ColumnDataSource\"},{\"attributes\":{\"fill_alpha\":{\"value\":0.2},\"fill_color\":{\"value\":\"#ffbff2\"},\"line_alpha\":{\"value\":0.2},\"line_color\":{\"value\":\"#ffbff2\"},\"size\":{\"units\":\"screen\",\"value\":5.477225575051661},\"x\":{\"field\":\"year\"},\"y\":{\"field\":\"sale_price_sqr_foot\"}},\"id\":\"12118\",\"type\":\"Scatter\"},{\"attributes\":{\"label\":{\"value\":\"Ingleside \"},\"renderers\":[{\"id\":\"11775\"}]},\"id\":\"11833\",\"type\":\"LegendItem\"},{\"attributes\":{\"label\":{\"value\":\"Forest Knolls\"},\"renderers\":[{\"id\":\"11427\"}]},\"id\":\"11473\",\"type\":\"LegendItem\"},{\"attributes\":{},\"id\":\"15231\",\"type\":\"UnionRenderers\"},{\"attributes\":{\"data\":{\"neighborhood\":[\"Westwood Park\",\"Westwood Park\"],\"sale_price_sqr_foot\":{\"__ndarray__\":\"hgoZedY3h0BRlnA7kLmDQA==\",\"dtype\":\"float64\",\"shape\":[2]},\"year\":[2014,2016]},\"selected\":{\"id\":\"16830\"},\"selection_policy\":{\"id\":\"17142\"}},\"id\":\"16829\",\"type\":\"ColumnDataSource\"},{\"attributes\":{\"fill_alpha\":{\"value\":0.2},\"fill_color\":{\"value\":\"#16bdcf\"},\"line_alpha\":{\"value\":0.2},\"line_color\":{\"value\":\"#16bdcf\"},\"size\":{\"units\":\"screen\",\"value\":5.477225575051661},\"x\":{\"field\":\"year\"},\"y\":{\"field\":\"sale_price_sqr_foot\"}},\"id\":\"11006\",\"type\":\"Scatter\"},{\"attributes\":{},\"id\":\"11318\",\"type\":\"UnionRenderers\"},{\"attributes\":{\"fill_alpha\":{\"value\":0.2},\"fill_color\":{\"value\":\"#6b6400\"},\"line_alpha\":{\"value\":0.2},\"line_color\":{\"value\":\"#6b6400\"},\"size\":{\"units\":\"screen\",\"value\":5.477225575051661},\"x\":{\"field\":\"year\"},\"y\":{\"field\":\"sale_price_sqr_foot\"}},\"id\":\"11373\",\"type\":\"Scatter\"},{\"attributes\":{\"margin\":[5,5,5,5],\"name\":\"HSpacer18560\",\"sizing_mode\":\"stretch_width\"},\"id\":\"18361\",\"type\":\"Spacer\"},{\"attributes\":{\"label\":{\"value\":\"Downtown \"},\"renderers\":[{\"id\":\"11151\"}]},\"id\":\"11185\",\"type\":\"LegendItem\"},{\"attributes\":{\"fill_alpha\":{\"value\":0.2},\"fill_color\":{\"value\":\"#9300f2\"},\"line_alpha\":{\"value\":0.2},\"line_color\":{\"value\":\"#9300f2\"},\"size\":{\"units\":\"screen\",\"value\":5.477225575051661},\"x\":{\"field\":\"year\"},\"y\":{\"field\":\"sale_price_sqr_foot\"}},\"id\":\"14470\",\"type\":\"Scatter\"},{\"attributes\":{},\"id\":\"11770\",\"type\":\"Selection\"},{\"attributes\":{\"label\":{\"value\":\"Inner Sunset\"},\"renderers\":[{\"id\":\"12120\"}]},\"id\":\"12188\",\"type\":\"LegendItem\"},{\"attributes\":{\"source\":{\"id\":\"11274\"}},\"id\":\"11281\",\"type\":\"CDSView\"},{\"attributes\":{\"fill_alpha\":{\"value\":0.2},\"fill_color\":{\"value\":\"#5d003f\"},\"line_alpha\":{\"value\":0.2},\"line_color\":{\"value\":\"#5d003f\"},\"size\":{\"units\":\"screen\",\"value\":5.477225575051661},\"x\":{\"field\":\"year\"},\"y\":{\"field\":\"sale_price_sqr_foot\"}},\"id\":\"11149\",\"type\":\"Scatter\"},{\"attributes\":{\"data\":{\"neighborhood\":[\"Glen Park\",\"Glen Park\",\"Glen Park\",\"Glen Park\",\"Glen Park\",\"Glen Park\"],\"sale_price_sqr_foot\":{\"__ndarray__\":\"aB91BrFchkAOKiRFn5Z8QED5MZOKq3xA/rlAhIBMgUBFlH1o2SCDQF9/cTKIjI1A\",\"dtype\":\"float64\",\"shape\":[6]},\"year\":[2010,2011,2013,2014,2015,2016]},\"selected\":{\"id\":\"11475\"},\"selection_policy\":{\"id\":\"11583\"}},\"id\":\"11474\",\"type\":\"ColumnDataSource\"},{\"attributes\":{\"data\":{\"neighborhood\":[\"Ingleside \",\"Ingleside \",\"Ingleside \",\"Ingleside \"],\"sale_price_sqr_foot\":{\"__ndarray__\":\"a4srL+gwcUBltPYZWEt2QJi0BnMyPYRAvGp2tkkFaEA=\",\"dtype\":\"float64\",\"shape\":[4]},\"year\":[2010,2011,2014,2015]},\"selected\":{\"id\":\"11770\"},\"selection_policy\":{\"id\":\"11898\"}},\"id\":\"11769\",\"type\":\"ColumnDataSource\"},{\"attributes\":{\"fill_alpha\":{\"value\":0.2},\"fill_color\":{\"value\":\"#93fbff\"},\"line_alpha\":{\"value\":0.2},\"line_color\":{\"value\":\"#93fbff\"},\"size\":{\"units\":\"screen\",\"value\":5.477225575051661},\"x\":{\"field\":\"year\"},\"y\":{\"field\":\"sale_price_sqr_foot\"}},\"id\":\"11710\",\"type\":\"Scatter\"},{\"attributes\":{},\"id\":\"11898\",\"type\":\"UnionRenderers\"},{\"attributes\":{\"fill_alpha\":{\"value\":0.2},\"fill_color\":{\"value\":\"#93fbff\"},\"line_alpha\":{\"value\":0.2},\"line_color\":{\"value\":\"#93fbff\"},\"size\":{\"units\":\"screen\",\"value\":5.477225575051661},\"x\":{\"field\":\"year\"},\"y\":{\"field\":\"sale_price_sqr_foot\"}},\"id\":\"11711\",\"type\":\"Scatter\"},{\"attributes\":{},\"id\":\"16830\",\"type\":\"Selection\"},{\"attributes\":{\"label\":{\"value\":\"Corona Heights\"},\"renderers\":[{\"id\":\"11007\"}]},\"id\":\"11033\",\"type\":\"LegendItem\"},{\"attributes\":{},\"id\":\"11475\",\"type\":\"Selection\"},{\"attributes\":{\"label\":{\"value\":\"Ingleside Heights\"},\"renderers\":[{\"id\":\"11840\"}]},\"id\":\"11900\",\"type\":\"LegendItem\"},{\"attributes\":{},\"id\":\"11002\",\"type\":\"Selection\"},{\"attributes\":{},\"id\":\"11371\",\"type\":\"Selection\"},{\"attributes\":{\"fill_alpha\":{\"value\":0.2},\"fill_color\":{\"value\":\"#6b6400\"},\"line_alpha\":{\"value\":0.2},\"line_color\":{\"value\":\"#6b6400\"},\"size\":{\"units\":\"screen\",\"value\":5.477225575051661},\"x\":{\"field\":\"year\"},\"y\":{\"field\":\"sale_price_sqr_foot\"}},\"id\":\"11374\",\"type\":\"Scatter\"},{\"attributes\":{\"source\":{\"id\":\"11834\"}},\"id\":\"11841\",\"type\":\"CDSView\"},{\"attributes\":{\"data_source\":{\"id\":\"11474\"},\"glyph\":{\"id\":\"11477\"},\"hover_glyph\":null,\"muted_glyph\":{\"id\":\"11479\"},\"nonselection_glyph\":{\"id\":\"11478\"},\"selection_glyph\":null,\"view\":{\"id\":\"11481\"}},\"id\":\"11480\",\"type\":\"GlyphRenderer\"},{\"attributes\":{\"data\":{\"neighborhood\":[\"Excelsior\",\"Excelsior\",\"Excelsior\",\"Excelsior\",\"Excelsior\",\"Excelsior\"],\"sale_price_sqr_foot\":{\"__ndarray__\":\"rTyLdtrOdkBN5gLDezB3QMhKeKH+G3JAVqH/QeJkdkAIVY6WseV5QJMvOlzPsYBA\",\"dtype\":\"float64\",\"shape\":[6]},\"year\":[2010,2012,2013,2014,2015,2016]},\"selected\":{\"id\":\"11275\"},\"selection_policy\":{\"id\":\"11367\"}},\"id\":\"11274\",\"type\":\"ColumnDataSource\"},{\"attributes\":{\"source\":{\"id\":\"11706\"}},\"id\":\"11713\",\"type\":\"CDSView\"},{\"attributes\":{},\"id\":\"12682\",\"type\":\"Selection\"},{\"attributes\":{\"fill_alpha\":{\"value\":0.2},\"fill_color\":{\"value\":\"#6026ff\"},\"line_alpha\":{\"value\":0.2},\"line_color\":{\"value\":\"#6026ff\"},\"size\":{\"units\":\"screen\",\"value\":5.477225575051661},\"x\":{\"field\":\"year\"},\"y\":{\"field\":\"sale_price_sqr_foot\"}},\"id\":\"11478\",\"type\":\"Scatter\"},{\"attributes\":{\"source\":{\"id\":\"12681\"}},\"id\":\"12688\",\"type\":\"CDSView\"},{\"attributes\":{},\"id\":\"12190\",\"type\":\"Selection\"},{\"attributes\":{\"label\":{\"value\":\"Glen Park\"},\"renderers\":[{\"id\":\"11480\"}]},\"id\":\"11528\",\"type\":\"LegendItem\"},{\"attributes\":{\"data\":{\"neighborhood\":[\"Inner Parkside\",\"Inner Parkside\",\"Inner Parkside\",\"Inner Parkside\"],\"sale_price_sqr_foot\":{\"__ndarray__\":\"18ai0Hb2aEDC7XKumqmCQHHi/sU31IdAw4xJteYwgEA=\",\"dtype\":\"float64\",\"shape\":[4]},\"year\":[2010,2014,2015,2016]},\"selected\":{\"id\":\"11971\"},\"selection_policy\":{\"id\":\"12111\"}},\"id\":\"11970\",\"type\":\"ColumnDataSource\"},{\"attributes\":{},\"id\":\"11031\",\"type\":\"UnionRenderers\"},{\"attributes\":{},\"id\":\"11971\",\"type\":\"Selection\"},{\"attributes\":{\"data_source\":{\"id\":\"11001\"},\"glyph\":{\"id\":\"11004\"},\"hover_glyph\":null,\"muted_glyph\":{\"id\":\"11006\"},\"nonselection_glyph\":{\"id\":\"11005\"},\"selection_glyph\":null,\"view\":{\"id\":\"11008\"}},\"id\":\"11007\",\"type\":\"GlyphRenderer\"},{\"attributes\":{\"fill_alpha\":{\"value\":0.2},\"fill_color\":{\"value\":\"#6026ff\"},\"line_alpha\":{\"value\":0.2},\"line_color\":{\"value\":\"#6026ff\"},\"size\":{\"units\":\"screen\",\"value\":5.477225575051661},\"x\":{\"field\":\"year\"},\"y\":{\"field\":\"sale_price_sqr_foot\"}},\"id\":\"11479\",\"type\":\"Scatter\"},{\"attributes\":{},\"id\":\"13343\",\"type\":\"UnionRenderers\"},{\"attributes\":{\"fill_alpha\":{\"value\":0.2},\"fill_color\":{\"value\":\"#6026ff\"},\"line_alpha\":{\"value\":0.2},\"line_color\":{\"value\":\"#6026ff\"},\"size\":{\"units\":\"screen\",\"value\":5.477225575051661},\"x\":{\"field\":\"year\"},\"y\":{\"field\":\"sale_price_sqr_foot\"}},\"id\":\"11477\",\"type\":\"Scatter\"},{\"attributes\":{\"fill_alpha\":{\"value\":0.2},\"fill_color\":{\"value\":\"#16bdcf\"},\"line_alpha\":{\"value\":0.2},\"line_color\":{\"value\":\"#16bdcf\"},\"size\":{\"units\":\"screen\",\"value\":5.477225575051661},\"x\":{\"field\":\"year\"},\"y\":{\"field\":\"sale_price_sqr_foot\"}},\"id\":\"11004\",\"type\":\"Scatter\"},{\"attributes\":{\"source\":{\"id\":\"11474\"}},\"id\":\"11481\",\"type\":\"CDSView\"},{\"attributes\":{},\"id\":\"12115\",\"type\":\"Selection\"},{\"attributes\":{\"data_source\":{\"id\":\"11706\"},\"glyph\":{\"id\":\"11709\"},\"hover_glyph\":null,\"muted_glyph\":{\"id\":\"11711\"},\"nonselection_glyph\":{\"id\":\"11710\"},\"selection_glyph\":null,\"view\":{\"id\":\"11713\"}},\"id\":\"11712\",\"type\":\"GlyphRenderer\"},{\"attributes\":{\"fill_alpha\":{\"value\":0.2},\"fill_color\":{\"value\":\"#b80080\"},\"line_alpha\":{\"value\":0.2},\"line_color\":{\"value\":\"#b80080\"},\"size\":{\"units\":\"screen\",\"value\":5.477225575051661},\"x\":{\"field\":\"year\"},\"y\":{\"field\":\"sale_price_sqr_foot\"}},\"id\":\"11279\",\"type\":\"Scatter\"},{\"attributes\":{},\"id\":\"13658\",\"type\":\"UnionRenderers\"},{\"attributes\":{\"data\":{\"neighborhood\":[\"Inner Sunset\",\"Inner Sunset\",\"Inner Sunset\",\"Inner Sunset\",\"Inner Sunset\",\"Inner Sunset\",\"Inner Sunset\"],\"sale_price_sqr_foot\":{\"__ndarray__\":\"dFv1z1A8cUAZrCL9q+lyQMlvDkJDXXRAh0YXDbs4e0A5E+8OqG19QJJvw+or+YNAR50mAMjee0A=\",\"dtype\":\"float64\",\"shape\":[7]},\"year\":[2010,2011,2012,2013,2014,2015,2016]},\"selected\":{\"id\":\"12115\"},\"selection_policy\":{\"id\":\"12263\"}},\"id\":\"12114\",\"type\":\"ColumnDataSource\"},{\"attributes\":{\"fill_alpha\":{\"value\":0.2},\"fill_color\":{\"value\":\"#b80080\"},\"line_alpha\":{\"value\":0.2},\"line_color\":{\"value\":\"#b80080\"},\"size\":{\"units\":\"screen\",\"value\":5.477225575051661},\"x\":{\"field\":\"year\"},\"y\":{\"field\":\"sale_price_sqr_foot\"}},\"id\":\"11277\",\"type\":\"Scatter\"},{\"attributes\":{\"fill_alpha\":{\"value\":0.2},\"fill_color\":{\"value\":\"#16bdcf\"},\"line_alpha\":{\"value\":0.2},\"line_color\":{\"value\":\"#16bdcf\"},\"size\":{\"units\":\"screen\",\"value\":5.477225575051661},\"x\":{\"field\":\"year\"},\"y\":{\"field\":\"sale_price_sqr_foot\"}},\"id\":\"11005\",\"type\":\"Scatter\"},{\"attributes\":{\"fill_alpha\":{\"value\":0.2},\"fill_color\":{\"value\":\"#7e3d70\"},\"line_alpha\":{\"value\":0.2},\"line_color\":{\"value\":\"#7e3d70\"},\"size\":{\"units\":\"screen\",\"value\":5.477225575051661},\"x\":{\"field\":\"year\"},\"y\":{\"field\":\"sale_price_sqr_foot\"}},\"id\":\"16834\",\"type\":\"Scatter\"},{\"attributes\":{},\"id\":\"11766\",\"type\":\"UnionRenderers\"},{\"attributes\":{\"fill_alpha\":{\"value\":0.2},\"fill_color\":{\"value\":\"#000091\"},\"line_alpha\":{\"value\":0.2},\"line_color\":{\"value\":\"#000091\"},\"size\":{\"units\":\"screen\",\"value\":5.477225575051661},\"x\":{\"field\":\"year\"},\"y\":{\"field\":\"sale_price_sqr_foot\"}},\"id\":\"15510\",\"type\":\"Scatter\"},{\"attributes\":{\"fill_alpha\":{\"value\":0.2},\"fill_color\":{\"value\":\"#7e3d70\"},\"line_alpha\":{\"value\":0.2},\"line_color\":{\"value\":\"#7e3d70\"},\"size\":{\"units\":\"screen\",\"value\":5.477225575051661},\"x\":{\"field\":\"year\"},\"y\":{\"field\":\"sale_price_sqr_foot\"}},\"id\":\"16832\",\"type\":\"Scatter\"},{\"attributes\":{\"fill_alpha\":{\"value\":0.2},\"fill_color\":{\"value\":\"#ac8944\"},\"line_alpha\":{\"value\":0.2},\"line_color\":{\"value\":\"#ac8944\"},\"size\":{\"units\":\"screen\",\"value\":5.477225575051661},\"x\":{\"field\":\"year\"},\"y\":{\"field\":\"sale_price_sqr_foot\"}},\"id\":\"11973\",\"type\":\"Scatter\"},{\"attributes\":{\"label\":{\"value\":\"Oceanview\"},\"renderers\":[{\"id\":\"13560\"}]},\"id\":\"13660\",\"type\":\"LegendItem\"},{\"attributes\":{\"fill_alpha\":{\"value\":0.2},\"fill_color\":{\"value\":\"#018267\"},\"line_alpha\":{\"value\":0.2},\"line_color\":{\"value\":\"#018267\"},\"size\":{\"units\":\"screen\",\"value\":5.477225575051661},\"x\":{\"field\":\"year\"},\"y\":{\"field\":\"sale_price_sqr_foot\"}},\"id\":\"11774\",\"type\":\"Scatter\"},{\"attributes\":{},\"id\":\"11183\",\"type\":\"UnionRenderers\"},{\"attributes\":{},\"id\":\"16983\",\"type\":\"UnionRenderers\"},{\"attributes\":{\"source\":{\"id\":\"16829\"}},\"id\":\"16836\",\"type\":\"CDSView\"},{\"attributes\":{\"label\":{\"value\":\"Cow Hollow\"},\"renderers\":[{\"id\":\"11040\"}]},\"id\":\"11068\",\"type\":\"LegendItem\"},{\"attributes\":{\"fill_alpha\":{\"value\":0.2},\"fill_color\":{\"value\":\"#ff6e75\"},\"line_alpha\":{\"value\":0.2},\"line_color\":{\"value\":\"#ff6e75\"},\"size\":{\"units\":\"screen\",\"value\":5.477225575051661},\"x\":{\"field\":\"year\"},\"y\":{\"field\":\"sale_price_sqr_foot\"}},\"id\":\"12193\",\"type\":\"Scatter\"},{\"attributes\":{\"fill_alpha\":{\"value\":0.2},\"fill_color\":{\"value\":\"#018267\"},\"line_alpha\":{\"value\":0.2},\"line_color\":{\"value\":\"#018267\"},\"size\":{\"units\":\"screen\",\"value\":5.477225575051661},\"x\":{\"field\":\"year\"},\"y\":{\"field\":\"sale_price_sqr_foot\"}},\"id\":\"11772\",\"type\":\"Scatter\"},{\"attributes\":{\"data\":{\"neighborhood\":[\"Noe Valley\",\"Noe Valley\",\"Noe Valley\",\"Noe Valley\",\"Noe Valley\",\"Noe Valley\",\"Noe Valley\"],\"sale_price_sqr_foot\":{\"__ndarray__\":\"GS5CEjfSd0B9QsWzqF93QIDKIsFZwHpAI9iT7YI4g0DciMZ4aXaEQKBBKlfNBIFAOogEGPf7iEA=\",\"dtype\":\"float64\",\"shape\":[7]},\"year\":[2010,2011,2012,2013,2014,2015,2016]},\"selected\":{\"id\":\"13246\"},\"selection_policy\":{\"id\":\"13446\"}},\"id\":\"13245\",\"type\":\"ColumnDataSource\"},{\"attributes\":{\"label\":{\"value\":\"Westwood Park\"},\"renderers\":[{\"id\":\"16835\"}]},\"id\":\"16985\",\"type\":\"LegendItem\"},{\"attributes\":{},\"id\":\"11831\",\"type\":\"UnionRenderers\"},{\"attributes\":{\"data_source\":{\"id\":\"11274\"},\"glyph\":{\"id\":\"11277\"},\"hover_glyph\":null,\"muted_glyph\":{\"id\":\"11279\"},\"nonselection_glyph\":{\"id\":\"11278\"},\"selection_glyph\":null,\"view\":{\"id\":\"11281\"}},\"id\":\"11280\",\"type\":\"GlyphRenderer\"},{\"attributes\":{\"data\":{\"neighborhood\":[\"Haight Ashbury\",\"Haight Ashbury\",\"Haight Ashbury\",\"Haight Ashbury\",\"Haight Ashbury\",\"Haight Ashbury\",\"Haight Ashbury\"],\"sale_price_sqr_foot\":{\"__ndarray__\":\"QH/hMinPb0DRLjW8p4V4QDXT1jtJLXpAbHydIO7nfUB2raXm0Ah/QNj5jEQx8oFAzf5gJa6egEA=\",\"dtype\":\"float64\",\"shape\":[7]},\"year\":[2010,2011,2012,2013,2014,2015,2016]},\"selected\":{\"id\":\"11587\"},\"selection_policy\":{\"id\":\"11703\"}},\"id\":\"11586\",\"type\":\"ColumnDataSource\"},{\"attributes\":{\"source\":{\"id\":\"11769\"}},\"id\":\"11776\",\"type\":\"CDSView\"},{\"attributes\":{\"data\":{\"neighborhood\":[\"Mission Bay\",\"Mission Bay\",\"Mission Bay\",\"Mission Bay\",\"Mission Bay\",\"Mission Bay\"],\"sale_price_sqr_foot\":{\"__ndarray__\":\"YJ/P0+KcfkA4flQbPK9/QDDJZL4vjIVAAAAAAAAA+H/q7LkGjoNrQAVqo4yN5IxA\",\"dtype\":\"float64\",\"shape\":[6]},\"year\":[2010,2011,2012,2013,2014,2016]},\"selected\":{\"id\":\"12862\"},\"selection_policy\":{\"id\":\"13046\"}},\"id\":\"12861\",\"type\":\"ColumnDataSource\"},{\"attributes\":{\"source\":{\"id\":\"13245\"}},\"id\":\"13252\",\"type\":\"CDSView\"},{\"attributes\":{\"fill_alpha\":{\"value\":0.2},\"fill_color\":{\"value\":\"#00939e\"},\"line_alpha\":{\"value\":0.2},\"line_color\":{\"value\":\"#00939e\"},\"size\":{\"units\":\"screen\",\"value\":5.477225575051661},\"x\":{\"field\":\"year\"},\"y\":{\"field\":\"sale_price_sqr_foot\"}},\"id\":\"14974\",\"type\":\"Scatter\"},{\"attributes\":{\"data\":{\"neighborhood\":[\"Diamond Heights\",\"Diamond Heights\",\"Diamond Heights\",\"Diamond Heights\"],\"sale_price_sqr_foot\":{\"__ndarray__\":\"CCbRpeSOfECTXH/couV3QEfnZUXt73ZAKTeB8IGtgEA=\",\"dtype\":\"float64\",\"shape\":[4]},\"year\":[2010,2011,2012,2013]},\"selected\":{\"id\":\"11107\"},\"selection_policy\":{\"id\":\"11183\"}},\"id\":\"11106\",\"type\":\"ColumnDataSource\"},{\"attributes\":{\"data_source\":{\"id\":\"16074\"},\"glyph\":{\"id\":\"16077\"},\"hover_glyph\":null,\"muted_glyph\":{\"id\":\"16079\"},\"nonselection_glyph\":{\"id\":\"16078\"},\"selection_glyph\":null,\"view\":{\"id\":\"16081\"}},\"id\":\"16080\",\"type\":\"GlyphRenderer\"},{\"attributes\":{\"fill_alpha\":{\"value\":0.2},\"fill_color\":{\"value\":\"#5b3400\"},\"line_alpha\":{\"value\":0.2},\"line_color\":{\"value\":\"#5b3400\"},\"size\":{\"units\":\"screen\",\"value\":5.477225575051661},\"x\":{\"field\":\"year\"},\"y\":{\"field\":\"sale_price_sqr_foot\"}},\"id\":\"12045\",\"type\":\"Scatter\"},{\"attributes\":{\"overlay\":{\"id\":\"10781\"}},\"id\":\"10779\",\"type\":\"BoxZoomTool\"},{\"attributes\":{\"data_source\":{\"id\":\"14970\"},\"glyph\":{\"id\":\"14973\"},\"hover_glyph\":null,\"muted_glyph\":{\"id\":\"14975\"},\"nonselection_glyph\":{\"id\":\"14974\"},\"selection_glyph\":null,\"view\":{\"id\":\"14977\"}},\"id\":\"14976\",\"type\":\"GlyphRenderer\"},{\"attributes\":{\"source\":{\"id\":\"10970\"}},\"id\":\"10977\",\"type\":\"CDSView\"},{\"attributes\":{\"fill_alpha\":{\"value\":0.2},\"fill_color\":{\"value\":\"#c6c689\"},\"line_alpha\":{\"value\":0.2},\"line_color\":{\"value\":\"#c6c689\"},\"size\":{\"units\":\"screen\",\"value\":5.477225575051661},\"x\":{\"field\":\"year\"},\"y\":{\"field\":\"sale_price_sqr_foot\"}},\"id\":\"16078\",\"type\":\"Scatter\"},{\"attributes\":{},\"id\":\"12263\",\"type\":\"UnionRenderers\"},{\"attributes\":{},\"id\":\"12506\",\"type\":\"UnionRenderers\"},{\"attributes\":{},\"id\":\"10971\",\"type\":\"Selection\"},{\"attributes\":{},\"id\":\"15503\",\"type\":\"UnionRenderers\"},{\"attributes\":{\"data_source\":{\"id\":\"10970\"},\"glyph\":{\"id\":\"10973\"},\"hover_glyph\":null,\"muted_glyph\":{\"id\":\"10975\"},\"nonselection_glyph\":{\"id\":\"10974\"},\"selection_glyph\":null,\"view\":{\"id\":\"10977\"}},\"id\":\"10976\",\"type\":\"GlyphRenderer\"},{\"attributes\":{},\"id\":\"11107\",\"type\":\"Selection\"},{\"attributes\":{},\"id\":\"12042\",\"type\":\"Selection\"},{\"attributes\":{\"data\":{\"neighborhood\":[\"Cow Hollow\",\"Cow Hollow\",\"Cow Hollow\",\"Cow Hollow\",\"Cow Hollow\",\"Cow Hollow\",\"Cow Hollow\"],\"sale_price_sqr_foot\":{\"__ndarray__\":\"LMKfLArLgUAbTXjLh2l4QAnYXuSLJoRAMODd8zgbhkCYJdtc7J6FQJ+1dd72tIJAlnINLUOMkEA=\",\"dtype\":\"float64\",\"shape\":[7]},\"year\":[2010,2011,2012,2013,2014,2015,2016]},\"selected\":{\"id\":\"11035\"},\"selection_policy\":{\"id\":\"11103\"}},\"id\":\"11034\",\"type\":\"ColumnDataSource\"},{\"attributes\":{\"fill_alpha\":{\"value\":0.2},\"fill_color\":{\"value\":\"#6b6400\"},\"line_alpha\":{\"value\":0.2},\"line_color\":{\"value\":\"#6b6400\"},\"size\":{\"units\":\"screen\",\"value\":5.477225575051661},\"x\":{\"field\":\"year\"},\"y\":{\"field\":\"sale_price_sqr_foot\"}},\"id\":\"11375\",\"type\":\"Scatter\"},{\"attributes\":{\"fill_alpha\":{\"value\":0.2},\"fill_color\":{\"value\":\"#c6c689\"},\"line_alpha\":{\"value\":0.2},\"line_color\":{\"value\":\"#c6c689\"},\"size\":{\"units\":\"screen\",\"value\":5.477225575051661},\"x\":{\"field\":\"year\"},\"y\":{\"field\":\"sale_price_sqr_foot\"}},\"id\":\"16079\",\"type\":\"Scatter\"},{\"attributes\":{},\"id\":\"14971\",\"type\":\"Selection\"},{\"attributes\":{\"active_drag\":\"auto\",\"active_inspect\":\"auto\",\"active_multi\":null,\"active_scroll\":\"auto\",\"active_tap\":\"auto\",\"tools\":[{\"id\":\"10686\"},{\"id\":\"10776\"},{\"id\":\"10777\"},{\"id\":\"10778\"},{\"id\":\"10779\"},{\"id\":\"10780\"}]},\"id\":\"10782\",\"type\":\"Toolbar\"},{\"attributes\":{\"source\":{\"id\":\"11106\"}},\"id\":\"11113\",\"type\":\"CDSView\"},{\"attributes\":{\"data\":{\"neighborhood\":[\"Inner Richmond\",\"Inner Richmond\",\"Inner Richmond\",\"Inner Richmond\",\"Inner Richmond\",\"Inner Richmond\",\"Inner Richmond\"],\"sale_price_sqr_foot\":{\"__ndarray__\":\"rudfYSjdcUC/5PKqmIB2QOH8A0Z4V3dAg75VYHrvckDbABfACO96QP4B9lLZ2X5AcgrFZfo0eUA=\",\"dtype\":\"float64\",\"shape\":[7]},\"year\":[2010,2011,2012,2013,2014,2015,2016]},\"selected\":{\"id\":\"12042\"},\"selection_policy\":{\"id\":\"12186\"}},\"id\":\"12041\",\"type\":\"ColumnDataSource\"},{\"attributes\":{},\"id\":\"10778\",\"type\":\"WheelZoomTool\"},{\"attributes\":{\"fill_alpha\":{\"value\":0.2},\"fill_color\":{\"value\":\"#c6c689\"},\"line_alpha\":{\"value\":0.2},\"line_color\":{\"value\":\"#c6c689\"},\"size\":{\"units\":\"screen\",\"value\":5.477225575051661},\"x\":{\"field\":\"year\"},\"y\":{\"field\":\"sale_price_sqr_foot\"}},\"id\":\"16077\",\"type\":\"Scatter\"},{\"attributes\":{\"label\":{\"value\":\"Clarendon Heights\"},\"renderers\":[{\"id\":\"10976\"}]},\"id\":\"11000\",\"type\":\"LegendItem\"},{\"attributes\":{\"label\":{\"value\":\"Westwood Highlands\"},\"renderers\":[{\"id\":\"16680\"}]},\"id\":\"16828\",\"type\":\"LegendItem\"},{\"attributes\":{\"label\":{\"value\":\"Financial District South\"},\"renderers\":[{\"id\":\"11376\"}]},\"id\":\"11420\",\"type\":\"LegendItem\"},{\"attributes\":{\"data_source\":{\"id\":\"11370\"},\"glyph\":{\"id\":\"11373\"},\"hover_glyph\":null,\"muted_glyph\":{\"id\":\"11375\"},\"nonselection_glyph\":{\"id\":\"11374\"},\"selection_glyph\":null,\"view\":{\"id\":\"11377\"}},\"id\":\"11376\",\"type\":\"GlyphRenderer\"},{\"attributes\":{\"fill_alpha\":{\"value\":0.2},\"fill_color\":{\"value\":\"#8c564b\"},\"line_alpha\":{\"value\":0.2},\"line_color\":{\"value\":\"#8c564b\"},\"size\":{\"units\":\"screen\",\"value\":5.477225575051661},\"x\":{\"field\":\"year\"},\"y\":{\"field\":\"sale_price_sqr_foot\"}},\"id\":\"10894\",\"type\":\"Scatter\"},{\"attributes\":{\"source\":{\"id\":\"16074\"}},\"id\":\"16081\",\"type\":\"CDSView\"},{\"attributes\":{\"label\":{\"value\":\"Lower Pacific Heights\"},\"renderers\":[{\"id\":\"12432\"}]},\"id\":\"12508\",\"type\":\"LegendItem\"},{\"attributes\":{},\"id\":\"10827\",\"type\":\"Selection\"},{\"attributes\":{\"label\":{\"value\":\"Excelsior\"},\"renderers\":[{\"id\":\"11280\"}]},\"id\":\"11320\",\"type\":\"LegendItem\"},{\"attributes\":{\"bottom_units\":\"screen\",\"fill_alpha\":0.5,\"fill_color\":\"lightgrey\",\"left_units\":\"screen\",\"level\":\"overlay\",\"line_alpha\":1.0,\"line_color\":\"black\",\"line_dash\":[4,4],\"line_width\":2,\"render_mode\":\"css\",\"right_units\":\"screen\",\"top_units\":\"screen\"},\"id\":\"10781\",\"type\":\"BoxAnnotation\"},{\"attributes\":{},\"id\":\"16218\",\"type\":\"UnionRenderers\"},{\"attributes\":{\"fill_alpha\":{\"value\":0.2},\"fill_color\":{\"value\":\"#8c564b\"},\"line_alpha\":{\"value\":0.2},\"line_color\":{\"value\":\"#8c564b\"},\"size\":{\"units\":\"screen\",\"value\":5.477225575051661},\"x\":{\"field\":\"year\"},\"y\":{\"field\":\"sale_price_sqr_foot\"}},\"id\":\"10893\",\"type\":\"Scatter\"},{\"attributes\":{\"fill_alpha\":{\"value\":0.2},\"fill_color\":{\"value\":\"#520067\"},\"line_alpha\":{\"value\":0.2},\"line_color\":{\"value\":\"#520067\"},\"size\":{\"units\":\"screen\",\"value\":5.477225575051661},\"x\":{\"field\":\"year\"},\"y\":{\"field\":\"sale_price_sqr_foot\"}},\"id\":\"15372\",\"type\":\"Scatter\"},{\"attributes\":{},\"id\":\"10780\",\"type\":\"ResetTool\"},{\"attributes\":{\"label\":{\"value\":\"Van Ness/ Civic Center\"},\"renderers\":[{\"id\":\"16080\"}]},\"id\":\"16220\",\"type\":\"LegendItem\"},{\"attributes\":{\"fill_alpha\":{\"value\":0.2},\"fill_color\":{\"value\":\"#520067\"},\"line_alpha\":{\"value\":0.2},\"line_color\":{\"value\":\"#520067\"},\"size\":{\"units\":\"screen\",\"value\":5.477225575051661},\"x\":{\"field\":\"year\"},\"y\":{\"field\":\"sale_price_sqr_foot\"}},\"id\":\"15374\",\"type\":\"Scatter\"},{\"attributes\":{},\"id\":\"12595\",\"type\":\"Selection\"},{\"attributes\":{\"data_source\":{\"id\":\"16221\"},\"glyph\":{\"id\":\"16224\"},\"hover_glyph\":null,\"muted_glyph\":{\"id\":\"16226\"},\"nonselection_glyph\":{\"id\":\"16225\"},\"selection_glyph\":null,\"view\":{\"id\":\"16228\"}},\"id\":\"16227\",\"type\":\"GlyphRenderer\"},{\"attributes\":{\"data\":{\"neighborhood\":[\"Russian Hill\",\"Russian Hill\",\"Russian Hill\",\"Russian Hill\",\"Russian Hill\",\"Russian Hill\",\"Russian Hill\"],\"sale_price_sqr_foot\":{\"__ndarray__\":\"qeg8U5KldkCz55glHwV8QBozkYia4nlAYr9O7qOjf0BeOprOxlGGQE8CCI8YyohA+YfACFwBkEA=\",\"dtype\":\"float64\",\"shape\":[7]},\"year\":[2010,2011,2012,2013,2014,2015,2016]},\"selected\":{\"id\":\"14971\"},\"selection_policy\":{\"id\":\"15231\"}},\"id\":\"14970\",\"type\":\"ColumnDataSource\"},{\"attributes\":{\"fill_alpha\":{\"value\":0.2},\"fill_color\":{\"value\":\"#9367bc\"},\"line_alpha\":{\"value\":0.2},\"line_color\":{\"value\":\"#9367bc\"},\"size\":{\"units\":\"screen\",\"value\":5.477225575051661},\"x\":{\"field\":\"year\"},\"y\":{\"field\":\"sale_price_sqr_foot\"}},\"id\":\"10869\",\"type\":\"Scatter\"},{\"attributes\":{\"fill_alpha\":{\"value\":0.2},\"fill_color\":{\"value\":\"#bcbc21\"},\"line_alpha\":{\"value\":0.2},\"line_color\":{\"value\":\"#bcbc21\"},\"size\":{\"units\":\"screen\",\"value\":5.477225575051661},\"x\":{\"field\":\"year\"},\"y\":{\"field\":\"sale_price_sqr_foot\"}},\"id\":\"10973\",\"type\":\"Scatter\"},{\"attributes\":{},\"id\":\"16367\",\"type\":\"UnionRenderers\"},{\"attributes\":{},\"id\":\"10886\",\"type\":\"UnionRenderers\"},{\"attributes\":{},\"id\":\"11418\",\"type\":\"UnionRenderers\"},{\"attributes\":{\"data_source\":{\"id\":\"10889\"},\"glyph\":{\"id\":\"10892\"},\"hover_glyph\":null,\"muted_glyph\":{\"id\":\"10894\"},\"nonselection_glyph\":{\"id\":\"10893\"},\"selection_glyph\":null,\"view\":{\"id\":\"10896\"}},\"id\":\"10895\",\"type\":\"GlyphRenderer\"},{\"attributes\":{\"label\":{\"value\":\"South of Market\"},\"renderers\":[{\"id\":\"15375\"}]},\"id\":\"15505\",\"type\":\"LegendItem\"},{\"attributes\":{\"label\":{\"value\":\"West Portal\"},\"renderers\":[{\"id\":\"16376\"}]},\"id\":\"16520\",\"type\":\"LegendItem\"},{\"attributes\":{\"label\":{\"value\":\"Visitacion Valley\"},\"renderers\":[{\"id\":\"16227\"}]},\"id\":\"16369\",\"type\":\"LegendItem\"},{\"attributes\":{\"fill_alpha\":{\"value\":0.2},\"fill_color\":{\"value\":\"#9367bc\"},\"line_alpha\":{\"value\":0.2},\"line_color\":{\"value\":\"#9367bc\"},\"size\":{\"units\":\"screen\",\"value\":5.477225575051661},\"x\":{\"field\":\"year\"},\"y\":{\"field\":\"sale_price_sqr_foot\"}},\"id\":\"10870\",\"type\":\"Scatter\"},{\"attributes\":{\"fill_alpha\":{\"value\":0.2},\"fill_color\":{\"value\":\"#bcbc21\"},\"line_alpha\":{\"value\":0.2},\"line_color\":{\"value\":\"#bcbc21\"},\"size\":{\"units\":\"screen\",\"value\":5.477225575051661},\"x\":{\"field\":\"year\"},\"y\":{\"field\":\"sale_price_sqr_foot\"}},\"id\":\"10974\",\"type\":\"Scatter\"},{\"attributes\":{\"source\":{\"id\":\"15369\"}},\"id\":\"15376\",\"type\":\"CDSView\"},{\"attributes\":{\"data\":{\"neighborhood\":[\"Clarendon Heights\",\"Clarendon Heights\"],\"sale_price_sqr_foot\":{\"__ndarray__\":\"2UWezr5FgEAOtft9WFx8QA==\",\"dtype\":\"float64\",\"shape\":[2]},\"year\":[2011,2013]},\"selected\":{\"id\":\"10971\"},\"selection_policy\":{\"id\":\"11031\"}},\"id\":\"10970\",\"type\":\"ColumnDataSource\"},{\"attributes\":{\"label\":{\"value\":\"Jordan Park/Laurel Heights\"},\"renderers\":[{\"id\":\"12195\"}]},\"id\":\"12265\",\"type\":\"LegendItem\"},{\"attributes\":{\"fill_alpha\":{\"value\":0.2},\"fill_color\":{\"value\":\"#0fffa8\"},\"line_alpha\":{\"value\":0.2},\"line_color\":{\"value\":\"#0fffa8\"},\"size\":{\"units\":\"screen\",\"value\":5.477225575051661},\"x\":{\"field\":\"year\"},\"y\":{\"field\":\"sale_price_sqr_foot\"}},\"id\":\"11109\",\"type\":\"Scatter\"},{\"attributes\":{\"data_source\":{\"id\":\"10866\"},\"glyph\":{\"id\":\"10869\"},\"hover_glyph\":null,\"muted_glyph\":{\"id\":\"10871\"},\"nonselection_glyph\":{\"id\":\"10870\"},\"selection_glyph\":null,\"view\":{\"id\":\"10873\"}},\"id\":\"10872\",\"type\":\"GlyphRenderer\"},{\"attributes\":{\"source\":{\"id\":\"10866\"}},\"id\":\"10873\",\"type\":\"CDSView\"},{\"attributes\":{\"source\":{\"id\":\"11370\"}},\"id\":\"11377\",\"type\":\"CDSView\"},{\"attributes\":{\"fill_alpha\":{\"value\":0.2},\"fill_color\":{\"value\":\"#bcbc21\"},\"line_alpha\":{\"value\":0.2},\"line_color\":{\"value\":\"#bcbc21\"},\"size\":{\"units\":\"screen\",\"value\":5.477225575051661},\"x\":{\"field\":\"year\"},\"y\":{\"field\":\"sale_price_sqr_foot\"}},\"id\":\"10975\",\"type\":\"Scatter\"},{\"attributes\":{\"fill_alpha\":{\"value\":0.2},\"fill_color\":{\"value\":\"#00939e\"},\"line_alpha\":{\"value\":0.2},\"line_color\":{\"value\":\"#00939e\"},\"size\":{\"units\":\"screen\",\"value\":5.477225575051661},\"x\":{\"field\":\"year\"},\"y\":{\"field\":\"sale_price_sqr_foot\"}},\"id\":\"14975\",\"type\":\"Scatter\"},{\"attributes\":{\"data_source\":{\"id\":\"11106\"},\"glyph\":{\"id\":\"11109\"},\"hover_glyph\":null,\"muted_glyph\":{\"id\":\"11111\"},\"nonselection_glyph\":{\"id\":\"11110\"},\"selection_glyph\":null,\"view\":{\"id\":\"11113\"}},\"id\":\"11112\",\"type\":\"GlyphRenderer\"},{\"attributes\":{\"data\":{\"neighborhood\":[\"Inner Mission\",\"Inner Mission\",\"Inner Mission\",\"Inner Mission\",\"Inner Mission\",\"Inner Mission\",\"Inner Mission\"],\"sale_price_sqr_foot\":{\"__ndarray__\":\"SQH/XTPLbUAmcCOZzLJxQMpoihc3DXVAuDqzykmYd0BQk3hB0AJ9QEOIcpNpPntAxpU24Ck+hEA=\",\"dtype\":\"float64\",\"shape\":[7]},\"year\":[2010,2011,2012,2013,2014,2015,2016]},\"selected\":{\"id\":\"11902\"},\"selection_policy\":{\"id\":\"12038\"}},\"id\":\"11901\",\"type\":\"ColumnDataSource\"},{\"attributes\":{\"fill_alpha\":{\"value\":0.2},\"fill_color\":{\"value\":\"#00939e\"},\"line_alpha\":{\"value\":0.2},\"line_color\":{\"value\":\"#00939e\"},\"size\":{\"units\":\"screen\",\"value\":5.477225575051661},\"x\":{\"field\":\"year\"},\"y\":{\"field\":\"sale_price_sqr_foot\"}},\"id\":\"14973\",\"type\":\"Scatter\"},{\"attributes\":{\"fill_alpha\":{\"value\":0.2},\"fill_color\":{\"value\":\"#0fffa8\"},\"line_alpha\":{\"value\":0.2},\"line_color\":{\"value\":\"#0fffa8\"},\"size\":{\"units\":\"screen\",\"value\":5.477225575051661},\"x\":{\"field\":\"year\"},\"y\":{\"field\":\"sale_price_sqr_foot\"}},\"id\":\"11110\",\"type\":\"Scatter\"},{\"attributes\":{\"data\":{\"neighborhood\":[\"Jordan Park/Laurel Heights\",\"Jordan Park/Laurel Heights\",\"Jordan Park/Laurel Heights\",\"Jordan Park/Laurel Heights\",\"Jordan Park/Laurel Heights\",\"Jordan Park/Laurel Heights\",\"Jordan Park/Laurel Heights\"],\"sale_price_sqr_foot\":{\"__ndarray__\":\"uuY5ejQ+ekAnLEsgIhaDQE4svQVo8ndAEAzB95ZAgkAi628Elax6QPxXbMypA4JAUAesBogEhkA=\",\"dtype\":\"float64\",\"shape\":[7]},\"year\":[2010,2011,2012,2013,2014,2015,2016]},\"selected\":{\"id\":\"12190\"},\"selection_policy\":{\"id\":\"12342\"}},\"id\":\"12189\",\"type\":\"ColumnDataSource\"},{\"attributes\":{\"fill_alpha\":{\"value\":0.2},\"fill_color\":{\"value\":\"#2ba02b\"},\"line_alpha\":{\"value\":0.2},\"line_color\":{\"value\":\"#2ba02b\"},\"size\":{\"units\":\"screen\",\"value\":5.477225575051661},\"x\":{\"field\":\"year\"},\"y\":{\"field\":\"sale_price_sqr_foot\"}},\"id\":\"10829\",\"type\":\"Scatter\"},{\"attributes\":{\"data_source\":{\"id\":\"15369\"},\"glyph\":{\"id\":\"15372\"},\"hover_glyph\":null,\"muted_glyph\":{\"id\":\"15374\"},\"nonselection_glyph\":{\"id\":\"15373\"},\"selection_glyph\":null,\"view\":{\"id\":\"15376\"}},\"id\":\"15375\",\"type\":\"GlyphRenderer\"},{\"attributes\":{},\"id\":\"10998\",\"type\":\"UnionRenderers\"},{\"attributes\":{\"source\":{\"id\":\"14970\"}},\"id\":\"14977\",\"type\":\"CDSView\"},{\"attributes\":{},\"id\":\"11902\",\"type\":\"Selection\"},{\"attributes\":{\"fill_alpha\":{\"value\":0.2},\"fill_color\":{\"value\":\"#0fffa8\"},\"line_alpha\":{\"value\":0.2},\"line_color\":{\"value\":\"#0fffa8\"},\"size\":{\"units\":\"screen\",\"value\":5.477225575051661},\"x\":{\"field\":\"year\"},\"y\":{\"field\":\"sale_price_sqr_foot\"}},\"id\":\"11111\",\"type\":\"Scatter\"},{\"attributes\":{},\"id\":\"15098\",\"type\":\"UnionRenderers\"},{\"attributes\":{\"data\":{\"neighborhood\":[\"Bayview\",\"Bayview\",\"Bayview\",\"Bayview\",\"Bayview\"],\"sale_price_sqr_foot\":{\"__ndarray__\":\"PPRDRChDZUAQP5VJTJFlQFUKJLqJuWRAAC6QLcE4cEBWESlbrd5vQA==\",\"dtype\":\"float64\",\"shape\":[5]},\"year\":[2010,2011,2012,2013,2014]},\"selected\":{\"id\":\"10827\"},\"selection_policy\":{\"id\":\"10863\"}},\"id\":\"10826\",\"type\":\"ColumnDataSource\"},{\"attributes\":{\"label\":{\"value\":\"Bernal Heights \"},\"renderers\":[{\"id\":\"10872\"}]},\"id\":\"10888\",\"type\":\"LegendItem\"},{\"attributes\":{\"label\":{\"value\":\"Russian Hill\"},\"renderers\":[{\"id\":\"14976\"}]},\"id\":\"15100\",\"type\":\"LegendItem\"},{\"attributes\":{\"data\":{\"neighborhood\":[\"Croker Amazon\",\"Croker Amazon\",\"Croker Amazon\",\"Croker Amazon\",\"Croker Amazon\",\"Croker Amazon\"],\"sale_price_sqr_foot\":{\"__ndarray__\":\"4fEY0qm0ZED4BifkTjtiQGWBeAhy8XlAM4U057Tja0B+YXb65dlyQJU9LgKctYFA\",\"dtype\":\"float64\",\"shape\":[6]},\"year\":[2010,2011,2012,2013,2015,2016]},\"selected\":{\"id\":\"11070\"},\"selection_policy\":{\"id\":\"11142\"}},\"id\":\"11069\",\"type\":\"ColumnDataSource\"},{\"attributes\":{\"fill_alpha\":{\"value\":0.2},\"fill_color\":{\"value\":\"#8200a0\"},\"line_alpha\":{\"value\":0.2},\"line_color\":{\"value\":\"#8200a0\"},\"size\":{\"units\":\"screen\",\"value\":5.477225575051661},\"x\":{\"field\":\"year\"},\"y\":{\"field\":\"sale_price_sqr_foot\"}},\"id\":\"11906\",\"type\":\"Scatter\"},{\"attributes\":{},\"id\":\"17142\",\"type\":\"UnionRenderers\"},{\"attributes\":{\"data_source\":{\"id\":\"11901\"},\"glyph\":{\"id\":\"11904\"},\"hover_glyph\":null,\"muted_glyph\":{\"id\":\"11906\"},\"nonselection_glyph\":{\"id\":\"11905\"},\"selection_glyph\":null,\"view\":{\"id\":\"11908\"}},\"id\":\"11907\",\"type\":\"GlyphRenderer\"},{\"attributes\":{\"fill_alpha\":{\"value\":0.2},\"fill_color\":{\"value\":\"#9367bc\"},\"line_alpha\":{\"value\":0.2},\"line_color\":{\"value\":\"#9367bc\"},\"size\":{\"units\":\"screen\",\"value\":5.477225575051661},\"x\":{\"field\":\"year\"},\"y\":{\"field\":\"sale_price_sqr_foot\"}},\"id\":\"10871\",\"type\":\"Scatter\"},{\"attributes\":{},\"id\":\"16518\",\"type\":\"UnionRenderers\"},{\"attributes\":{\"source\":{\"id\":\"11901\"}},\"id\":\"11908\",\"type\":\"CDSView\"},{\"attributes\":{\"source\":{\"id\":\"16370\"}},\"id\":\"16377\",\"type\":\"CDSView\"},{\"attributes\":{\"fill_alpha\":{\"value\":0.2},\"fill_color\":{\"value\":\"#798cff\"},\"line_alpha\":{\"value\":0.2},\"line_color\":{\"value\":\"#798cff\"},\"size\":{\"units\":\"screen\",\"value\":5.477225575051661},\"x\":{\"field\":\"year\"},\"y\":{\"field\":\"sale_price_sqr_foot\"}},\"id\":\"12271\",\"type\":\"Scatter\"},{\"attributes\":{\"fill_alpha\":{\"value\":0.2},\"fill_color\":{\"value\":\"#520067\"},\"line_alpha\":{\"value\":0.2},\"line_color\":{\"value\":\"#520067\"},\"size\":{\"units\":\"screen\",\"value\":5.477225575051661},\"x\":{\"field\":\"year\"},\"y\":{\"field\":\"sale_price_sqr_foot\"}},\"id\":\"15373\",\"type\":\"Scatter\"},{\"attributes\":{},\"id\":\"11142\",\"type\":\"UnionRenderers\"},{\"attributes\":{\"fill_alpha\":{\"value\":0.2},\"fill_color\":{\"value\":\"#1f77b3\"},\"line_alpha\":{\"value\":0.2},\"line_color\":{\"value\":\"#1f77b3\"},\"size\":{\"units\":\"screen\",\"value\":5.477225575051661},\"x\":{\"field\":\"year\"},\"y\":{\"field\":\"sale_price_sqr_foot\"}},\"id\":\"10797\",\"type\":\"Scatter\"},{\"attributes\":{\"source\":{\"id\":\"16221\"}},\"id\":\"16228\",\"type\":\"CDSView\"},{\"attributes\":{},\"id\":\"15370\",\"type\":\"Selection\"},{\"attributes\":{\"fill_alpha\":{\"value\":0.2},\"fill_color\":{\"value\":\"#8200a0\"},\"line_alpha\":{\"value\":0.2},\"line_color\":{\"value\":\"#8200a0\"},\"size\":{\"units\":\"screen\",\"value\":5.477225575051661},\"x\":{\"field\":\"year\"},\"y\":{\"field\":\"sale_price_sqr_foot\"}},\"id\":\"11905\",\"type\":\"Scatter\"},{\"attributes\":{\"fill_alpha\":{\"value\":0.2},\"fill_color\":{\"value\":\"#8200a0\"},\"line_alpha\":{\"value\":0.2},\"line_color\":{\"value\":\"#8200a0\"},\"size\":{\"units\":\"screen\",\"value\":5.477225575051661},\"x\":{\"field\":\"year\"},\"y\":{\"field\":\"sale_price_sqr_foot\"}},\"id\":\"11904\",\"type\":\"Scatter\"},{\"attributes\":{\"data_source\":{\"id\":\"12681\"},\"glyph\":{\"id\":\"12684\"},\"hover_glyph\":null,\"muted_glyph\":{\"id\":\"12686\"},\"nonselection_glyph\":{\"id\":\"12685\"},\"selection_glyph\":null,\"view\":{\"id\":\"12688\"}},\"id\":\"12687\",\"type\":\"GlyphRenderer\"},{\"attributes\":{\"fill_alpha\":{\"value\":0.2},\"fill_color\":{\"value\":\"#6e8956\"},\"line_alpha\":{\"value\":0.2},\"line_color\":{\"value\":\"#6e8956\"},\"size\":{\"units\":\"screen\",\"value\":5.477225575051661},\"x\":{\"field\":\"year\"},\"y\":{\"field\":\"sale_price_sqr_foot\"}},\"id\":\"13664\",\"type\":\"Scatter\"},{\"attributes\":{\"data\":{\"neighborhood\":[\"South of Market\",\"South of Market\",\"South of Market\",\"South of Market\",\"South of Market\",\"South of Market\",\"South of Market\"],\"sale_price_sqr_foot\":{\"__ndarray__\":\"NvbXUbwUeUDj6aVLoB51QFu0jVj1/HxAwhgJqydNekC8oacCW3+RQCGjXgupaIZAeO0bSxeZgEA=\",\"dtype\":\"float64\",\"shape\":[7]},\"year\":[2010,2011,2012,2013,2014,2015,2016]},\"selected\":{\"id\":\"15370\"},\"selection_policy\":{\"id\":\"15642\"}},\"id\":\"15369\",\"type\":\"ColumnDataSource\"},{\"attributes\":{},\"id\":\"15102\",\"type\":\"Selection\"},{\"attributes\":{\"end\":2016.2571428571428,\"reset_end\":2016.2571428571428,\"reset_start\":2009.7428571428572,\"start\":2009.7428571428572,\"tags\":[[[\"year\",\"year\",null]]]},\"id\":\"10684\",\"type\":\"Range1d\"},{\"attributes\":{\"fill_alpha\":{\"value\":0.2},\"fill_color\":{\"value\":\"#004201\"},\"line_alpha\":{\"value\":0.2},\"line_color\":{\"value\":\"#004201\"},\"size\":{\"units\":\"screen\",\"value\":5.477225575051661},\"x\":{\"field\":\"year\"},\"y\":{\"field\":\"sale_price_sqr_foot\"}},\"id\":\"11073\",\"type\":\"Scatter\"},{\"attributes\":{},\"id\":\"11530\",\"type\":\"Selection\"},{\"attributes\":{\"data_source\":{\"id\":\"15101\"},\"glyph\":{\"id\":\"15104\"},\"hover_glyph\":null,\"muted_glyph\":{\"id\":\"15106\"},\"nonselection_glyph\":{\"id\":\"15105\"},\"selection_glyph\":null,\"view\":{\"id\":\"15108\"}},\"id\":\"15107\",\"type\":\"GlyphRenderer\"},{\"attributes\":{\"fill_alpha\":{\"value\":0.2},\"fill_color\":{\"value\":\"#bdc8cf\"},\"line_alpha\":{\"value\":0.2},\"line_color\":{\"value\":\"#bdc8cf\"},\"size\":{\"units\":\"screen\",\"value\":5.477225575051661},\"x\":{\"field\":\"year\"},\"y\":{\"field\":\"sale_price_sqr_foot\"}},\"id\":\"12774\",\"type\":\"Scatter\"},{\"attributes\":{},\"id\":\"13242\",\"type\":\"UnionRenderers\"},{\"attributes\":{\"fill_alpha\":{\"value\":0.2},\"fill_color\":{\"value\":\"#9300f2\"},\"line_alpha\":{\"value\":0.2},\"line_color\":{\"value\":\"#9300f2\"},\"size\":{\"units\":\"screen\",\"value\":5.477225575051661},\"x\":{\"field\":\"year\"},\"y\":{\"field\":\"sale_price_sqr_foot\"}},\"id\":\"14471\",\"type\":\"Scatter\"},{\"attributes\":{\"data_source\":{\"id\":\"12770\"},\"glyph\":{\"id\":\"12773\"},\"hover_glyph\":null,\"muted_glyph\":{\"id\":\"12775\"},\"nonselection_glyph\":{\"id\":\"12774\"},\"selection_glyph\":null,\"view\":{\"id\":\"12777\"}},\"id\":\"12776\",\"type\":\"GlyphRenderer\"},{\"attributes\":{\"fill_alpha\":{\"value\":0.2},\"fill_color\":{\"value\":\"#ffdb00\"},\"line_alpha\":{\"value\":0.2},\"line_color\":{\"value\":\"#ffdb00\"},\"size\":{\"units\":\"screen\",\"value\":5.477225575051661},\"x\":{\"field\":\"year\"},\"y\":{\"field\":\"sale_price_sqr_foot\"}},\"id\":\"15105\",\"type\":\"Scatter\"},{\"attributes\":{},\"id\":\"10846\",\"type\":\"Selection\"},{\"attributes\":{\"source\":{\"id\":\"10793\"}},\"id\":\"10800\",\"type\":\"CDSView\"},{\"attributes\":{\"fill_alpha\":{\"value\":0.2},\"fill_color\":{\"value\":\"#bdc8cf\"},\"line_alpha\":{\"value\":0.2},\"line_color\":{\"value\":\"#bdc8cf\"},\"size\":{\"units\":\"screen\",\"value\":5.477225575051661},\"x\":{\"field\":\"year\"},\"y\":{\"field\":\"sale_price_sqr_foot\"}},\"id\":\"12775\",\"type\":\"Scatter\"},{\"attributes\":{\"source\":{\"id\":\"11229\"}},\"id\":\"11236\",\"type\":\"CDSView\"},{\"attributes\":{\"fill_alpha\":{\"value\":0.2},\"fill_color\":{\"value\":\"#004d52\"},\"line_alpha\":{\"value\":0.2},\"line_color\":{\"value\":\"#004d52\"},\"size\":{\"units\":\"screen\",\"value\":5.477225575051661},\"x\":{\"field\":\"year\"},\"y\":{\"field\":\"sale_price_sqr_foot\"}},\"id\":\"11324\",\"type\":\"Scatter\"},{\"attributes\":{\"fill_alpha\":{\"value\":0.2},\"fill_color\":{\"value\":\"#bdc8cf\"},\"line_alpha\":{\"value\":0.2},\"line_color\":{\"value\":\"#bdc8cf\"},\"size\":{\"units\":\"screen\",\"value\":5.477225575051661},\"x\":{\"field\":\"year\"},\"y\":{\"field\":\"sale_price_sqr_foot\"}},\"id\":\"12773\",\"type\":\"Scatter\"},{\"attributes\":{\"fill_alpha\":{\"value\":0.2},\"fill_color\":{\"value\":\"#ffdb00\"},\"line_alpha\":{\"value\":0.2},\"line_color\":{\"value\":\"#ffdb00\"},\"size\":{\"units\":\"screen\",\"value\":5.477225575051661},\"x\":{\"field\":\"year\"},\"y\":{\"field\":\"sale_price_sqr_foot\"}},\"id\":\"15106\",\"type\":\"Scatter\"},{\"attributes\":{},\"id\":\"11271\",\"type\":\"UnionRenderers\"},{\"attributes\":{\"data_source\":{\"id\":\"12114\"},\"glyph\":{\"id\":\"12117\"},\"hover_glyph\":null,\"muted_glyph\":{\"id\":\"12119\"},\"nonselection_glyph\":{\"id\":\"12118\"},\"selection_glyph\":null,\"view\":{\"id\":\"12121\"}},\"id\":\"12120\",\"type\":\"GlyphRenderer\"},{\"attributes\":{\"fill_alpha\":{\"value\":0.2},\"fill_color\":{\"value\":\"#ffdb00\"},\"line_alpha\":{\"value\":0.2},\"line_color\":{\"value\":\"#ffdb00\"},\"size\":{\"units\":\"screen\",\"value\":5.477225575051661},\"x\":{\"field\":\"year\"},\"y\":{\"field\":\"sale_price_sqr_foot\"}},\"id\":\"15104\",\"type\":\"Scatter\"},{\"attributes\":{\"children\":[{\"id\":\"10683\"},{\"id\":\"10759\"},{\"id\":\"18361\"}],\"margin\":[0,0,0,0],\"name\":\"Row18555\",\"tags\":[\"embedded\"]},\"id\":\"10682\",\"type\":\"Row\"},{\"attributes\":{\"data_source\":{\"id\":\"11229\"},\"glyph\":{\"id\":\"11232\"},\"hover_glyph\":null,\"muted_glyph\":{\"id\":\"11234\"},\"nonselection_glyph\":{\"id\":\"11233\"},\"selection_glyph\":null,\"view\":{\"id\":\"11236\"}},\"id\":\"11235\",\"type\":\"GlyphRenderer\"},{\"attributes\":{\"click_policy\":\"mute\",\"items\":[{\"id\":\"10808\"},{\"id\":\"10825\"},{\"id\":\"10844\"},{\"id\":\"10865\"},{\"id\":\"10888\"},{\"id\":\"10913\"},{\"id\":\"10940\"},{\"id\":\"10969\"},{\"id\":\"11000\"},{\"id\":\"11033\"},{\"id\":\"11068\"},{\"id\":\"11105\"},{\"id\":\"11144\"},{\"id\":\"11185\"},{\"id\":\"11228\"},{\"id\":\"11273\"},{\"id\":\"11320\"},{\"id\":\"11369\"},{\"id\":\"11420\"},{\"id\":\"11473\"},{\"id\":\"11528\"},{\"id\":\"11585\"},{\"id\":\"11644\"},{\"id\":\"11705\"},{\"id\":\"11768\"},{\"id\":\"11833\"},{\"id\":\"11900\"},{\"id\":\"11969\"},{\"id\":\"12040\"},{\"id\":\"12113\"},{\"id\":\"12188\"},{\"id\":\"12265\"},{\"id\":\"12344\"},{\"id\":\"12425\"},{\"id\":\"12508\"},{\"id\":\"12593\"},{\"id\":\"12680\"},{\"id\":\"12769\"},{\"id\":\"12860\"},{\"id\":\"12953\"},{\"id\":\"13048\"},{\"id\":\"13145\"},{\"id\":\"13244\"},{\"id\":\"13345\"},{\"id\":\"13448\"},{\"id\":\"13553\"},{\"id\":\"13660\"},{\"id\":\"13769\"},{\"id\":\"13880\"},{\"id\":\"13993\"},{\"id\":\"14108\"},{\"id\":\"14225\"},{\"id\":\"14344\"},{\"id\":\"14465\"},{\"id\":\"14588\"},{\"id\":\"14713\"},{\"id\":\"14840\"},{\"id\":\"14969\"},{\"id\":\"15100\"},{\"id\":\"15233\"},{\"id\":\"15368\"},{\"id\":\"15505\"},{\"id\":\"15644\"},{\"id\":\"15785\"},{\"id\":\"15928\"},{\"id\":\"16073\"},{\"id\":\"16220\"},{\"id\":\"16369\"},{\"id\":\"16520\"},{\"id\":\"16673\"},{\"id\":\"16828\"},{\"id\":\"16985\"},{\"id\":\"17144\"}],\"location\":[0,0],\"title\":\"neighborhood\"},\"id\":\"10807\",\"type\":\"Legend\"},{\"attributes\":{\"source\":{\"id\":\"12770\"}},\"id\":\"12777\",\"type\":\"CDSView\"},{\"attributes\":{\"data\":{\"neighborhood\":[\"Sunnyside\",\"Sunnyside\",\"Sunnyside\",\"Sunnyside\",\"Sunnyside\",\"Sunnyside\"],\"sale_price_sqr_foot\":{\"__ndarray__\":\"f6R84kD0gECgDIH4oFJ7QPXbPGNbnX9AnvFbKErXfkARQeSF/3t7QNaZgMFjeYdA\",\"dtype\":\"float64\",\"shape\":[6]},\"year\":[2010,2011,2013,2014,2015,2016]},\"selected\":{\"id\":\"15507\"},\"selection_policy\":{\"id\":\"15783\"}},\"id\":\"15506\",\"type\":\"ColumnDataSource\"},{\"attributes\":{},\"id\":\"12186\",\"type\":\"UnionRenderers\"},{\"attributes\":{},\"id\":\"12858\",\"type\":\"UnionRenderers\"},{\"attributes\":{\"margin\":[5,5,5,5],\"name\":\"HSpacer18559\",\"sizing_mode\":\"stretch_width\"},\"id\":\"10683\",\"type\":\"Spacer\"},{\"attributes\":{\"fill_alpha\":{\"value\":0.2},\"fill_color\":{\"value\":\"#ffbff2\"},\"line_alpha\":{\"value\":0.2},\"line_color\":{\"value\":\"#ffbff2\"},\"size\":{\"units\":\"screen\",\"value\":5.477225575051661},\"x\":{\"field\":\"year\"},\"y\":{\"field\":\"sale_price_sqr_foot\"}},\"id\":\"12119\",\"type\":\"Scatter\"},{\"attributes\":{\"source\":{\"id\":\"15101\"}},\"id\":\"15108\",\"type\":\"CDSView\"},{\"attributes\":{\"label\":{\"value\":\"Park North\"},\"renderers\":[{\"id\":\"14232\"}]},\"id\":\"14344\",\"type\":\"LegendItem\"},{\"attributes\":{\"data\":{\"neighborhood\":[\"Midtown Terrace\",\"Midtown Terrace\"],\"sale_price_sqr_foot\":{\"__ndarray__\":\"u1cFrAbfeEDpu/UMp/iFQA==\",\"dtype\":\"float64\",\"shape\":[2]},\"year\":[2012,2013]},\"selected\":{\"id\":\"12682\"},\"selection_policy\":{\"id\":\"12858\"}},\"id\":\"12681\",\"type\":\"ColumnDataSource\"},{\"attributes\":{\"fill_alpha\":{\"value\":0.2},\"fill_color\":{\"value\":\"#ff9eb5\"},\"line_alpha\":{\"value\":0.2},\"line_color\":{\"value\":\"#ff9eb5\"},\"size\":{\"units\":\"screen\",\"value\":5.477225575051661},\"x\":{\"field\":\"year\"},\"y\":{\"field\":\"sale_price_sqr_foot\"}},\"id\":\"16226\",\"type\":\"Scatter\"},{\"attributes\":{\"label\":{\"value\":\"Union Square District\"},\"renderers\":[{\"id\":\"15935\"}]},\"id\":\"16073\",\"type\":\"LegendItem\"},{\"attributes\":{\"fill_alpha\":{\"value\":0.2},\"fill_color\":{\"value\":\"#d8afa1\"},\"line_alpha\":{\"value\":0.2},\"line_color\":{\"value\":\"#d8afa1\"},\"size\":{\"units\":\"screen\",\"value\":5.477225575051661},\"x\":{\"field\":\"year\"},\"y\":{\"field\":\"sale_price_sqr_foot\"}},\"id\":\"11233\",\"type\":\"Scatter\"},{\"attributes\":{},\"id\":\"10867\",\"type\":\"Selection\"},{\"attributes\":{\"fill_alpha\":{\"value\":0.2},\"fill_color\":{\"value\":\"#1f77b3\"},\"line_alpha\":{\"value\":0.2},\"line_color\":{\"value\":\"#1f77b3\"},\"size\":{\"units\":\"screen\",\"value\":5.477225575051661},\"x\":{\"field\":\"year\"},\"y\":{\"field\":\"sale_price_sqr_foot\"}},\"id\":\"10796\",\"type\":\"Scatter\"},{\"attributes\":{\"fill_alpha\":{\"value\":0.2},\"fill_color\":{\"value\":\"#004201\"},\"line_alpha\":{\"value\":0.2},\"line_color\":{\"value\":\"#004201\"},\"size\":{\"units\":\"screen\",\"value\":5.477225575051661},\"x\":{\"field\":\"year\"},\"y\":{\"field\":\"sale_price_sqr_foot\"}},\"id\":\"11072\",\"type\":\"Scatter\"},{\"attributes\":{\"data_source\":{\"id\":\"15929\"},\"glyph\":{\"id\":\"15932\"},\"hover_glyph\":null,\"muted_glyph\":{\"id\":\"15934\"},\"nonselection_glyph\":{\"id\":\"15933\"},\"selection_glyph\":null,\"view\":{\"id\":\"15936\"}},\"id\":\"15935\",\"type\":\"GlyphRenderer\"},{\"attributes\":{\"fill_alpha\":{\"value\":0.2},\"fill_color\":{\"value\":\"#004201\"},\"line_alpha\":{\"value\":0.2},\"line_color\":{\"value\":\"#004201\"},\"size\":{\"units\":\"screen\",\"value\":5.477225575051661},\"x\":{\"field\":\"year\"},\"y\":{\"field\":\"sale_price_sqr_foot\"}},\"id\":\"11074\",\"type\":\"Scatter\"},{\"attributes\":{\"data\":{\"neighborhood\":[\"Golden Gate Heights\",\"Golden Gate Heights\",\"Golden Gate Heights\",\"Golden Gate Heights\",\"Golden Gate Heights\"],\"sale_price_sqr_foot\":{\"__ndarray__\":\"XVj8sGg+gUAWhCYN4M51QNRj6RR54Y1AX0BnV7i6gUB+N3fjsyWIQA==\",\"dtype\":\"float64\",\"shape\":[5]},\"year\":[2010,2011,2013,2014,2015]},\"selected\":{\"id\":\"11530\"},\"selection_policy\":{\"id\":\"11642\"}},\"id\":\"11529\",\"type\":\"ColumnDataSource\"},{\"attributes\":{\"source\":{\"id\":\"13146\"}},\"id\":\"13153\",\"type\":\"CDSView\"},{\"attributes\":{\"fill_alpha\":{\"value\":0.2},\"fill_color\":{\"value\":\"#623b41\"},\"line_alpha\":{\"value\":0.2},\"line_color\":{\"value\":\"#623b41\"},\"size\":{\"units\":\"screen\",\"value\":5.477225575051661},\"x\":{\"field\":\"year\"},\"y\":{\"field\":\"sale_price_sqr_foot\"}},\"id\":\"15932\",\"type\":\"Scatter\"},{\"attributes\":{\"label\":{\"value\":\"Nob Hill\"},\"renderers\":[{\"id\":\"13152\"}]},\"id\":\"13244\",\"type\":\"LegendItem\"},{\"attributes\":{\"data\":{\"neighborhood\":[\"Anza Vista\",\"Anza Vista\",\"Anza Vista\",\"Anza Vista\",\"Anza Vista\",\"Anza Vista\"],\"sale_price_sqr_foot\":{\"__ndarray__\":\"G/PQ2+u+cEATzZrI2od1QB4UWK5yVXxAICUpAIhjg0D6+vr6+hp9QDOV91qyGVZA\",\"dtype\":\"float64\",\"shape\":[6]},\"year\":[2010,2012,2013,2014,2015,2016]},\"selected\":{\"id\":\"10810\"},\"selection_policy\":{\"id\":\"10842\"}},\"id\":\"10809\",\"type\":\"ColumnDataSource\"},{\"attributes\":{},\"id\":\"14342\",\"type\":\"UnionRenderers\"},{\"attributes\":{\"fill_alpha\":{\"value\":0.2},\"fill_color\":{\"value\":\"#cd87ff\"},\"line_alpha\":{\"value\":0.2},\"line_color\":{\"value\":\"#cd87ff\"},\"size\":{\"units\":\"screen\",\"value\":5.477225575051661},\"x\":{\"field\":\"year\"},\"y\":{\"field\":\"sale_price_sqr_foot\"}},\"id\":\"13149\",\"type\":\"Scatter\"},{\"attributes\":{\"fill_alpha\":{\"value\":0.2},\"fill_color\":{\"value\":\"#623b41\"},\"line_alpha\":{\"value\":0.2},\"line_color\":{\"value\":\"#623b41\"},\"size\":{\"units\":\"screen\",\"value\":5.477225575051661},\"x\":{\"field\":\"year\"},\"y\":{\"field\":\"sale_price_sqr_foot\"}},\"id\":\"15933\",\"type\":\"Scatter\"},{\"attributes\":{\"source\":{\"id\":\"12114\"}},\"id\":\"12121\",\"type\":\"CDSView\"},{\"attributes\":{\"data\":{\"neighborhood\":[\"Merced Heights\",\"Merced Heights\",\"Merced Heights\"],\"sale_price_sqr_foot\":{\"__ndarray__\":\"MB3PiUJSekCKg+70z4WAQKyqqqqqIpZA\",\"dtype\":\"float64\",\"shape\":[3]},\"year\":[2012,2014,2016]},\"selected\":{\"id\":\"12595\"},\"selection_policy\":{\"id\":\"12767\"}},\"id\":\"12594\",\"type\":\"ColumnDataSource\"},{\"attributes\":{\"fill_alpha\":{\"value\":0.2},\"fill_color\":{\"value\":\"#623b41\"},\"line_alpha\":{\"value\":0.2},\"line_color\":{\"value\":\"#623b41\"},\"size\":{\"units\":\"screen\",\"value\":5.477225575051661},\"x\":{\"field\":\"year\"},\"y\":{\"field\":\"sale_price_sqr_foot\"}},\"id\":\"15934\",\"type\":\"Scatter\"},{\"attributes\":{\"data\":{\"neighborhood\":[\"Bayview Heights\"],\"sale_price_sqr_foot\":{\"__ndarray__\":\"/m3ou1d2gkA=\",\"dtype\":\"float64\",\"shape\":[1]},\"year\":[2015]},\"selected\":{\"id\":\"10846\"},\"selection_policy\":{\"id\":\"10886\"}},\"id\":\"10845\",\"type\":\"ColumnDataSource\"},{\"attributes\":{\"fill_alpha\":{\"value\":0.2},\"fill_color\":{\"value\":\"#cd87ff\"},\"line_alpha\":{\"value\":0.2},\"line_color\":{\"value\":\"#cd87ff\"},\"size\":{\"units\":\"screen\",\"value\":5.477225575051661},\"x\":{\"field\":\"year\"},\"y\":{\"field\":\"sale_price_sqr_foot\"}},\"id\":\"13151\",\"type\":\"Scatter\"},{\"attributes\":{\"fill_alpha\":{\"value\":0.2},\"fill_color\":{\"value\":\"#cd87ff\"},\"line_alpha\":{\"value\":0.2},\"line_color\":{\"value\":\"#cd87ff\"},\"size\":{\"units\":\"screen\",\"value\":5.477225575051661},\"x\":{\"field\":\"year\"},\"y\":{\"field\":\"sale_price_sqr_foot\"}},\"id\":\"13150\",\"type\":\"Scatter\"},{\"attributes\":{},\"id\":\"12862\",\"type\":\"Selection\"},{\"attributes\":{\"data\":{\"neighborhood\":[\"Bernal Heights \",\"Bernal Heights \",\"Bernal Heights \",\"Bernal Heights \",\"Bernal Heights \",\"Bernal Heights \"],\"sale_price_sqr_foot\":{\"__ndarray__\":\"HjEmar9+fUAqyD7VQwR3QCfG9awtt4NAqiUgHGAEgUB/Ui+cEaB8QGwor6G81o5A\",\"dtype\":\"float64\",\"shape\":[6]},\"year\":[2011,2012,2013,2014,2015,2016]},\"selected\":{\"id\":\"10867\"},\"selection_policy\":{\"id\":\"10911\"}},\"id\":\"10866\",\"type\":\"ColumnDataSource\"},{\"attributes\":{\"source\":{\"id\":\"14226\"}},\"id\":\"14233\",\"type\":\"CDSView\"},{\"attributes\":{},\"id\":\"10810\",\"type\":\"Selection\"},{\"attributes\":{},\"id\":\"13147\",\"type\":\"Selection\"},{\"attributes\":{\"label\":{\"value\":\"Pacific Heights\"},\"renderers\":[{\"id\":\"14115\"}]},\"id\":\"14225\",\"type\":\"LegendItem\"},{\"attributes\":{\"fill_alpha\":{\"value\":0.2},\"fill_color\":{\"value\":\"#1f77b3\"},\"line_alpha\":{\"value\":0.2},\"line_color\":{\"value\":\"#1f77b3\"},\"size\":{\"units\":\"screen\",\"value\":5.477225575051661},\"x\":{\"field\":\"year\"},\"y\":{\"field\":\"sale_price_sqr_foot\"}},\"id\":\"10798\",\"type\":\"Scatter\"},{\"attributes\":{\"label\":{\"value\":\"Eureka Valley/Dolores Heights\"},\"renderers\":[{\"id\":\"11235\"}]},\"id\":\"11273\",\"type\":\"LegendItem\"},{\"attributes\":{},\"id\":\"10794\",\"type\":\"Selection\"},{\"attributes\":{\"fill_alpha\":{\"value\":0.2},\"fill_color\":{\"value\":\"#d8afa1\"},\"line_alpha\":{\"value\":0.2},\"line_color\":{\"value\":\"#d8afa1\"},\"size\":{\"units\":\"screen\",\"value\":5.477225575051661},\"x\":{\"field\":\"year\"},\"y\":{\"field\":\"sale_price_sqr_foot\"}},\"id\":\"11234\",\"type\":\"Scatter\"},{\"attributes\":{\"label\":{\"value\":\"Alamo Square\"},\"renderers\":[{\"id\":\"10799\"}]},\"id\":\"10808\",\"type\":\"LegendItem\"},{\"attributes\":{\"data_source\":{\"id\":\"10793\"},\"glyph\":{\"id\":\"10796\"},\"hover_glyph\":null,\"muted_glyph\":{\"id\":\"10798\"},\"nonselection_glyph\":{\"id\":\"10797\"},\"selection_glyph\":null,\"view\":{\"id\":\"10800\"}},\"id\":\"10799\",\"type\":\"GlyphRenderer\"},{\"attributes\":{\"data\":{\"neighborhood\":[\"Eureka Valley/Dolores Heights\",\"Eureka Valley/Dolores Heights\",\"Eureka Valley/Dolores Heights\",\"Eureka Valley/Dolores Heights\",\"Eureka Valley/Dolores Heights\",\"Eureka Valley/Dolores Heights\",\"Eureka Valley/Dolores Heights\"],\"sale_price_sqr_foot\":{\"__ndarray__\":\"TunNm+QxeUDoLWfYmtJ5QBwUV+GBZoBAWlX6So8Fg0CqdEN11seGQNdjWGVxsYhAgjgXGCoLkEA=\",\"dtype\":\"float64\",\"shape\":[7]},\"year\":[2010,2011,2012,2013,2014,2015,2016]},\"selected\":{\"id\":\"11230\"},\"selection_policy\":{\"id\":\"11318\"}},\"id\":\"11229\",\"type\":\"ColumnDataSource\"},{\"attributes\":{\"fill_alpha\":{\"value\":0.2},\"fill_color\":{\"value\":\"#d62628\"},\"line_alpha\":{\"value\":0.2},\"line_color\":{\"value\":\"#d62628\"},\"size\":{\"units\":\"screen\",\"value\":5.477225575051661},\"x\":{\"field\":\"year\"},\"y\":{\"field\":\"sale_price_sqr_foot\"}},\"id\":\"10848\",\"type\":\"Scatter\"},{\"attributes\":{},\"id\":\"16071\",\"type\":\"UnionRenderers\"},{\"attributes\":{\"data_source\":{\"id\":\"13146\"},\"glyph\":{\"id\":\"13149\"},\"hover_glyph\":null,\"muted_glyph\":{\"id\":\"13151\"},\"nonselection_glyph\":{\"id\":\"13150\"},\"selection_glyph\":null,\"view\":{\"id\":\"13153\"}},\"id\":\"13152\",\"type\":\"GlyphRenderer\"},{\"attributes\":{\"source\":{\"id\":\"15929\"}},\"id\":\"15936\",\"type\":\"CDSView\"},{\"attributes\":{\"fill_alpha\":{\"value\":0.2},\"fill_color\":{\"value\":\"#2ba02b\"},\"line_alpha\":{\"value\":0.2},\"line_color\":{\"value\":\"#2ba02b\"},\"size\":{\"units\":\"screen\",\"value\":5.477225575051661},\"x\":{\"field\":\"year\"},\"y\":{\"field\":\"sale_price_sqr_foot\"}},\"id\":\"10830\",\"type\":\"Scatter\"},{\"attributes\":{},\"id\":\"11230\",\"type\":\"Selection\"},{\"attributes\":{\"source\":{\"id\":\"10845\"}},\"id\":\"10852\",\"type\":\"CDSView\"},{\"attributes\":{},\"id\":\"13771\",\"type\":\"Selection\"},{\"attributes\":{\"data_source\":{\"id\":\"14589\"},\"glyph\":{\"id\":\"14592\"},\"hover_glyph\":null,\"muted_glyph\":{\"id\":\"14594\"},\"nonselection_glyph\":{\"id\":\"14593\"},\"selection_glyph\":null,\"view\":{\"id\":\"14596\"}},\"id\":\"14595\",\"type\":\"GlyphRenderer\"},{\"attributes\":{\"data_source\":{\"id\":\"13770\"},\"glyph\":{\"id\":\"13773\"},\"hover_glyph\":null,\"muted_glyph\":{\"id\":\"13775\"},\"nonselection_glyph\":{\"id\":\"13774\"},\"selection_glyph\":null,\"view\":{\"id\":\"13777\"}},\"id\":\"13776\",\"type\":\"GlyphRenderer\"},{\"attributes\":{\"fill_alpha\":{\"value\":0.2},\"fill_color\":{\"value\":\"#798cff\"},\"line_alpha\":{\"value\":0.2},\"line_color\":{\"value\":\"#798cff\"},\"size\":{\"units\":\"screen\",\"value\":5.477225575051661},\"x\":{\"field\":\"year\"},\"y\":{\"field\":\"sale_price_sqr_foot\"}},\"id\":\"12269\",\"type\":\"Scatter\"},{\"attributes\":{\"label\":{\"value\":\"Noe Valley\"},\"renderers\":[{\"id\":\"13251\"}]},\"id\":\"13345\",\"type\":\"LegendItem\"},{\"attributes\":{\"fill_alpha\":{\"value\":0.2},\"fill_color\":{\"value\":\"#bc7c75\"},\"line_alpha\":{\"value\":0.2},\"line_color\":{\"value\":\"#bc7c75\"},\"size\":{\"units\":\"screen\",\"value\":5.477225575051661},\"x\":{\"field\":\"year\"},\"y\":{\"field\":\"sale_price_sqr_foot\"}},\"id\":\"13774\",\"type\":\"Scatter\"},{\"attributes\":{\"label\":{\"value\":\"Sunnyside\"},\"renderers\":[{\"id\":\"15512\"}]},\"id\":\"15644\",\"type\":\"LegendItem\"},{\"attributes\":{},\"id\":\"10863\",\"type\":\"UnionRenderers\"},{\"attributes\":{\"source\":{\"id\":\"14589\"}},\"id\":\"14596\",\"type\":\"CDSView\"},{\"attributes\":{\"data\":{\"neighborhood\":[\"Yerba Buena\",\"Yerba Buena\",\"Yerba Buena\",\"Yerba Buena\",\"Yerba Buena\",\"Yerba Buena\"],\"sale_price_sqr_foot\":{\"__ndarray__\":\"2hECRAfSdEB3bevKxG17QBDwDygGvX5AZqvdXxeIh0Ae7tWsx/59QOv8I0wuHI5A\",\"dtype\":\"float64\",\"shape\":[6]},\"year\":[2010,2011,2012,2013,2014,2015]},\"selected\":{\"id\":\"16987\"},\"selection_policy\":{\"id\":\"17295\"}},\"id\":\"16986\",\"type\":\"ColumnDataSource\"},{\"attributes\":{\"label\":{\"value\":\"Croker Amazon\"},\"renderers\":[{\"id\":\"11075\"}]},\"id\":\"11105\",\"type\":\"LegendItem\"},{\"attributes\":{\"label\":{\"value\":\"Parnassus/Ashbury Heights\"},\"renderers\":[{\"id\":\"14472\"}]},\"id\":\"14588\",\"type\":\"LegendItem\"},{\"attributes\":{\"fill_alpha\":{\"value\":0.2},\"fill_color\":{\"value\":\"#bc7c75\"},\"line_alpha\":{\"value\":0.2},\"line_color\":{\"value\":\"#bc7c75\"},\"size\":{\"units\":\"screen\",\"value\":5.477225575051661},\"x\":{\"field\":\"year\"},\"y\":{\"field\":\"sale_price_sqr_foot\"}},\"id\":\"13775\",\"type\":\"Scatter\"},{\"attributes\":{\"fill_alpha\":{\"value\":0.2},\"fill_color\":{\"value\":\"#90ff00\"},\"line_alpha\":{\"value\":0.2},\"line_color\":{\"value\":\"#90ff00\"},\"size\":{\"units\":\"screen\",\"value\":5.477225575051661},\"x\":{\"field\":\"year\"},\"y\":{\"field\":\"sale_price_sqr_foot\"}},\"id\":\"11838\",\"type\":\"Scatter\"},{\"attributes\":{\"fill_alpha\":{\"value\":0.2},\"fill_color\":{\"value\":\"#017000\"},\"line_alpha\":{\"value\":0.2},\"line_color\":{\"value\":\"#017000\"},\"size\":{\"units\":\"screen\",\"value\":5.477225575051661},\"x\":{\"field\":\"year\"},\"y\":{\"field\":\"sale_price_sqr_foot\"}},\"id\":\"13052\",\"type\":\"Scatter\"},{\"attributes\":{\"label\":{\"value\":\"Bayview Heights\"},\"renderers\":[{\"id\":\"10851\"}]},\"id\":\"10865\",\"type\":\"LegendItem\"},{\"attributes\":{},\"id\":\"15646\",\"type\":\"Selection\"},{\"attributes\":{},\"id\":\"16987\",\"type\":\"Selection\"},{\"attributes\":{\"fill_alpha\":{\"value\":0.2},\"fill_color\":{\"value\":\"#bc7c75\"},\"line_alpha\":{\"value\":0.2},\"line_color\":{\"value\":\"#bc7c75\"},\"size\":{\"units\":\"screen\",\"value\":5.477225575051661},\"x\":{\"field\":\"year\"},\"y\":{\"field\":\"sale_price_sqr_foot\"}},\"id\":\"13773\",\"type\":\"Scatter\"},{\"attributes\":{\"data\":{\"neighborhood\":[\"North Waterfront\",\"North Waterfront\",\"North Waterfront\",\"North Waterfront\",\"North Waterfront\"],\"sale_price_sqr_foot\":{\"__ndarray__\":\"vxNT6WCvdUByVgFHJGZ4QBwxImuzMn5A+QsZSM6+d0DjisnYRteLQA==\",\"dtype\":\"float64\",\"shape\":[5]},\"year\":[2011,2012,2013,2014,2015]},\"selected\":{\"id\":\"13450\"},\"selection_policy\":{\"id\":\"13658\"}},\"id\":\"13449\",\"type\":\"ColumnDataSource\"},{\"attributes\":{\"fill_alpha\":{\"value\":0.2},\"fill_color\":{\"value\":\"#798cff\"},\"line_alpha\":{\"value\":0.2},\"line_color\":{\"value\":\"#798cff\"},\"size\":{\"units\":\"screen\",\"value\":5.477225575051661},\"x\":{\"field\":\"year\"},\"y\":{\"field\":\"sale_price_sqr_foot\"}},\"id\":\"12270\",\"type\":\"Scatter\"},{\"attributes\":{\"label\":{\"value\":\"Miraloma Park\"},\"renderers\":[{\"id\":\"12776\"}]},\"id\":\"12860\",\"type\":\"LegendItem\"},{\"attributes\":{\"data_source\":{\"id\":\"16986\"},\"glyph\":{\"id\":\"16989\"},\"hover_glyph\":null,\"muted_glyph\":{\"id\":\"16991\"},\"nonselection_glyph\":{\"id\":\"16990\"},\"selection_glyph\":null,\"view\":{\"id\":\"16993\"}},\"id\":\"16992\",\"type\":\"GlyphRenderer\"},{\"attributes\":{\"data\":{\"neighborhood\":[\"Marina\",\"Marina\",\"Marina\",\"Marina\",\"Marina\",\"Marina\",\"Marina\"],\"sale_price_sqr_foot\":{\"__ndarray__\":\"Ux8MEkk2eECye+dyGG14QJQFBghx03tArN/UlpV5hEDmyxE0tRaEQI2iC3VZs5FA5fACFx3/ekA=\",\"dtype\":\"float64\",\"shape\":[7]},\"year\":[2010,2011,2012,2013,2014,2015,2016]},\"selected\":{\"id\":\"12510\"},\"selection_policy\":{\"id\":\"12678\"}},\"id\":\"12509\",\"type\":\"ColumnDataSource\"},{\"attributes\":{\"source\":{\"id\":\"13770\"}},\"id\":\"13777\",\"type\":\"CDSView\"},{\"attributes\":{\"source\":{\"id\":\"15506\"}},\"id\":\"15513\",\"type\":\"CDSView\"},{\"attributes\":{\"data\":{\"neighborhood\":[\"Oceanview\",\"Oceanview\",\"Oceanview\"],\"sale_price_sqr_foot\":{\"__ndarray__\":\"jJidK+qhcUAVBUTs4aN7QP1nwZHgnnBA\",\"dtype\":\"float64\",\"shape\":[3]},\"year\":[2010,2012,2015]},\"selected\":{\"id\":\"13555\"},\"selection_policy\":{\"id\":\"13767\"}},\"id\":\"13554\",\"type\":\"ColumnDataSource\"},{\"attributes\":{\"fill_alpha\":{\"value\":0.2},\"fill_color\":{\"value\":\"#ff4901\"},\"line_alpha\":{\"value\":0.2},\"line_color\":{\"value\":\"#ff4901\"},\"size\":{\"units\":\"screen\",\"value\":5.477225575051661},\"x\":{\"field\":\"year\"},\"y\":{\"field\":\"sale_price_sqr_foot\"}},\"id\":\"16990\",\"type\":\"Scatter\"},{\"attributes\":{},\"id\":\"13555\",\"type\":\"Selection\"},{\"attributes\":{},\"id\":\"13878\",\"type\":\"UnionRenderers\"},{\"attributes\":{\"data_source\":{\"id\":\"13449\"},\"glyph\":{\"id\":\"13452\"},\"hover_glyph\":null,\"muted_glyph\":{\"id\":\"13454\"},\"nonselection_glyph\":{\"id\":\"13453\"},\"selection_glyph\":null,\"view\":{\"id\":\"13456\"}},\"id\":\"13455\",\"type\":\"GlyphRenderer\"},{\"attributes\":{\"fill_alpha\":{\"value\":0.2},\"fill_color\":{\"value\":\"#505646\"},\"line_alpha\":{\"value\":0.2},\"line_color\":{\"value\":\"#505646\"},\"size\":{\"units\":\"screen\",\"value\":5.477225575051661},\"x\":{\"field\":\"year\"},\"y\":{\"field\":\"sale_price_sqr_foot\"}},\"id\":\"12429\",\"type\":\"Scatter\"},{\"attributes\":{\"label\":{\"value\":\"Outer Parkside\"},\"renderers\":[{\"id\":\"13776\"}]},\"id\":\"13880\",\"type\":\"LegendItem\"},{\"attributes\":{},\"id\":\"12510\",\"type\":\"Selection\"},{\"attributes\":{\"fill_alpha\":{\"value\":0.2},\"fill_color\":{\"value\":\"#af97b5\"},\"line_alpha\":{\"value\":0.2},\"line_color\":{\"value\":\"#af97b5\"},\"size\":{\"units\":\"screen\",\"value\":5.477225575051661},\"x\":{\"field\":\"year\"},\"y\":{\"field\":\"sale_price_sqr_foot\"}},\"id\":\"12865\",\"type\":\"Scatter\"},{\"attributes\":{\"fill_alpha\":{\"value\":0.2},\"fill_color\":{\"value\":\"#4b6d77\"},\"line_alpha\":{\"value\":0.2},\"line_color\":{\"value\":\"#4b6d77\"},\"size\":{\"units\":\"screen\",\"value\":5.477225575051661},\"x\":{\"field\":\"year\"},\"y\":{\"field\":\"sale_price_sqr_foot\"}},\"id\":\"14231\",\"type\":\"Scatter\"},{\"attributes\":{\"fill_alpha\":{\"value\":0.2},\"fill_color\":{\"value\":\"#ff4901\"},\"line_alpha\":{\"value\":0.2},\"line_color\":{\"value\":\"#ff4901\"},\"size\":{\"units\":\"screen\",\"value\":5.477225575051661},\"x\":{\"field\":\"year\"},\"y\":{\"field\":\"sale_price_sqr_foot\"}},\"id\":\"16991\",\"type\":\"Scatter\"},{\"attributes\":{},\"id\":\"13450\",\"type\":\"Selection\"},{\"attributes\":{},\"id\":\"16826\",\"type\":\"UnionRenderers\"},{\"attributes\":{\"data_source\":{\"id\":\"12509\"},\"glyph\":{\"id\":\"12512\"},\"hover_glyph\":null,\"muted_glyph\":{\"id\":\"12514\"},\"nonselection_glyph\":{\"id\":\"12513\"},\"selection_glyph\":null,\"view\":{\"id\":\"12516\"}},\"id\":\"12515\",\"type\":\"GlyphRenderer\"},{\"attributes\":{\"data_source\":{\"id\":\"13554\"},\"glyph\":{\"id\":\"13557\"},\"hover_glyph\":null,\"muted_glyph\":{\"id\":\"13559\"},\"nonselection_glyph\":{\"id\":\"13558\"},\"selection_glyph\":null,\"view\":{\"id\":\"13561\"}},\"id\":\"13560\",\"type\":\"GlyphRenderer\"},{\"attributes\":{\"label\":{\"value\":\"Bayview\"},\"renderers\":[{\"id\":\"10832\"}]},\"id\":\"10844\",\"type\":\"LegendItem\"},{\"attributes\":{\"label\":{\"value\":\"Portola\"},\"renderers\":[{\"id\":\"14595\"}]},\"id\":\"14713\",\"type\":\"LegendItem\"},{\"attributes\":{\"data_source\":{\"id\":\"11069\"},\"glyph\":{\"id\":\"11072\"},\"hover_glyph\":null,\"muted_glyph\":{\"id\":\"11074\"},\"nonselection_glyph\":{\"id\":\"11073\"},\"selection_glyph\":null,\"view\":{\"id\":\"11076\"}},\"id\":\"11075\",\"type\":\"GlyphRenderer\"},{\"attributes\":{\"fill_alpha\":{\"value\":0.2},\"fill_color\":{\"value\":\"#cd4f6b\"},\"line_alpha\":{\"value\":0.2},\"line_color\":{\"value\":\"#cd4f6b\"},\"size\":{\"units\":\"screen\",\"value\":5.477225575051661},\"x\":{\"field\":\"year\"},\"y\":{\"field\":\"sale_price_sqr_foot\"}},\"id\":\"16375\",\"type\":\"Scatter\"},{\"attributes\":{\"fill_alpha\":{\"value\":0.2},\"fill_color\":{\"value\":\"#ff4901\"},\"line_alpha\":{\"value\":0.2},\"line_color\":{\"value\":\"#ff4901\"},\"size\":{\"units\":\"screen\",\"value\":5.477225575051661},\"x\":{\"field\":\"year\"},\"y\":{\"field\":\"sale_price_sqr_foot\"}},\"id\":\"16989\",\"type\":\"Scatter\"},{\"attributes\":{\"label\":{\"value\":\"Outer Richmond \"},\"renderers\":[{\"id\":\"13887\"}]},\"id\":\"13993\",\"type\":\"LegendItem\"},{\"attributes\":{\"fill_alpha\":{\"value\":0.2},\"fill_color\":{\"value\":\"#004489\"},\"line_alpha\":{\"value\":0.2},\"line_color\":{\"value\":\"#004489\"},\"size\":{\"units\":\"screen\",\"value\":5.477225575051661},\"x\":{\"field\":\"year\"},\"y\":{\"field\":\"sale_price_sqr_foot\"}},\"id\":\"12513\",\"type\":\"Scatter\"},{\"attributes\":{\"fill_alpha\":{\"value\":0.2},\"fill_color\":{\"value\":\"#a56089\"},\"line_alpha\":{\"value\":0.2},\"line_color\":{\"value\":\"#a56089\"},\"size\":{\"units\":\"screen\",\"value\":5.477225575051661},\"x\":{\"field\":\"year\"},\"y\":{\"field\":\"sale_price_sqr_foot\"}},\"id\":\"13558\",\"type\":\"Scatter\"},{\"attributes\":{},\"id\":\"14227\",\"type\":\"Selection\"},{\"attributes\":{\"data_source\":{\"id\":\"13881\"},\"glyph\":{\"id\":\"13884\"},\"hover_glyph\":null,\"muted_glyph\":{\"id\":\"13886\"},\"nonselection_glyph\":{\"id\":\"13885\"},\"selection_glyph\":null,\"view\":{\"id\":\"13888\"}},\"id\":\"13887\",\"type\":\"GlyphRenderer\"},{\"attributes\":{\"fill_alpha\":{\"value\":0.2},\"fill_color\":{\"value\":\"#90ff00\"},\"line_alpha\":{\"value\":0.2},\"line_color\":{\"value\":\"#90ff00\"},\"size\":{\"units\":\"screen\",\"value\":5.477225575051661},\"x\":{\"field\":\"year\"},\"y\":{\"field\":\"sale_price_sqr_foot\"}},\"id\":\"11839\",\"type\":\"Scatter\"},{\"attributes\":{\"data\":{\"neighborhood\":[\"Outer Mission\",\"Outer Mission\",\"Outer Mission\",\"Outer Mission\"],\"sale_price_sqr_foot\":{\"__ndarray__\":\"VAHB6Y/EYUDRheJJMrxrQMNZqfN/pYFAch01Y+ViREA=\",\"dtype\":\"float64\",\"shape\":[4]},\"year\":[2011,2012,2015,2016]},\"selected\":{\"id\":\"13662\"},\"selection_policy\":{\"id\":\"13878\"}},\"id\":\"13661\",\"type\":\"ColumnDataSource\"},{\"attributes\":{\"source\":{\"id\":\"16986\"}},\"id\":\"16993\",\"type\":\"CDSView\"},{\"attributes\":{\"label\":{\"value\":\"Telegraph Hill\"},\"renderers\":[{\"id\":\"15651\"}]},\"id\":\"15785\",\"type\":\"LegendItem\"},{\"attributes\":{},\"id\":\"15642\",\"type\":\"UnionRenderers\"},{\"attributes\":{\"fill_alpha\":{\"value\":0.2},\"fill_color\":{\"value\":\"#004489\"},\"line_alpha\":{\"value\":0.2},\"line_color\":{\"value\":\"#004489\"},\"size\":{\"units\":\"screen\",\"value\":5.477225575051661},\"x\":{\"field\":\"year\"},\"y\":{\"field\":\"sale_price_sqr_foot\"}},\"id\":\"12514\",\"type\":\"Scatter\"},{\"attributes\":{\"fill_alpha\":{\"value\":0.2},\"fill_color\":{\"value\":\"#a56089\"},\"line_alpha\":{\"value\":0.2},\"line_color\":{\"value\":\"#a56089\"},\"size\":{\"units\":\"screen\",\"value\":5.477225575051661},\"x\":{\"field\":\"year\"},\"y\":{\"field\":\"sale_price_sqr_foot\"}},\"id\":\"13559\",\"type\":\"Scatter\"},{\"attributes\":{\"fill_alpha\":{\"value\":0.2},\"fill_color\":{\"value\":\"#8a9500\"},\"line_alpha\":{\"value\":0.2},\"line_color\":{\"value\":\"#8a9500\"},\"size\":{\"units\":\"screen\",\"value\":5.477225575051661},\"x\":{\"field\":\"year\"},\"y\":{\"field\":\"sale_price_sqr_foot\"}},\"id\":\"14594\",\"type\":\"Scatter\"},{\"attributes\":{\"fill_alpha\":{\"value\":0.2},\"fill_color\":{\"value\":\"#8a3a05\"},\"line_alpha\":{\"value\":0.2},\"line_color\":{\"value\":\"#8a3a05\"},\"size\":{\"units\":\"screen\",\"value\":5.477225575051661},\"x\":{\"field\":\"year\"},\"y\":{\"field\":\"sale_price_sqr_foot\"}},\"id\":\"16679\",\"type\":\"Scatter\"},{\"attributes\":{\"fill_alpha\":{\"value\":0.2},\"fill_color\":{\"value\":\"#004489\"},\"line_alpha\":{\"value\":0.2},\"line_color\":{\"value\":\"#004489\"},\"size\":{\"units\":\"screen\",\"value\":5.477225575051661},\"x\":{\"field\":\"year\"},\"y\":{\"field\":\"sale_price_sqr_foot\"}},\"id\":\"12512\",\"type\":\"Scatter\"},{\"attributes\":{\"fill_alpha\":{\"value\":0.2},\"fill_color\":{\"value\":\"#a56089\"},\"line_alpha\":{\"value\":0.2},\"line_color\":{\"value\":\"#a56089\"},\"size\":{\"units\":\"screen\",\"value\":5.477225575051661},\"x\":{\"field\":\"year\"},\"y\":{\"field\":\"sale_price_sqr_foot\"}},\"id\":\"13557\",\"type\":\"Scatter\"},{\"attributes\":{\"data_source\":{\"id\":\"10845\"},\"glyph\":{\"id\":\"10848\"},\"hover_glyph\":null,\"muted_glyph\":{\"id\":\"10850\"},\"nonselection_glyph\":{\"id\":\"10849\"},\"selection_glyph\":null,\"view\":{\"id\":\"10852\"}},\"id\":\"10851\",\"type\":\"GlyphRenderer\"},{\"attributes\":{\"source\":{\"id\":\"11069\"}},\"id\":\"11076\",\"type\":\"CDSView\"},{\"attributes\":{\"fill_alpha\":{\"value\":0.2},\"fill_color\":{\"value\":\"#8a3a05\"},\"line_alpha\":{\"value\":0.2},\"line_color\":{\"value\":\"#8a3a05\"},\"size\":{\"units\":\"screen\",\"value\":5.477225575051661},\"x\":{\"field\":\"year\"},\"y\":{\"field\":\"sale_price_sqr_foot\"}},\"id\":\"16678\",\"type\":\"Scatter\"},{\"attributes\":{},\"id\":\"12591\",\"type\":\"UnionRenderers\"},{\"attributes\":{\"source\":{\"id\":\"12509\"}},\"id\":\"12516\",\"type\":\"CDSView\"},{\"attributes\":{\"source\":{\"id\":\"13554\"}},\"id\":\"13561\",\"type\":\"CDSView\"},{\"attributes\":{\"source\":{\"id\":\"16674\"}},\"id\":\"16681\",\"type\":\"CDSView\"},{\"attributes\":{\"data_source\":{\"id\":\"14226\"},\"glyph\":{\"id\":\"14229\"},\"hover_glyph\":null,\"muted_glyph\":{\"id\":\"14231\"},\"nonselection_glyph\":{\"id\":\"14230\"},\"selection_glyph\":null,\"view\":{\"id\":\"14233\"}},\"id\":\"14232\",\"type\":\"GlyphRenderer\"},{\"attributes\":{},\"id\":\"12423\",\"type\":\"UnionRenderers\"},{\"attributes\":{\"label\":{\"value\":\"Marina\"},\"renderers\":[{\"id\":\"12515\"}]},\"id\":\"12593\",\"type\":\"LegendItem\"},{\"attributes\":{\"data_source\":{\"id\":\"16674\"},\"glyph\":{\"id\":\"16677\"},\"hover_glyph\":null,\"muted_glyph\":{\"id\":\"16679\"},\"nonselection_glyph\":{\"id\":\"16678\"},\"selection_glyph\":null,\"view\":{\"id\":\"16681\"}},\"id\":\"16680\",\"type\":\"GlyphRenderer\"},{\"attributes\":{\"fill_alpha\":{\"value\":0.2},\"fill_color\":{\"value\":\"#cd4f6b\"},\"line_alpha\":{\"value\":0.2},\"line_color\":{\"value\":\"#cd4f6b\"},\"size\":{\"units\":\"screen\",\"value\":5.477225575051661},\"x\":{\"field\":\"year\"},\"y\":{\"field\":\"sale_price_sqr_foot\"}},\"id\":\"16374\",\"type\":\"Scatter\"},{\"attributes\":{\"source\":{\"id\":\"12861\"}},\"id\":\"12868\",\"type\":\"CDSView\"},{\"attributes\":{\"fill_alpha\":{\"value\":0.2},\"fill_color\":{\"value\":\"#0a5d3d\"},\"line_alpha\":{\"value\":0.2},\"line_color\":{\"value\":\"#0a5d3d\"},\"size\":{\"units\":\"screen\",\"value\":5.477225575051661},\"x\":{\"field\":\"year\"},\"y\":{\"field\":\"sale_price_sqr_foot\"}},\"id\":\"15648\",\"type\":\"Scatter\"},{\"attributes\":{\"fill_alpha\":{\"value\":0.2},\"fill_color\":{\"value\":\"#af97b5\"},\"line_alpha\":{\"value\":0.2},\"line_color\":{\"value\":\"#af97b5\"},\"size\":{\"units\":\"screen\",\"value\":5.477225575051661},\"x\":{\"field\":\"year\"},\"y\":{\"field\":\"sale_price_sqr_foot\"}},\"id\":\"12864\",\"type\":\"Scatter\"},{\"attributes\":{},\"id\":\"14711\",\"type\":\"UnionRenderers\"},{\"attributes\":{\"fill_alpha\":{\"value\":0.2},\"fill_color\":{\"value\":\"#8a2844\"},\"line_alpha\":{\"value\":0.2},\"line_color\":{\"value\":\"#8a2844\"},\"size\":{\"units\":\"screen\",\"value\":5.477225575051661},\"x\":{\"field\":\"year\"},\"y\":{\"field\":\"sale_price_sqr_foot\"}},\"id\":\"13885\",\"type\":\"Scatter\"},{\"attributes\":{\"data_source\":{\"id\":\"16370\"},\"glyph\":{\"id\":\"16373\"},\"hover_glyph\":null,\"muted_glyph\":{\"id\":\"16375\"},\"nonselection_glyph\":{\"id\":\"16374\"},\"selection_glyph\":null,\"view\":{\"id\":\"16377\"}},\"id\":\"16376\",\"type\":\"GlyphRenderer\"},{\"attributes\":{\"fill_alpha\":{\"value\":0.2},\"fill_color\":{\"value\":\"#af97b5\"},\"line_alpha\":{\"value\":0.2},\"line_color\":{\"value\":\"#af97b5\"},\"size\":{\"units\":\"screen\",\"value\":5.477225575051661},\"x\":{\"field\":\"year\"},\"y\":{\"field\":\"sale_price_sqr_foot\"}},\"id\":\"12866\",\"type\":\"Scatter\"},{\"attributes\":{},\"id\":\"12951\",\"type\":\"UnionRenderers\"},{\"attributes\":{\"fill_alpha\":{\"value\":0.2},\"fill_color\":{\"value\":\"#5d003f\"},\"line_alpha\":{\"value\":0.2},\"line_color\":{\"value\":\"#5d003f\"},\"size\":{\"units\":\"screen\",\"value\":5.477225575051661},\"x\":{\"field\":\"year\"},\"y\":{\"field\":\"sale_price_sqr_foot\"}},\"id\":\"11148\",\"type\":\"Scatter\"},{\"attributes\":{\"fill_alpha\":{\"value\":0.2},\"fill_color\":{\"value\":\"#8a2844\"},\"line_alpha\":{\"value\":0.2},\"line_color\":{\"value\":\"#8a2844\"},\"size\":{\"units\":\"screen\",\"value\":5.477225575051661},\"x\":{\"field\":\"year\"},\"y\":{\"field\":\"sale_price_sqr_foot\"}},\"id\":\"13884\",\"type\":\"Scatter\"},{\"attributes\":{\"data_source\":{\"id\":\"11834\"},\"glyph\":{\"id\":\"11837\"},\"hover_glyph\":null,\"muted_glyph\":{\"id\":\"11839\"},\"nonselection_glyph\":{\"id\":\"11838\"},\"selection_glyph\":null,\"view\":{\"id\":\"11841\"}},\"id\":\"11840\",\"type\":\"GlyphRenderer\"},{\"attributes\":{\"source\":{\"id\":\"13881\"}},\"id\":\"13888\",\"type\":\"CDSView\"},{\"attributes\":{\"fill_alpha\":{\"value\":0.2},\"fill_color\":{\"value\":\"#8a3a05\"},\"line_alpha\":{\"value\":0.2},\"line_color\":{\"value\":\"#8a3a05\"},\"size\":{\"units\":\"screen\",\"value\":5.477225575051661},\"x\":{\"field\":\"year\"},\"y\":{\"field\":\"sale_price_sqr_foot\"}},\"id\":\"16677\",\"type\":\"Scatter\"},{\"attributes\":{\"fill_alpha\":{\"value\":0.2},\"fill_color\":{\"value\":\"#4b6d77\"},\"line_alpha\":{\"value\":0.2},\"line_color\":{\"value\":\"#4b6d77\"},\"size\":{\"units\":\"screen\",\"value\":5.477225575051661},\"x\":{\"field\":\"year\"},\"y\":{\"field\":\"sale_price_sqr_foot\"}},\"id\":\"14229\",\"type\":\"Scatter\"},{\"attributes\":{},\"id\":\"13991\",\"type\":\"UnionRenderers\"},{\"attributes\":{\"fill_alpha\":{\"value\":0.2},\"fill_color\":{\"value\":\"#4b6d77\"},\"line_alpha\":{\"value\":0.2},\"line_color\":{\"value\":\"#4b6d77\"},\"size\":{\"units\":\"screen\",\"value\":5.477225575051661},\"x\":{\"field\":\"year\"},\"y\":{\"field\":\"sale_price_sqr_foot\"}},\"id\":\"14230\",\"type\":\"Scatter\"},{\"attributes\":{},\"id\":\"13347\",\"type\":\"Selection\"},{\"attributes\":{\"fill_alpha\":{\"value\":0.2},\"fill_color\":{\"value\":\"#7997b5\"},\"line_alpha\":{\"value\":0.2},\"line_color\":{\"value\":\"#7997b5\"},\"size\":{\"units\":\"screen\",\"value\":5.477225575051661},\"x\":{\"field\":\"year\"},\"y\":{\"field\":\"sale_price_sqr_foot\"}},\"id\":\"13453\",\"type\":\"Scatter\"},{\"attributes\":{\"data\":{\"neighborhood\":[\"Outer Parkside\",\"Outer Parkside\",\"Outer Parkside\",\"Outer Parkside\",\"Outer Parkside\",\"Outer Parkside\",\"Outer Parkside\"],\"sale_price_sqr_foot\":{\"__ndarray__\":\"nUKf6h8De0AqM2fRQj5uQH6d/P9XjXNAQqfjLN9Dd0DfE9xHtVeEQIwwtcJNYoRAKzIM9sPlhkA=\",\"dtype\":\"float64\",\"shape\":[7]},\"year\":[2010,2011,2012,2013,2014,2015,2016]},\"selected\":{\"id\":\"13771\"},\"selection_policy\":{\"id\":\"13991\"}},\"id\":\"13770\",\"type\":\"ColumnDataSource\"},{\"attributes\":{\"fill_alpha\":{\"value\":0.2},\"fill_color\":{\"value\":\"#0a5d3d\"},\"line_alpha\":{\"value\":0.2},\"line_color\":{\"value\":\"#0a5d3d\"},\"size\":{\"units\":\"screen\",\"value\":5.477225575051661},\"x\":{\"field\":\"year\"},\"y\":{\"field\":\"sale_price_sqr_foot\"}},\"id\":\"15649\",\"type\":\"Scatter\"},{\"attributes\":{\"label\":{\"value\":\"Mission Bay\"},\"renderers\":[{\"id\":\"12867\"}]},\"id\":\"12953\",\"type\":\"LegendItem\"},{\"attributes\":{\"data_source\":{\"id\":\"12861\"},\"glyph\":{\"id\":\"12864\"},\"hover_glyph\":null,\"muted_glyph\":{\"id\":\"12866\"},\"nonselection_glyph\":{\"id\":\"12865\"},\"selection_glyph\":null,\"view\":{\"id\":\"12868\"}},\"id\":\"12867\",\"type\":\"GlyphRenderer\"},{\"attributes\":{\"fill_alpha\":{\"value\":0.2},\"fill_color\":{\"value\":\"#7997b5\"},\"line_alpha\":{\"value\":0.2},\"line_color\":{\"value\":\"#7997b5\"},\"size\":{\"units\":\"screen\",\"value\":5.477225575051661},\"x\":{\"field\":\"year\"},\"y\":{\"field\":\"sale_price_sqr_foot\"}},\"id\":\"13454\",\"type\":\"Scatter\"},{\"attributes\":{\"fill_alpha\":{\"value\":0.2},\"fill_color\":{\"value\":\"#8a2844\"},\"line_alpha\":{\"value\":0.2},\"line_color\":{\"value\":\"#8a2844\"},\"size\":{\"units\":\"screen\",\"value\":5.477225575051661},\"x\":{\"field\":\"year\"},\"y\":{\"field\":\"sale_price_sqr_foot\"}},\"id\":\"13886\",\"type\":\"Scatter\"},{\"attributes\":{},\"id\":\"10842\",\"type\":\"UnionRenderers\"},{\"attributes\":{\"fill_alpha\":{\"value\":0.2},\"fill_color\":{\"value\":\"#7997b5\"},\"line_alpha\":{\"value\":0.2},\"line_color\":{\"value\":\"#7997b5\"},\"size\":{\"units\":\"screen\",\"value\":5.477225575051661},\"x\":{\"field\":\"year\"},\"y\":{\"field\":\"sale_price_sqr_foot\"}},\"id\":\"13452\",\"type\":\"Scatter\"},{\"attributes\":{\"fill_alpha\":{\"value\":0.2},\"fill_color\":{\"value\":\"#a5e275\"},\"line_alpha\":{\"value\":0.2},\"line_color\":{\"value\":\"#a5e275\"},\"size\":{\"units\":\"screen\",\"value\":5.477225575051661},\"x\":{\"field\":\"year\"},\"y\":{\"field\":\"sale_price_sqr_foot\"}},\"id\":\"15789\",\"type\":\"Scatter\"},{\"attributes\":{\"label\":{\"value\":\"Western Addition\"},\"renderers\":[{\"id\":\"16527\"}]},\"id\":\"16673\",\"type\":\"LegendItem\"},{\"attributes\":{},\"id\":\"13551\",\"type\":\"UnionRenderers\"},{\"attributes\":{},\"id\":\"14590\",\"type\":\"Selection\"},{\"attributes\":{\"data_source\":{\"id\":\"15234\"},\"glyph\":{\"id\":\"15237\"},\"hover_glyph\":null,\"muted_glyph\":{\"id\":\"15239\"},\"nonselection_glyph\":{\"id\":\"15238\"},\"selection_glyph\":null,\"view\":{\"id\":\"15241\"}},\"id\":\"15240\",\"type\":\"GlyphRenderer\"},{\"attributes\":{\"data\":{\"neighborhood\":[\"Mission Dolores\",\"Mission Dolores\",\"Mission Dolores\",\"Mission Dolores\",\"Mission Dolores\",\"Mission Dolores\"],\"sale_price_sqr_foot\":{\"__ndarray__\":\"jx2o184fcEDnKsbKd1ZyQHi6P9hbD3RAu5WvBqmyekDqY725wRGEQPso77AL3oFA\",\"dtype\":\"float64\",\"shape\":[6]},\"year\":[2010,2011,2012,2013,2014,2015]},\"selected\":{\"id\":\"12955\"},\"selection_policy\":{\"id\":\"13143\"}},\"id\":\"12954\",\"type\":\"ColumnDataSource\"},{\"attributes\":{},\"id\":\"10942\",\"type\":\"Selection\"},{\"attributes\":{},\"id\":\"16671\",\"type\":\"UnionRenderers\"},{\"attributes\":{\"fill_alpha\":{\"value\":0.2},\"fill_color\":{\"value\":\"#a5e275\"},\"line_alpha\":{\"value\":0.2},\"line_color\":{\"value\":\"#a5e275\"},\"size\":{\"units\":\"screen\",\"value\":5.477225575051661},\"x\":{\"field\":\"year\"},\"y\":{\"field\":\"sale_price_sqr_foot\"}},\"id\":\"15790\",\"type\":\"Scatter\"},{\"attributes\":{},\"id\":\"11146\",\"type\":\"Selection\"},{\"attributes\":{\"source\":{\"id\":\"13449\"}},\"id\":\"13456\",\"type\":\"CDSView\"},{\"attributes\":{\"fill_alpha\":{\"value\":0.2},\"fill_color\":{\"value\":\"#00aa79\"},\"line_alpha\":{\"value\":0.2},\"line_color\":{\"value\":\"#00aa79\"},\"size\":{\"units\":\"screen\",\"value\":5.477225575051661},\"x\":{\"field\":\"year\"},\"y\":{\"field\":\"sale_price_sqr_foot\"}},\"id\":\"15238\",\"type\":\"Scatter\"},{\"attributes\":{\"fill_alpha\":{\"value\":0.2},\"fill_color\":{\"value\":\"#a5e275\"},\"line_alpha\":{\"value\":0.2},\"line_color\":{\"value\":\"#a5e275\"},\"size\":{\"units\":\"screen\",\"value\":5.477225575051661},\"x\":{\"field\":\"year\"},\"y\":{\"field\":\"sale_price_sqr_foot\"}},\"id\":\"15791\",\"type\":\"Scatter\"},{\"attributes\":{},\"id\":\"12955\",\"type\":\"Selection\"},{\"attributes\":{\"fill_alpha\":{\"value\":0.2},\"fill_color\":{\"value\":\"#8a9500\"},\"line_alpha\":{\"value\":0.2},\"line_color\":{\"value\":\"#8a9500\"},\"size\":{\"units\":\"screen\",\"value\":5.477225575051661},\"x\":{\"field\":\"year\"},\"y\":{\"field\":\"sale_price_sqr_foot\"}},\"id\":\"14592\",\"type\":\"Scatter\"},{\"attributes\":{\"source\":{\"id\":\"16521\"}},\"id\":\"16528\",\"type\":\"CDSView\"},{\"attributes\":{\"data_source\":{\"id\":\"15786\"},\"glyph\":{\"id\":\"15789\"},\"hover_glyph\":null,\"muted_glyph\":{\"id\":\"15791\"},\"nonselection_glyph\":{\"id\":\"15790\"},\"selection_glyph\":null,\"view\":{\"id\":\"15793\"}},\"id\":\"15792\",\"type\":\"GlyphRenderer\"},{\"attributes\":{\"label\":{\"value\":\"North Waterfront\"},\"renderers\":[{\"id\":\"13455\"}]},\"id\":\"13553\",\"type\":\"LegendItem\"},{\"attributes\":{\"label\":{\"value\":\"Outer Sunset\"},\"renderers\":[{\"id\":\"14000\"}]},\"id\":\"14108\",\"type\":\"LegendItem\"},{\"attributes\":{},\"id\":\"11707\",\"type\":\"Selection\"},{\"attributes\":{\"data_source\":{\"id\":\"12954\"},\"glyph\":{\"id\":\"12957\"},\"hover_glyph\":null,\"muted_glyph\":{\"id\":\"12959\"},\"nonselection_glyph\":{\"id\":\"12958\"},\"selection_glyph\":null,\"view\":{\"id\":\"12961\"}},\"id\":\"12960\",\"type\":\"GlyphRenderer\"},{\"attributes\":{\"fill_alpha\":{\"value\":0.2},\"fill_color\":{\"value\":\"#ff07d6\"},\"line_alpha\":{\"value\":0.2},\"line_color\":{\"value\":\"#ff07d6\"},\"size\":{\"units\":\"screen\",\"value\":5.477225575051661},\"x\":{\"field\":\"year\"},\"y\":{\"field\":\"sale_price_sqr_foot\"}},\"id\":\"16524\",\"type\":\"Scatter\"},{\"attributes\":{\"data\":{\"neighborhood\":[\"West Portal\",\"West Portal\",\"West Portal\",\"West Portal\"],\"sale_price_sqr_foot\":{\"__ndarray__\":\"X0cX7s+EeEAugSUFulx0QOs5Di+ZYIJAY0tDgkN+hUA=\",\"dtype\":\"float64\",\"shape\":[4]},\"year\":[2010,2012,2013,2014]},\"selected\":{\"id\":\"16371\"},\"selection_policy\":{\"id\":\"16671\"}},\"id\":\"16370\",\"type\":\"ColumnDataSource\"},{\"attributes\":{\"fill_alpha\":{\"value\":0.2},\"fill_color\":{\"value\":\"#b65600\"},\"line_alpha\":{\"value\":0.2},\"line_color\":{\"value\":\"#b65600\"},\"size\":{\"units\":\"screen\",\"value\":5.477225575051661},\"x\":{\"field\":\"year\"},\"y\":{\"field\":\"sale_price_sqr_foot\"}},\"id\":\"12958\",\"type\":\"Scatter\"},{\"attributes\":{\"fill_alpha\":{\"value\":0.2},\"fill_color\":{\"value\":\"#00aa79\"},\"line_alpha\":{\"value\":0.2},\"line_color\":{\"value\":\"#00aa79\"},\"size\":{\"units\":\"screen\",\"value\":5.477225575051661},\"x\":{\"field\":\"year\"},\"y\":{\"field\":\"sale_price_sqr_foot\"}},\"id\":\"15237\",\"type\":\"Scatter\"},{\"attributes\":{\"source\":{\"id\":\"15786\"}},\"id\":\"15793\",\"type\":\"CDSView\"},{\"attributes\":{\"source\":{\"id\":\"10941\"}},\"id\":\"10948\",\"type\":\"CDSView\"},{\"attributes\":{\"data\":{\"neighborhood\":[\"Portola\",\"Portola\",\"Portola\",\"Portola\",\"Portola\"],\"sale_price_sqr_foot\":{\"__ndarray__\":\"SE2NcH/ickDYhLc6YAVqQMhgbA2x8HVArI0kR+x/bUDI9wE5o9GAQA==\",\"dtype\":\"float64\",\"shape\":[5]},\"year\":[2010,2011,2012,2013,2014]},\"selected\":{\"id\":\"14590\"},\"selection_policy\":{\"id\":\"14838\"}},\"id\":\"14589\",\"type\":\"ColumnDataSource\"},{\"attributes\":{},\"id\":\"15926\",\"type\":\"UnionRenderers\"},{\"attributes\":{\"fill_alpha\":{\"value\":0.2},\"fill_color\":{\"value\":\"#7e7e7e\"},\"line_alpha\":{\"value\":0.2},\"line_color\":{\"value\":\"#7e7e7e\"},\"size\":{\"units\":\"screen\",\"value\":5.477225575051661},\"x\":{\"field\":\"year\"},\"y\":{\"field\":\"sale_price_sqr_foot\"}},\"id\":\"10945\",\"type\":\"Scatter\"},{\"attributes\":{\"fill_alpha\":{\"value\":0.2},\"fill_color\":{\"value\":\"#fddfba\"},\"line_alpha\":{\"value\":0.2},\"line_color\":{\"value\":\"#fddfba\"},\"size\":{\"units\":\"screen\",\"value\":5.477225575051661},\"x\":{\"field\":\"year\"},\"y\":{\"field\":\"sale_price_sqr_foot\"}},\"id\":\"14844\",\"type\":\"Scatter\"},{\"attributes\":{\"fill_alpha\":{\"value\":0.2},\"fill_color\":{\"value\":\"#ff07d6\"},\"line_alpha\":{\"value\":0.2},\"line_color\":{\"value\":\"#ff07d6\"},\"size\":{\"units\":\"screen\",\"value\":5.477225575051661},\"x\":{\"field\":\"year\"},\"y\":{\"field\":\"sale_price_sqr_foot\"}},\"id\":\"16525\",\"type\":\"Scatter\"},{\"attributes\":{\"fill_alpha\":{\"value\":0.2},\"fill_color\":{\"value\":\"#b65600\"},\"line_alpha\":{\"value\":0.2},\"line_color\":{\"value\":\"#b65600\"},\"size\":{\"units\":\"screen\",\"value\":5.477225575051661},\"x\":{\"field\":\"year\"},\"y\":{\"field\":\"sale_price_sqr_foot\"}},\"id\":\"12959\",\"type\":\"Scatter\"},{\"attributes\":{},\"id\":\"16371\",\"type\":\"Selection\"},{\"attributes\":{\"source\":{\"id\":\"15645\"}},\"id\":\"15652\",\"type\":\"CDSView\"},{\"attributes\":{\"fill_alpha\":{\"value\":0.2},\"fill_color\":{\"value\":\"#ff07d6\"},\"line_alpha\":{\"value\":0.2},\"line_color\":{\"value\":\"#ff07d6\"},\"size\":{\"units\":\"screen\",\"value\":5.477225575051661},\"x\":{\"field\":\"year\"},\"y\":{\"field\":\"sale_price_sqr_foot\"}},\"id\":\"16526\",\"type\":\"Scatter\"},{\"attributes\":{\"fill_alpha\":{\"value\":0.2},\"fill_color\":{\"value\":\"#b65600\"},\"line_alpha\":{\"value\":0.2},\"line_color\":{\"value\":\"#b65600\"},\"size\":{\"units\":\"screen\",\"value\":5.477225575051661},\"x\":{\"field\":\"year\"},\"y\":{\"field\":\"sale_price_sqr_foot\"}},\"id\":\"12957\",\"type\":\"Scatter\"},{\"attributes\":{\"source\":{\"id\":\"12954\"}},\"id\":\"12961\",\"type\":\"CDSView\"},{\"attributes\":{\"fill_alpha\":{\"value\":0.2},\"fill_color\":{\"value\":\"#00aa79\"},\"line_alpha\":{\"value\":0.2},\"line_color\":{\"value\":\"#00aa79\"},\"size\":{\"units\":\"screen\",\"value\":5.477225575051661},\"x\":{\"field\":\"year\"},\"y\":{\"field\":\"sale_price_sqr_foot\"}},\"id\":\"15239\",\"type\":\"Scatter\"},{\"attributes\":{},\"id\":\"15783\",\"type\":\"UnionRenderers\"},{\"attributes\":{\"fill_alpha\":{\"value\":0.2},\"fill_color\":{\"value\":\"#3a0182\"},\"line_alpha\":{\"value\":0.2},\"line_color\":{\"value\":\"#3a0182\"},\"size\":{\"units\":\"screen\",\"value\":5.477225575051661},\"x\":{\"field\":\"year\"},\"y\":{\"field\":\"sale_price_sqr_foot\"}},\"id\":\"11037\",\"type\":\"Scatter\"},{\"attributes\":{},\"id\":\"13046\",\"type\":\"UnionRenderers\"},{\"attributes\":{\"label\":{\"value\":\"Mission Dolores\"},\"renderers\":[{\"id\":\"12960\"}]},\"id\":\"13048\",\"type\":\"LegendItem\"},{\"attributes\":{\"fill_alpha\":{\"value\":0.2},\"fill_color\":{\"value\":\"#00acff\"},\"line_alpha\":{\"value\":0.2},\"line_color\":{\"value\":\"#00acff\"},\"size\":{\"units\":\"screen\",\"value\":5.477225575051661},\"x\":{\"field\":\"year\"},\"y\":{\"field\":\"sale_price_sqr_foot\"}},\"id\":\"13999\",\"type\":\"Scatter\"},{\"attributes\":{\"label\":{\"value\":\"Outer Mission\"},\"renderers\":[{\"id\":\"13667\"}]},\"id\":\"13769\",\"type\":\"LegendItem\"},{\"attributes\":{\"source\":{\"id\":\"13994\"}},\"id\":\"14001\",\"type\":\"CDSView\"},{\"attributes\":{},\"id\":\"11187\",\"type\":\"Selection\"},{\"attributes\":{\"data_source\":{\"id\":\"10941\"},\"glyph\":{\"id\":\"10944\"},\"hover_glyph\":null,\"muted_glyph\":{\"id\":\"10946\"},\"nonselection_glyph\":{\"id\":\"10945\"},\"selection_glyph\":null,\"view\":{\"id\":\"10948\"}},\"id\":\"10947\",\"type\":\"GlyphRenderer\"},{\"attributes\":{\"data_source\":{\"id\":\"15645\"},\"glyph\":{\"id\":\"15648\"},\"hover_glyph\":null,\"muted_glyph\":{\"id\":\"15650\"},\"nonselection_glyph\":{\"id\":\"15649\"},\"selection_glyph\":null,\"view\":{\"id\":\"15652\"}},\"id\":\"15651\",\"type\":\"GlyphRenderer\"},{\"attributes\":{\"fill_alpha\":{\"value\":0.2},\"fill_color\":{\"value\":\"#ffff9a\"},\"line_alpha\":{\"value\":0.2},\"line_color\":{\"value\":\"#ffff9a\"},\"size\":{\"units\":\"screen\",\"value\":5.477225575051661},\"x\":{\"field\":\"year\"},\"y\":{\"field\":\"sale_price_sqr_foot\"}},\"id\":\"11534\",\"type\":\"Scatter\"},{\"attributes\":{\"fill_alpha\":{\"value\":0.2},\"fill_color\":{\"value\":\"#7e7e7e\"},\"line_alpha\":{\"value\":0.2},\"line_color\":{\"value\":\"#7e7e7e\"},\"size\":{\"units\":\"screen\",\"value\":5.477225575051661},\"x\":{\"field\":\"year\"},\"y\":{\"field\":\"sale_price_sqr_foot\"}},\"id\":\"10944\",\"type\":\"Scatter\"},{\"attributes\":{\"data\":{\"neighborhood\":[\"Duboce Triangle\",\"Duboce Triangle\",\"Duboce Triangle\",\"Duboce Triangle\"],\"sale_price_sqr_foot\":{\"__ndarray__\":\"6FtOVXh8ckCp7K1zj0p8QIjRLwZ+soNAN/KXXSq9g0A=\",\"dtype\":\"float64\",\"shape\":[4]},\"year\":[2011,2012,2014,2015]},\"selected\":{\"id\":\"11187\"},\"selection_policy\":{\"id\":\"11271\"}},\"id\":\"11186\",\"type\":\"ColumnDataSource\"},{\"attributes\":{},\"id\":\"14106\",\"type\":\"UnionRenderers\"},{\"attributes\":{\"source\":{\"id\":\"14841\"}},\"id\":\"14848\",\"type\":\"CDSView\"},{\"attributes\":{\"label\":{\"value\":\"Presidio Heights\"},\"renderers\":[{\"id\":\"14847\"}]},\"id\":\"14969\",\"type\":\"LegendItem\"},{\"attributes\":{\"data_source\":{\"id\":\"16521\"},\"glyph\":{\"id\":\"16524\"},\"hover_glyph\":null,\"muted_glyph\":{\"id\":\"16526\"},\"nonselection_glyph\":{\"id\":\"16525\"},\"selection_glyph\":null,\"view\":{\"id\":\"16528\"}},\"id\":\"16527\",\"type\":\"GlyphRenderer\"},{\"attributes\":{\"data\":{\"neighborhood\":[\"Parkside\",\"Parkside\",\"Parkside\",\"Parkside\",\"Parkside\",\"Parkside\"],\"sale_price_sqr_foot\":{\"__ndarray__\":\"jNs5+aoicUATPfOU4TFrQAWYW85hpHdAiGIrlP7JdkC/o97y0+N7QAAAAAAAAPh/\",\"dtype\":\"float64\",\"shape\":[6]},\"year\":[2010,2011,2012,2013,2014,2015]},\"selected\":{\"id\":\"14346\"},\"selection_policy\":{\"id\":\"14586\"}},\"id\":\"14345\",\"type\":\"ColumnDataSource\"},{\"attributes\":{\"data\":{\"neighborhood\":[\"Western Addition\",\"Western Addition\",\"Western Addition\",\"Western Addition\",\"Western Addition\",\"Western Addition\"],\"sale_price_sqr_foot\":{\"__ndarray__\":\"gK0qWTbyakDIEo9KaG1sQCp/FVVqJXFAdZUip9kia0B6M+4l0Nd6QK+mSAaCF35A\",\"dtype\":\"float64\",\"shape\":[6]},\"year\":[2010,2011,2012,2013,2014,2015]},\"selected\":{\"id\":\"16522\"},\"selection_policy\":{\"id\":\"16826\"}},\"id\":\"16521\",\"type\":\"ColumnDataSource\"},{\"attributes\":{},\"id\":\"14967\",\"type\":\"UnionRenderers\"},{\"attributes\":{\"data\":{\"neighborhood\":[\"Downtown \",\"Downtown \",\"Downtown \",\"Downtown \",\"Downtown \",\"Downtown \",\"Downtown \"],\"sale_price_sqr_foot\":{\"__ndarray__\":\"6c744745bkA52E4PA0ltQGAISaHA0XBArpUZa0aXdkCJO7vgn8t6QBz07a4wXn5AvXKD8jZ2hkA=\",\"dtype\":\"float64\",\"shape\":[7]},\"year\":[2010,2011,2012,2013,2014,2015,2016]},\"selected\":{\"id\":\"11146\"},\"selection_policy\":{\"id\":\"11226\"}},\"id\":\"11145\",\"type\":\"ColumnDataSource\"},{\"attributes\":{},\"id\":\"16522\",\"type\":\"Selection\"},{\"attributes\":{\"data\":{\"neighborhood\":[\"Visitacion Valley\",\"Visitacion Valley\",\"Visitacion Valley\",\"Visitacion Valley\"],\"sale_price_sqr_foot\":{\"__ndarray__\":\"bh3vIcZUckCxxHJRaKBxQA8XZcqM43JAUinBphqFdEA=\",\"dtype\":\"float64\",\"shape\":[4]},\"year\":[2013,2014,2015,2016]},\"selected\":{\"id\":\"16222\"},\"selection_policy\":{\"id\":\"16518\"}},\"id\":\"16221\",\"type\":\"ColumnDataSource\"},{\"attributes\":{\"label\":{\"value\":\"Diamond Heights\"},\"renderers\":[{\"id\":\"11112\"}]},\"id\":\"11144\",\"type\":\"LegendItem\"},{\"attributes\":{},\"id\":\"14346\",\"type\":\"Selection\"},{\"attributes\":{\"data_source\":{\"id\":\"14841\"},\"glyph\":{\"id\":\"14844\"},\"hover_glyph\":null,\"muted_glyph\":{\"id\":\"14846\"},\"nonselection_glyph\":{\"id\":\"14845\"},\"selection_glyph\":null,\"view\":{\"id\":\"14848\"}},\"id\":\"14847\",\"type\":\"GlyphRenderer\"},{\"attributes\":{\"fill_alpha\":{\"value\":0.2},\"fill_color\":{\"value\":\"#000091\"},\"line_alpha\":{\"value\":0.2},\"line_color\":{\"value\":\"#000091\"},\"size\":{\"units\":\"screen\",\"value\":5.477225575051661},\"x\":{\"field\":\"year\"},\"y\":{\"field\":\"sale_price_sqr_foot\"}},\"id\":\"15511\",\"type\":\"Scatter\"},{\"attributes\":{},\"id\":\"16222\",\"type\":\"Selection\"},{\"attributes\":{\"fill_alpha\":{\"value\":0.2},\"fill_color\":{\"value\":\"#7e7e7e\"},\"line_alpha\":{\"value\":0.2},\"line_color\":{\"value\":\"#7e7e7e\"},\"size\":{\"units\":\"screen\",\"value\":5.477225575051661},\"x\":{\"field\":\"year\"},\"y\":{\"field\":\"sale_price_sqr_foot\"}},\"id\":\"10946\",\"type\":\"Scatter\"},{\"attributes\":{\"fill_alpha\":{\"value\":0.2},\"fill_color\":{\"value\":\"#0a5d3d\"},\"line_alpha\":{\"value\":0.2},\"line_color\":{\"value\":\"#0a5d3d\"},\"size\":{\"units\":\"screen\",\"value\":5.477225575051661},\"x\":{\"field\":\"year\"},\"y\":{\"field\":\"sale_price_sqr_foot\"}},\"id\":\"15650\",\"type\":\"Scatter\"},{\"attributes\":{},\"id\":\"16675\",\"type\":\"Selection\"},{\"attributes\":{\"fill_alpha\":{\"value\":0.2},\"fill_color\":{\"value\":\"#fddfba\"},\"line_alpha\":{\"value\":0.2},\"line_color\":{\"value\":\"#fddfba\"},\"size\":{\"units\":\"screen\",\"value\":5.477225575051661},\"x\":{\"field\":\"year\"},\"y\":{\"field\":\"sale_price_sqr_foot\"}},\"id\":\"14846\",\"type\":\"Scatter\"},{\"attributes\":{\"data\":{\"neighborhood\":[\"Hunters Point\",\"Hunters Point\"],\"sale_price_sqr_foot\":{\"__ndarray__\":\"BT/1V/9TZUAAAAAAAAD4fw==\",\"dtype\":\"float64\",\"shape\":[2]},\"year\":[2010,2015]},\"selected\":{\"id\":\"11707\"},\"selection_policy\":{\"id\":\"11831\"}},\"id\":\"11706\",\"type\":\"ColumnDataSource\"},{\"attributes\":{\"fill_alpha\":{\"value\":0.2},\"fill_color\":{\"value\":\"#00acff\"},\"line_alpha\":{\"value\":0.2},\"line_color\":{\"value\":\"#00acff\"},\"size\":{\"units\":\"screen\",\"value\":5.477225575051661},\"x\":{\"field\":\"year\"},\"y\":{\"field\":\"sale_price_sqr_foot\"}},\"id\":\"13998\",\"type\":\"Scatter\"},{\"attributes\":{\"data_source\":{\"id\":\"14345\"},\"glyph\":{\"id\":\"14348\"},\"hover_glyph\":null,\"muted_glyph\":{\"id\":\"14350\"},\"nonselection_glyph\":{\"id\":\"14349\"},\"selection_glyph\":null,\"view\":{\"id\":\"14352\"}},\"id\":\"14351\",\"type\":\"GlyphRenderer\"},{\"attributes\":{\"fill_alpha\":{\"value\":0.2},\"fill_color\":{\"value\":\"#ff9eb5\"},\"line_alpha\":{\"value\":0.2},\"line_color\":{\"value\":\"#ff9eb5\"},\"size\":{\"units\":\"screen\",\"value\":5.477225575051661},\"x\":{\"field\":\"year\"},\"y\":{\"field\":\"sale_price_sqr_foot\"}},\"id\":\"16224\",\"type\":\"Scatter\"},{\"attributes\":{\"data\":{\"neighborhood\":[\"Van Ness/ Civic Center\",\"Van Ness/ Civic Center\",\"Van Ness/ Civic Center\",\"Van Ness/ Civic Center\",\"Van Ness/ Civic Center\",\"Van Ness/ Civic Center\",\"Van Ness/ Civic Center\"],\"sale_price_sqr_foot\":{\"__ndarray__\":\"9/Q/y9MAW0C4de7wyQN4QCWBKCJUn3VAuVvU7ybQcUD2TkF+SrZ9QPqD47K0LoVAmVO3DtJEgUA=\",\"dtype\":\"float64\",\"shape\":[7]},\"year\":[2010,2011,2012,2013,2014,2015,2016]},\"selected\":{\"id\":\"16075\"},\"selection_policy\":{\"id\":\"16367\"}},\"id\":\"16074\",\"type\":\"ColumnDataSource\"},{\"attributes\":{\"data_source\":{\"id\":\"13994\"},\"glyph\":{\"id\":\"13997\"},\"hover_glyph\":null,\"muted_glyph\":{\"id\":\"13999\"},\"nonselection_glyph\":{\"id\":\"13998\"},\"selection_glyph\":null,\"view\":{\"id\":\"14001\"}},\"id\":\"14000\",\"type\":\"GlyphRenderer\"},{\"attributes\":{\"data\":{\"neighborhood\":[\"Central Sunset\",\"Central Sunset\",\"Central Sunset\",\"Central Sunset\",\"Central Sunset\",\"Central Sunset\",\"Central Sunset\"],\"sale_price_sqr_foot\":{\"__ndarray__\":\"Bv22h8IiekAzufO80nZ4QOlValPO53RA2XLka8irdEAWLPo234N8QKwFse0RVnxA65hZjfcqgkA=\",\"dtype\":\"float64\",\"shape\":[7]},\"year\":[2010,2011,2012,2013,2014,2015,2016]},\"selected\":{\"id\":\"10942\"},\"selection_policy\":{\"id\":\"10998\"}},\"id\":\"10941\",\"type\":\"ColumnDataSource\"},{\"attributes\":{\"fill_alpha\":{\"value\":0.2},\"fill_color\":{\"value\":\"#00d4b1\"},\"line_alpha\":{\"value\":0.2},\"line_color\":{\"value\":\"#00d4b1\"},\"size\":{\"units\":\"screen\",\"value\":5.477225575051661},\"x\":{\"field\":\"year\"},\"y\":{\"field\":\"sale_price_sqr_foot\"}},\"id\":\"14349\",\"type\":\"Scatter\"},{\"attributes\":{},\"id\":\"14842\",\"type\":\"Selection\"},{\"attributes\":{\"fill_alpha\":{\"value\":0.2},\"fill_color\":{\"value\":\"#fddfba\"},\"line_alpha\":{\"value\":0.2},\"line_color\":{\"value\":\"#fddfba\"},\"size\":{\"units\":\"screen\",\"value\":5.477225575051661},\"x\":{\"field\":\"year\"},\"y\":{\"field\":\"sale_price_sqr_foot\"}},\"id\":\"14845\",\"type\":\"Scatter\"},{\"attributes\":{\"fill_alpha\":{\"value\":0.2},\"fill_color\":{\"value\":\"#000091\"},\"line_alpha\":{\"value\":0.2},\"line_color\":{\"value\":\"#000091\"},\"size\":{\"units\":\"screen\",\"value\":5.477225575051661},\"x\":{\"field\":\"year\"},\"y\":{\"field\":\"sale_price_sqr_foot\"}},\"id\":\"15509\",\"type\":\"Scatter\"},{\"attributes\":{\"fill_alpha\":{\"value\":0.2},\"fill_color\":{\"value\":\"#00d4b1\"},\"line_alpha\":{\"value\":0.2},\"line_color\":{\"value\":\"#00d4b1\"},\"size\":{\"units\":\"screen\",\"value\":5.477225575051661},\"x\":{\"field\":\"year\"},\"y\":{\"field\":\"sale_price_sqr_foot\"}},\"id\":\"14350\",\"type\":\"Scatter\"},{\"attributes\":{\"label\":{\"value\":\"Twin Peaks\"},\"renderers\":[{\"id\":\"15792\"}]},\"id\":\"15928\",\"type\":\"LegendItem\"},{\"attributes\":{\"fill_alpha\":{\"value\":0.2},\"fill_color\":{\"value\":\"#505646\"},\"line_alpha\":{\"value\":0.2},\"line_color\":{\"value\":\"#505646\"},\"size\":{\"units\":\"screen\",\"value\":5.477225575051661},\"x\":{\"field\":\"year\"},\"y\":{\"field\":\"sale_price_sqr_foot\"}},\"id\":\"12430\",\"type\":\"Scatter\"},{\"attributes\":{\"fill_alpha\":{\"value\":0.2},\"fill_color\":{\"value\":\"#00d4b1\"},\"line_alpha\":{\"value\":0.2},\"line_color\":{\"value\":\"#00d4b1\"},\"size\":{\"units\":\"screen\",\"value\":5.477225575051661},\"x\":{\"field\":\"year\"},\"y\":{\"field\":\"sale_price_sqr_foot\"}},\"id\":\"14348\",\"type\":\"Scatter\"},{\"attributes\":{},\"id\":\"16075\",\"type\":\"Selection\"},{\"attributes\":{\"fill_alpha\":{\"value\":0.2},\"fill_color\":{\"value\":\"#8ed4ff\"},\"line_alpha\":{\"value\":0.2},\"line_color\":{\"value\":\"#8ed4ff\"},\"size\":{\"units\":\"screen\",\"value\":5.477225575051661},\"x\":{\"field\":\"year\"},\"y\":{\"field\":\"sale_price_sqr_foot\"}},\"id\":\"14113\",\"type\":\"Scatter\"},{\"attributes\":{},\"id\":\"14463\",\"type\":\"UnionRenderers\"},{\"attributes\":{\"label\":{\"value\":\"Anza Vista\"},\"renderers\":[{\"id\":\"10815\"}]},\"id\":\"10825\",\"type\":\"LegendItem\"},{\"attributes\":{\"label\":{\"value\":\"Yerba Buena\"},\"renderers\":[{\"id\":\"16992\"}]},\"id\":\"17144\",\"type\":\"LegendItem\"},{\"attributes\":{\"label\":{\"value\":\"Buena Vista Park\"},\"renderers\":[{\"id\":\"10895\"}]},\"id\":\"10913\",\"type\":\"LegendItem\"},{\"attributes\":{\"fill_alpha\":{\"value\":0.2},\"fill_color\":{\"value\":\"#ff7e0e\"},\"line_alpha\":{\"value\":0.2},\"line_color\":{\"value\":\"#ff7e0e\"},\"size\":{\"units\":\"screen\",\"value\":5.477225575051661},\"x\":{\"field\":\"year\"},\"y\":{\"field\":\"sale_price_sqr_foot\"}},\"id\":\"10813\",\"type\":\"Scatter\"},{\"attributes\":{\"source\":{\"id\":\"14345\"}},\"id\":\"14352\",\"type\":\"CDSView\"},{\"attributes\":{\"label\":{\"value\":\"Potrero Hill\"},\"renderers\":[{\"id\":\"14720\"}]},\"id\":\"14840\",\"type\":\"LegendItem\"},{\"attributes\":{},\"id\":\"12771\",\"type\":\"Selection\"},{\"attributes\":{\"data_source\":{\"id\":\"14109\"},\"glyph\":{\"id\":\"14112\"},\"hover_glyph\":null,\"muted_glyph\":{\"id\":\"14114\"},\"nonselection_glyph\":{\"id\":\"14113\"},\"selection_glyph\":null,\"view\":{\"id\":\"14116\"}},\"id\":\"14115\",\"type\":\"GlyphRenderer\"},{\"attributes\":{\"source\":{\"id\":\"14714\"}},\"id\":\"14721\",\"type\":\"CDSView\"},{\"attributes\":{},\"id\":\"10764\",\"type\":\"LinearScale\"},{\"attributes\":{\"data\":{\"neighborhood\":[\"Nob Hill\",\"Nob Hill\",\"Nob Hill\",\"Nob Hill\",\"Nob Hill\",\"Nob Hill\",\"Nob Hill\"],\"sale_price_sqr_foot\":{\"__ndarray__\":\"nsfa8dY6c0Dw6sQTSEp1QNOp9qKHPHNANu2GfmwgfUCD5gH4F+d9QN20QE/HjoBA5tc1BxFIiEA=\",\"dtype\":\"float64\",\"shape\":[7]},\"year\":[2010,2011,2012,2013,2014,2015,2016]},\"selected\":{\"id\":\"13147\"},\"selection_policy\":{\"id\":\"13343\"}},\"id\":\"13146\",\"type\":\"ColumnDataSource\"},{\"attributes\":{\"label\":{\"value\":\"Parkside\"},\"renderers\":[{\"id\":\"14351\"}]},\"id\":\"14465\",\"type\":\"LegendItem\"},{\"attributes\":{},\"id\":\"14110\",\"type\":\"Selection\"},{\"attributes\":{},\"id\":\"14838\",\"type\":\"UnionRenderers\"},{\"attributes\":{\"data\":{\"neighborhood\":[\"Miraloma Park\",\"Miraloma Park\",\"Miraloma Park\",\"Miraloma Park\"],\"sale_price_sqr_foot\":{\"__ndarray__\":\"nv5hrd5EhUDxcEwp0ep5QKIzmfqJoYdAXElslxDPk0A=\",\"dtype\":\"float64\",\"shape\":[4]},\"year\":[2010,2011,2012,2014]},\"selected\":{\"id\":\"12771\"},\"selection_policy\":{\"id\":\"12951\"}},\"id\":\"12770\",\"type\":\"ColumnDataSource\"},{\"attributes\":{\"data_source\":{\"id\":\"10809\"},\"glyph\":{\"id\":\"10812\"},\"hover_glyph\":null,\"muted_glyph\":{\"id\":\"10814\"},\"nonselection_glyph\":{\"id\":\"10813\"},\"selection_glyph\":null,\"view\":{\"id\":\"10816\"}},\"id\":\"10815\",\"type\":\"GlyphRenderer\"},{\"attributes\":{\"fill_alpha\":{\"value\":0.2},\"fill_color\":{\"value\":\"#5d5b9e\"},\"line_alpha\":{\"value\":0.2},\"line_color\":{\"value\":\"#5d5b9e\"},\"size\":{\"units\":\"screen\",\"value\":5.477225575051661},\"x\":{\"field\":\"year\"},\"y\":{\"field\":\"sale_price_sqr_foot\"}},\"id\":\"14717\",\"type\":\"Scatter\"},{\"attributes\":{\"label\":{\"value\":\"South Beach\"},\"renderers\":[{\"id\":\"15240\"}]},\"id\":\"15368\",\"type\":\"LegendItem\"},{\"attributes\":{\"data_source\":{\"id\":\"14466\"},\"glyph\":{\"id\":\"14469\"},\"hover_glyph\":null,\"muted_glyph\":{\"id\":\"14471\"},\"nonselection_glyph\":{\"id\":\"14470\"},\"selection_glyph\":null,\"view\":{\"id\":\"14473\"}},\"id\":\"14472\",\"type\":\"GlyphRenderer\"},{\"attributes\":{\"data\":{\"neighborhood\":[\"Pacific Heights\",\"Pacific Heights\",\"Pacific Heights\",\"Pacific Heights\",\"Pacific Heights\",\"Pacific Heights\",\"Pacific Heights\"],\"sale_price_sqr_foot\":{\"__ndarray__\":\"xNYMmEEIf0BGT3H7V9B/QLX7Z+e+UYJANTLZX2N+f0DaISsBRcWJQFibs2OAcYxAktikah0jj0A=\",\"dtype\":\"float64\",\"shape\":[7]},\"year\":[2010,2011,2012,2013,2014,2015,2016]},\"selected\":{\"id\":\"14110\"},\"selection_policy\":{\"id\":\"14342\"}},\"id\":\"14109\",\"type\":\"ColumnDataSource\"},{\"attributes\":{\"fill_alpha\":{\"value\":0.2},\"fill_color\":{\"value\":\"#1cd646\"},\"line_alpha\":{\"value\":0.2},\"line_color\":{\"value\":\"#1cd646\"},\"size\":{\"units\":\"screen\",\"value\":5.477225575051661},\"x\":{\"field\":\"year\"},\"y\":{\"field\":\"sale_price_sqr_foot\"}},\"id\":\"13248\",\"type\":\"Scatter\"},{\"attributes\":{\"source\":{\"id\":\"10809\"}},\"id\":\"10816\",\"type\":\"CDSView\"},{\"attributes\":{\"data\":{\"neighborhood\":[\"Potrero Hill\",\"Potrero Hill\",\"Potrero Hill\",\"Potrero Hill\",\"Potrero Hill\",\"Potrero Hill\",\"Potrero Hill\"],\"sale_price_sqr_foot\":{\"__ndarray__\":\"h38+NzO3fkC1zY5QN3J/QFj9s41dKn1AlMC7a6O1gkAa4w1izlSQQF3nsW1oqolAxoQBfzYdhkA=\",\"dtype\":\"float64\",\"shape\":[7]},\"year\":[2010,2011,2012,2013,2014,2015,2016]},\"selected\":{\"id\":\"14715\"},\"selection_policy\":{\"id\":\"14967\"}},\"id\":\"14714\",\"type\":\"ColumnDataSource\"},{\"attributes\":{},\"id\":\"10911\",\"type\":\"UnionRenderers\"},{\"attributes\":{\"fill_alpha\":{\"value\":0.2},\"fill_color\":{\"value\":\"#ff018c\"},\"line_alpha\":{\"value\":0.2},\"line_color\":{\"value\":\"#ff018c\"},\"size\":{\"units\":\"screen\",\"value\":5.477225575051661},\"x\":{\"field\":\"year\"},\"y\":{\"field\":\"sale_price_sqr_foot\"}},\"id\":\"12685\",\"type\":\"Scatter\"},{\"attributes\":{},\"id\":\"11526\",\"type\":\"UnionRenderers\"},{\"attributes\":{\"data_source\":{\"id\":\"11145\"},\"glyph\":{\"id\":\"11148\"},\"hover_glyph\":null,\"muted_glyph\":{\"id\":\"11150\"},\"nonselection_glyph\":{\"id\":\"11149\"},\"selection_glyph\":null,\"view\":{\"id\":\"11152\"}},\"id\":\"11151\",\"type\":\"GlyphRenderer\"},{\"attributes\":{\"data\":{\"neighborhood\":[\"Alamo Square\",\"Alamo Square\",\"Alamo Square\",\"Alamo Square\",\"Alamo Square\",\"Alamo Square\",\"Alamo Square\"],\"sale_price_sqr_foot\":{\"__ndarray__\":\"Dkc7WO0yckCafszcbwhxQIGRs5ot42ZAJzog0LQ8eEAWMinKGEd+QI0V5FDt0IJAVCHcmLVPdUA=\",\"dtype\":\"float64\",\"shape\":[7]},\"year\":[2010,2011,2012,2013,2014,2015,2016]},\"selected\":{\"id\":\"10794\"},\"selection_policy\":{\"id\":\"10823\"}},\"id\":\"10793\",\"type\":\"ColumnDataSource\"},{\"attributes\":{\"fill_alpha\":{\"value\":0.2},\"fill_color\":{\"value\":\"#8a9500\"},\"line_alpha\":{\"value\":0.2},\"line_color\":{\"value\":\"#8a9500\"},\"size\":{\"units\":\"screen\",\"value\":5.477225575051661},\"x\":{\"field\":\"year\"},\"y\":{\"field\":\"sale_price_sqr_foot\"}},\"id\":\"14593\",\"type\":\"Scatter\"},{\"attributes\":{},\"id\":\"15366\",\"type\":\"UnionRenderers\"},{\"attributes\":{\"source\":{\"id\":\"11145\"}},\"id\":\"11152\",\"type\":\"CDSView\"},{\"attributes\":{\"fill_alpha\":{\"value\":0.2},\"fill_color\":{\"value\":\"#5d5b9e\"},\"line_alpha\":{\"value\":0.2},\"line_color\":{\"value\":\"#5d5b9e\"},\"size\":{\"units\":\"screen\",\"value\":5.477225575051661},\"x\":{\"field\":\"year\"},\"y\":{\"field\":\"sale_price_sqr_foot\"}},\"id\":\"14719\",\"type\":\"Scatter\"},{\"attributes\":{},\"id\":\"11275\",\"type\":\"Selection\"},{\"attributes\":{},\"id\":\"14715\",\"type\":\"Selection\"},{\"attributes\":{\"data\":{\"neighborhood\":[\"Parnassus/Ashbury Heights\",\"Parnassus/Ashbury Heights\",\"Parnassus/Ashbury Heights\",\"Parnassus/Ashbury Heights\",\"Parnassus/Ashbury Heights\",\"Parnassus/Ashbury Heights\",\"Parnassus/Ashbury Heights\"],\"sale_price_sqr_foot\":{\"__ndarray__\":\"g4gEfxQke0DyEqbo4il9QIwLoVteH4BAIpiGrUaaekD6hZfDPyuIQI7cJCG/6oJAYp+hbP3fkkA=\",\"dtype\":\"float64\",\"shape\":[7]},\"year\":[2010,2011,2012,2013,2014,2015,2016]},\"selected\":{\"id\":\"14467\"},\"selection_policy\":{\"id\":\"14711\"}},\"id\":\"14466\",\"type\":\"ColumnDataSource\"},{\"attributes\":{\"data_source\":{\"id\":\"14714\"},\"glyph\":{\"id\":\"14717\"},\"hover_glyph\":null,\"muted_glyph\":{\"id\":\"14719\"},\"nonselection_glyph\":{\"id\":\"14718\"},\"selection_glyph\":null,\"view\":{\"id\":\"14721\"}},\"id\":\"14720\",\"type\":\"GlyphRenderer\"},{\"attributes\":{\"fill_alpha\":{\"value\":0.2},\"fill_color\":{\"value\":\"#1cd646\"},\"line_alpha\":{\"value\":0.2},\"line_color\":{\"value\":\"#1cd646\"},\"size\":{\"units\":\"screen\",\"value\":5.477225575051661},\"x\":{\"field\":\"year\"},\"y\":{\"field\":\"sale_price_sqr_foot\"}},\"id\":\"13250\",\"type\":\"Scatter\"},{\"attributes\":{\"fill_alpha\":{\"value\":0.2},\"fill_color\":{\"value\":\"#ff7e0e\"},\"line_alpha\":{\"value\":0.2},\"line_color\":{\"value\":\"#ff7e0e\"},\"size\":{\"units\":\"screen\",\"value\":5.477225575051661},\"x\":{\"field\":\"year\"},\"y\":{\"field\":\"sale_price_sqr_foot\"}},\"id\":\"10814\",\"type\":\"Scatter\"},{\"attributes\":{},\"id\":\"14467\",\"type\":\"Selection\"},{\"attributes\":{\"data\":{\"neighborhood\":[\"Lone Mountain\",\"Lone Mountain\",\"Lone Mountain\",\"Lone Mountain\",\"Lone Mountain\",\"Lone Mountain\"],\"sale_price_sqr_foot\":{\"__ndarray__\":\"wz1ajlfneEDRiC1TapVzQAfvLHLXD4FAeCzjalaBd0BPfmP7jNNzQM1gj19OsoxA\",\"dtype\":\"float64\",\"shape\":[6]},\"year\":[2010,2011,2012,2013,2014,2015]},\"selected\":{\"id\":\"12346\"},\"selection_policy\":{\"id\":\"12506\"}},\"id\":\"12345\",\"type\":\"ColumnDataSource\"},{\"attributes\":{},\"id\":\"10823\",\"type\":\"UnionRenderers\"},{\"attributes\":{},\"id\":\"15930\",\"type\":\"Selection\"},{\"attributes\":{\"fill_alpha\":{\"value\":0.2},\"fill_color\":{\"value\":\"#ff7e0e\"},\"line_alpha\":{\"value\":0.2},\"line_color\":{\"value\":\"#ff7e0e\"},\"size\":{\"units\":\"screen\",\"value\":5.477225575051661},\"x\":{\"field\":\"year\"},\"y\":{\"field\":\"sale_price_sqr_foot\"}},\"id\":\"10812\",\"type\":\"Scatter\"},{\"attributes\":{\"fill_alpha\":{\"value\":0.2},\"fill_color\":{\"value\":\"#5b3400\"},\"line_alpha\":{\"value\":0.2},\"line_color\":{\"value\":\"#5b3400\"},\"size\":{\"units\":\"screen\",\"value\":5.477225575051661},\"x\":{\"field\":\"year\"},\"y\":{\"field\":\"sale_price_sqr_foot\"}},\"id\":\"12044\",\"type\":\"Scatter\"},{\"attributes\":{},\"id\":\"12346\",\"type\":\"Selection\"},{\"attributes\":{\"data_source\":{\"id\":\"13245\"},\"glyph\":{\"id\":\"13248\"},\"hover_glyph\":null,\"muted_glyph\":{\"id\":\"13250\"},\"nonselection_glyph\":{\"id\":\"13249\"},\"selection_glyph\":null,\"view\":{\"id\":\"13252\"}},\"id\":\"13251\",\"type\":\"GlyphRenderer\"},{\"attributes\":{\"fill_alpha\":{\"value\":0.2},\"fill_color\":{\"value\":\"#5d5b9e\"},\"line_alpha\":{\"value\":0.2},\"line_color\":{\"value\":\"#5d5b9e\"},\"size\":{\"units\":\"screen\",\"value\":5.477225575051661},\"x\":{\"field\":\"year\"},\"y\":{\"field\":\"sale_price_sqr_foot\"}},\"id\":\"14718\",\"type\":\"Scatter\"},{\"attributes\":{\"fill_alpha\":{\"value\":0.2},\"fill_color\":{\"value\":\"#ff9eb5\"},\"line_alpha\":{\"value\":0.2},\"line_color\":{\"value\":\"#ff9eb5\"},\"size\":{\"units\":\"screen\",\"value\":5.477225575051661},\"x\":{\"field\":\"year\"},\"y\":{\"field\":\"sale_price_sqr_foot\"}},\"id\":\"16225\",\"type\":\"Scatter\"},{\"attributes\":{\"source\":{\"id\":\"10826\"}},\"id\":\"10833\",\"type\":\"CDSView\"},{\"attributes\":{\"fill_alpha\":{\"value\":0.2},\"fill_color\":{\"value\":\"#ff6e75\"},\"line_alpha\":{\"value\":0.2},\"line_color\":{\"value\":\"#ff6e75\"},\"size\":{\"units\":\"screen\",\"value\":5.477225575051661},\"x\":{\"field\":\"year\"},\"y\":{\"field\":\"sale_price_sqr_foot\"}},\"id\":\"12192\",\"type\":\"Scatter\"},{\"attributes\":{\"data_source\":{\"id\":\"12345\"},\"glyph\":{\"id\":\"12348\"},\"hover_glyph\":null,\"muted_glyph\":{\"id\":\"12350\"},\"nonselection_glyph\":{\"id\":\"12349\"},\"selection_glyph\":null,\"view\":{\"id\":\"12352\"}},\"id\":\"12351\",\"type\":\"GlyphRenderer\"},{\"attributes\":{\"data_source\":{\"id\":\"10826\"},\"glyph\":{\"id\":\"10829\"},\"hover_glyph\":null,\"muted_glyph\":{\"id\":\"10831\"},\"nonselection_glyph\":{\"id\":\"10830\"},\"selection_glyph\":null,\"view\":{\"id\":\"10833\"}},\"id\":\"10832\",\"type\":\"GlyphRenderer\"},{\"attributes\":{\"fill_alpha\":{\"value\":0.2},\"fill_color\":{\"value\":\"#dd00ff\"},\"line_alpha\":{\"value\":0.2},\"line_color\":{\"value\":\"#dd00ff\"},\"size\":{\"units\":\"screen\",\"value\":5.477225575051661},\"x\":{\"field\":\"year\"},\"y\":{\"field\":\"sale_price_sqr_foot\"}},\"id\":\"12349\",\"type\":\"Scatter\"},{\"attributes\":{\"data\":{\"neighborhood\":[\"Union Square District\",\"Union Square District\",\"Union Square District\",\"Union Square District\",\"Union Square District\",\"Union Square District\"],\"sale_price_sqr_foot\":{\"__ndarray__\":\"4Ic3LozJgUA7LPDX+OFyQDQwzQom03tAML7sb+MplEBCsqZAK3KBQAl/mNlnpaFA\",\"dtype\":\"float64\",\"shape\":[6]},\"year\":[2010,2011,2012,2013,2014,2015]},\"selected\":{\"id\":\"15930\"},\"selection_policy\":{\"id\":\"16218\"}},\"id\":\"15929\",\"type\":\"ColumnDataSource\"},{\"attributes\":{\"fill_alpha\":{\"value\":0.2},\"fill_color\":{\"value\":\"#2ba02b\"},\"line_alpha\":{\"value\":0.2},\"line_color\":{\"value\":\"#2ba02b\"},\"size\":{\"units\":\"screen\",\"value\":5.477225575051661},\"x\":{\"field\":\"year\"},\"y\":{\"field\":\"sale_price_sqr_foot\"}},\"id\":\"10831\",\"type\":\"Scatter\"},{\"attributes\":{\"source\":{\"id\":\"10889\"}},\"id\":\"10896\",\"type\":\"CDSView\"},{\"attributes\":{\"fill_alpha\":{\"value\":0.2},\"fill_color\":{\"value\":\"#1cd646\"},\"line_alpha\":{\"value\":0.2},\"line_color\":{\"value\":\"#1cd646\"},\"size\":{\"units\":\"screen\",\"value\":5.477225575051661},\"x\":{\"field\":\"year\"},\"y\":{\"field\":\"sale_price_sqr_foot\"}},\"id\":\"13249\",\"type\":\"Scatter\"},{\"attributes\":{\"source\":{\"id\":\"12345\"}},\"id\":\"12352\",\"type\":\"CDSView\"},{\"attributes\":{\"source\":{\"id\":\"15234\"}},\"id\":\"15241\",\"type\":\"CDSView\"},{\"attributes\":{},\"id\":\"11646\",\"type\":\"Selection\"},{\"attributes\":{\"fill_alpha\":{\"value\":0.2},\"fill_color\":{\"value\":\"#ffbff2\"},\"line_alpha\":{\"value\":0.2},\"line_color\":{\"value\":\"#ffbff2\"},\"size\":{\"units\":\"screen\",\"value\":5.477225575051661},\"x\":{\"field\":\"year\"},\"y\":{\"field\":\"sale_price_sqr_foot\"}},\"id\":\"12117\",\"type\":\"Scatter\"},{\"attributes\":{\"fill_alpha\":{\"value\":0.2},\"fill_color\":{\"value\":\"#8ed4ff\"},\"line_alpha\":{\"value\":0.2},\"line_color\":{\"value\":\"#8ed4ff\"},\"size\":{\"units\":\"screen\",\"value\":5.477225575051661},\"x\":{\"field\":\"year\"},\"y\":{\"field\":\"sale_price_sqr_foot\"}},\"id\":\"14114\",\"type\":\"Scatter\"},{\"attributes\":{\"fill_alpha\":{\"value\":0.2},\"fill_color\":{\"value\":\"#9300f2\"},\"line_alpha\":{\"value\":0.2},\"line_color\":{\"value\":\"#9300f2\"},\"size\":{\"units\":\"screen\",\"value\":5.477225575051661},\"x\":{\"field\":\"year\"},\"y\":{\"field\":\"sale_price_sqr_foot\"}},\"id\":\"14469\",\"type\":\"Scatter\"},{\"attributes\":{\"fill_alpha\":{\"value\":0.2},\"fill_color\":{\"value\":\"#dd00ff\"},\"line_alpha\":{\"value\":0.2},\"line_color\":{\"value\":\"#dd00ff\"},\"size\":{\"units\":\"screen\",\"value\":5.477225575051661},\"x\":{\"field\":\"year\"},\"y\":{\"field\":\"sale_price_sqr_foot\"}},\"id\":\"12350\",\"type\":\"Scatter\"},{\"attributes\":{},\"id\":\"14586\",\"type\":\"UnionRenderers\"},{\"attributes\":{\"fill_alpha\":{\"value\":0.2},\"fill_color\":{\"value\":\"#8ed4ff\"},\"line_alpha\":{\"value\":0.2},\"line_color\":{\"value\":\"#8ed4ff\"},\"size\":{\"units\":\"screen\",\"value\":5.477225575051661},\"x\":{\"field\":\"year\"},\"y\":{\"field\":\"sale_price_sqr_foot\"}},\"id\":\"14112\",\"type\":\"Scatter\"},{\"attributes\":{\"source\":{\"id\":\"14466\"}},\"id\":\"14473\",\"type\":\"CDSView\"},{\"attributes\":{\"fill_alpha\":{\"value\":0.2},\"fill_color\":{\"value\":\"#dd00ff\"},\"line_alpha\":{\"value\":0.2},\"line_color\":{\"value\":\"#dd00ff\"},\"size\":{\"units\":\"screen\",\"value\":5.477225575051661},\"x\":{\"field\":\"year\"},\"y\":{\"field\":\"sale_price_sqr_foot\"}},\"id\":\"12348\",\"type\":\"Scatter\"},{\"attributes\":{\"label\":{\"value\":\"Silver Terrace\"},\"renderers\":[{\"id\":\"15107\"}]},\"id\":\"15233\",\"type\":\"LegendItem\"},{\"attributes\":{},\"id\":\"14223\",\"type\":\"UnionRenderers\"},{\"attributes\":{\"source\":{\"id\":\"14109\"}},\"id\":\"14116\",\"type\":\"CDSView\"}],\"root_ids\":[\"10682\"]},\"title\":\"Bokeh Application\",\"version\":\"2.0.2\"}};\n",
       "  var render_items = [{\"docid\":\"e23f46f8-354c-4ec2-aa01-9de08a77962b\",\"root_ids\":[\"10682\"],\"roots\":{\"10682\":\"ea786c3e-f313-4359-8c9d-89bf902af432\"}}];\n",
       "  root.Bokeh.embed.embed_items_notebook(docs_json, render_items);\n",
       "  }\n",
       "if (root.Bokeh !== undefined) {\n",
       "    embed_document(root);\n",
       "  } else {\n",
       "    var attempts = 0;\n",
       "    var timer = setInterval(function(root) {\n",
       "      if (root.Bokeh !== undefined) {\n",
       "        clearInterval(timer);\n",
       "        embed_document(root);\n",
       "      } else if (document.readyState == \"complete\") {\n",
       "        attempts++;\n",
       "        if (attempts > 100) {\n",
       "          clearInterval(timer);\n",
       "          console.log(\"Bokeh: ERROR: Unable to run BokehJS code because BokehJS library is missing\");\n",
       "        }\n",
       "      }\n",
       "    }, 10, root)\n",
       "  }\n",
       "})(window);</script>"
      ],
      "text/plain": [
       ":NdOverlay   [neighborhood]\n",
       "   :Scatter   [year]   (sale_price_sqr_foot)"
      ]
     },
     "execution_count": 235,
     "metadata": {
      "application/vnd.holoviews_exec.v0+json": {
       "id": "10682"
      }
     },
     "output_type": "execute_result"
    }
   ],
   "source": [
    "# First, use hvplot to display all housing sale price\n",
    "sfo_data_group_5.hvplot(x='year', y='sale_price_sqr_foot', by='neighborhood', kind='scatter', alpha=0.2, persist=True)"
   ]
  },
  {
   "cell_type": "code",
   "execution_count": 236,
   "metadata": {},
   "outputs": [],
   "source": [
    "# Second, use the neighborhood drop down menu and hvplot to display housing sale price\n",
    "# Define function to create plot"
   ]
  },
  {
   "cell_type": "markdown",
   "metadata": {},
   "source": [
    "- - - "
   ]
  },
  {
   "cell_type": "markdown",
   "metadata": {},
   "source": [
    "## The Top 10 Most Expensive Neighborhoods\n",
    "\n",
    "In this section, you will need to calculate the mean sale price for each neighborhood and then sort the values to obtain the top 10 most expensive neighborhoods on average. Plot the results as a bar chart."
   ]
  },
  {
   "cell_type": "code",
   "execution_count": 237,
   "metadata": {},
   "outputs": [
    {
     "data": {
      "text/html": [
       "<div>\n",
       "<style scoped>\n",
       "    .dataframe tbody tr th:only-of-type {\n",
       "        vertical-align: middle;\n",
       "    }\n",
       "\n",
       "    .dataframe tbody tr th {\n",
       "        vertical-align: top;\n",
       "    }\n",
       "\n",
       "    .dataframe thead th {\n",
       "        text-align: right;\n",
       "    }\n",
       "</style>\n",
       "<table border=\"1\" class=\"dataframe\">\n",
       "  <thead>\n",
       "    <tr style=\"text-align: right;\">\n",
       "      <th></th>\n",
       "      <th>neighborhood</th>\n",
       "      <th>sale_price_sqr_foot</th>\n",
       "      <th>housing_units</th>\n",
       "      <th>gross_rent</th>\n",
       "    </tr>\n",
       "  </thead>\n",
       "  <tbody>\n",
       "    <tr>\n",
       "      <th>0</th>\n",
       "      <td>Alamo Square</td>\n",
       "      <td>366.020712</td>\n",
       "      <td>378401.0</td>\n",
       "      <td>2817.285714</td>\n",
       "    </tr>\n",
       "    <tr>\n",
       "      <th>1</th>\n",
       "      <td>Anza Vista</td>\n",
       "      <td>373.382198</td>\n",
       "      <td>379050.0</td>\n",
       "      <td>3031.833333</td>\n",
       "    </tr>\n",
       "    <tr>\n",
       "      <th>2</th>\n",
       "      <td>Bayview</td>\n",
       "      <td>204.588623</td>\n",
       "      <td>376454.0</td>\n",
       "      <td>2318.400000</td>\n",
       "    </tr>\n",
       "    <tr>\n",
       "      <th>3</th>\n",
       "      <td>Bayview Heights</td>\n",
       "      <td>590.792839</td>\n",
       "      <td>382295.0</td>\n",
       "      <td>3739.000000</td>\n",
       "    </tr>\n",
       "    <tr>\n",
       "      <th>4</th>\n",
       "      <td>Bernal Heights</td>\n",
       "      <td>576.746488</td>\n",
       "      <td>379374.5</td>\n",
       "      <td>3080.333333</td>\n",
       "    </tr>\n",
       "  </tbody>\n",
       "</table>\n",
       "</div>"
      ],
      "text/plain": [
       "      neighborhood  sale_price_sqr_foot  housing_units   gross_rent\n",
       "0     Alamo Square           366.020712       378401.0  2817.285714\n",
       "1       Anza Vista           373.382198       379050.0  3031.833333\n",
       "2          Bayview           204.588623       376454.0  2318.400000\n",
       "3  Bayview Heights           590.792839       382295.0  3739.000000\n",
       "4  Bernal Heights            576.746488       379374.5  3080.333333"
      ]
     },
     "execution_count": 237,
     "metadata": {},
     "output_type": "execute_result"
    }
   ],
   "source": [
    "# Getting the data from the top 10 expensive neighborhoods\n",
    "# Retrieve the original dateframe without the \"year\" index column, group by \"neighborhood\", average the values\n",
    "sf_data_group_6 = sfo_data.groupby(['neighborhood'], as_index=False).mean()\n",
    "sf_data_group_6.head()"
   ]
  },
  {
   "cell_type": "code",
   "execution_count": 238,
   "metadata": {},
   "outputs": [
    {
     "data": {
      "text/html": [
       "<div>\n",
       "<style scoped>\n",
       "    .dataframe tbody tr th:only-of-type {\n",
       "        vertical-align: middle;\n",
       "    }\n",
       "\n",
       "    .dataframe tbody tr th {\n",
       "        vertical-align: top;\n",
       "    }\n",
       "\n",
       "    .dataframe thead th {\n",
       "        text-align: right;\n",
       "    }\n",
       "</style>\n",
       "<table border=\"1\" class=\"dataframe\">\n",
       "  <thead>\n",
       "    <tr style=\"text-align: right;\">\n",
       "      <th></th>\n",
       "      <th>neighborhood</th>\n",
       "      <th>sale_price_sqr_foot</th>\n",
       "      <th>housing_units</th>\n",
       "      <th>gross_rent</th>\n",
       "    </tr>\n",
       "  </thead>\n",
       "  <tbody>\n",
       "    <tr>\n",
       "      <th>65</th>\n",
       "      <td>Union Square District</td>\n",
       "      <td>903.993258</td>\n",
       "      <td>377427.50</td>\n",
       "      <td>2555.166667</td>\n",
       "    </tr>\n",
       "    <tr>\n",
       "      <th>36</th>\n",
       "      <td>Merced Heights</td>\n",
       "      <td>788.844818</td>\n",
       "      <td>380348.00</td>\n",
       "      <td>3414.000000</td>\n",
       "    </tr>\n",
       "    <tr>\n",
       "      <th>38</th>\n",
       "      <td>Miraloma Park</td>\n",
       "      <td>779.810842</td>\n",
       "      <td>375967.25</td>\n",
       "      <td>2155.250000</td>\n",
       "    </tr>\n",
       "    <tr>\n",
       "      <th>51</th>\n",
       "      <td>Pacific Heights</td>\n",
       "      <td>689.555817</td>\n",
       "      <td>378401.00</td>\n",
       "      <td>2817.285714</td>\n",
       "    </tr>\n",
       "    <tr>\n",
       "      <th>71</th>\n",
       "      <td>Westwood Park</td>\n",
       "      <td>687.087575</td>\n",
       "      <td>382295.00</td>\n",
       "      <td>3959.000000</td>\n",
       "    </tr>\n",
       "  </tbody>\n",
       "</table>\n",
       "</div>"
      ],
      "text/plain": [
       "             neighborhood  sale_price_sqr_foot  housing_units   gross_rent\n",
       "65  Union Square District           903.993258      377427.50  2555.166667\n",
       "36         Merced Heights           788.844818      380348.00  3414.000000\n",
       "38          Miraloma Park           779.810842      375967.25  2155.250000\n",
       "51        Pacific Heights           689.555817      378401.00  2817.285714\n",
       "71          Westwood Park           687.087575      382295.00  3959.000000"
      ]
     },
     "execution_count": 238,
     "metadata": {},
     "output_type": "execute_result"
    }
   ],
   "source": [
    "# Order the new dataframe by highest sale price per square foot, and drop all rows execpt for the first 10\n",
    "sf_data_group_6_sort = sf_data_group_6.sort_values('sale_price_sqr_foot', ascending=False)\n",
    "sf_data_group_6_sort.head()"
   ]
  },
  {
   "cell_type": "code",
   "execution_count": 239,
   "metadata": {},
   "outputs": [
    {
     "data": {
      "text/html": [
       "<div>\n",
       "<style scoped>\n",
       "    .dataframe tbody tr th:only-of-type {\n",
       "        vertical-align: middle;\n",
       "    }\n",
       "\n",
       "    .dataframe tbody tr th {\n",
       "        vertical-align: top;\n",
       "    }\n",
       "\n",
       "    .dataframe thead th {\n",
       "        text-align: right;\n",
       "    }\n",
       "</style>\n",
       "<table border=\"1\" class=\"dataframe\">\n",
       "  <thead>\n",
       "    <tr style=\"text-align: right;\">\n",
       "      <th></th>\n",
       "      <th>sale_price_sqr_foot</th>\n",
       "      <th>housing_units</th>\n",
       "      <th>gross_rent</th>\n",
       "    </tr>\n",
       "    <tr>\n",
       "      <th>neighborhood</th>\n",
       "      <th></th>\n",
       "      <th></th>\n",
       "      <th></th>\n",
       "    </tr>\n",
       "  </thead>\n",
       "  <tbody>\n",
       "    <tr>\n",
       "      <th>Union Square District</th>\n",
       "      <td>903.993258</td>\n",
       "      <td>377427.50</td>\n",
       "      <td>2555.166667</td>\n",
       "    </tr>\n",
       "    <tr>\n",
       "      <th>Merced Heights</th>\n",
       "      <td>788.844818</td>\n",
       "      <td>380348.00</td>\n",
       "      <td>3414.000000</td>\n",
       "    </tr>\n",
       "    <tr>\n",
       "      <th>Miraloma Park</th>\n",
       "      <td>779.810842</td>\n",
       "      <td>375967.25</td>\n",
       "      <td>2155.250000</td>\n",
       "    </tr>\n",
       "    <tr>\n",
       "      <th>Pacific Heights</th>\n",
       "      <td>689.555817</td>\n",
       "      <td>378401.00</td>\n",
       "      <td>2817.285714</td>\n",
       "    </tr>\n",
       "    <tr>\n",
       "      <th>Westwood Park</th>\n",
       "      <td>687.087575</td>\n",
       "      <td>382295.00</td>\n",
       "      <td>3959.000000</td>\n",
       "    </tr>\n",
       "  </tbody>\n",
       "</table>\n",
       "</div>"
      ],
      "text/plain": [
       "                       sale_price_sqr_foot  housing_units   gross_rent\n",
       "neighborhood                                                          \n",
       "Union Square District           903.993258      377427.50  2555.166667\n",
       "Merced Heights                  788.844818      380348.00  3414.000000\n",
       "Miraloma Park                   779.810842      375967.25  2155.250000\n",
       "Pacific Heights                 689.555817      378401.00  2817.285714\n",
       "Westwood Park                   687.087575      382295.00  3959.000000"
      ]
     },
     "execution_count": 239,
     "metadata": {},
     "output_type": "execute_result"
    }
   ],
   "source": [
    "# Set neighborhood column as index\n",
    "sf_data_group_6_sorted = sf_data_group_6_sort.set_index(\"neighborhood\")\n",
    "sf_data_group_6_sorted.head()"
   ]
  },
  {
   "cell_type": "code",
   "execution_count": 240,
   "metadata": {},
   "outputs": [
    {
     "data": {
      "text/html": [
       "<div>\n",
       "<style scoped>\n",
       "    .dataframe tbody tr th:only-of-type {\n",
       "        vertical-align: middle;\n",
       "    }\n",
       "\n",
       "    .dataframe tbody tr th {\n",
       "        vertical-align: top;\n",
       "    }\n",
       "\n",
       "    .dataframe thead th {\n",
       "        text-align: right;\n",
       "    }\n",
       "</style>\n",
       "<table border=\"1\" class=\"dataframe\">\n",
       "  <thead>\n",
       "    <tr style=\"text-align: right;\">\n",
       "      <th></th>\n",
       "      <th>sale_price_sqr_foot</th>\n",
       "      <th>housing_units</th>\n",
       "      <th>gross_rent</th>\n",
       "    </tr>\n",
       "    <tr>\n",
       "      <th>neighborhood</th>\n",
       "      <th></th>\n",
       "      <th></th>\n",
       "      <th></th>\n",
       "    </tr>\n",
       "  </thead>\n",
       "  <tbody>\n",
       "    <tr>\n",
       "      <th>Union Square District</th>\n",
       "      <td>903.993258</td>\n",
       "      <td>377427.50</td>\n",
       "      <td>2555.166667</td>\n",
       "    </tr>\n",
       "    <tr>\n",
       "      <th>Merced Heights</th>\n",
       "      <td>788.844818</td>\n",
       "      <td>380348.00</td>\n",
       "      <td>3414.000000</td>\n",
       "    </tr>\n",
       "    <tr>\n",
       "      <th>Miraloma Park</th>\n",
       "      <td>779.810842</td>\n",
       "      <td>375967.25</td>\n",
       "      <td>2155.250000</td>\n",
       "    </tr>\n",
       "    <tr>\n",
       "      <th>Pacific Heights</th>\n",
       "      <td>689.555817</td>\n",
       "      <td>378401.00</td>\n",
       "      <td>2817.285714</td>\n",
       "    </tr>\n",
       "    <tr>\n",
       "      <th>Westwood Park</th>\n",
       "      <td>687.087575</td>\n",
       "      <td>382295.00</td>\n",
       "      <td>3959.000000</td>\n",
       "    </tr>\n",
       "    <tr>\n",
       "      <th>Telegraph Hill</th>\n",
       "      <td>676.506578</td>\n",
       "      <td>378401.00</td>\n",
       "      <td>2817.285714</td>\n",
       "    </tr>\n",
       "    <tr>\n",
       "      <th>Presidio Heights</th>\n",
       "      <td>675.350212</td>\n",
       "      <td>378401.00</td>\n",
       "      <td>2817.285714</td>\n",
       "    </tr>\n",
       "    <tr>\n",
       "      <th>Cow Hollow</th>\n",
       "      <td>665.964042</td>\n",
       "      <td>378401.00</td>\n",
       "      <td>2817.285714</td>\n",
       "    </tr>\n",
       "    <tr>\n",
       "      <th>Potrero Hill</th>\n",
       "      <td>662.013613</td>\n",
       "      <td>378401.00</td>\n",
       "      <td>2817.285714</td>\n",
       "    </tr>\n",
       "    <tr>\n",
       "      <th>South Beach</th>\n",
       "      <td>650.124479</td>\n",
       "      <td>375805.00</td>\n",
       "      <td>2099.000000</td>\n",
       "    </tr>\n",
       "  </tbody>\n",
       "</table>\n",
       "</div>"
      ],
      "text/plain": [
       "                       sale_price_sqr_foot  housing_units   gross_rent\n",
       "neighborhood                                                          \n",
       "Union Square District           903.993258      377427.50  2555.166667\n",
       "Merced Heights                  788.844818      380348.00  3414.000000\n",
       "Miraloma Park                   779.810842      375967.25  2155.250000\n",
       "Pacific Heights                 689.555817      378401.00  2817.285714\n",
       "Westwood Park                   687.087575      382295.00  3959.000000\n",
       "Telegraph Hill                  676.506578      378401.00  2817.285714\n",
       "Presidio Heights                675.350212      378401.00  2817.285714\n",
       "Cow Hollow                      665.964042      378401.00  2817.285714\n",
       "Potrero Hill                    662.013613      378401.00  2817.285714\n",
       "South Beach                     650.124479      375805.00  2099.000000"
      ]
     },
     "execution_count": 240,
     "metadata": {},
     "output_type": "execute_result"
    }
   ],
   "source": [
    "# Slice dataframe to only keep first 10 rows\n",
    "sf_data_group_7 = sf_data_group_6_sorted.head(10)\n",
    "sf_data_group_7"
   ]
  },
  {
   "cell_type": "code",
   "execution_count": 241,
   "metadata": {},
   "outputs": [
    {
     "data": {
      "text/html": [
       "<div>\n",
       "<style scoped>\n",
       "    .dataframe tbody tr th:only-of-type {\n",
       "        vertical-align: middle;\n",
       "    }\n",
       "\n",
       "    .dataframe tbody tr th {\n",
       "        vertical-align: top;\n",
       "    }\n",
       "\n",
       "    .dataframe thead th {\n",
       "        text-align: right;\n",
       "    }\n",
       "</style>\n",
       "<table border=\"1\" class=\"dataframe\">\n",
       "  <thead>\n",
       "    <tr style=\"text-align: right;\">\n",
       "      <th></th>\n",
       "      <th>sale_price_sqr_foot</th>\n",
       "    </tr>\n",
       "    <tr>\n",
       "      <th>neighborhood</th>\n",
       "      <th></th>\n",
       "    </tr>\n",
       "  </thead>\n",
       "  <tbody>\n",
       "    <tr>\n",
       "      <th>Union Square District</th>\n",
       "      <td>903.993258</td>\n",
       "    </tr>\n",
       "    <tr>\n",
       "      <th>Merced Heights</th>\n",
       "      <td>788.844818</td>\n",
       "    </tr>\n",
       "    <tr>\n",
       "      <th>Miraloma Park</th>\n",
       "      <td>779.810842</td>\n",
       "    </tr>\n",
       "    <tr>\n",
       "      <th>Pacific Heights</th>\n",
       "      <td>689.555817</td>\n",
       "    </tr>\n",
       "    <tr>\n",
       "      <th>Westwood Park</th>\n",
       "      <td>687.087575</td>\n",
       "    </tr>\n",
       "  </tbody>\n",
       "</table>\n",
       "</div>"
      ],
      "text/plain": [
       "                       sale_price_sqr_foot\n",
       "neighborhood                              \n",
       "Union Square District           903.993258\n",
       "Merced Heights                  788.844818\n",
       "Miraloma Park                   779.810842\n",
       "Pacific Heights                 689.555817\n",
       "Westwood Park                   687.087575"
      ]
     },
     "execution_count": 241,
     "metadata": {},
     "output_type": "execute_result"
    }
   ],
   "source": [
    "# Remove extraneous columns\n",
    "sf_data_group_8 = sf_data_group_7.drop(columns=[\"housing_units\", \"gross_rent\"])\n",
    "sf_data_group_8.head()"
   ]
  },
  {
   "cell_type": "code",
   "execution_count": 242,
   "metadata": {},
   "outputs": [
    {
     "data": {
      "application/vnd.holoviews_exec.v0+json": "",
      "text/html": [
       "<div id='19123'>\n",
       "\n",
       "\n",
       "\n",
       "\n",
       "\n",
       "  <div class=\"bk-root\" id=\"90b95f95-e6e9-4e95-b696-9342a9f7f323\" data-root-id=\"19123\"></div>\n",
       "</div>\n",
       "<script type=\"application/javascript\">(function(root) {\n",
       "  function embed_document(root) {\n",
       "  var docs_json = {\"ca416c3c-9c14-478a-b087-e642f0fc7177\":{\"roots\":{\"references\":[{\"attributes\":{\"axis\":{\"id\":\"19140\"},\"dimension\":1,\"grid_line_color\":null,\"ticker\":null},\"id\":\"19143\",\"type\":\"Grid\"},{\"attributes\":{\"bottom_units\":\"screen\",\"fill_alpha\":0.5,\"fill_color\":\"lightgrey\",\"left_units\":\"screen\",\"level\":\"overlay\",\"line_alpha\":1.0,\"line_color\":\"black\",\"line_dash\":[4,4],\"line_width\":2,\"render_mode\":\"css\",\"right_units\":\"screen\",\"top_units\":\"screen\"},\"id\":\"19149\",\"type\":\"BoxAnnotation\"},{\"attributes\":{},\"id\":\"19141\",\"type\":\"BasicTicker\"},{\"attributes\":{\"source\":{\"id\":\"19157\"}},\"id\":\"19164\",\"type\":\"CDSView\"},{\"attributes\":{\"active_drag\":\"auto\",\"active_inspect\":\"auto\",\"active_multi\":null,\"active_scroll\":\"auto\",\"active_tap\":\"auto\",\"tools\":[{\"id\":\"19127\"},{\"id\":\"19144\"},{\"id\":\"19145\"},{\"id\":\"19146\"},{\"id\":\"19147\"},{\"id\":\"19148\"}]},\"id\":\"19150\",\"type\":\"Toolbar\"},{\"attributes\":{\"align\":null,\"below\":[{\"id\":\"19137\"}],\"center\":[{\"id\":\"19139\"},{\"id\":\"19143\"}],\"left\":[{\"id\":\"19140\"}],\"margin\":null,\"min_border_bottom\":10,\"min_border_left\":10,\"min_border_right\":10,\"min_border_top\":10,\"plot_height\":300,\"plot_width\":700,\"renderers\":[{\"id\":\"19163\"}],\"sizing_mode\":\"fixed\",\"title\":{\"id\":\"19129\"},\"toolbar\":{\"id\":\"19150\"},\"x_range\":{\"id\":\"19125\"},\"x_scale\":{\"id\":\"19133\"},\"y_range\":{\"id\":\"19126\"},\"y_scale\":{\"id\":\"19135\"}},\"id\":\"19128\",\"subtype\":\"Figure\",\"type\":\"Plot\"},{\"attributes\":{\"children\":[{\"id\":\"19124\"},{\"id\":\"19128\"},{\"id\":\"19177\"}],\"margin\":[0,0,0,0],\"name\":\"Row28429\",\"tags\":[\"embedded\"]},\"id\":\"19123\",\"type\":\"Row\"},{\"attributes\":{\"margin\":[5,5,5,5],\"name\":\"HSpacer28433\",\"sizing_mode\":\"stretch_width\"},\"id\":\"19124\",\"type\":\"Spacer\"},{\"attributes\":{},\"id\":\"19158\",\"type\":\"Selection\"},{\"attributes\":{\"fill_alpha\":{\"value\":0.2},\"fill_color\":{\"value\":\"#1f77b3\"},\"line_alpha\":{\"value\":0.2},\"top\":{\"field\":\"sale_price_sqr_foot\"},\"width\":{\"value\":0.8},\"x\":{\"field\":\"neighborhood\"}},\"id\":\"19162\",\"type\":\"VBar\"},{\"attributes\":{},\"id\":\"19135\",\"type\":\"LinearScale\"},{\"attributes\":{\"fill_color\":{\"value\":\"#1f77b3\"},\"top\":{\"field\":\"sale_price_sqr_foot\"},\"width\":{\"value\":0.8},\"x\":{\"field\":\"neighborhood\"}},\"id\":\"19160\",\"type\":\"VBar\"},{\"attributes\":{\"margin\":[5,5,5,5],\"name\":\"HSpacer28434\",\"sizing_mode\":\"stretch_width\"},\"id\":\"19177\",\"type\":\"Spacer\"},{\"attributes\":{\"text\":\"\",\"text_color\":{\"value\":\"black\"},\"text_font_size\":{\"value\":\"12pt\"}},\"id\":\"19129\",\"type\":\"Title\"},{\"attributes\":{},\"id\":\"19175\",\"type\":\"UnionRenderers\"},{\"attributes\":{\"end\":929.3801355198136,\"reset_end\":929.3801355198136,\"reset_start\":0.0,\"tags\":[[[\"sale_price_sqr_foot\",\"sale_price_sqr_foot\",null]]]},\"id\":\"19126\",\"type\":\"Range1d\"},{\"attributes\":{\"overlay\":{\"id\":\"19149\"}},\"id\":\"19147\",\"type\":\"BoxZoomTool\"},{\"attributes\":{},\"id\":\"19133\",\"type\":\"CategoricalScale\"},{\"attributes\":{\"fill_alpha\":{\"value\":0.1},\"fill_color\":{\"value\":\"#1f77b3\"},\"line_alpha\":{\"value\":0.1},\"top\":{\"field\":\"sale_price_sqr_foot\"},\"width\":{\"value\":0.8},\"x\":{\"field\":\"neighborhood\"}},\"id\":\"19161\",\"type\":\"VBar\"},{\"attributes\":{},\"id\":\"19145\",\"type\":\"PanTool\"},{\"attributes\":{},\"id\":\"19144\",\"type\":\"SaveTool\"},{\"attributes\":{},\"id\":\"19166\",\"type\":\"CategoricalTickFormatter\"},{\"attributes\":{},\"id\":\"19138\",\"type\":\"CategoricalTicker\"},{\"attributes\":{\"data_source\":{\"id\":\"19157\"},\"glyph\":{\"id\":\"19160\"},\"hover_glyph\":null,\"muted_glyph\":{\"id\":\"19162\"},\"nonselection_glyph\":{\"id\":\"19161\"},\"selection_glyph\":null,\"view\":{\"id\":\"19164\"}},\"id\":\"19163\",\"type\":\"GlyphRenderer\"},{\"attributes\":{\"axis\":{\"id\":\"19137\"},\"grid_line_color\":null,\"ticker\":null},\"id\":\"19139\",\"type\":\"Grid\"},{\"attributes\":{\"factors\":[\"Union Square District\",\"Merced Heights\",\"Miraloma Park\",\"Pacific Heights\",\"Westwood Park\",\"Telegraph Hill\",\"Presidio Heights\",\"Cow Hollow\",\"Potrero Hill\",\"South Beach\"],\"tags\":[[[\"neighborhood\",\"neighborhood\",null]]]},\"id\":\"19125\",\"type\":\"FactorRange\"},{\"attributes\":{\"axis_label\":\"neighborhood\",\"bounds\":\"auto\",\"formatter\":{\"id\":\"19166\"},\"major_label_orientation\":1.5707963267948966,\"ticker\":{\"id\":\"19138\"}},\"id\":\"19137\",\"type\":\"CategoricalAxis\"},{\"attributes\":{},\"id\":\"19168\",\"type\":\"BasicTickFormatter\"},{\"attributes\":{},\"id\":\"19148\",\"type\":\"ResetTool\"},{\"attributes\":{\"axis_label\":\"sale_price_sqr_foot\",\"bounds\":\"auto\",\"formatter\":{\"id\":\"19168\"},\"major_label_orientation\":\"horizontal\",\"ticker\":{\"id\":\"19141\"}},\"id\":\"19140\",\"type\":\"LinearAxis\"},{\"attributes\":{\"callback\":null,\"renderers\":[{\"id\":\"19163\"}],\"tags\":[\"hv_created\"],\"tooltips\":[[\"neighborhood\",\"@{neighborhood}\"],[\"sale_price_sqr_foot\",\"@{sale_price_sqr_foot}\"]]},\"id\":\"19127\",\"type\":\"HoverTool\"},{\"attributes\":{},\"id\":\"19146\",\"type\":\"WheelZoomTool\"},{\"attributes\":{\"data\":{\"neighborhood\":[\"Union Square District\",\"Merced Heights\",\"Miraloma Park\",\"Pacific Heights\",\"Westwood Park\",\"Telegraph Hill\",\"Presidio Heights\",\"Cow Hollow\",\"Potrero Hill\",\"South Beach\"],\"sale_price_sqr_foot\":{\"__ndarray__\":\"JRAUMfI/jEB9IrkvwqaIQFx/3pp8XohAFpsVUHKMhUBs0ERas3iFQL0KhXgNJIVAy835O80ahUANV25bts+EQJrMCuEbsIRAya3y7v5QhEA=\",\"dtype\":\"float64\",\"shape\":[10]}},\"selected\":{\"id\":\"19158\"},\"selection_policy\":{\"id\":\"19175\"}},\"id\":\"19157\",\"type\":\"ColumnDataSource\"}],\"root_ids\":[\"19123\"]},\"title\":\"Bokeh Application\",\"version\":\"2.0.2\"}};\n",
       "  var render_items = [{\"docid\":\"ca416c3c-9c14-478a-b087-e642f0fc7177\",\"root_ids\":[\"19123\"],\"roots\":{\"19123\":\"90b95f95-e6e9-4e95-b696-9342a9f7f323\"}}];\n",
       "  root.Bokeh.embed.embed_items_notebook(docs_json, render_items);\n",
       "  }\n",
       "if (root.Bokeh !== undefined) {\n",
       "    embed_document(root);\n",
       "  } else {\n",
       "    var attempts = 0;\n",
       "    var timer = setInterval(function(root) {\n",
       "      if (root.Bokeh !== undefined) {\n",
       "        clearInterval(timer);\n",
       "        embed_document(root);\n",
       "      } else if (document.readyState == \"complete\") {\n",
       "        attempts++;\n",
       "        if (attempts > 100) {\n",
       "          clearInterval(timer);\n",
       "          console.log(\"Bokeh: ERROR: Unable to run BokehJS code because BokehJS library is missing\");\n",
       "        }\n",
       "      }\n",
       "    }, 10, root)\n",
       "  }\n",
       "})(window);</script>"
      ],
      "text/plain": [
       ":Bars   [neighborhood]   (sale_price_sqr_foot)"
      ]
     },
     "execution_count": 242,
     "metadata": {
      "application/vnd.holoviews_exec.v0+json": {
       "id": "19123"
      }
     },
     "output_type": "execute_result"
    }
   ],
   "source": [
    "# Plotting the data from the top 10 expensive neighborhoods\n",
    "sf_data_group_8.hvplot(kind=\"bar\", rot=90)"
   ]
  },
  {
   "cell_type": "markdown",
   "metadata": {},
   "source": [
    "- - - "
   ]
  },
  {
   "cell_type": "markdown",
   "metadata": {},
   "source": [
    "## Parallel Coordinates and Parallel Categories Analysis\n",
    "\n",
    "In this section, you will use plotly express to create parallel coordinates and parallel categories visualizations so that investors can interactively filter and explore various factors related to the sales price of the neighborhoods. \n",
    "\n",
    "Using the DataFrame of Average values per neighborhood (calculated above), create the following visualizations:\n",
    "1. Create a Parallel Coordinates Plot\n",
    "2. Create a Parallel Categories Plot"
   ]
  },
  {
   "cell_type": "code",
   "execution_count": 243,
   "metadata": {},
   "outputs": [
    {
     "data": {
      "text/html": [
       "<div>\n",
       "<style scoped>\n",
       "    .dataframe tbody tr th:only-of-type {\n",
       "        vertical-align: middle;\n",
       "    }\n",
       "\n",
       "    .dataframe tbody tr th {\n",
       "        vertical-align: top;\n",
       "    }\n",
       "\n",
       "    .dataframe thead th {\n",
       "        text-align: right;\n",
       "    }\n",
       "</style>\n",
       "<table border=\"1\" class=\"dataframe\">\n",
       "  <thead>\n",
       "    <tr style=\"text-align: right;\">\n",
       "      <th></th>\n",
       "      <th>neighborhood</th>\n",
       "      <th>sale_price_sqr_foot</th>\n",
       "      <th>housing_units</th>\n",
       "      <th>gross_rent</th>\n",
       "    </tr>\n",
       "  </thead>\n",
       "  <tbody>\n",
       "    <tr>\n",
       "      <th>0</th>\n",
       "      <td>Union Square District</td>\n",
       "      <td>903.99</td>\n",
       "      <td>377427.50</td>\n",
       "      <td>2555.17</td>\n",
       "    </tr>\n",
       "    <tr>\n",
       "      <th>1</th>\n",
       "      <td>Merced Heights</td>\n",
       "      <td>788.84</td>\n",
       "      <td>380348.00</td>\n",
       "      <td>3414.00</td>\n",
       "    </tr>\n",
       "    <tr>\n",
       "      <th>2</th>\n",
       "      <td>Miraloma Park</td>\n",
       "      <td>779.81</td>\n",
       "      <td>375967.25</td>\n",
       "      <td>2155.25</td>\n",
       "    </tr>\n",
       "    <tr>\n",
       "      <th>3</th>\n",
       "      <td>Pacific Heights</td>\n",
       "      <td>689.56</td>\n",
       "      <td>378401.00</td>\n",
       "      <td>2817.29</td>\n",
       "    </tr>\n",
       "    <tr>\n",
       "      <th>4</th>\n",
       "      <td>Westwood Park</td>\n",
       "      <td>687.09</td>\n",
       "      <td>382295.00</td>\n",
       "      <td>3959.00</td>\n",
       "    </tr>\n",
       "  </tbody>\n",
       "</table>\n",
       "</div>"
      ],
      "text/plain": [
       "            neighborhood  sale_price_sqr_foot  housing_units  gross_rent\n",
       "0  Union Square District               903.99      377427.50     2555.17\n",
       "1         Merced Heights               788.84      380348.00     3414.00\n",
       "2          Miraloma Park               779.81      375967.25     2155.25\n",
       "3        Pacific Heights               689.56      378401.00     2817.29\n",
       "4          Westwood Park               687.09      382295.00     3959.00"
      ]
     },
     "execution_count": 243,
     "metadata": {},
     "output_type": "execute_result"
    }
   ],
   "source": [
    "# Retrieve original top 10 data and move the year column out of the index column and round all values to 2 decimal places\n",
    "sf_data_group_9 = sf_data_group_7.reset_index().round(decimals=2)\n",
    "sf_data_group_9.head()"
   ]
  },
  {
   "cell_type": "code",
   "execution_count": 244,
   "metadata": {},
   "outputs": [
    {
     "data": {
      "application/vnd.plotly.v1+json": {
       "config": {
        "plotlyServerURL": "https://plot.ly"
       },
       "data": [
        {
         "dimensions": [
          {
           "label": "Neighborhood",
           "values": [
            "Union Square District",
            "Merced Heights",
            "Miraloma Park",
            "Pacific Heights",
            "Westwood Park",
            "Telegraph Hill",
            "Presidio Heights",
            "Cow Hollow",
            "Potrero Hill",
            "South Beach"
           ]
          },
          {
           "label": "Price Per SF",
           "values": [
            903.99,
            788.84,
            779.81,
            689.56,
            687.09,
            676.51,
            675.35,
            665.96,
            662.01,
            650.12
           ]
          },
          {
           "label": "# Of Housing Units",
           "values": [
            377427.5,
            380348,
            375967.25,
            378401,
            382295,
            378401,
            378401,
            378401,
            378401,
            375805
           ]
          },
          {
           "label": "Gross Rent",
           "values": [
            2555.17,
            3414,
            2155.25,
            2817.29,
            3959,
            2817.29,
            2817.29,
            2817.29,
            2817.29,
            2099
           ]
          }
         ],
         "domain": {
          "x": [
           0,
           1
          ],
          "y": [
           0,
           1
          ]
         },
         "line": {
          "color": [
           903.99,
           788.84,
           779.81,
           689.56,
           687.09,
           676.51,
           675.35,
           665.96,
           662.01,
           650.12
          ],
          "coloraxis": "coloraxis"
         },
         "name": "",
         "type": "parcats"
        }
       ],
       "layout": {
        "autosize": true,
        "coloraxis": {
         "colorbar": {
          "title": {
           "text": "Price Per SF"
          }
         },
         "colorscale": [
          [
           0,
           "#000004"
          ],
          [
           0.1111111111111111,
           "#1b0c41"
          ],
          [
           0.2222222222222222,
           "#4a0c6b"
          ],
          [
           0.3333333333333333,
           "#781c6d"
          ],
          [
           0.4444444444444444,
           "#a52c60"
          ],
          [
           0.5555555555555556,
           "#cf4446"
          ],
          [
           0.6666666666666666,
           "#ed6925"
          ],
          [
           0.7777777777777778,
           "#fb9b06"
          ],
          [
           0.8888888888888888,
           "#f7d13d"
          ],
          [
           1,
           "#fcffa4"
          ]
         ]
        },
        "legend": {
         "tracegroupgap": 0
        },
        "margin": {
         "t": 60
        },
        "template": {
         "data": {
          "bar": [
           {
            "error_x": {
             "color": "#2a3f5f"
            },
            "error_y": {
             "color": "#2a3f5f"
            },
            "marker": {
             "line": {
              "color": "#E5ECF6",
              "width": 0.5
             }
            },
            "type": "bar"
           }
          ],
          "barpolar": [
           {
            "marker": {
             "line": {
              "color": "#E5ECF6",
              "width": 0.5
             }
            },
            "type": "barpolar"
           }
          ],
          "carpet": [
           {
            "aaxis": {
             "endlinecolor": "#2a3f5f",
             "gridcolor": "white",
             "linecolor": "white",
             "minorgridcolor": "white",
             "startlinecolor": "#2a3f5f"
            },
            "baxis": {
             "endlinecolor": "#2a3f5f",
             "gridcolor": "white",
             "linecolor": "white",
             "minorgridcolor": "white",
             "startlinecolor": "#2a3f5f"
            },
            "type": "carpet"
           }
          ],
          "choropleth": [
           {
            "colorbar": {
             "outlinewidth": 0,
             "ticks": ""
            },
            "type": "choropleth"
           }
          ],
          "contour": [
           {
            "colorbar": {
             "outlinewidth": 0,
             "ticks": ""
            },
            "colorscale": [
             [
              0,
              "#0d0887"
             ],
             [
              0.1111111111111111,
              "#46039f"
             ],
             [
              0.2222222222222222,
              "#7201a8"
             ],
             [
              0.3333333333333333,
              "#9c179e"
             ],
             [
              0.4444444444444444,
              "#bd3786"
             ],
             [
              0.5555555555555556,
              "#d8576b"
             ],
             [
              0.6666666666666666,
              "#ed7953"
             ],
             [
              0.7777777777777778,
              "#fb9f3a"
             ],
             [
              0.8888888888888888,
              "#fdca26"
             ],
             [
              1,
              "#f0f921"
             ]
            ],
            "type": "contour"
           }
          ],
          "contourcarpet": [
           {
            "colorbar": {
             "outlinewidth": 0,
             "ticks": ""
            },
            "type": "contourcarpet"
           }
          ],
          "heatmap": [
           {
            "colorbar": {
             "outlinewidth": 0,
             "ticks": ""
            },
            "colorscale": [
             [
              0,
              "#0d0887"
             ],
             [
              0.1111111111111111,
              "#46039f"
             ],
             [
              0.2222222222222222,
              "#7201a8"
             ],
             [
              0.3333333333333333,
              "#9c179e"
             ],
             [
              0.4444444444444444,
              "#bd3786"
             ],
             [
              0.5555555555555556,
              "#d8576b"
             ],
             [
              0.6666666666666666,
              "#ed7953"
             ],
             [
              0.7777777777777778,
              "#fb9f3a"
             ],
             [
              0.8888888888888888,
              "#fdca26"
             ],
             [
              1,
              "#f0f921"
             ]
            ],
            "type": "heatmap"
           }
          ],
          "heatmapgl": [
           {
            "colorbar": {
             "outlinewidth": 0,
             "ticks": ""
            },
            "colorscale": [
             [
              0,
              "#0d0887"
             ],
             [
              0.1111111111111111,
              "#46039f"
             ],
             [
              0.2222222222222222,
              "#7201a8"
             ],
             [
              0.3333333333333333,
              "#9c179e"
             ],
             [
              0.4444444444444444,
              "#bd3786"
             ],
             [
              0.5555555555555556,
              "#d8576b"
             ],
             [
              0.6666666666666666,
              "#ed7953"
             ],
             [
              0.7777777777777778,
              "#fb9f3a"
             ],
             [
              0.8888888888888888,
              "#fdca26"
             ],
             [
              1,
              "#f0f921"
             ]
            ],
            "type": "heatmapgl"
           }
          ],
          "histogram": [
           {
            "marker": {
             "colorbar": {
              "outlinewidth": 0,
              "ticks": ""
             }
            },
            "type": "histogram"
           }
          ],
          "histogram2d": [
           {
            "colorbar": {
             "outlinewidth": 0,
             "ticks": ""
            },
            "colorscale": [
             [
              0,
              "#0d0887"
             ],
             [
              0.1111111111111111,
              "#46039f"
             ],
             [
              0.2222222222222222,
              "#7201a8"
             ],
             [
              0.3333333333333333,
              "#9c179e"
             ],
             [
              0.4444444444444444,
              "#bd3786"
             ],
             [
              0.5555555555555556,
              "#d8576b"
             ],
             [
              0.6666666666666666,
              "#ed7953"
             ],
             [
              0.7777777777777778,
              "#fb9f3a"
             ],
             [
              0.8888888888888888,
              "#fdca26"
             ],
             [
              1,
              "#f0f921"
             ]
            ],
            "type": "histogram2d"
           }
          ],
          "histogram2dcontour": [
           {
            "colorbar": {
             "outlinewidth": 0,
             "ticks": ""
            },
            "colorscale": [
             [
              0,
              "#0d0887"
             ],
             [
              0.1111111111111111,
              "#46039f"
             ],
             [
              0.2222222222222222,
              "#7201a8"
             ],
             [
              0.3333333333333333,
              "#9c179e"
             ],
             [
              0.4444444444444444,
              "#bd3786"
             ],
             [
              0.5555555555555556,
              "#d8576b"
             ],
             [
              0.6666666666666666,
              "#ed7953"
             ],
             [
              0.7777777777777778,
              "#fb9f3a"
             ],
             [
              0.8888888888888888,
              "#fdca26"
             ],
             [
              1,
              "#f0f921"
             ]
            ],
            "type": "histogram2dcontour"
           }
          ],
          "mesh3d": [
           {
            "colorbar": {
             "outlinewidth": 0,
             "ticks": ""
            },
            "type": "mesh3d"
           }
          ],
          "parcoords": [
           {
            "line": {
             "colorbar": {
              "outlinewidth": 0,
              "ticks": ""
             }
            },
            "type": "parcoords"
           }
          ],
          "pie": [
           {
            "automargin": true,
            "type": "pie"
           }
          ],
          "scatter": [
           {
            "marker": {
             "colorbar": {
              "outlinewidth": 0,
              "ticks": ""
             }
            },
            "type": "scatter"
           }
          ],
          "scatter3d": [
           {
            "line": {
             "colorbar": {
              "outlinewidth": 0,
              "ticks": ""
             }
            },
            "marker": {
             "colorbar": {
              "outlinewidth": 0,
              "ticks": ""
             }
            },
            "type": "scatter3d"
           }
          ],
          "scattercarpet": [
           {
            "marker": {
             "colorbar": {
              "outlinewidth": 0,
              "ticks": ""
             }
            },
            "type": "scattercarpet"
           }
          ],
          "scattergeo": [
           {
            "marker": {
             "colorbar": {
              "outlinewidth": 0,
              "ticks": ""
             }
            },
            "type": "scattergeo"
           }
          ],
          "scattergl": [
           {
            "marker": {
             "colorbar": {
              "outlinewidth": 0,
              "ticks": ""
             }
            },
            "type": "scattergl"
           }
          ],
          "scattermapbox": [
           {
            "marker": {
             "colorbar": {
              "outlinewidth": 0,
              "ticks": ""
             }
            },
            "type": "scattermapbox"
           }
          ],
          "scatterpolar": [
           {
            "marker": {
             "colorbar": {
              "outlinewidth": 0,
              "ticks": ""
             }
            },
            "type": "scatterpolar"
           }
          ],
          "scatterpolargl": [
           {
            "marker": {
             "colorbar": {
              "outlinewidth": 0,
              "ticks": ""
             }
            },
            "type": "scatterpolargl"
           }
          ],
          "scatterternary": [
           {
            "marker": {
             "colorbar": {
              "outlinewidth": 0,
              "ticks": ""
             }
            },
            "type": "scatterternary"
           }
          ],
          "surface": [
           {
            "colorbar": {
             "outlinewidth": 0,
             "ticks": ""
            },
            "colorscale": [
             [
              0,
              "#0d0887"
             ],
             [
              0.1111111111111111,
              "#46039f"
             ],
             [
              0.2222222222222222,
              "#7201a8"
             ],
             [
              0.3333333333333333,
              "#9c179e"
             ],
             [
              0.4444444444444444,
              "#bd3786"
             ],
             [
              0.5555555555555556,
              "#d8576b"
             ],
             [
              0.6666666666666666,
              "#ed7953"
             ],
             [
              0.7777777777777778,
              "#fb9f3a"
             ],
             [
              0.8888888888888888,
              "#fdca26"
             ],
             [
              1,
              "#f0f921"
             ]
            ],
            "type": "surface"
           }
          ],
          "table": [
           {
            "cells": {
             "fill": {
              "color": "#EBF0F8"
             },
             "line": {
              "color": "white"
             }
            },
            "header": {
             "fill": {
              "color": "#C8D4E3"
             },
             "line": {
              "color": "white"
             }
            },
            "type": "table"
           }
          ]
         },
         "layout": {
          "annotationdefaults": {
           "arrowcolor": "#2a3f5f",
           "arrowhead": 0,
           "arrowwidth": 1
          },
          "coloraxis": {
           "colorbar": {
            "outlinewidth": 0,
            "ticks": ""
           }
          },
          "colorscale": {
           "diverging": [
            [
             0,
             "#8e0152"
            ],
            [
             0.1,
             "#c51b7d"
            ],
            [
             0.2,
             "#de77ae"
            ],
            [
             0.3,
             "#f1b6da"
            ],
            [
             0.4,
             "#fde0ef"
            ],
            [
             0.5,
             "#f7f7f7"
            ],
            [
             0.6,
             "#e6f5d0"
            ],
            [
             0.7,
             "#b8e186"
            ],
            [
             0.8,
             "#7fbc41"
            ],
            [
             0.9,
             "#4d9221"
            ],
            [
             1,
             "#276419"
            ]
           ],
           "sequential": [
            [
             0,
             "#0d0887"
            ],
            [
             0.1111111111111111,
             "#46039f"
            ],
            [
             0.2222222222222222,
             "#7201a8"
            ],
            [
             0.3333333333333333,
             "#9c179e"
            ],
            [
             0.4444444444444444,
             "#bd3786"
            ],
            [
             0.5555555555555556,
             "#d8576b"
            ],
            [
             0.6666666666666666,
             "#ed7953"
            ],
            [
             0.7777777777777778,
             "#fb9f3a"
            ],
            [
             0.8888888888888888,
             "#fdca26"
            ],
            [
             1,
             "#f0f921"
            ]
           ],
           "sequentialminus": [
            [
             0,
             "#0d0887"
            ],
            [
             0.1111111111111111,
             "#46039f"
            ],
            [
             0.2222222222222222,
             "#7201a8"
            ],
            [
             0.3333333333333333,
             "#9c179e"
            ],
            [
             0.4444444444444444,
             "#bd3786"
            ],
            [
             0.5555555555555556,
             "#d8576b"
            ],
            [
             0.6666666666666666,
             "#ed7953"
            ],
            [
             0.7777777777777778,
             "#fb9f3a"
            ],
            [
             0.8888888888888888,
             "#fdca26"
            ],
            [
             1,
             "#f0f921"
            ]
           ]
          },
          "colorway": [
           "#636efa",
           "#EF553B",
           "#00cc96",
           "#ab63fa",
           "#FFA15A",
           "#19d3f3",
           "#FF6692",
           "#B6E880",
           "#FF97FF",
           "#FECB52"
          ],
          "font": {
           "color": "#2a3f5f"
          },
          "geo": {
           "bgcolor": "white",
           "lakecolor": "white",
           "landcolor": "#E5ECF6",
           "showlakes": true,
           "showland": true,
           "subunitcolor": "white"
          },
          "hoverlabel": {
           "align": "left"
          },
          "hovermode": "closest",
          "mapbox": {
           "style": "light"
          },
          "paper_bgcolor": "white",
          "plot_bgcolor": "#E5ECF6",
          "polar": {
           "angularaxis": {
            "gridcolor": "white",
            "linecolor": "white",
            "ticks": ""
           },
           "bgcolor": "#E5ECF6",
           "radialaxis": {
            "gridcolor": "white",
            "linecolor": "white",
            "ticks": ""
           }
          },
          "scene": {
           "xaxis": {
            "backgroundcolor": "#E5ECF6",
            "gridcolor": "white",
            "gridwidth": 2,
            "linecolor": "white",
            "showbackground": true,
            "ticks": "",
            "zerolinecolor": "white"
           },
           "yaxis": {
            "backgroundcolor": "#E5ECF6",
            "gridcolor": "white",
            "gridwidth": 2,
            "linecolor": "white",
            "showbackground": true,
            "ticks": "",
            "zerolinecolor": "white"
           },
           "zaxis": {
            "backgroundcolor": "#E5ECF6",
            "gridcolor": "white",
            "gridwidth": 2,
            "linecolor": "white",
            "showbackground": true,
            "ticks": "",
            "zerolinecolor": "white"
           }
          },
          "shapedefaults": {
           "line": {
            "color": "#2a3f5f"
           }
          },
          "ternary": {
           "aaxis": {
            "gridcolor": "white",
            "linecolor": "white",
            "ticks": ""
           },
           "baxis": {
            "gridcolor": "white",
            "linecolor": "white",
            "ticks": ""
           },
           "bgcolor": "#E5ECF6",
           "caxis": {
            "gridcolor": "white",
            "linecolor": "white",
            "ticks": ""
           }
          },
          "title": {
           "x": 0.05
          },
          "xaxis": {
           "automargin": true,
           "gridcolor": "white",
           "linecolor": "white",
           "ticks": "",
           "title": {
            "standoff": 15
           },
           "zerolinecolor": "white",
           "zerolinewidth": 2
          },
          "yaxis": {
           "automargin": true,
           "gridcolor": "white",
           "linecolor": "white",
           "ticks": "",
           "title": {
            "standoff": 15
           },
           "zerolinecolor": "white",
           "zerolinewidth": 2
          }
         }
        }
       }
      },
      "image/png": "[encoded data removed]",
      "text/html": [
       "<div>\n",
       "        \n",
       "        \n",
       "            <div id=\"51c60d52-b72e-4f39-a2ea-fcd7eadd8e77\" class=\"plotly-graph-div\" style=\"height:525px; width:100%;\"></div>\n",
       "            <script type=\"text/javascript\">\n",
       "                require([\"plotly\"], function(Plotly) {\n",
       "                    window.PLOTLYENV=window.PLOTLYENV || {};\n",
       "                    \n",
       "                if (document.getElementById(\"51c60d52-b72e-4f39-a2ea-fcd7eadd8e77\")) {\n",
       "                    Plotly.newPlot(\n",
       "                        '51c60d52-b72e-4f39-a2ea-fcd7eadd8e77',\n",
       "                        [{\"dimensions\": [{\"label\": \"Neighborhood\", \"values\": [\"Union Square District\", \"Merced Heights\", \"Miraloma Park\", \"Pacific Heights\", \"Westwood Park\", \"Telegraph Hill\", \"Presidio Heights\", \"Cow Hollow\", \"Potrero Hill\", \"South Beach\"]}, {\"label\": \"Price Per SF\", \"values\": [903.99, 788.84, 779.81, 689.56, 687.09, 676.51, 675.35, 665.96, 662.01, 650.12]}, {\"label\": \"# Of Housing Units\", \"values\": [377427.5, 380348.0, 375967.25, 378401.0, 382295.0, 378401.0, 378401.0, 378401.0, 378401.0, 375805.0]}, {\"label\": \"Gross Rent\", \"values\": [2555.17, 3414.0, 2155.25, 2817.29, 3959.0, 2817.29, 2817.29, 2817.29, 2817.29, 2099.0]}], \"domain\": {\"x\": [0.0, 1.0], \"y\": [0.0, 1.0]}, \"line\": {\"color\": [903.99, 788.84, 779.81, 689.56, 687.09, 676.51, 675.35, 665.96, 662.01, 650.12], \"coloraxis\": \"coloraxis\"}, \"name\": \"\", \"type\": \"parcats\"}],\n",
       "                        {\"coloraxis\": {\"colorbar\": {\"title\": {\"text\": \"Price Per SF\"}}, \"colorscale\": [[0.0, \"#000004\"], [0.1111111111111111, \"#1b0c41\"], [0.2222222222222222, \"#4a0c6b\"], [0.3333333333333333, \"#781c6d\"], [0.4444444444444444, \"#a52c60\"], [0.5555555555555556, \"#cf4446\"], [0.6666666666666666, \"#ed6925\"], [0.7777777777777778, \"#fb9b06\"], [0.8888888888888888, \"#f7d13d\"], [1.0, \"#fcffa4\"]]}, \"legend\": {\"tracegroupgap\": 0}, \"margin\": {\"t\": 60}, \"template\": {\"data\": {\"bar\": [{\"error_x\": {\"color\": \"#2a3f5f\"}, \"error_y\": {\"color\": \"#2a3f5f\"}, \"marker\": {\"line\": {\"color\": \"#E5ECF6\", \"width\": 0.5}}, \"type\": \"bar\"}], \"barpolar\": [{\"marker\": {\"line\": {\"color\": \"#E5ECF6\", \"width\": 0.5}}, \"type\": \"barpolar\"}], \"carpet\": [{\"aaxis\": {\"endlinecolor\": \"#2a3f5f\", \"gridcolor\": \"white\", \"linecolor\": \"white\", \"minorgridcolor\": \"white\", \"startlinecolor\": \"#2a3f5f\"}, \"baxis\": {\"endlinecolor\": \"#2a3f5f\", \"gridcolor\": \"white\", \"linecolor\": \"white\", \"minorgridcolor\": \"white\", \"startlinecolor\": \"#2a3f5f\"}, \"type\": \"carpet\"}], \"choropleth\": [{\"colorbar\": {\"outlinewidth\": 0, \"ticks\": \"\"}, \"type\": \"choropleth\"}], \"contour\": [{\"colorbar\": {\"outlinewidth\": 0, \"ticks\": \"\"}, \"colorscale\": [[0.0, \"#0d0887\"], [0.1111111111111111, \"#46039f\"], [0.2222222222222222, \"#7201a8\"], [0.3333333333333333, \"#9c179e\"], [0.4444444444444444, \"#bd3786\"], [0.5555555555555556, \"#d8576b\"], [0.6666666666666666, \"#ed7953\"], [0.7777777777777778, \"#fb9f3a\"], [0.8888888888888888, \"#fdca26\"], [1.0, \"#f0f921\"]], \"type\": \"contour\"}], \"contourcarpet\": [{\"colorbar\": {\"outlinewidth\": 0, \"ticks\": \"\"}, \"type\": \"contourcarpet\"}], \"heatmap\": [{\"colorbar\": {\"outlinewidth\": 0, \"ticks\": \"\"}, \"colorscale\": [[0.0, \"#0d0887\"], [0.1111111111111111, \"#46039f\"], [0.2222222222222222, \"#7201a8\"], [0.3333333333333333, \"#9c179e\"], [0.4444444444444444, \"#bd3786\"], [0.5555555555555556, \"#d8576b\"], [0.6666666666666666, \"#ed7953\"], [0.7777777777777778, \"#fb9f3a\"], [0.8888888888888888, \"#fdca26\"], [1.0, \"#f0f921\"]], \"type\": \"heatmap\"}], \"heatmapgl\": [{\"colorbar\": {\"outlinewidth\": 0, \"ticks\": \"\"}, \"colorscale\": [[0.0, \"#0d0887\"], [0.1111111111111111, \"#46039f\"], [0.2222222222222222, \"#7201a8\"], [0.3333333333333333, \"#9c179e\"], [0.4444444444444444, \"#bd3786\"], [0.5555555555555556, \"#d8576b\"], [0.6666666666666666, \"#ed7953\"], [0.7777777777777778, \"#fb9f3a\"], [0.8888888888888888, \"#fdca26\"], [1.0, \"#f0f921\"]], \"type\": \"heatmapgl\"}], \"histogram\": [{\"marker\": {\"colorbar\": {\"outlinewidth\": 0, \"ticks\": \"\"}}, \"type\": \"histogram\"}], \"histogram2d\": [{\"colorbar\": {\"outlinewidth\": 0, \"ticks\": \"\"}, \"colorscale\": [[0.0, \"#0d0887\"], [0.1111111111111111, \"#46039f\"], [0.2222222222222222, \"#7201a8\"], [0.3333333333333333, \"#9c179e\"], [0.4444444444444444, \"#bd3786\"], [0.5555555555555556, \"#d8576b\"], [0.6666666666666666, \"#ed7953\"], [0.7777777777777778, \"#fb9f3a\"], [0.8888888888888888, \"#fdca26\"], [1.0, \"#f0f921\"]], \"type\": \"histogram2d\"}], \"histogram2dcontour\": [{\"colorbar\": {\"outlinewidth\": 0, \"ticks\": \"\"}, \"colorscale\": [[0.0, \"#0d0887\"], [0.1111111111111111, \"#46039f\"], [0.2222222222222222, \"#7201a8\"], [0.3333333333333333, \"#9c179e\"], [0.4444444444444444, \"#bd3786\"], [0.5555555555555556, \"#d8576b\"], [0.6666666666666666, \"#ed7953\"], [0.7777777777777778, \"#fb9f3a\"], [0.8888888888888888, \"#fdca26\"], [1.0, \"#f0f921\"]], \"type\": \"histogram2dcontour\"}], \"mesh3d\": [{\"colorbar\": {\"outlinewidth\": 0, \"ticks\": \"\"}, \"type\": \"mesh3d\"}], \"parcoords\": [{\"line\": {\"colorbar\": {\"outlinewidth\": 0, \"ticks\": \"\"}}, \"type\": \"parcoords\"}], \"pie\": [{\"automargin\": true, \"type\": \"pie\"}], \"scatter\": [{\"marker\": {\"colorbar\": {\"outlinewidth\": 0, \"ticks\": \"\"}}, \"type\": \"scatter\"}], \"scatter3d\": [{\"line\": {\"colorbar\": {\"outlinewidth\": 0, \"ticks\": \"\"}}, \"marker\": {\"colorbar\": {\"outlinewidth\": 0, \"ticks\": \"\"}}, \"type\": \"scatter3d\"}], \"scattercarpet\": [{\"marker\": {\"colorbar\": {\"outlinewidth\": 0, \"ticks\": \"\"}}, \"type\": \"scattercarpet\"}], \"scattergeo\": [{\"marker\": {\"colorbar\": {\"outlinewidth\": 0, \"ticks\": \"\"}}, \"type\": \"scattergeo\"}], \"scattergl\": [{\"marker\": {\"colorbar\": {\"outlinewidth\": 0, \"ticks\": \"\"}}, \"type\": \"scattergl\"}], \"scattermapbox\": [{\"marker\": {\"colorbar\": {\"outlinewidth\": 0, \"ticks\": \"\"}}, \"type\": \"scattermapbox\"}], \"scatterpolar\": [{\"marker\": {\"colorbar\": {\"outlinewidth\": 0, \"ticks\": \"\"}}, \"type\": \"scatterpolar\"}], \"scatterpolargl\": [{\"marker\": {\"colorbar\": {\"outlinewidth\": 0, \"ticks\": \"\"}}, \"type\": \"scatterpolargl\"}], \"scatterternary\": [{\"marker\": {\"colorbar\": {\"outlinewidth\": 0, \"ticks\": \"\"}}, \"type\": \"scatterternary\"}], \"surface\": [{\"colorbar\": {\"outlinewidth\": 0, \"ticks\": \"\"}, \"colorscale\": [[0.0, \"#0d0887\"], [0.1111111111111111, \"#46039f\"], [0.2222222222222222, \"#7201a8\"], [0.3333333333333333, \"#9c179e\"], [0.4444444444444444, \"#bd3786\"], [0.5555555555555556, \"#d8576b\"], [0.6666666666666666, \"#ed7953\"], [0.7777777777777778, \"#fb9f3a\"], [0.8888888888888888, \"#fdca26\"], [1.0, \"#f0f921\"]], \"type\": \"surface\"}], \"table\": [{\"cells\": {\"fill\": {\"color\": \"#EBF0F8\"}, \"line\": {\"color\": \"white\"}}, \"header\": {\"fill\": {\"color\": \"#C8D4E3\"}, \"line\": {\"color\": \"white\"}}, \"type\": \"table\"}]}, \"layout\": {\"annotationdefaults\": {\"arrowcolor\": \"#2a3f5f\", \"arrowhead\": 0, \"arrowwidth\": 1}, \"coloraxis\": {\"colorbar\": {\"outlinewidth\": 0, \"ticks\": \"\"}}, \"colorscale\": {\"diverging\": [[0, \"#8e0152\"], [0.1, \"#c51b7d\"], [0.2, \"#de77ae\"], [0.3, \"#f1b6da\"], [0.4, \"#fde0ef\"], [0.5, \"#f7f7f7\"], [0.6, \"#e6f5d0\"], [0.7, \"#b8e186\"], [0.8, \"#7fbc41\"], [0.9, \"#4d9221\"], [1, \"#276419\"]], \"sequential\": [[0.0, \"#0d0887\"], [0.1111111111111111, \"#46039f\"], [0.2222222222222222, \"#7201a8\"], [0.3333333333333333, \"#9c179e\"], [0.4444444444444444, \"#bd3786\"], [0.5555555555555556, \"#d8576b\"], [0.6666666666666666, \"#ed7953\"], [0.7777777777777778, \"#fb9f3a\"], [0.8888888888888888, \"#fdca26\"], [1.0, \"#f0f921\"]], \"sequentialminus\": [[0.0, \"#0d0887\"], [0.1111111111111111, \"#46039f\"], [0.2222222222222222, \"#7201a8\"], [0.3333333333333333, \"#9c179e\"], [0.4444444444444444, \"#bd3786\"], [0.5555555555555556, \"#d8576b\"], [0.6666666666666666, \"#ed7953\"], [0.7777777777777778, \"#fb9f3a\"], [0.8888888888888888, \"#fdca26\"], [1.0, \"#f0f921\"]]}, \"colorway\": [\"#636efa\", \"#EF553B\", \"#00cc96\", \"#ab63fa\", \"#FFA15A\", \"#19d3f3\", \"#FF6692\", \"#B6E880\", \"#FF97FF\", \"#FECB52\"], \"font\": {\"color\": \"#2a3f5f\"}, \"geo\": {\"bgcolor\": \"white\", \"lakecolor\": \"white\", \"landcolor\": \"#E5ECF6\", \"showlakes\": true, \"showland\": true, \"subunitcolor\": \"white\"}, \"hoverlabel\": {\"align\": \"left\"}, \"hovermode\": \"closest\", \"mapbox\": {\"style\": \"light\"}, \"paper_bgcolor\": \"white\", \"plot_bgcolor\": \"#E5ECF6\", \"polar\": {\"angularaxis\": {\"gridcolor\": \"white\", \"linecolor\": \"white\", \"ticks\": \"\"}, \"bgcolor\": \"#E5ECF6\", \"radialaxis\": {\"gridcolor\": \"white\", \"linecolor\": \"white\", \"ticks\": \"\"}}, \"scene\": {\"xaxis\": {\"backgroundcolor\": \"#E5ECF6\", \"gridcolor\": \"white\", \"gridwidth\": 2, \"linecolor\": \"white\", \"showbackground\": true, \"ticks\": \"\", \"zerolinecolor\": \"white\"}, \"yaxis\": {\"backgroundcolor\": \"#E5ECF6\", \"gridcolor\": \"white\", \"gridwidth\": 2, \"linecolor\": \"white\", \"showbackground\": true, \"ticks\": \"\", \"zerolinecolor\": \"white\"}, \"zaxis\": {\"backgroundcolor\": \"#E5ECF6\", \"gridcolor\": \"white\", \"gridwidth\": 2, \"linecolor\": \"white\", \"showbackground\": true, \"ticks\": \"\", \"zerolinecolor\": \"white\"}}, \"shapedefaults\": {\"line\": {\"color\": \"#2a3f5f\"}}, \"ternary\": {\"aaxis\": {\"gridcolor\": \"white\", \"linecolor\": \"white\", \"ticks\": \"\"}, \"baxis\": {\"gridcolor\": \"white\", \"linecolor\": \"white\", \"ticks\": \"\"}, \"bgcolor\": \"#E5ECF6\", \"caxis\": {\"gridcolor\": \"white\", \"linecolor\": \"white\", \"ticks\": \"\"}}, \"title\": {\"x\": 0.05}, \"xaxis\": {\"automargin\": true, \"gridcolor\": \"white\", \"linecolor\": \"white\", \"ticks\": \"\", \"title\": {\"standoff\": 15}, \"zerolinecolor\": \"white\", \"zerolinewidth\": 2}, \"yaxis\": {\"automargin\": true, \"gridcolor\": \"white\", \"linecolor\": \"white\", \"ticks\": \"\", \"title\": {\"standoff\": 15}, \"zerolinecolor\": \"white\", \"zerolinewidth\": 2}}}},\n",
       "                        {\"responsive\": true}\n",
       "                    ).then(function(){\n",
       "                            \n",
       "var gd = document.getElementById('51c60d52-b72e-4f39-a2ea-fcd7eadd8e77');\n",
       "var x = new MutationObserver(function (mutations, observer) {{\n",
       "        var display = window.getComputedStyle(gd).display;\n",
       "        if (!display || display === 'none') {{\n",
       "            console.log([gd, 'removed!']);\n",
       "            Plotly.purge(gd);\n",
       "            observer.disconnect();\n",
       "        }}\n",
       "}});\n",
       "\n",
       "// Listen for the removal of the full notebook cells\n",
       "var notebookContainer = gd.closest('#notebook-container');\n",
       "if (notebookContainer) {{\n",
       "    x.observe(notebookContainer, {childList: true});\n",
       "}}\n",
       "\n",
       "// Listen for the clearing of the current output cell\n",
       "var outputEl = gd.closest('.output');\n",
       "if (outputEl) {{\n",
       "    x.observe(outputEl, {childList: true});\n",
       "}}\n",
       "\n",
       "                        })\n",
       "                };\n",
       "                });\n",
       "            </script>\n",
       "        </div>"
      ]
     },
     "metadata": {},
     "output_type": "display_data"
    }
   ],
   "source": [
    "# Parallel Categories Plot\n",
    "px.parallel_categories(\n",
    "    sf_data_group_9,\n",
    "    dimensions=[\"neighborhood\", \"sale_price_sqr_foot\", \"housing_units\", \"gross_rent\"],\n",
    "    color= \"sale_price_sqr_foot\",\n",
    "    color_continuous_scale=px.colors.sequential.Inferno,\n",
    "    labels={\n",
    "        \"neighborhood\": \"Neighborhood\",\n",
    "        \"sale_price_sqr_foot\": \"Price Per SF\",\n",
    "        \"housing_units\": \"# Of Housing Units\",\n",
    "        \"gross_rent\": \"Gross Rent\"\n",
    "    },\n",
    ")"
   ]
  },
  {
   "cell_type": "code",
   "execution_count": 245,
   "metadata": {},
   "outputs": [
    {
     "data": {
      "application/vnd.plotly.v1+json": {
       "config": {
        "plotlyServerURL": "https://plot.ly"
       },
       "data": [
        {
         "dimensions": [
          {
           "label": "sale_price_sqr_foot",
           "values": [
            903.99,
            788.84,
            779.81,
            689.56,
            687.09,
            676.51,
            675.35,
            665.96,
            662.01,
            650.12
           ]
          },
          {
           "label": "housing_units",
           "values": [
            377427.5,
            380348,
            375967.25,
            378401,
            382295,
            378401,
            378401,
            378401,
            378401,
            375805
           ]
          },
          {
           "label": "gross_rent",
           "values": [
            2555.17,
            3414,
            2155.25,
            2817.29,
            3959,
            2817.29,
            2817.29,
            2817.29,
            2817.29,
            2099
           ]
          }
         ],
         "domain": {
          "x": [
           0,
           1
          ],
          "y": [
           0,
           1
          ]
         },
         "line": {
          "color": [
           903.99,
           788.84,
           779.81,
           689.56,
           687.09,
           676.51,
           675.35,
           665.96,
           662.01,
           650.12
          ],
          "coloraxis": "coloraxis"
         },
         "name": "",
         "type": "parcoords"
        }
       ],
       "layout": {
        "autosize": true,
        "coloraxis": {
         "colorbar": {
          "title": {
           "text": "sale_price_sqr_foot"
          }
         },
         "colorscale": [
          [
           0,
           "#0d0887"
          ],
          [
           0.1111111111111111,
           "#46039f"
          ],
          [
           0.2222222222222222,
           "#7201a8"
          ],
          [
           0.3333333333333333,
           "#9c179e"
          ],
          [
           0.4444444444444444,
           "#bd3786"
          ],
          [
           0.5555555555555556,
           "#d8576b"
          ],
          [
           0.6666666666666666,
           "#ed7953"
          ],
          [
           0.7777777777777778,
           "#fb9f3a"
          ],
          [
           0.8888888888888888,
           "#fdca26"
          ],
          [
           1,
           "#f0f921"
          ]
         ]
        },
        "legend": {
         "tracegroupgap": 0
        },
        "margin": {
         "t": 60
        },
        "template": {
         "data": {
          "bar": [
           {
            "error_x": {
             "color": "#2a3f5f"
            },
            "error_y": {
             "color": "#2a3f5f"
            },
            "marker": {
             "line": {
              "color": "#E5ECF6",
              "width": 0.5
             }
            },
            "type": "bar"
           }
          ],
          "barpolar": [
           {
            "marker": {
             "line": {
              "color": "#E5ECF6",
              "width": 0.5
             }
            },
            "type": "barpolar"
           }
          ],
          "carpet": [
           {
            "aaxis": {
             "endlinecolor": "#2a3f5f",
             "gridcolor": "white",
             "linecolor": "white",
             "minorgridcolor": "white",
             "startlinecolor": "#2a3f5f"
            },
            "baxis": {
             "endlinecolor": "#2a3f5f",
             "gridcolor": "white",
             "linecolor": "white",
             "minorgridcolor": "white",
             "startlinecolor": "#2a3f5f"
            },
            "type": "carpet"
           }
          ],
          "choropleth": [
           {
            "colorbar": {
             "outlinewidth": 0,
             "ticks": ""
            },
            "type": "choropleth"
           }
          ],
          "contour": [
           {
            "colorbar": {
             "outlinewidth": 0,
             "ticks": ""
            },
            "colorscale": [
             [
              0,
              "#0d0887"
             ],
             [
              0.1111111111111111,
              "#46039f"
             ],
             [
              0.2222222222222222,
              "#7201a8"
             ],
             [
              0.3333333333333333,
              "#9c179e"
             ],
             [
              0.4444444444444444,
              "#bd3786"
             ],
             [
              0.5555555555555556,
              "#d8576b"
             ],
             [
              0.6666666666666666,
              "#ed7953"
             ],
             [
              0.7777777777777778,
              "#fb9f3a"
             ],
             [
              0.8888888888888888,
              "#fdca26"
             ],
             [
              1,
              "#f0f921"
             ]
            ],
            "type": "contour"
           }
          ],
          "contourcarpet": [
           {
            "colorbar": {
             "outlinewidth": 0,
             "ticks": ""
            },
            "type": "contourcarpet"
           }
          ],
          "heatmap": [
           {
            "colorbar": {
             "outlinewidth": 0,
             "ticks": ""
            },
            "colorscale": [
             [
              0,
              "#0d0887"
             ],
             [
              0.1111111111111111,
              "#46039f"
             ],
             [
              0.2222222222222222,
              "#7201a8"
             ],
             [
              0.3333333333333333,
              "#9c179e"
             ],
             [
              0.4444444444444444,
              "#bd3786"
             ],
             [
              0.5555555555555556,
              "#d8576b"
             ],
             [
              0.6666666666666666,
              "#ed7953"
             ],
             [
              0.7777777777777778,
              "#fb9f3a"
             ],
             [
              0.8888888888888888,
              "#fdca26"
             ],
             [
              1,
              "#f0f921"
             ]
            ],
            "type": "heatmap"
           }
          ],
          "heatmapgl": [
           {
            "colorbar": {
             "outlinewidth": 0,
             "ticks": ""
            },
            "colorscale": [
             [
              0,
              "#0d0887"
             ],
             [
              0.1111111111111111,
              "#46039f"
             ],
             [
              0.2222222222222222,
              "#7201a8"
             ],
             [
              0.3333333333333333,
              "#9c179e"
             ],
             [
              0.4444444444444444,
              "#bd3786"
             ],
             [
              0.5555555555555556,
              "#d8576b"
             ],
             [
              0.6666666666666666,
              "#ed7953"
             ],
             [
              0.7777777777777778,
              "#fb9f3a"
             ],
             [
              0.8888888888888888,
              "#fdca26"
             ],
             [
              1,
              "#f0f921"
             ]
            ],
            "type": "heatmapgl"
           }
          ],
          "histogram": [
           {
            "marker": {
             "colorbar": {
              "outlinewidth": 0,
              "ticks": ""
             }
            },
            "type": "histogram"
           }
          ],
          "histogram2d": [
           {
            "colorbar": {
             "outlinewidth": 0,
             "ticks": ""
            },
            "colorscale": [
             [
              0,
              "#0d0887"
             ],
             [
              0.1111111111111111,
              "#46039f"
             ],
             [
              0.2222222222222222,
              "#7201a8"
             ],
             [
              0.3333333333333333,
              "#9c179e"
             ],
             [
              0.4444444444444444,
              "#bd3786"
             ],
             [
              0.5555555555555556,
              "#d8576b"
             ],
             [
              0.6666666666666666,
              "#ed7953"
             ],
             [
              0.7777777777777778,
              "#fb9f3a"
             ],
             [
              0.8888888888888888,
              "#fdca26"
             ],
             [
              1,
              "#f0f921"
             ]
            ],
            "type": "histogram2d"
           }
          ],
          "histogram2dcontour": [
           {
            "colorbar": {
             "outlinewidth": 0,
             "ticks": ""
            },
            "colorscale": [
             [
              0,
              "#0d0887"
             ],
             [
              0.1111111111111111,
              "#46039f"
             ],
             [
              0.2222222222222222,
              "#7201a8"
             ],
             [
              0.3333333333333333,
              "#9c179e"
             ],
             [
              0.4444444444444444,
              "#bd3786"
             ],
             [
              0.5555555555555556,
              "#d8576b"
             ],
             [
              0.6666666666666666,
              "#ed7953"
             ],
             [
              0.7777777777777778,
              "#fb9f3a"
             ],
             [
              0.8888888888888888,
              "#fdca26"
             ],
             [
              1,
              "#f0f921"
             ]
            ],
            "type": "histogram2dcontour"
           }
          ],
          "mesh3d": [
           {
            "colorbar": {
             "outlinewidth": 0,
             "ticks": ""
            },
            "type": "mesh3d"
           }
          ],
          "parcoords": [
           {
            "line": {
             "colorbar": {
              "outlinewidth": 0,
              "ticks": ""
             }
            },
            "type": "parcoords"
           }
          ],
          "pie": [
           {
            "automargin": true,
            "type": "pie"
           }
          ],
          "scatter": [
           {
            "marker": {
             "colorbar": {
              "outlinewidth": 0,
              "ticks": ""
             }
            },
            "type": "scatter"
           }
          ],
          "scatter3d": [
           {
            "line": {
             "colorbar": {
              "outlinewidth": 0,
              "ticks": ""
             }
            },
            "marker": {
             "colorbar": {
              "outlinewidth": 0,
              "ticks": ""
             }
            },
            "type": "scatter3d"
           }
          ],
          "scattercarpet": [
           {
            "marker": {
             "colorbar": {
              "outlinewidth": 0,
              "ticks": ""
             }
            },
            "type": "scattercarpet"
           }
          ],
          "scattergeo": [
           {
            "marker": {
             "colorbar": {
              "outlinewidth": 0,
              "ticks": ""
             }
            },
            "type": "scattergeo"
           }
          ],
          "scattergl": [
           {
            "marker": {
             "colorbar": {
              "outlinewidth": 0,
              "ticks": ""
             }
            },
            "type": "scattergl"
           }
          ],
          "scattermapbox": [
           {
            "marker": {
             "colorbar": {
              "outlinewidth": 0,
              "ticks": ""
             }
            },
            "type": "scattermapbox"
           }
          ],
          "scatterpolar": [
           {
            "marker": {
             "colorbar": {
              "outlinewidth": 0,
              "ticks": ""
             }
            },
            "type": "scatterpolar"
           }
          ],
          "scatterpolargl": [
           {
            "marker": {
             "colorbar": {
              "outlinewidth": 0,
              "ticks": ""
             }
            },
            "type": "scatterpolargl"
           }
          ],
          "scatterternary": [
           {
            "marker": {
             "colorbar": {
              "outlinewidth": 0,
              "ticks": ""
             }
            },
            "type": "scatterternary"
           }
          ],
          "surface": [
           {
            "colorbar": {
             "outlinewidth": 0,
             "ticks": ""
            },
            "colorscale": [
             [
              0,
              "#0d0887"
             ],
             [
              0.1111111111111111,
              "#46039f"
             ],
             [
              0.2222222222222222,
              "#7201a8"
             ],
             [
              0.3333333333333333,
              "#9c179e"
             ],
             [
              0.4444444444444444,
              "#bd3786"
             ],
             [
              0.5555555555555556,
              "#d8576b"
             ],
             [
              0.6666666666666666,
              "#ed7953"
             ],
             [
              0.7777777777777778,
              "#fb9f3a"
             ],
             [
              0.8888888888888888,
              "#fdca26"
             ],
             [
              1,
              "#f0f921"
             ]
            ],
            "type": "surface"
           }
          ],
          "table": [
           {
            "cells": {
             "fill": {
              "color": "#EBF0F8"
             },
             "line": {
              "color": "white"
             }
            },
            "header": {
             "fill": {
              "color": "#C8D4E3"
             },
             "line": {
              "color": "white"
             }
            },
            "type": "table"
           }
          ]
         },
         "layout": {
          "annotationdefaults": {
           "arrowcolor": "#2a3f5f",
           "arrowhead": 0,
           "arrowwidth": 1
          },
          "coloraxis": {
           "colorbar": {
            "outlinewidth": 0,
            "ticks": ""
           }
          },
          "colorscale": {
           "diverging": [
            [
             0,
             "#8e0152"
            ],
            [
             0.1,
             "#c51b7d"
            ],
            [
             0.2,
             "#de77ae"
            ],
            [
             0.3,
             "#f1b6da"
            ],
            [
             0.4,
             "#fde0ef"
            ],
            [
             0.5,
             "#f7f7f7"
            ],
            [
             0.6,
             "#e6f5d0"
            ],
            [
             0.7,
             "#b8e186"
            ],
            [
             0.8,
             "#7fbc41"
            ],
            [
             0.9,
             "#4d9221"
            ],
            [
             1,
             "#276419"
            ]
           ],
           "sequential": [
            [
             0,
             "#0d0887"
            ],
            [
             0.1111111111111111,
             "#46039f"
            ],
            [
             0.2222222222222222,
             "#7201a8"
            ],
            [
             0.3333333333333333,
             "#9c179e"
            ],
            [
             0.4444444444444444,
             "#bd3786"
            ],
            [
             0.5555555555555556,
             "#d8576b"
            ],
            [
             0.6666666666666666,
             "#ed7953"
            ],
            [
             0.7777777777777778,
             "#fb9f3a"
            ],
            [
             0.8888888888888888,
             "#fdca26"
            ],
            [
             1,
             "#f0f921"
            ]
           ],
           "sequentialminus": [
            [
             0,
             "#0d0887"
            ],
            [
             0.1111111111111111,
             "#46039f"
            ],
            [
             0.2222222222222222,
             "#7201a8"
            ],
            [
             0.3333333333333333,
             "#9c179e"
            ],
            [
             0.4444444444444444,
             "#bd3786"
            ],
            [
             0.5555555555555556,
             "#d8576b"
            ],
            [
             0.6666666666666666,
             "#ed7953"
            ],
            [
             0.7777777777777778,
             "#fb9f3a"
            ],
            [
             0.8888888888888888,
             "#fdca26"
            ],
            [
             1,
             "#f0f921"
            ]
           ]
          },
          "colorway": [
           "#636efa",
           "#EF553B",
           "#00cc96",
           "#ab63fa",
           "#FFA15A",
           "#19d3f3",
           "#FF6692",
           "#B6E880",
           "#FF97FF",
           "#FECB52"
          ],
          "font": {
           "color": "#2a3f5f"
          },
          "geo": {
           "bgcolor": "white",
           "lakecolor": "white",
           "landcolor": "#E5ECF6",
           "showlakes": true,
           "showland": true,
           "subunitcolor": "white"
          },
          "hoverlabel": {
           "align": "left"
          },
          "hovermode": "closest",
          "mapbox": {
           "style": "light"
          },
          "paper_bgcolor": "white",
          "plot_bgcolor": "#E5ECF6",
          "polar": {
           "angularaxis": {
            "gridcolor": "white",
            "linecolor": "white",
            "ticks": ""
           },
           "bgcolor": "#E5ECF6",
           "radialaxis": {
            "gridcolor": "white",
            "linecolor": "white",
            "ticks": ""
           }
          },
          "scene": {
           "xaxis": {
            "backgroundcolor": "#E5ECF6",
            "gridcolor": "white",
            "gridwidth": 2,
            "linecolor": "white",
            "showbackground": true,
            "ticks": "",
            "zerolinecolor": "white"
           },
           "yaxis": {
            "backgroundcolor": "#E5ECF6",
            "gridcolor": "white",
            "gridwidth": 2,
            "linecolor": "white",
            "showbackground": true,
            "ticks": "",
            "zerolinecolor": "white"
           },
           "zaxis": {
            "backgroundcolor": "#E5ECF6",
            "gridcolor": "white",
            "gridwidth": 2,
            "linecolor": "white",
            "showbackground": true,
            "ticks": "",
            "zerolinecolor": "white"
           }
          },
          "shapedefaults": {
           "line": {
            "color": "#2a3f5f"
           }
          },
          "ternary": {
           "aaxis": {
            "gridcolor": "white",
            "linecolor": "white",
            "ticks": ""
           },
           "baxis": {
            "gridcolor": "white",
            "linecolor": "white",
            "ticks": ""
           },
           "bgcolor": "#E5ECF6",
           "caxis": {
            "gridcolor": "white",
            "linecolor": "white",
            "ticks": ""
           }
          },
          "title": {
           "x": 0.05
          },
          "xaxis": {
           "automargin": true,
           "gridcolor": "white",
           "linecolor": "white",
           "ticks": "",
           "title": {
            "standoff": 15
           },
           "zerolinecolor": "white",
           "zerolinewidth": 2
          },
          "yaxis": {
           "automargin": true,
           "gridcolor": "white",
           "linecolor": "white",
           "ticks": "",
           "title": {
            "standoff": 15
           },
           "zerolinecolor": "white",
           "zerolinewidth": 2
          }
         }
        }
       }
      },
      "image/png": "[encoded data removed]",
      "text/html": [
       "<div>\n",
       "        \n",
       "        \n",
       "            <div id=\"9828e801-cded-4333-88b4-2fac594f07b7\" class=\"plotly-graph-div\" style=\"height:525px; width:100%;\"></div>\n",
       "            <script type=\"text/javascript\">\n",
       "                require([\"plotly\"], function(Plotly) {\n",
       "                    window.PLOTLYENV=window.PLOTLYENV || {};\n",
       "                    \n",
       "                if (document.getElementById(\"9828e801-cded-4333-88b4-2fac594f07b7\")) {\n",
       "                    Plotly.newPlot(\n",
       "                        '9828e801-cded-4333-88b4-2fac594f07b7',\n",
       "                        [{\"dimensions\": [{\"label\": \"sale_price_sqr_foot\", \"values\": [903.99, 788.84, 779.81, 689.56, 687.09, 676.51, 675.35, 665.96, 662.01, 650.12]}, {\"label\": \"housing_units\", \"values\": [377427.5, 380348.0, 375967.25, 378401.0, 382295.0, 378401.0, 378401.0, 378401.0, 378401.0, 375805.0]}, {\"label\": \"gross_rent\", \"values\": [2555.17, 3414.0, 2155.25, 2817.29, 3959.0, 2817.29, 2817.29, 2817.29, 2817.29, 2099.0]}], \"domain\": {\"x\": [0.0, 1.0], \"y\": [0.0, 1.0]}, \"line\": {\"color\": [903.99, 788.84, 779.81, 689.56, 687.09, 676.51, 675.35, 665.96, 662.01, 650.12], \"coloraxis\": \"coloraxis\"}, \"name\": \"\", \"type\": \"parcoords\"}],\n",
       "                        {\"coloraxis\": {\"colorbar\": {\"title\": {\"text\": \"sale_price_sqr_foot\"}}, \"colorscale\": [[0.0, \"#0d0887\"], [0.1111111111111111, \"#46039f\"], [0.2222222222222222, \"#7201a8\"], [0.3333333333333333, \"#9c179e\"], [0.4444444444444444, \"#bd3786\"], [0.5555555555555556, \"#d8576b\"], [0.6666666666666666, \"#ed7953\"], [0.7777777777777778, \"#fb9f3a\"], [0.8888888888888888, \"#fdca26\"], [1.0, \"#f0f921\"]]}, \"legend\": {\"tracegroupgap\": 0}, \"margin\": {\"t\": 60}, \"template\": {\"data\": {\"bar\": [{\"error_x\": {\"color\": \"#2a3f5f\"}, \"error_y\": {\"color\": \"#2a3f5f\"}, \"marker\": {\"line\": {\"color\": \"#E5ECF6\", \"width\": 0.5}}, \"type\": \"bar\"}], \"barpolar\": [{\"marker\": {\"line\": {\"color\": \"#E5ECF6\", \"width\": 0.5}}, \"type\": \"barpolar\"}], \"carpet\": [{\"aaxis\": {\"endlinecolor\": \"#2a3f5f\", \"gridcolor\": \"white\", \"linecolor\": \"white\", \"minorgridcolor\": \"white\", \"startlinecolor\": \"#2a3f5f\"}, \"baxis\": {\"endlinecolor\": \"#2a3f5f\", \"gridcolor\": \"white\", \"linecolor\": \"white\", \"minorgridcolor\": \"white\", \"startlinecolor\": \"#2a3f5f\"}, \"type\": \"carpet\"}], \"choropleth\": [{\"colorbar\": {\"outlinewidth\": 0, \"ticks\": \"\"}, \"type\": \"choropleth\"}], \"contour\": [{\"colorbar\": {\"outlinewidth\": 0, \"ticks\": \"\"}, \"colorscale\": [[0.0, \"#0d0887\"], [0.1111111111111111, \"#46039f\"], [0.2222222222222222, \"#7201a8\"], [0.3333333333333333, \"#9c179e\"], [0.4444444444444444, \"#bd3786\"], [0.5555555555555556, \"#d8576b\"], [0.6666666666666666, \"#ed7953\"], [0.7777777777777778, \"#fb9f3a\"], [0.8888888888888888, \"#fdca26\"], [1.0, \"#f0f921\"]], \"type\": \"contour\"}], \"contourcarpet\": [{\"colorbar\": {\"outlinewidth\": 0, \"ticks\": \"\"}, \"type\": \"contourcarpet\"}], \"heatmap\": [{\"colorbar\": {\"outlinewidth\": 0, \"ticks\": \"\"}, \"colorscale\": [[0.0, \"#0d0887\"], [0.1111111111111111, \"#46039f\"], [0.2222222222222222, \"#7201a8\"], [0.3333333333333333, \"#9c179e\"], [0.4444444444444444, \"#bd3786\"], [0.5555555555555556, \"#d8576b\"], [0.6666666666666666, \"#ed7953\"], [0.7777777777777778, \"#fb9f3a\"], [0.8888888888888888, \"#fdca26\"], [1.0, \"#f0f921\"]], \"type\": \"heatmap\"}], \"heatmapgl\": [{\"colorbar\": {\"outlinewidth\": 0, \"ticks\": \"\"}, \"colorscale\": [[0.0, \"#0d0887\"], [0.1111111111111111, \"#46039f\"], [0.2222222222222222, \"#7201a8\"], [0.3333333333333333, \"#9c179e\"], [0.4444444444444444, \"#bd3786\"], [0.5555555555555556, \"#d8576b\"], [0.6666666666666666, \"#ed7953\"], [0.7777777777777778, \"#fb9f3a\"], [0.8888888888888888, \"#fdca26\"], [1.0, \"#f0f921\"]], \"type\": \"heatmapgl\"}], \"histogram\": [{\"marker\": {\"colorbar\": {\"outlinewidth\": 0, \"ticks\": \"\"}}, \"type\": \"histogram\"}], \"histogram2d\": [{\"colorbar\": {\"outlinewidth\": 0, \"ticks\": \"\"}, \"colorscale\": [[0.0, \"#0d0887\"], [0.1111111111111111, \"#46039f\"], [0.2222222222222222, \"#7201a8\"], [0.3333333333333333, \"#9c179e\"], [0.4444444444444444, \"#bd3786\"], [0.5555555555555556, \"#d8576b\"], [0.6666666666666666, \"#ed7953\"], [0.7777777777777778, \"#fb9f3a\"], [0.8888888888888888, \"#fdca26\"], [1.0, \"#f0f921\"]], \"type\": \"histogram2d\"}], \"histogram2dcontour\": [{\"colorbar\": {\"outlinewidth\": 0, \"ticks\": \"\"}, \"colorscale\": [[0.0, \"#0d0887\"], [0.1111111111111111, \"#46039f\"], [0.2222222222222222, \"#7201a8\"], [0.3333333333333333, \"#9c179e\"], [0.4444444444444444, \"#bd3786\"], [0.5555555555555556, \"#d8576b\"], [0.6666666666666666, \"#ed7953\"], [0.7777777777777778, \"#fb9f3a\"], [0.8888888888888888, \"#fdca26\"], [1.0, \"#f0f921\"]], \"type\": \"histogram2dcontour\"}], \"mesh3d\": [{\"colorbar\": {\"outlinewidth\": 0, \"ticks\": \"\"}, \"type\": \"mesh3d\"}], \"parcoords\": [{\"line\": {\"colorbar\": {\"outlinewidth\": 0, \"ticks\": \"\"}}, \"type\": \"parcoords\"}], \"pie\": [{\"automargin\": true, \"type\": \"pie\"}], \"scatter\": [{\"marker\": {\"colorbar\": {\"outlinewidth\": 0, \"ticks\": \"\"}}, \"type\": \"scatter\"}], \"scatter3d\": [{\"line\": {\"colorbar\": {\"outlinewidth\": 0, \"ticks\": \"\"}}, \"marker\": {\"colorbar\": {\"outlinewidth\": 0, \"ticks\": \"\"}}, \"type\": \"scatter3d\"}], \"scattercarpet\": [{\"marker\": {\"colorbar\": {\"outlinewidth\": 0, \"ticks\": \"\"}}, \"type\": \"scattercarpet\"}], \"scattergeo\": [{\"marker\": {\"colorbar\": {\"outlinewidth\": 0, \"ticks\": \"\"}}, \"type\": \"scattergeo\"}], \"scattergl\": [{\"marker\": {\"colorbar\": {\"outlinewidth\": 0, \"ticks\": \"\"}}, \"type\": \"scattergl\"}], \"scattermapbox\": [{\"marker\": {\"colorbar\": {\"outlinewidth\": 0, \"ticks\": \"\"}}, \"type\": \"scattermapbox\"}], \"scatterpolar\": [{\"marker\": {\"colorbar\": {\"outlinewidth\": 0, \"ticks\": \"\"}}, \"type\": \"scatterpolar\"}], \"scatterpolargl\": [{\"marker\": {\"colorbar\": {\"outlinewidth\": 0, \"ticks\": \"\"}}, \"type\": \"scatterpolargl\"}], \"scatterternary\": [{\"marker\": {\"colorbar\": {\"outlinewidth\": 0, \"ticks\": \"\"}}, \"type\": \"scatterternary\"}], \"surface\": [{\"colorbar\": {\"outlinewidth\": 0, \"ticks\": \"\"}, \"colorscale\": [[0.0, \"#0d0887\"], [0.1111111111111111, \"#46039f\"], [0.2222222222222222, \"#7201a8\"], [0.3333333333333333, \"#9c179e\"], [0.4444444444444444, \"#bd3786\"], [0.5555555555555556, \"#d8576b\"], [0.6666666666666666, \"#ed7953\"], [0.7777777777777778, \"#fb9f3a\"], [0.8888888888888888, \"#fdca26\"], [1.0, \"#f0f921\"]], \"type\": \"surface\"}], \"table\": [{\"cells\": {\"fill\": {\"color\": \"#EBF0F8\"}, \"line\": {\"color\": \"white\"}}, \"header\": {\"fill\": {\"color\": \"#C8D4E3\"}, \"line\": {\"color\": \"white\"}}, \"type\": \"table\"}]}, \"layout\": {\"annotationdefaults\": {\"arrowcolor\": \"#2a3f5f\", \"arrowhead\": 0, \"arrowwidth\": 1}, \"coloraxis\": {\"colorbar\": {\"outlinewidth\": 0, \"ticks\": \"\"}}, \"colorscale\": {\"diverging\": [[0, \"#8e0152\"], [0.1, \"#c51b7d\"], [0.2, \"#de77ae\"], [0.3, \"#f1b6da\"], [0.4, \"#fde0ef\"], [0.5, \"#f7f7f7\"], [0.6, \"#e6f5d0\"], [0.7, \"#b8e186\"], [0.8, \"#7fbc41\"], [0.9, \"#4d9221\"], [1, \"#276419\"]], \"sequential\": [[0.0, \"#0d0887\"], [0.1111111111111111, \"#46039f\"], [0.2222222222222222, \"#7201a8\"], [0.3333333333333333, \"#9c179e\"], [0.4444444444444444, \"#bd3786\"], [0.5555555555555556, \"#d8576b\"], [0.6666666666666666, \"#ed7953\"], [0.7777777777777778, \"#fb9f3a\"], [0.8888888888888888, \"#fdca26\"], [1.0, \"#f0f921\"]], \"sequentialminus\": [[0.0, \"#0d0887\"], [0.1111111111111111, \"#46039f\"], [0.2222222222222222, \"#7201a8\"], [0.3333333333333333, \"#9c179e\"], [0.4444444444444444, \"#bd3786\"], [0.5555555555555556, \"#d8576b\"], [0.6666666666666666, \"#ed7953\"], [0.7777777777777778, \"#fb9f3a\"], [0.8888888888888888, \"#fdca26\"], [1.0, \"#f0f921\"]]}, \"colorway\": [\"#636efa\", \"#EF553B\", \"#00cc96\", \"#ab63fa\", \"#FFA15A\", \"#19d3f3\", \"#FF6692\", \"#B6E880\", \"#FF97FF\", \"#FECB52\"], \"font\": {\"color\": \"#2a3f5f\"}, \"geo\": {\"bgcolor\": \"white\", \"lakecolor\": \"white\", \"landcolor\": \"#E5ECF6\", \"showlakes\": true, \"showland\": true, \"subunitcolor\": \"white\"}, \"hoverlabel\": {\"align\": \"left\"}, \"hovermode\": \"closest\", \"mapbox\": {\"style\": \"light\"}, \"paper_bgcolor\": \"white\", \"plot_bgcolor\": \"#E5ECF6\", \"polar\": {\"angularaxis\": {\"gridcolor\": \"white\", \"linecolor\": \"white\", \"ticks\": \"\"}, \"bgcolor\": \"#E5ECF6\", \"radialaxis\": {\"gridcolor\": \"white\", \"linecolor\": \"white\", \"ticks\": \"\"}}, \"scene\": {\"xaxis\": {\"backgroundcolor\": \"#E5ECF6\", \"gridcolor\": \"white\", \"gridwidth\": 2, \"linecolor\": \"white\", \"showbackground\": true, \"ticks\": \"\", \"zerolinecolor\": \"white\"}, \"yaxis\": {\"backgroundcolor\": \"#E5ECF6\", \"gridcolor\": \"white\", \"gridwidth\": 2, \"linecolor\": \"white\", \"showbackground\": true, \"ticks\": \"\", \"zerolinecolor\": \"white\"}, \"zaxis\": {\"backgroundcolor\": \"#E5ECF6\", \"gridcolor\": \"white\", \"gridwidth\": 2, \"linecolor\": \"white\", \"showbackground\": true, \"ticks\": \"\", \"zerolinecolor\": \"white\"}}, \"shapedefaults\": {\"line\": {\"color\": \"#2a3f5f\"}}, \"ternary\": {\"aaxis\": {\"gridcolor\": \"white\", \"linecolor\": \"white\", \"ticks\": \"\"}, \"baxis\": {\"gridcolor\": \"white\", \"linecolor\": \"white\", \"ticks\": \"\"}, \"bgcolor\": \"#E5ECF6\", \"caxis\": {\"gridcolor\": \"white\", \"linecolor\": \"white\", \"ticks\": \"\"}}, \"title\": {\"x\": 0.05}, \"xaxis\": {\"automargin\": true, \"gridcolor\": \"white\", \"linecolor\": \"white\", \"ticks\": \"\", \"title\": {\"standoff\": 15}, \"zerolinecolor\": \"white\", \"zerolinewidth\": 2}, \"yaxis\": {\"automargin\": true, \"gridcolor\": \"white\", \"linecolor\": \"white\", \"ticks\": \"\", \"title\": {\"standoff\": 15}, \"zerolinecolor\": \"white\", \"zerolinewidth\": 2}}}},\n",
       "                        {\"responsive\": true}\n",
       "                    ).then(function(){\n",
       "                            \n",
       "var gd = document.getElementById('9828e801-cded-4333-88b4-2fac594f07b7');\n",
       "var x = new MutationObserver(function (mutations, observer) {{\n",
       "        var display = window.getComputedStyle(gd).display;\n",
       "        if (!display || display === 'none') {{\n",
       "            console.log([gd, 'removed!']);\n",
       "            Plotly.purge(gd);\n",
       "            observer.disconnect();\n",
       "        }}\n",
       "}});\n",
       "\n",
       "// Listen for the removal of the full notebook cells\n",
       "var notebookContainer = gd.closest('#notebook-container');\n",
       "if (notebookContainer) {{\n",
       "    x.observe(notebookContainer, {childList: true});\n",
       "}}\n",
       "\n",
       "// Listen for the clearing of the current output cell\n",
       "var outputEl = gd.closest('.output');\n",
       "if (outputEl) {{\n",
       "    x.observe(outputEl, {childList: true});\n",
       "}}\n",
       "\n",
       "                        })\n",
       "                };\n",
       "                });\n",
       "            </script>\n",
       "        </div>"
      ]
     },
     "metadata": {},
     "output_type": "display_data"
    }
   ],
   "source": [
    "# Parallel Coordinates Plot\n",
    "px.parallel_coordinates(sf_data_group_9, color='sale_price_sqr_foot')"
   ]
  },
  {
   "cell_type": "markdown",
   "metadata": {},
   "source": [
    "- - - "
   ]
  },
  {
   "cell_type": "markdown",
   "metadata": {},
   "source": [
    "## Neighborhood Map\n",
    "\n",
    "In this section, you will read in neighboor location data and build an interactive map with the average prices per neighborhood. Use a scatter_mapbox from plotly express to create the visualization. Remember, you will need your mapbox api key for this."
   ]
  },
  {
   "cell_type": "markdown",
   "metadata": {},
   "source": [
    "### Load Location Data"
   ]
  },
  {
   "cell_type": "code",
   "execution_count": 246,
   "metadata": {},
   "outputs": [
    {
     "data": {
      "text/html": [
       "<div>\n",
       "<style scoped>\n",
       "    .dataframe tbody tr th:only-of-type {\n",
       "        vertical-align: middle;\n",
       "    }\n",
       "\n",
       "    .dataframe tbody tr th {\n",
       "        vertical-align: top;\n",
       "    }\n",
       "\n",
       "    .dataframe thead th {\n",
       "        text-align: right;\n",
       "    }\n",
       "</style>\n",
       "<table border=\"1\" class=\"dataframe\">\n",
       "  <thead>\n",
       "    <tr style=\"text-align: right;\">\n",
       "      <th></th>\n",
       "      <th>Neighborhood</th>\n",
       "      <th>Lat</th>\n",
       "      <th>Lon</th>\n",
       "    </tr>\n",
       "  </thead>\n",
       "  <tbody>\n",
       "    <tr>\n",
       "      <th>0</th>\n",
       "      <td>Alamo Square</td>\n",
       "      <td>37.791012</td>\n",
       "      <td>-122.402100</td>\n",
       "    </tr>\n",
       "    <tr>\n",
       "      <th>1</th>\n",
       "      <td>Anza Vista</td>\n",
       "      <td>37.779598</td>\n",
       "      <td>-122.443451</td>\n",
       "    </tr>\n",
       "    <tr>\n",
       "      <th>2</th>\n",
       "      <td>Bayview</td>\n",
       "      <td>37.734670</td>\n",
       "      <td>-122.401060</td>\n",
       "    </tr>\n",
       "    <tr>\n",
       "      <th>3</th>\n",
       "      <td>Bayview Heights</td>\n",
       "      <td>37.728740</td>\n",
       "      <td>-122.410980</td>\n",
       "    </tr>\n",
       "    <tr>\n",
       "      <th>4</th>\n",
       "      <td>Bernal Heights</td>\n",
       "      <td>37.728630</td>\n",
       "      <td>-122.443050</td>\n",
       "    </tr>\n",
       "  </tbody>\n",
       "</table>\n",
       "</div>"
      ],
      "text/plain": [
       "      Neighborhood        Lat         Lon\n",
       "0     Alamo Square  37.791012 -122.402100\n",
       "1       Anza Vista  37.779598 -122.443451\n",
       "2          Bayview  37.734670 -122.401060\n",
       "3  Bayview Heights  37.728740 -122.410980\n",
       "4   Bernal Heights  37.728630 -122.443050"
      ]
     },
     "execution_count": 246,
     "metadata": {},
     "output_type": "execute_result"
    }
   ],
   "source": [
    "# Load neighborhoods coordinates data\n",
    "file_path = Path(\"Data/neighborhoods_coordinates.csv\")\n",
    "df_neighborhood_locations = pd.read_csv(file_path)\n",
    "df_neighborhood_locations.head()"
   ]
  },
  {
   "cell_type": "markdown",
   "metadata": {},
   "source": [
    "### Data Preparation\n",
    "\n",
    "You will need to join the location data with the mean prices per neighborhood\n",
    "\n",
    "1. Calculate the mean values for each neighborhood\n",
    "2. Join the average values with the neighborhood locations"
   ]
  },
  {
   "cell_type": "code",
   "execution_count": 247,
   "metadata": {},
   "outputs": [
    {
     "data": {
      "text/html": [
       "<div>\n",
       "<style scoped>\n",
       "    .dataframe tbody tr th:only-of-type {\n",
       "        vertical-align: middle;\n",
       "    }\n",
       "\n",
       "    .dataframe tbody tr th {\n",
       "        vertical-align: top;\n",
       "    }\n",
       "\n",
       "    .dataframe thead th {\n",
       "        text-align: right;\n",
       "    }\n",
       "</style>\n",
       "<table border=\"1\" class=\"dataframe\">\n",
       "  <thead>\n",
       "    <tr style=\"text-align: right;\">\n",
       "      <th></th>\n",
       "      <th>neighborhood</th>\n",
       "      <th>sale_price_sqr_foot</th>\n",
       "      <th>housing_units</th>\n",
       "      <th>gross_rent</th>\n",
       "    </tr>\n",
       "  </thead>\n",
       "  <tbody>\n",
       "    <tr>\n",
       "      <th>0</th>\n",
       "      <td>Alamo Square</td>\n",
       "      <td>366.020712</td>\n",
       "      <td>378401.0</td>\n",
       "      <td>2817.285714</td>\n",
       "    </tr>\n",
       "    <tr>\n",
       "      <th>1</th>\n",
       "      <td>Anza Vista</td>\n",
       "      <td>373.382198</td>\n",
       "      <td>379050.0</td>\n",
       "      <td>3031.833333</td>\n",
       "    </tr>\n",
       "    <tr>\n",
       "      <th>2</th>\n",
       "      <td>Bayview</td>\n",
       "      <td>204.588623</td>\n",
       "      <td>376454.0</td>\n",
       "      <td>2318.400000</td>\n",
       "    </tr>\n",
       "    <tr>\n",
       "      <th>3</th>\n",
       "      <td>Bayview Heights</td>\n",
       "      <td>590.792839</td>\n",
       "      <td>382295.0</td>\n",
       "      <td>3739.000000</td>\n",
       "    </tr>\n",
       "    <tr>\n",
       "      <th>4</th>\n",
       "      <td>Bernal Heights</td>\n",
       "      <td>576.746488</td>\n",
       "      <td>379374.5</td>\n",
       "      <td>3080.333333</td>\n",
       "    </tr>\n",
       "  </tbody>\n",
       "</table>\n",
       "</div>"
      ],
      "text/plain": [
       "      neighborhood  sale_price_sqr_foot  housing_units   gross_rent\n",
       "0     Alamo Square           366.020712       378401.0  2817.285714\n",
       "1       Anza Vista           373.382198       379050.0  3031.833333\n",
       "2          Bayview           204.588623       376454.0  2318.400000\n",
       "3  Bayview Heights           590.792839       382295.0  3739.000000\n",
       "4  Bernal Heights            576.746488       379374.5  3080.333333"
      ]
     },
     "execution_count": 247,
     "metadata": {},
     "output_type": "execute_result"
    }
   ],
   "source": [
    "# Calculate the mean values for each neighborhood\n",
    "sf_data_group_6.head()"
   ]
  },
  {
   "cell_type": "code",
   "execution_count": 248,
   "metadata": {},
   "outputs": [
    {
     "data": {
      "text/html": [
       "<div>\n",
       "<style scoped>\n",
       "    .dataframe tbody tr th:only-of-type {\n",
       "        vertical-align: middle;\n",
       "    }\n",
       "\n",
       "    .dataframe tbody tr th {\n",
       "        vertical-align: top;\n",
       "    }\n",
       "\n",
       "    .dataframe thead th {\n",
       "        text-align: right;\n",
       "    }\n",
       "</style>\n",
       "<table border=\"1\" class=\"dataframe\">\n",
       "  <thead>\n",
       "    <tr style=\"text-align: right;\">\n",
       "      <th></th>\n",
       "      <th>neighborhood</th>\n",
       "      <th>sale_price_sqr_foot</th>\n",
       "      <th>housing_units</th>\n",
       "      <th>gross_rent</th>\n",
       "      <th>Neighborhood</th>\n",
       "      <th>Lat</th>\n",
       "      <th>Lon</th>\n",
       "    </tr>\n",
       "  </thead>\n",
       "  <tbody>\n",
       "    <tr>\n",
       "      <th>0</th>\n",
       "      <td>Alamo Square</td>\n",
       "      <td>366.02</td>\n",
       "      <td>378401.0</td>\n",
       "      <td>2817.29</td>\n",
       "      <td>Alamo Square</td>\n",
       "      <td>37.79</td>\n",
       "      <td>-122.40</td>\n",
       "    </tr>\n",
       "    <tr>\n",
       "      <th>1</th>\n",
       "      <td>Anza Vista</td>\n",
       "      <td>373.38</td>\n",
       "      <td>379050.0</td>\n",
       "      <td>3031.83</td>\n",
       "      <td>Anza Vista</td>\n",
       "      <td>37.78</td>\n",
       "      <td>-122.44</td>\n",
       "    </tr>\n",
       "    <tr>\n",
       "      <th>2</th>\n",
       "      <td>Bayview</td>\n",
       "      <td>204.59</td>\n",
       "      <td>376454.0</td>\n",
       "      <td>2318.40</td>\n",
       "      <td>Bayview</td>\n",
       "      <td>37.73</td>\n",
       "      <td>-122.40</td>\n",
       "    </tr>\n",
       "    <tr>\n",
       "      <th>3</th>\n",
       "      <td>Bayview Heights</td>\n",
       "      <td>590.79</td>\n",
       "      <td>382295.0</td>\n",
       "      <td>3739.00</td>\n",
       "      <td>Bayview Heights</td>\n",
       "      <td>37.73</td>\n",
       "      <td>-122.41</td>\n",
       "    </tr>\n",
       "    <tr>\n",
       "      <th>4</th>\n",
       "      <td>Bernal Heights</td>\n",
       "      <td>576.75</td>\n",
       "      <td>379374.5</td>\n",
       "      <td>3080.33</td>\n",
       "      <td>Bernal Heights</td>\n",
       "      <td>37.73</td>\n",
       "      <td>-122.44</td>\n",
       "    </tr>\n",
       "  </tbody>\n",
       "</table>\n",
       "</div>"
      ],
      "text/plain": [
       "      neighborhood  sale_price_sqr_foot  housing_units  gross_rent  \\\n",
       "0     Alamo Square               366.02       378401.0     2817.29   \n",
       "1       Anza Vista               373.38       379050.0     3031.83   \n",
       "2          Bayview               204.59       376454.0     2318.40   \n",
       "3  Bayview Heights               590.79       382295.0     3739.00   \n",
       "4  Bernal Heights                576.75       379374.5     3080.33   \n",
       "\n",
       "      Neighborhood    Lat     Lon  \n",
       "0     Alamo Square  37.79 -122.40  \n",
       "1       Anza Vista  37.78 -122.44  \n",
       "2          Bayview  37.73 -122.40  \n",
       "3  Bayview Heights  37.73 -122.41  \n",
       "4   Bernal Heights  37.73 -122.44  "
      ]
     },
     "execution_count": 248,
     "metadata": {},
     "output_type": "execute_result"
    }
   ],
   "source": [
    "# Join the average values with the neighborhood locations\n",
    "sf_data_group_6_joined = pd.concat([sf_data_group_6, df_neighborhood_locations], axis=\"columns\", join=\"inner\").round(decimals=2)\n",
    "sf_data_group_6_joined.head()"
   ]
  },
  {
   "cell_type": "markdown",
   "metadata": {},
   "source": [
    "### Mapbox Visualization\n",
    "\n",
    "Plot the aveage values per neighborhood with a plotly express scatter_mapbox visualization."
   ]
  },
  {
   "cell_type": "code",
   "execution_count": 249,
   "metadata": {},
   "outputs": [
    {
     "data": {
      "text/plain": [
       "'pk.eyJ1IjoiamtwMDU4NiIsImEiOiJja2F4Nzc5a3owMjMxMzBvOTNnaDV0d3IwIn0.UMp9LzCDYq7rdaZL7Tfo0A'"
      ]
     },
     "execution_count": 249,
     "metadata": {},
     "output_type": "execute_result"
    }
   ],
   "source": [
    "mapbox_token"
   ]
  },
  {
   "cell_type": "code",
   "execution_count": 250,
   "metadata": {},
   "outputs": [
    {
     "data": {
      "application/vnd.plotly.v1+json": {
       "config": {
        "plotlyServerURL": "https://plot.ly"
       },
       "data": [
        {
         "hovertemplate": "neighborhood=Alamo Square<br>sale_price_sqr_foot=%{marker.size}<br>Lat=%{lat}<br>Lon=%{lon}<extra></extra>",
         "lat": [
          37.79
         ],
         "legendgroup": "Alamo Square",
         "lon": [
          -122.4
         ],
         "marker": {
          "color": "#636efa",
          "size": [
           366.02
          ],
          "sizemode": "area",
          "sizeref": 2.259975
         },
         "mode": "markers",
         "name": "Alamo Square",
         "showlegend": true,
         "subplot": "mapbox",
         "type": "scattermapbox"
        },
        {
         "hovertemplate": "neighborhood=Anza Vista<br>sale_price_sqr_foot=%{marker.size}<br>Lat=%{lat}<br>Lon=%{lon}<extra></extra>",
         "lat": [
          37.78
         ],
         "legendgroup": "Anza Vista",
         "lon": [
          -122.44
         ],
         "marker": {
          "color": "#EF553B",
          "size": [
           373.38
          ],
          "sizemode": "area",
          "sizeref": 2.259975
         },
         "mode": "markers",
         "name": "Anza Vista",
         "showlegend": true,
         "subplot": "mapbox",
         "type": "scattermapbox"
        },
        {
         "hovertemplate": "neighborhood=Bayview<br>sale_price_sqr_foot=%{marker.size}<br>Lat=%{lat}<br>Lon=%{lon}<extra></extra>",
         "lat": [
          37.73
         ],
         "legendgroup": "Bayview",
         "lon": [
          -122.4
         ],
         "marker": {
          "color": "#00cc96",
          "size": [
           204.59
          ],
          "sizemode": "area",
          "sizeref": 2.259975
         },
         "mode": "markers",
         "name": "Bayview",
         "showlegend": true,
         "subplot": "mapbox",
         "type": "scattermapbox"
        },
        {
         "hovertemplate": "neighborhood=Bayview Heights<br>sale_price_sqr_foot=%{marker.size}<br>Lat=%{lat}<br>Lon=%{lon}<extra></extra>",
         "lat": [
          37.73
         ],
         "legendgroup": "Bayview Heights",
         "lon": [
          -122.41
         ],
         "marker": {
          "color": "#ab63fa",
          "size": [
           590.79
          ],
          "sizemode": "area",
          "sizeref": 2.259975
         },
         "mode": "markers",
         "name": "Bayview Heights",
         "showlegend": true,
         "subplot": "mapbox",
         "type": "scattermapbox"
        },
        {
         "hovertemplate": "neighborhood=Bernal Heights <br>sale_price_sqr_foot=%{marker.size}<br>Lat=%{lat}<br>Lon=%{lon}<extra></extra>",
         "lat": [
          37.73
         ],
         "legendgroup": "Bernal Heights ",
         "lon": [
          -122.44
         ],
         "marker": {
          "color": "#FFA15A",
          "size": [
           576.75
          ],
          "sizemode": "area",
          "sizeref": 2.259975
         },
         "mode": "markers",
         "name": "Bernal Heights ",
         "showlegend": true,
         "subplot": "mapbox",
         "type": "scattermapbox"
        },
        {
         "hovertemplate": "neighborhood=Buena Vista Park<br>sale_price_sqr_foot=%{marker.size}<br>Lat=%{lat}<br>Lon=%{lon}<extra></extra>",
         "lat": [
          37.77
         ],
         "legendgroup": "Buena Vista Park",
         "lon": [
          -122.44
         ],
         "marker": {
          "color": "#19d3f3",
          "size": [
           452.68
          ],
          "sizemode": "area",
          "sizeref": 2.259975
         },
         "mode": "markers",
         "name": "Buena Vista Park",
         "showlegend": true,
         "subplot": "mapbox",
         "type": "scattermapbox"
        },
        {
         "hovertemplate": "neighborhood=Central Richmond<br>sale_price_sqr_foot=%{marker.size}<br>Lat=%{lat}<br>Lon=%{lon}<extra></extra>",
         "lat": [
          37.78
         ],
         "legendgroup": "Central Richmond",
         "lon": [
          -122.45
         ],
         "marker": {
          "color": "#FF6692",
          "size": [
           394.42
          ],
          "sizemode": "area",
          "sizeref": 2.259975
         },
         "mode": "markers",
         "name": "Central Richmond",
         "showlegend": true,
         "subplot": "mapbox",
         "type": "scattermapbox"
        },
        {
         "hovertemplate": "neighborhood=Central Sunset<br>sale_price_sqr_foot=%{marker.size}<br>Lat=%{lat}<br>Lon=%{lon}<extra></extra>",
         "lat": [
          37.75
         ],
         "legendgroup": "Central Sunset",
         "lon": [
          -122.49
         ],
         "marker": {
          "color": "#B6E880",
          "size": [
           423.69
          ],
          "sizemode": "area",
          "sizeref": 2.259975
         },
         "mode": "markers",
         "name": "Central Sunset",
         "showlegend": true,
         "subplot": "mapbox",
         "type": "scattermapbox"
        },
        {
         "hovertemplate": "neighborhood=Clarendon Heights<br>sale_price_sqr_foot=%{marker.size}<br>Lat=%{lat}<br>Lon=%{lon}<extra></extra>",
         "lat": [
          37.75
         ],
         "legendgroup": "Clarendon Heights",
         "lon": [
          -122.45
         ],
         "marker": {
          "color": "#FF97FF",
          "size": [
           487.24
          ],
          "sizemode": "area",
          "sizeref": 2.259975
         },
         "mode": "markers",
         "name": "Clarendon Heights",
         "showlegend": true,
         "subplot": "mapbox",
         "type": "scattermapbox"
        },
        {
         "hovertemplate": "neighborhood=Corona Heights<br>sale_price_sqr_foot=%{marker.size}<br>Lat=%{lat}<br>Lon=%{lon}<extra></extra>",
         "lat": [
          37.79
         ],
         "legendgroup": "Corona Heights",
         "lon": [
          -122.46
         ],
         "marker": {
          "color": "#FECB52",
          "size": [
           587.54
          ],
          "sizemode": "area",
          "sizeref": 2.259975
         },
         "mode": "markers",
         "name": "Corona Heights",
         "showlegend": true,
         "subplot": "mapbox",
         "type": "scattermapbox"
        },
        {
         "hovertemplate": "neighborhood=Cow Hollow<br>sale_price_sqr_foot=%{marker.size}<br>Lat=%{lat}<br>Lon=%{lon}<extra></extra>",
         "lat": [
          37.79
         ],
         "legendgroup": "Cow Hollow",
         "lon": [
          -122.44
         ],
         "marker": {
          "color": "#636efa",
          "size": [
           665.96
          ],
          "sizemode": "area",
          "sizeref": 2.259975
         },
         "mode": "markers",
         "name": "Cow Hollow",
         "showlegend": true,
         "subplot": "mapbox",
         "type": "scattermapbox"
        },
        {
         "hovertemplate": "neighborhood=Croker Amazon<br>sale_price_sqr_foot=%{marker.size}<br>Lat=%{lat}<br>Lon=%{lon}<extra></extra>",
         "lat": [
          37.72
         ],
         "legendgroup": "Croker Amazon",
         "lon": [
          -122.44
         ],
         "marker": {
          "color": "#EF553B",
          "size": [
           303
          ],
          "sizemode": "area",
          "sizeref": 2.259975
         },
         "mode": "markers",
         "name": "Croker Amazon",
         "showlegend": true,
         "subplot": "mapbox",
         "type": "scattermapbox"
        },
        {
         "hovertemplate": "neighborhood=Diamond Heights<br>sale_price_sqr_foot=%{marker.size}<br>Lat=%{lat}<br>Lon=%{lon}<extra></extra>",
         "lat": [
          37.73
         ],
         "legendgroup": "Diamond Heights",
         "lon": [
          -122.44
         ],
         "marker": {
          "color": "#00cc96",
          "size": [
           434.99
          ],
          "sizemode": "area",
          "sizeref": 2.259975
         },
         "mode": "markers",
         "name": "Diamond Heights",
         "showlegend": true,
         "subplot": "mapbox",
         "type": "scattermapbox"
        },
        {
         "hovertemplate": "neighborhood=Downtown <br>sale_price_sqr_foot=%{marker.size}<br>Lat=%{lat}<br>Lon=%{lon}<extra></extra>",
         "lat": [
          37.79
         ],
         "legendgroup": "Downtown ",
         "lon": [
          -122.4
         ],
         "marker": {
          "color": "#ab63fa",
          "size": [
           391.43
          ],
          "sizemode": "area",
          "sizeref": 2.259975
         },
         "mode": "markers",
         "name": "Downtown ",
         "showlegend": true,
         "subplot": "mapbox",
         "type": "scattermapbox"
        },
        {
         "hovertemplate": "neighborhood=Duboce Triangle<br>sale_price_sqr_foot=%{marker.size}<br>Lat=%{lat}<br>Lon=%{lon}<extra></extra>",
         "lat": [
          37.77
         ],
         "legendgroup": "Duboce Triangle",
         "lon": [
          -122.43
         ],
         "marker": {
          "color": "#FFA15A",
          "size": [
           502.6
          ],
          "sizemode": "area",
          "sizeref": 2.259975
         },
         "mode": "markers",
         "name": "Duboce Triangle",
         "showlegend": true,
         "subplot": "mapbox",
         "type": "scattermapbox"
        },
        {
         "hovertemplate": "neighborhood=Eureka Valley/Dolores Heights<br>sale_price_sqr_foot=%{marker.size}<br>Lat=%{lat}<br>Lon=%{lon}<extra></extra>",
         "lat": [
          37.76
         ],
         "legendgroup": "Eureka Valley/Dolores Heights",
         "lon": [
          -122.44
         ],
         "marker": {
          "color": "#19d3f3",
          "size": [
           642.25
          ],
          "sizemode": "area",
          "sizeref": 2.259975
         },
         "mode": "markers",
         "name": "Eureka Valley/Dolores Heights",
         "showlegend": true,
         "subplot": "mapbox",
         "type": "scattermapbox"
        },
        {
         "hovertemplate": "neighborhood=Excelsior<br>sale_price_sqr_foot=%{marker.size}<br>Lat=%{lat}<br>Lon=%{lon}<extra></extra>",
         "lat": [
          37.73
         ],
         "legendgroup": "Excelsior",
         "lon": [
          -122.41
         ],
         "marker": {
          "color": "#FF6692",
          "size": [
           388.77
          ],
          "sizemode": "area",
          "sizeref": 2.259975
         },
         "mode": "markers",
         "name": "Excelsior",
         "showlegend": true,
         "subplot": "mapbox",
         "type": "scattermapbox"
        },
        {
         "hovertemplate": "neighborhood=Financial District North<br>sale_price_sqr_foot=%{marker.size}<br>Lat=%{lat}<br>Lon=%{lon}<extra></extra>",
         "lat": [
          37.79
         ],
         "legendgroup": "Financial District North",
         "lon": [
          -122.4
         ],
         "marker": {
          "color": "#B6E880",
          "size": [
           391.36
          ],
          "sizemode": "area",
          "sizeref": 2.259975
         },
         "mode": "markers",
         "name": "Financial District North",
         "showlegend": true,
         "subplot": "mapbox",
         "type": "scattermapbox"
        },
        {
         "hovertemplate": "neighborhood=Financial District South<br>sale_price_sqr_foot=%{marker.size}<br>Lat=%{lat}<br>Lon=%{lon}<extra></extra>",
         "lat": [
          37.79
         ],
         "legendgroup": "Financial District South",
         "lon": [
          -122.4
         ],
         "marker": {
          "color": "#FF97FF",
          "size": [
           455.84
          ],
          "sizemode": "area",
          "sizeref": 2.259975
         },
         "mode": "markers",
         "name": "Financial District South",
         "showlegend": true,
         "subplot": "mapbox",
         "type": "scattermapbox"
        },
        {
         "hovertemplate": "neighborhood=Forest Knolls<br>sale_price_sqr_foot=%{marker.size}<br>Lat=%{lat}<br>Lon=%{lon}<extra></extra>",
         "lat": [
          37.76
         ],
         "legendgroup": "Forest Knolls",
         "lon": [
          -122.46
         ],
         "marker": {
          "color": "#FECB52",
          "size": [
           321.84
          ],
          "sizemode": "area",
          "sizeref": 2.259975
         },
         "mode": "markers",
         "name": "Forest Knolls",
         "showlegend": true,
         "subplot": "mapbox",
         "type": "scattermapbox"
        },
        {
         "hovertemplate": "neighborhood=Glen Park<br>sale_price_sqr_foot=%{marker.size}<br>Lat=%{lat}<br>Lon=%{lon}<extra></extra>",
         "lat": [
          37.73
         ],
         "legendgroup": "Glen Park",
         "lon": [
          -122.44
         ],
         "marker": {
          "color": "#636efa",
          "size": [
           623.83
          ],
          "sizemode": "area",
          "sizeref": 2.259975
         },
         "mode": "markers",
         "name": "Glen Park",
         "showlegend": true,
         "subplot": "mapbox",
         "type": "scattermapbox"
        },
        {
         "hovertemplate": "neighborhood=Golden Gate Heights<br>sale_price_sqr_foot=%{marker.size}<br>Lat=%{lat}<br>Lon=%{lon}<extra></extra>",
         "lat": [
          37.76
         ],
         "legendgroup": "Golden Gate Heights",
         "lon": [
          -122.46
         ],
         "marker": {
          "color": "#EF553B",
          "size": [
           639.39
          ],
          "sizemode": "area",
          "sizeref": 2.259975
         },
         "mode": "markers",
         "name": "Golden Gate Heights",
         "showlegend": true,
         "subplot": "mapbox",
         "type": "scattermapbox"
        },
        {
         "hovertemplate": "neighborhood=Haight Ashbury<br>sale_price_sqr_foot=%{marker.size}<br>Lat=%{lat}<br>Lon=%{lon}<extra></extra>",
         "lat": [
          37.77
         ],
         "legendgroup": "Haight Ashbury",
         "lon": [
          -122.44
         ],
         "marker": {
          "color": "#00cc96",
          "size": [
           449.54
          ],
          "sizemode": "area",
          "sizeref": 2.259975
         },
         "mode": "markers",
         "name": "Haight Ashbury",
         "showlegend": true,
         "subplot": "mapbox",
         "type": "scattermapbox"
        },
        {
         "hovertemplate": "neighborhood=Hayes Valley<br>sale_price_sqr_foot=%{marker.size}<br>Lat=%{lat}<br>Lon=%{lon}<extra></extra>",
         "lat": [
          37.77
         ],
         "legendgroup": "Hayes Valley",
         "lon": [
          -122.44
         ],
         "marker": {
          "color": "#ab63fa",
          "size": [
           355.93
          ],
          "sizemode": "area",
          "sizeref": 2.259975
         },
         "mode": "markers",
         "name": "Hayes Valley",
         "showlegend": true,
         "subplot": "mapbox",
         "type": "scattermapbox"
        },
        {
         "hovertemplate": "neighborhood=Hunters Point<br>sale_price_sqr_foot=%{marker.size}<br>Lat=%{lat}<br>Lon=%{lon}<extra></extra>",
         "lat": [
          37.73
         ],
         "legendgroup": "Hunters Point",
         "lon": [
          -122.37
         ],
         "marker": {
          "color": "#FFA15A",
          "size": [
           170.62
          ],
          "sizemode": "area",
          "sizeref": 2.259975
         },
         "mode": "markers",
         "name": "Hunters Point",
         "showlegend": true,
         "subplot": "mapbox",
         "type": "scattermapbox"
        },
        {
         "hovertemplate": "neighborhood=Ingleside <br>sale_price_sqr_foot=%{marker.size}<br>Lat=%{lat}<br>Lon=%{lon}<extra></extra>",
         "lat": [
          37.72
         ],
         "legendgroup": "Ingleside ",
         "lon": [
          -122.49
         ],
         "marker": {
          "color": "#19d3f3",
          "size": [
           367.9
          ],
          "sizemode": "area",
          "sizeref": 2.259975
         },
         "mode": "markers",
         "name": "Ingleside ",
         "showlegend": true,
         "subplot": "mapbox",
         "type": "scattermapbox"
        },
        {
         "hovertemplate": "neighborhood=Ingleside Heights<br>sale_price_sqr_foot=%{marker.size}<br>Lat=%{lat}<br>Lon=%{lon}<extra></extra>",
         "lat": [
          37.72
         ],
         "legendgroup": "Ingleside Heights",
         "lon": [
          -122.49
         ],
         "marker": {
          "color": "#FF6692",
          "size": [
           384.8
          ],
          "sizemode": "area",
          "sizeref": 2.259975
         },
         "mode": "markers",
         "name": "Ingleside Heights",
         "showlegend": true,
         "subplot": "mapbox",
         "type": "scattermapbox"
        },
        {
         "hovertemplate": "neighborhood=Inner Mission<br>sale_price_sqr_foot=%{marker.size}<br>Lat=%{lat}<br>Lon=%{lon}<extra></extra>",
         "lat": [
          37.75
         ],
         "legendgroup": "Inner Mission",
         "lon": [
          -122.42
         ],
         "marker": {
          "color": "#B6E880",
          "size": [
           397.67
          ],
          "sizemode": "area",
          "sizeref": 2.259975
         },
         "mode": "markers",
         "name": "Inner Mission",
         "showlegend": true,
         "subplot": "mapbox",
         "type": "scattermapbox"
        },
        {
         "hovertemplate": "neighborhood=Inner Parkside<br>sale_price_sqr_foot=%{marker.size}<br>Lat=%{lat}<br>Lon=%{lon}<extra></extra>",
         "lat": [
          37.75
         ],
         "legendgroup": "Inner Parkside",
         "lon": [
          -122.49
         ],
         "marker": {
          "color": "#FF97FF",
          "size": [
           519.39
          ],
          "sizemode": "area",
          "sizeref": 2.259975
         },
         "mode": "markers",
         "name": "Inner Parkside",
         "showlegend": true,
         "subplot": "mapbox",
         "type": "scattermapbox"
        },
        {
         "hovertemplate": "neighborhood=Inner Richmond<br>sale_price_sqr_foot=%{marker.size}<br>Lat=%{lat}<br>Lon=%{lon}<extra></extra>",
         "lat": [
          37.77
         ],
         "legendgroup": "Inner Richmond",
         "lon": [
          -122.48
         ],
         "marker": {
          "color": "#FECB52",
          "size": [
           378.59
          ],
          "sizemode": "area",
          "sizeref": 2.259975
         },
         "mode": "markers",
         "name": "Inner Richmond",
         "showlegend": true,
         "subplot": "mapbox",
         "type": "scattermapbox"
        },
        {
         "hovertemplate": "neighborhood=Inner Sunset<br>sale_price_sqr_foot=%{marker.size}<br>Lat=%{lat}<br>Lon=%{lon}<extra></extra>",
         "lat": [
          37.75
         ],
         "legendgroup": "Inner Sunset",
         "lon": [
          -122.49
         ],
         "marker": {
          "color": "#636efa",
          "size": [
           413.67
          ],
          "sizemode": "area",
          "sizeref": 2.259975
         },
         "mode": "markers",
         "name": "Inner Sunset",
         "showlegend": true,
         "subplot": "mapbox",
         "type": "scattermapbox"
        },
        {
         "hovertemplate": "neighborhood=Jordan Park/Laurel Heights<br>sale_price_sqr_foot=%{marker.size}<br>Lat=%{lat}<br>Lon=%{lon}<extra></extra>",
         "lat": [
          37.79
         ],
         "legendgroup": "Jordan Park/Laurel Heights",
         "lon": [
          -122.46
         ],
         "marker": {
          "color": "#EF553B",
          "size": [
           529.38
          ],
          "sizemode": "area",
          "sizeref": 2.259975
         },
         "mode": "markers",
         "name": "Jordan Park/Laurel Heights",
         "showlegend": true,
         "subplot": "mapbox",
         "type": "scattermapbox"
        },
        {
         "hovertemplate": "neighborhood=Lake --The Presidio<br>sale_price_sqr_foot=%{marker.size}<br>Lat=%{lat}<br>Lon=%{lon}<extra></extra>",
         "lat": [
          37.8
         ],
         "legendgroup": "Lake --The Presidio",
         "lon": [
          -122.45
         ],
         "marker": {
          "color": "#00cc96",
          "size": [
           409.95
          ],
          "sizemode": "area",
          "sizeref": 2.259975
         },
         "mode": "markers",
         "name": "Lake --The Presidio",
         "showlegend": true,
         "subplot": "mapbox",
         "type": "scattermapbox"
        },
        {
         "hovertemplate": "neighborhood=Lone Mountain<br>sale_price_sqr_foot=%{marker.size}<br>Lat=%{lat}<br>Lon=%{lon}<extra></extra>",
         "lat": [
          37.78
         ],
         "legendgroup": "Lone Mountain",
         "lon": [
          -122.45
         ],
         "marker": {
          "color": "#ab63fa",
          "size": [
           478.23
          ],
          "sizemode": "area",
          "sizeref": 2.259975
         },
         "mode": "markers",
         "name": "Lone Mountain",
         "showlegend": true,
         "subplot": "mapbox",
         "type": "scattermapbox"
        },
        {
         "hovertemplate": "neighborhood=Lower Pacific Heights<br>sale_price_sqr_foot=%{marker.size}<br>Lat=%{lat}<br>Lon=%{lon}<extra></extra>",
         "lat": [
          37.79
         ],
         "legendgroup": "Lower Pacific Heights",
         "lon": [
          -122.44
         ],
         "marker": {
          "color": "#FFA15A",
          "size": [
           539.24
          ],
          "sizemode": "area",
          "sizeref": 2.259975
         },
         "mode": "markers",
         "name": "Lower Pacific Heights",
         "showlegend": true,
         "subplot": "mapbox",
         "type": "scattermapbox"
        },
        {
         "hovertemplate": "neighborhood=Marina<br>sale_price_sqr_foot=%{marker.size}<br>Lat=%{lat}<br>Lon=%{lon}<extra></extra>",
         "lat": [
          37.8
         ],
         "legendgroup": "Marina",
         "lon": [
          -122.47
         ],
         "marker": {
          "color": "#19d3f3",
          "size": [
           583.75
          ],
          "sizemode": "area",
          "sizeref": 2.259975
         },
         "mode": "markers",
         "name": "Marina",
         "showlegend": true,
         "subplot": "mapbox",
         "type": "scattermapbox"
        },
        {
         "hovertemplate": "neighborhood=Merced Heights<br>sale_price_sqr_foot=%{marker.size}<br>Lat=%{lat}<br>Lon=%{lon}<extra></extra>",
         "lat": [
          37.72
         ],
         "legendgroup": "Merced Heights",
         "lon": [
          -122.47
         ],
         "marker": {
          "color": "#FF6692",
          "size": [
           788.84
          ],
          "sizemode": "area",
          "sizeref": 2.259975
         },
         "mode": "markers",
         "name": "Merced Heights",
         "showlegend": true,
         "subplot": "mapbox",
         "type": "scattermapbox"
        },
        {
         "hovertemplate": "neighborhood=Midtown Terrace<br>sale_price_sqr_foot=%{marker.size}<br>Lat=%{lat}<br>Lon=%{lon}<extra></extra>",
         "lat": [
          37.75
         ],
         "legendgroup": "Midtown Terrace",
         "lon": [
          -122.45
         ],
         "marker": {
          "color": "#B6E880",
          "size": [
           550.51
          ],
          "sizemode": "area",
          "sizeref": 2.259975
         },
         "mode": "markers",
         "name": "Midtown Terrace",
         "showlegend": true,
         "subplot": "mapbox",
         "type": "scattermapbox"
        },
        {
         "hovertemplate": "neighborhood=Miraloma Park<br>sale_price_sqr_foot=%{marker.size}<br>Lat=%{lat}<br>Lon=%{lon}<extra></extra>",
         "lat": [
          37.73
         ],
         "legendgroup": "Miraloma Park",
         "lon": [
          -122.46
         ],
         "marker": {
          "color": "#FF97FF",
          "size": [
           779.81
          ],
          "sizemode": "area",
          "sizeref": 2.259975
         },
         "mode": "markers",
         "name": "Miraloma Park",
         "showlegend": true,
         "subplot": "mapbox",
         "type": "scattermapbox"
        },
        {
         "hovertemplate": "neighborhood=Mission Bay<br>sale_price_sqr_foot=%{marker.size}<br>Lat=%{lat}<br>Lon=%{lon}<extra></extra>",
         "lat": [
          37.78
         ],
         "legendgroup": "Mission Bay",
         "lon": [
          -122.4
         ],
         "marker": {
          "color": "#FECB52",
          "size": [
           566.19
          ],
          "sizemode": "area",
          "sizeref": 2.259975
         },
         "mode": "markers",
         "name": "Mission Bay",
         "showlegend": true,
         "subplot": "mapbox",
         "type": "scattermapbox"
        },
        {
         "hovertemplate": "neighborhood=Mission Dolores<br>sale_price_sqr_foot=%{marker.size}<br>Lat=%{lat}<br>Lon=%{lon}<extra></extra>",
         "lat": [
          37.75
         ],
         "legendgroup": "Mission Dolores",
         "lon": [
          -122.43
         ],
         "marker": {
          "color": "#636efa",
          "size": [
           418.92
          ],
          "sizemode": "area",
          "sizeref": 2.259975
         },
         "mode": "markers",
         "name": "Mission Dolores",
         "showlegend": true,
         "subplot": "mapbox",
         "type": "scattermapbox"
        },
        {
         "hovertemplate": "neighborhood=Mission Terrace<br>sale_price_sqr_foot=%{marker.size}<br>Lat=%{lat}<br>Lon=%{lon}<extra></extra>",
         "lat": [
          37.73
         ],
         "legendgroup": "Mission Terrace",
         "lon": [
          -122.44
         ],
         "marker": {
          "color": "#EF553B",
          "size": [
           523.47
          ],
          "sizemode": "area",
          "sizeref": 2.259975
         },
         "mode": "markers",
         "name": "Mission Terrace",
         "showlegend": true,
         "subplot": "mapbox",
         "type": "scattermapbox"
        },
        {
         "hovertemplate": "neighborhood=Nob Hill<br>sale_price_sqr_foot=%{marker.size}<br>Lat=%{lat}<br>Lon=%{lon}<extra></extra>",
         "lat": [
          37.79
         ],
         "legendgroup": "Nob Hill",
         "lon": [
          -122.44
         ],
         "marker": {
          "color": "#00cc96",
          "size": [
           458.2
          ],
          "sizemode": "area",
          "sizeref": 2.259975
         },
         "mode": "markers",
         "name": "Nob Hill",
         "showlegend": true,
         "subplot": "mapbox",
         "type": "scattermapbox"
        },
        {
         "hovertemplate": "neighborhood=Noe Valley<br>sale_price_sqr_foot=%{marker.size}<br>Lat=%{lat}<br>Lon=%{lon}<extra></extra>",
         "lat": [
          37.75
         ],
         "legendgroup": "Noe Valley",
         "lon": [
          -122.45
         ],
         "marker": {
          "color": "#ab63fa",
          "size": [
           542.44
          ],
          "sizemode": "area",
          "sizeref": 2.259975
         },
         "mode": "markers",
         "name": "Noe Valley",
         "showlegend": true,
         "subplot": "mapbox",
         "type": "scattermapbox"
        },
        {
         "hovertemplate": "neighborhood=North Beach<br>sale_price_sqr_foot=%{marker.size}<br>Lat=%{lat}<br>Lon=%{lon}<extra></extra>",
         "lat": [
          37.8
         ],
         "legendgroup": "North Beach",
         "lon": [
          -122.4
         ],
         "marker": {
          "color": "#FFA15A",
          "size": [
           411.65
          ],
          "sizemode": "area",
          "sizeref": 2.259975
         },
         "mode": "markers",
         "name": "North Beach",
         "showlegend": true,
         "subplot": "mapbox",
         "type": "scattermapbox"
        },
        {
         "hovertemplate": "neighborhood=North Waterfront<br>sale_price_sqr_foot=%{marker.size}<br>Lat=%{lat}<br>Lon=%{lon}<extra></extra>",
         "lat": [
          37.8
         ],
         "legendgroup": "North Waterfront",
         "lon": [
          -122.4
         ],
         "marker": {
          "color": "#19d3f3",
          "size": [
           498.27
          ],
          "sizemode": "area",
          "sizeref": 2.259975
         },
         "mode": "markers",
         "name": "North Waterfront",
         "showlegend": true,
         "subplot": "mapbox",
         "type": "scattermapbox"
        },
        {
         "hovertemplate": "neighborhood=Oceanview<br>sale_price_sqr_foot=%{marker.size}<br>Lat=%{lat}<br>Lon=%{lon}<extra></extra>",
         "lat": [
          37.72
         ],
         "legendgroup": "Oceanview",
         "lon": [
          -122.47
         ],
         "marker": {
          "color": "#FF6692",
          "size": [
           330.1
          ],
          "sizemode": "area",
          "sizeref": 2.259975
         },
         "mode": "markers",
         "name": "Oceanview",
         "showlegend": true,
         "subplot": "mapbox",
         "type": "scattermapbox"
        },
        {
         "hovertemplate": "neighborhood=Outer Mission<br>sale_price_sqr_foot=%{marker.size}<br>Lat=%{lat}<br>Lon=%{lon}<extra></extra>",
         "lat": [
          37.72
         ],
         "legendgroup": "Outer Mission",
         "lon": [
          -122.44
         ],
         "marker": {
          "color": "#B6E880",
          "size": [
           242.37
          ],
          "sizemode": "area",
          "sizeref": 2.259975
         },
         "mode": "markers",
         "name": "Outer Mission",
         "showlegend": true,
         "subplot": "mapbox",
         "type": "scattermapbox"
        },
        {
         "hovertemplate": "neighborhood=Outer Parkside<br>sale_price_sqr_foot=%{marker.size}<br>Lat=%{lat}<br>Lon=%{lon}<extra></extra>",
         "lat": [
          37.75
         ],
         "legendgroup": "Outer Parkside",
         "lon": [
          -122.45
         ],
         "marker": {
          "color": "#FF97FF",
          "size": [
           485.03
          ],
          "sizemode": "area",
          "sizeref": 2.259975
         },
         "mode": "markers",
         "name": "Outer Parkside",
         "showlegend": true,
         "subplot": "mapbox",
         "type": "scattermapbox"
        },
        {
         "hovertemplate": "neighborhood=Outer Richmond <br>sale_price_sqr_foot=%{marker.size}<br>Lat=%{lat}<br>Lon=%{lon}<extra></extra>",
         "lat": [
          37.77
         ],
         "legendgroup": "Outer Richmond ",
         "lon": [
          -122.48
         ],
         "marker": {
          "color": "#FECB52",
          "size": [
           473.9
          ],
          "sizemode": "area",
          "sizeref": 2.259975
         },
         "mode": "markers",
         "name": "Outer Richmond ",
         "showlegend": true,
         "subplot": "mapbox",
         "type": "scattermapbox"
        },
        {
         "hovertemplate": "neighborhood=Outer Sunset<br>sale_price_sqr_foot=%{marker.size}<br>Lat=%{lat}<br>Lon=%{lon}<extra></extra>",
         "lat": [
          37.75
         ],
         "legendgroup": "Outer Sunset",
         "lon": [
          -122.49
         ],
         "marker": {
          "color": "#636efa",
          "size": [
           394.22
          ],
          "sizemode": "area",
          "sizeref": 2.259975
         },
         "mode": "markers",
         "name": "Outer Sunset",
         "showlegend": true,
         "subplot": "mapbox",
         "type": "scattermapbox"
        },
        {
         "hovertemplate": "neighborhood=Pacific Heights<br>sale_price_sqr_foot=%{marker.size}<br>Lat=%{lat}<br>Lon=%{lon}<extra></extra>",
         "lat": [
          37.79
         ],
         "legendgroup": "Pacific Heights",
         "lon": [
          -122.44
         ],
         "marker": {
          "color": "#EF553B",
          "size": [
           689.56
          ],
          "sizemode": "area",
          "sizeref": 2.259975
         },
         "mode": "markers",
         "name": "Pacific Heights",
         "showlegend": true,
         "subplot": "mapbox",
         "type": "scattermapbox"
        },
        {
         "hovertemplate": "neighborhood=Park North<br>sale_price_sqr_foot=%{marker.size}<br>Lat=%{lat}<br>Lon=%{lon}<extra></extra>",
         "lat": [
          37.73
         ],
         "legendgroup": "Park North",
         "lon": [
          -122.48
         ],
         "marker": {
          "color": "#00cc96",
          "size": [
           373.73
          ],
          "sizemode": "area",
          "sizeref": 2.259975
         },
         "mode": "markers",
         "name": "Park North",
         "showlegend": true,
         "subplot": "mapbox",
         "type": "scattermapbox"
        },
        {
         "hovertemplate": "neighborhood=Parkside<br>sale_price_sqr_foot=%{marker.size}<br>Lat=%{lat}<br>Lon=%{lon}<extra></extra>",
         "lat": [
          37.75
         ],
         "legendgroup": "Parkside",
         "lon": [
          -122.49
         ],
         "marker": {
          "color": "#ab63fa",
          "size": [
           336.17
          ],
          "sizemode": "area",
          "sizeref": 2.259975
         },
         "mode": "markers",
         "name": "Parkside",
         "showlegend": true,
         "subplot": "mapbox",
         "type": "scattermapbox"
        },
        {
         "hovertemplate": "neighborhood=Parnassus/Ashbury Heights<br>sale_price_sqr_foot=%{marker.size}<br>Lat=%{lat}<br>Lon=%{lon}<extra></extra>",
         "lat": [
          37.76
         ],
         "legendgroup": "Parnassus/Ashbury Heights",
         "lon": [
          -122.46
         ],
         "marker": {
          "color": "#FFA15A",
          "size": [
           632.74
          ],
          "sizemode": "area",
          "sizeref": 2.259975
         },
         "mode": "markers",
         "name": "Parnassus/Ashbury Heights",
         "showlegend": true,
         "subplot": "mapbox",
         "type": "scattermapbox"
        },
        {
         "hovertemplate": "neighborhood=Portola<br>sale_price_sqr_foot=%{marker.size}<br>Lat=%{lat}<br>Lon=%{lon}<extra></extra>",
         "lat": [
          37.73
         ],
         "legendgroup": "Portola",
         "lon": [
          -122.4
         ],
         "marker": {
          "color": "#19d3f3",
          "size": [
           327.11
          ],
          "sizemode": "area",
          "sizeref": 2.259975
         },
         "mode": "markers",
         "name": "Portola",
         "showlegend": true,
         "subplot": "mapbox",
         "type": "scattermapbox"
        },
        {
         "hovertemplate": "neighborhood=Potrero Hill<br>sale_price_sqr_foot=%{marker.size}<br>Lat=%{lat}<br>Lon=%{lon}<extra></extra>",
         "lat": [
          37.73
         ],
         "legendgroup": "Potrero Hill",
         "lon": [
          -122.38
         ],
         "marker": {
          "color": "#FF6692",
          "size": [
           662.01
          ],
          "sizemode": "area",
          "sizeref": 2.259975
         },
         "mode": "markers",
         "name": "Potrero Hill",
         "showlegend": true,
         "subplot": "mapbox",
         "type": "scattermapbox"
        },
        {
         "hovertemplate": "neighborhood=Presidio Heights<br>sale_price_sqr_foot=%{marker.size}<br>Lat=%{lat}<br>Lon=%{lon}<extra></extra>",
         "lat": [
          37.79
         ],
         "legendgroup": "Presidio Heights",
         "lon": [
          -122.46
         ],
         "marker": {
          "color": "#B6E880",
          "size": [
           675.35
          ],
          "sizemode": "area",
          "sizeref": 2.259975
         },
         "mode": "markers",
         "name": "Presidio Heights",
         "showlegend": true,
         "subplot": "mapbox",
         "type": "scattermapbox"
        },
        {
         "hovertemplate": "neighborhood=Russian Hill<br>sale_price_sqr_foot=%{marker.size}<br>Lat=%{lat}<br>Lon=%{lon}<extra></extra>",
         "lat": [
          37.79
         ],
         "legendgroup": "Russian Hill",
         "lon": [
          -122.44
         ],
         "marker": {
          "color": "#FF97FF",
          "size": [
           608.98
          ],
          "sizemode": "area",
          "sizeref": 2.259975
         },
         "mode": "markers",
         "name": "Russian Hill",
         "showlegend": true,
         "subplot": "mapbox",
         "type": "scattermapbox"
        },
        {
         "hovertemplate": "neighborhood=Silver Terrace<br>sale_price_sqr_foot=%{marker.size}<br>Lat=%{lat}<br>Lon=%{lon}<extra></extra>",
         "lat": [
          37.73
         ],
         "legendgroup": "Silver Terrace",
         "lon": [
          -122.4
         ],
         "marker": {
          "color": "#FECB52",
          "size": [
           170.29
          ],
          "sizemode": "area",
          "sizeref": 2.259975
         },
         "mode": "markers",
         "name": "Silver Terrace",
         "showlegend": true,
         "subplot": "mapbox",
         "type": "scattermapbox"
        },
        {
         "hovertemplate": "neighborhood=South Beach<br>sale_price_sqr_foot=%{marker.size}<br>Lat=%{lat}<br>Lon=%{lon}<extra></extra>",
         "lat": [
          37.78
         ],
         "legendgroup": "South Beach",
         "lon": [
          -122.4
         ],
         "marker": {
          "color": "#636efa",
          "size": [
           650.12
          ],
          "sizemode": "area",
          "sizeref": 2.259975
         },
         "mode": "markers",
         "name": "South Beach",
         "showlegend": true,
         "subplot": "mapbox",
         "type": "scattermapbox"
        },
        {
         "hovertemplate": "neighborhood=South of Market<br>sale_price_sqr_foot=%{marker.size}<br>Lat=%{lat}<br>Lon=%{lon}<extra></extra>",
         "lat": [
          37.79
         ],
         "legendgroup": "South of Market",
         "lon": [
          -122.4
         ],
         "marker": {
          "color": "#EF553B",
          "size": [
           570.27
          ],
          "sizemode": "area",
          "sizeref": 2.259975
         },
         "mode": "markers",
         "name": "South of Market",
         "showlegend": true,
         "subplot": "mapbox",
         "type": "scattermapbox"
        },
        {
         "hovertemplate": "neighborhood=Sunnyside<br>sale_price_sqr_foot=%{marker.size}<br>Lat=%{lat}<br>Lon=%{lon}<extra></extra>",
         "lat": [
          37.73
         ],
         "legendgroup": "Sunnyside",
         "lon": [
          -122.46
         ],
         "marker": {
          "color": "#00cc96",
          "size": [
           528.32
          ],
          "sizemode": "area",
          "sizeref": 2.259975
         },
         "mode": "markers",
         "name": "Sunnyside",
         "showlegend": true,
         "subplot": "mapbox",
         "type": "scattermapbox"
        },
        {
         "hovertemplate": "neighborhood=Telegraph Hill<br>sale_price_sqr_foot=%{marker.size}<br>Lat=%{lat}<br>Lon=%{lon}<extra></extra>",
         "lat": [
          37.8
         ],
         "legendgroup": "Telegraph Hill",
         "lon": [
          -122.4
         ],
         "marker": {
          "color": "#ab63fa",
          "size": [
           676.51
          ],
          "sizemode": "area",
          "sizeref": 2.259975
         },
         "mode": "markers",
         "name": "Telegraph Hill",
         "showlegend": true,
         "subplot": "mapbox",
         "type": "scattermapbox"
        },
        {
         "hovertemplate": "neighborhood=Twin Peaks<br>sale_price_sqr_foot=%{marker.size}<br>Lat=%{lat}<br>Lon=%{lon}<extra></extra>",
         "lat": [
          37.75
         ],
         "legendgroup": "Twin Peaks",
         "lon": [
          -122.45
         ],
         "marker": {
          "color": "#FFA15A",
          "size": [
           469.4
          ],
          "sizemode": "area",
          "sizeref": 2.259975
         },
         "mode": "markers",
         "name": "Twin Peaks",
         "showlegend": true,
         "subplot": "mapbox",
         "type": "scattermapbox"
        },
        {
         "hovertemplate": "neighborhood=Union Square District<br>sale_price_sqr_foot=%{marker.size}<br>Lat=%{lat}<br>Lon=%{lon}<extra></extra>",
         "lat": [
          37.79
         ],
         "legendgroup": "Union Square District",
         "lon": [
          -122.4
         ],
         "marker": {
          "color": "#19d3f3",
          "size": [
           903.99
          ],
          "sizemode": "area",
          "sizeref": 2.259975
         },
         "mode": "markers",
         "name": "Union Square District",
         "showlegend": true,
         "subplot": "mapbox",
         "type": "scattermapbox"
        },
        {
         "hovertemplate": "neighborhood=Van Ness/ Civic Center<br>sale_price_sqr_foot=%{marker.size}<br>Lat=%{lat}<br>Lon=%{lon}<extra></extra>",
         "lat": [
          37.78
         ],
         "legendgroup": "Van Ness/ Civic Center",
         "lon": [
          -122.42
         ],
         "marker": {
          "color": "#FF6692",
          "size": [
           404.15
          ],
          "sizemode": "area",
          "sizeref": 2.259975
         },
         "mode": "markers",
         "name": "Van Ness/ Civic Center",
         "showlegend": true,
         "subplot": "mapbox",
         "type": "scattermapbox"
        },
        {
         "hovertemplate": "neighborhood=Visitacion Valley<br>sale_price_sqr_foot=%{marker.size}<br>Lat=%{lat}<br>Lon=%{lon}<extra></extra>",
         "lat": [
          37.73
         ],
         "legendgroup": "Visitacion Valley",
         "lon": [
          -122.41
         ],
         "marker": {
          "color": "#B6E880",
          "size": [
           301.47
          ],
          "sizemode": "area",
          "sizeref": 2.259975
         },
         "mode": "markers",
         "name": "Visitacion Valley",
         "showlegend": true,
         "subplot": "mapbox",
         "type": "scattermapbox"
        },
        {
         "hovertemplate": "neighborhood=West Portal<br>sale_price_sqr_foot=%{marker.size}<br>Lat=%{lat}<br>Lon=%{lon}<extra></extra>",
         "lat": [
          37.74
         ],
         "legendgroup": "West Portal",
         "lon": [
          -122.46
         ],
         "marker": {
          "color": "#FF97FF",
          "size": [
           498.49
          ],
          "sizemode": "area",
          "sizeref": 2.259975
         },
         "mode": "markers",
         "name": "West Portal",
         "showlegend": true,
         "subplot": "mapbox",
         "type": "scattermapbox"
        },
        {
         "hovertemplate": "neighborhood=Western Addition<br>sale_price_sqr_foot=%{marker.size}<br>Lat=%{lat}<br>Lon=%{lon}<extra></extra>",
         "lat": [
          37.79
         ],
         "legendgroup": "Western Addition",
         "lon": [
          -122.44
         ],
         "marker": {
          "color": "#FECB52",
          "size": [
           307.56
          ],
          "sizemode": "area",
          "sizeref": 2.259975
         },
         "mode": "markers",
         "name": "Western Addition",
         "showlegend": true,
         "subplot": "mapbox",
         "type": "scattermapbox"
        },
        {
         "hovertemplate": "neighborhood=Westwood Highlands<br>sale_price_sqr_foot=%{marker.size}<br>Lat=%{lat}<br>Lon=%{lon}<extra></extra>",
         "lat": [
          37.73
         ],
         "legendgroup": "Westwood Highlands",
         "lon": [
          -122.46
         ],
         "marker": {
          "color": "#636efa",
          "size": [
           533.7
          ],
          "sizemode": "area",
          "sizeref": 2.259975
         },
         "mode": "markers",
         "name": "Westwood Highlands",
         "showlegend": true,
         "subplot": "mapbox",
         "type": "scattermapbox"
        },
        {
         "hovertemplate": "neighborhood=Westwood Park<br>sale_price_sqr_foot=%{marker.size}<br>Lat=%{lat}<br>Lon=%{lon}<extra></extra>",
         "lat": [
          37.73
         ],
         "legendgroup": "Westwood Park",
         "lon": [
          -122.46
         ],
         "marker": {
          "color": "#EF553B",
          "size": [
           687.09
          ],
          "sizemode": "area",
          "sizeref": 2.259975
         },
         "mode": "markers",
         "name": "Westwood Park",
         "showlegend": true,
         "subplot": "mapbox",
         "type": "scattermapbox"
        },
        {
         "hovertemplate": "neighborhood=Yerba Buena<br>sale_price_sqr_foot=%{marker.size}<br>Lat=%{lat}<br>Lon=%{lon}<extra></extra>",
         "lat": [
          37.79
         ],
         "legendgroup": "Yerba Buena",
         "lon": [
          -122.4
         ],
         "marker": {
          "color": "#00cc96",
          "size": [
           576.71
          ],
          "sizemode": "area",
          "sizeref": 2.259975
         },
         "mode": "markers",
         "name": "Yerba Buena",
         "showlegend": true,
         "subplot": "mapbox",
         "type": "scattermapbox"
        }
       ],
       "layout": {
        "autosize": true,
        "legend": {
         "itemsizing": "constant",
         "title": {
          "text": "neighborhood"
         },
         "tracegroupgap": 0
        },
        "mapbox": {
         "accesstoken": "pk.eyJ1IjoiamtwMDU4NiIsImEiOiJja2F4Nzc5a3owMjMxMzBvOTNnaDV0d3IwIn0.UMp9LzCDYq7rdaZL7Tfo0A",
         "bearing": 0,
         "center": {
          "lat": 37.759589041095886,
          "lon": -122.43972602739714
         },
         "domain": {
          "x": [
           0,
           1
          ],
          "y": [
           0,
           1
          ]
         },
         "pitch": 0,
         "zoom": 10
        },
        "margin": {
         "t": 60
        },
        "template": {
         "data": {
          "bar": [
           {
            "error_x": {
             "color": "#2a3f5f"
            },
            "error_y": {
             "color": "#2a3f5f"
            },
            "marker": {
             "line": {
              "color": "#E5ECF6",
              "width": 0.5
             }
            },
            "type": "bar"
           }
          ],
          "barpolar": [
           {
            "marker": {
             "line": {
              "color": "#E5ECF6",
              "width": 0.5
             }
            },
            "type": "barpolar"
           }
          ],
          "carpet": [
           {
            "aaxis": {
             "endlinecolor": "#2a3f5f",
             "gridcolor": "white",
             "linecolor": "white",
             "minorgridcolor": "white",
             "startlinecolor": "#2a3f5f"
            },
            "baxis": {
             "endlinecolor": "#2a3f5f",
             "gridcolor": "white",
             "linecolor": "white",
             "minorgridcolor": "white",
             "startlinecolor": "#2a3f5f"
            },
            "type": "carpet"
           }
          ],
          "choropleth": [
           {
            "colorbar": {
             "outlinewidth": 0,
             "ticks": ""
            },
            "type": "choropleth"
           }
          ],
          "contour": [
           {
            "colorbar": {
             "outlinewidth": 0,
             "ticks": ""
            },
            "colorscale": [
             [
              0,
              "#0d0887"
             ],
             [
              0.1111111111111111,
              "#46039f"
             ],
             [
              0.2222222222222222,
              "#7201a8"
             ],
             [
              0.3333333333333333,
              "#9c179e"
             ],
             [
              0.4444444444444444,
              "#bd3786"
             ],
             [
              0.5555555555555556,
              "#d8576b"
             ],
             [
              0.6666666666666666,
              "#ed7953"
             ],
             [
              0.7777777777777778,
              "#fb9f3a"
             ],
             [
              0.8888888888888888,
              "#fdca26"
             ],
             [
              1,
              "#f0f921"
             ]
            ],
            "type": "contour"
           }
          ],
          "contourcarpet": [
           {
            "colorbar": {
             "outlinewidth": 0,
             "ticks": ""
            },
            "type": "contourcarpet"
           }
          ],
          "heatmap": [
           {
            "colorbar": {
             "outlinewidth": 0,
             "ticks": ""
            },
            "colorscale": [
             [
              0,
              "#0d0887"
             ],
             [
              0.1111111111111111,
              "#46039f"
             ],
             [
              0.2222222222222222,
              "#7201a8"
             ],
             [
              0.3333333333333333,
              "#9c179e"
             ],
             [
              0.4444444444444444,
              "#bd3786"
             ],
             [
              0.5555555555555556,
              "#d8576b"
             ],
             [
              0.6666666666666666,
              "#ed7953"
             ],
             [
              0.7777777777777778,
              "#fb9f3a"
             ],
             [
              0.8888888888888888,
              "#fdca26"
             ],
             [
              1,
              "#f0f921"
             ]
            ],
            "type": "heatmap"
           }
          ],
          "heatmapgl": [
           {
            "colorbar": {
             "outlinewidth": 0,
             "ticks": ""
            },
            "colorscale": [
             [
              0,
              "#0d0887"
             ],
             [
              0.1111111111111111,
              "#46039f"
             ],
             [
              0.2222222222222222,
              "#7201a8"
             ],
             [
              0.3333333333333333,
              "#9c179e"
             ],
             [
              0.4444444444444444,
              "#bd3786"
             ],
             [
              0.5555555555555556,
              "#d8576b"
             ],
             [
              0.6666666666666666,
              "#ed7953"
             ],
             [
              0.7777777777777778,
              "#fb9f3a"
             ],
             [
              0.8888888888888888,
              "#fdca26"
             ],
             [
              1,
              "#f0f921"
             ]
            ],
            "type": "heatmapgl"
           }
          ],
          "histogram": [
           {
            "marker": {
             "colorbar": {
              "outlinewidth": 0,
              "ticks": ""
             }
            },
            "type": "histogram"
           }
          ],
          "histogram2d": [
           {
            "colorbar": {
             "outlinewidth": 0,
             "ticks": ""
            },
            "colorscale": [
             [
              0,
              "#0d0887"
             ],
             [
              0.1111111111111111,
              "#46039f"
             ],
             [
              0.2222222222222222,
              "#7201a8"
             ],
             [
              0.3333333333333333,
              "#9c179e"
             ],
             [
              0.4444444444444444,
              "#bd3786"
             ],
             [
              0.5555555555555556,
              "#d8576b"
             ],
             [
              0.6666666666666666,
              "#ed7953"
             ],
             [
              0.7777777777777778,
              "#fb9f3a"
             ],
             [
              0.8888888888888888,
              "#fdca26"
             ],
             [
              1,
              "#f0f921"
             ]
            ],
            "type": "histogram2d"
           }
          ],
          "histogram2dcontour": [
           {
            "colorbar": {
             "outlinewidth": 0,
             "ticks": ""
            },
            "colorscale": [
             [
              0,
              "#0d0887"
             ],
             [
              0.1111111111111111,
              "#46039f"
             ],
             [
              0.2222222222222222,
              "#7201a8"
             ],
             [
              0.3333333333333333,
              "#9c179e"
             ],
             [
              0.4444444444444444,
              "#bd3786"
             ],
             [
              0.5555555555555556,
              "#d8576b"
             ],
             [
              0.6666666666666666,
              "#ed7953"
             ],
             [
              0.7777777777777778,
              "#fb9f3a"
             ],
             [
              0.8888888888888888,
              "#fdca26"
             ],
             [
              1,
              "#f0f921"
             ]
            ],
            "type": "histogram2dcontour"
           }
          ],
          "mesh3d": [
           {
            "colorbar": {
             "outlinewidth": 0,
             "ticks": ""
            },
            "type": "mesh3d"
           }
          ],
          "parcoords": [
           {
            "line": {
             "colorbar": {
              "outlinewidth": 0,
              "ticks": ""
             }
            },
            "type": "parcoords"
           }
          ],
          "pie": [
           {
            "automargin": true,
            "type": "pie"
           }
          ],
          "scatter": [
           {
            "marker": {
             "colorbar": {
              "outlinewidth": 0,
              "ticks": ""
             }
            },
            "type": "scatter"
           }
          ],
          "scatter3d": [
           {
            "line": {
             "colorbar": {
              "outlinewidth": 0,
              "ticks": ""
             }
            },
            "marker": {
             "colorbar": {
              "outlinewidth": 0,
              "ticks": ""
             }
            },
            "type": "scatter3d"
           }
          ],
          "scattercarpet": [
           {
            "marker": {
             "colorbar": {
              "outlinewidth": 0,
              "ticks": ""
             }
            },
            "type": "scattercarpet"
           }
          ],
          "scattergeo": [
           {
            "marker": {
             "colorbar": {
              "outlinewidth": 0,
              "ticks": ""
             }
            },
            "type": "scattergeo"
           }
          ],
          "scattergl": [
           {
            "marker": {
             "colorbar": {
              "outlinewidth": 0,
              "ticks": ""
             }
            },
            "type": "scattergl"
           }
          ],
          "scattermapbox": [
           {
            "marker": {
             "colorbar": {
              "outlinewidth": 0,
              "ticks": ""
             }
            },
            "type": "scattermapbox"
           }
          ],
          "scatterpolar": [
           {
            "marker": {
             "colorbar": {
              "outlinewidth": 0,
              "ticks": ""
             }
            },
            "type": "scatterpolar"
           }
          ],
          "scatterpolargl": [
           {
            "marker": {
             "colorbar": {
              "outlinewidth": 0,
              "ticks": ""
             }
            },
            "type": "scatterpolargl"
           }
          ],
          "scatterternary": [
           {
            "marker": {
             "colorbar": {
              "outlinewidth": 0,
              "ticks": ""
             }
            },
            "type": "scatterternary"
           }
          ],
          "surface": [
           {
            "colorbar": {
             "outlinewidth": 0,
             "ticks": ""
            },
            "colorscale": [
             [
              0,
              "#0d0887"
             ],
             [
              0.1111111111111111,
              "#46039f"
             ],
             [
              0.2222222222222222,
              "#7201a8"
             ],
             [
              0.3333333333333333,
              "#9c179e"
             ],
             [
              0.4444444444444444,
              "#bd3786"
             ],
             [
              0.5555555555555556,
              "#d8576b"
             ],
             [
              0.6666666666666666,
              "#ed7953"
             ],
             [
              0.7777777777777778,
              "#fb9f3a"
             ],
             [
              0.8888888888888888,
              "#fdca26"
             ],
             [
              1,
              "#f0f921"
             ]
            ],
            "type": "surface"
           }
          ],
          "table": [
           {
            "cells": {
             "fill": {
              "color": "#EBF0F8"
             },
             "line": {
              "color": "white"
             }
            },
            "header": {
             "fill": {
              "color": "#C8D4E3"
             },
             "line": {
              "color": "white"
             }
            },
            "type": "table"
           }
          ]
         },
         "layout": {
          "annotationdefaults": {
           "arrowcolor": "#2a3f5f",
           "arrowhead": 0,
           "arrowwidth": 1
          },
          "coloraxis": {
           "colorbar": {
            "outlinewidth": 0,
            "ticks": ""
           }
          },
          "colorscale": {
           "diverging": [
            [
             0,
             "#8e0152"
            ],
            [
             0.1,
             "#c51b7d"
            ],
            [
             0.2,
             "#de77ae"
            ],
            [
             0.3,
             "#f1b6da"
            ],
            [
             0.4,
             "#fde0ef"
            ],
            [
             0.5,
             "#f7f7f7"
            ],
            [
             0.6,
             "#e6f5d0"
            ],
            [
             0.7,
             "#b8e186"
            ],
            [
             0.8,
             "#7fbc41"
            ],
            [
             0.9,
             "#4d9221"
            ],
            [
             1,
             "#276419"
            ]
           ],
           "sequential": [
            [
             0,
             "#0d0887"
            ],
            [
             0.1111111111111111,
             "#46039f"
            ],
            [
             0.2222222222222222,
             "#7201a8"
            ],
            [
             0.3333333333333333,
             "#9c179e"
            ],
            [
             0.4444444444444444,
             "#bd3786"
            ],
            [
             0.5555555555555556,
             "#d8576b"
            ],
            [
             0.6666666666666666,
             "#ed7953"
            ],
            [
             0.7777777777777778,
             "#fb9f3a"
            ],
            [
             0.8888888888888888,
             "#fdca26"
            ],
            [
             1,
             "#f0f921"
            ]
           ],
           "sequentialminus": [
            [
             0,
             "#0d0887"
            ],
            [
             0.1111111111111111,
             "#46039f"
            ],
            [
             0.2222222222222222,
             "#7201a8"
            ],
            [
             0.3333333333333333,
             "#9c179e"
            ],
            [
             0.4444444444444444,
             "#bd3786"
            ],
            [
             0.5555555555555556,
             "#d8576b"
            ],
            [
             0.6666666666666666,
             "#ed7953"
            ],
            [
             0.7777777777777778,
             "#fb9f3a"
            ],
            [
             0.8888888888888888,
             "#fdca26"
            ],
            [
             1,
             "#f0f921"
            ]
           ]
          },
          "colorway": [
           "#636efa",
           "#EF553B",
           "#00cc96",
           "#ab63fa",
           "#FFA15A",
           "#19d3f3",
           "#FF6692",
           "#B6E880",
           "#FF97FF",
           "#FECB52"
          ],
          "font": {
           "color": "#2a3f5f"
          },
          "geo": {
           "bgcolor": "white",
           "lakecolor": "white",
           "landcolor": "#E5ECF6",
           "showlakes": true,
           "showland": true,
           "subunitcolor": "white"
          },
          "hoverlabel": {
           "align": "left"
          },
          "hovermode": "closest",
          "mapbox": {
           "style": "light"
          },
          "paper_bgcolor": "white",
          "plot_bgcolor": "#E5ECF6",
          "polar": {
           "angularaxis": {
            "gridcolor": "white",
            "linecolor": "white",
            "ticks": ""
           },
           "bgcolor": "#E5ECF6",
           "radialaxis": {
            "gridcolor": "white",
            "linecolor": "white",
            "ticks": ""
           }
          },
          "scene": {
           "xaxis": {
            "backgroundcolor": "#E5ECF6",
            "gridcolor": "white",
            "gridwidth": 2,
            "linecolor": "white",
            "showbackground": true,
            "ticks": "",
            "zerolinecolor": "white"
           },
           "yaxis": {
            "backgroundcolor": "#E5ECF6",
            "gridcolor": "white",
            "gridwidth": 2,
            "linecolor": "white",
            "showbackground": true,
            "ticks": "",
            "zerolinecolor": "white"
           },
           "zaxis": {
            "backgroundcolor": "#E5ECF6",
            "gridcolor": "white",
            "gridwidth": 2,
            "linecolor": "white",
            "showbackground": true,
            "ticks": "",
            "zerolinecolor": "white"
           }
          },
          "shapedefaults": {
           "line": {
            "color": "#2a3f5f"
           }
          },
          "ternary": {
           "aaxis": {
            "gridcolor": "white",
            "linecolor": "white",
            "ticks": ""
           },
           "baxis": {
            "gridcolor": "white",
            "linecolor": "white",
            "ticks": ""
           },
           "bgcolor": "#E5ECF6",
           "caxis": {
            "gridcolor": "white",
            "linecolor": "white",
            "ticks": ""
           }
          },
          "title": {
           "x": 0.05
          },
          "xaxis": {
           "automargin": true,
           "gridcolor": "white",
           "linecolor": "white",
           "ticks": "",
           "title": {
            "standoff": 15
           },
           "zerolinecolor": "white",
           "zerolinewidth": 2
          },
          "yaxis": {
           "automargin": true,
           "gridcolor": "white",
           "linecolor": "white",
           "ticks": "",
           "title": {
            "standoff": 15
           },
           "zerolinecolor": "white",
           "zerolinewidth": 2
          }
         }
        }
       }
      },
      "image/png": "[encoded data removed]",
      "text/html": [
       "<div>\n",
       "        \n",
       "        \n",
       "            <div id=\"90d941b7-aee2-4c24-984d-1ff1fc161b97\" class=\"plotly-graph-div\" style=\"height:525px; width:100%;\"></div>\n",
       "            <script type=\"text/javascript\">\n",
       "                require([\"plotly\"], function(Plotly) {\n",
       "                    window.PLOTLYENV=window.PLOTLYENV || {};\n",
       "                    \n",
       "                if (document.getElementById(\"90d941b7-aee2-4c24-984d-1ff1fc161b97\")) {\n",
       "                    Plotly.newPlot(\n",
       "                        '90d941b7-aee2-4c24-984d-1ff1fc161b97',\n",
       "                        [{\"hovertemplate\": \"neighborhood=Alamo Square<br>sale_price_sqr_foot=%{marker.size}<br>Lat=%{lat}<br>Lon=%{lon}<extra></extra>\", \"lat\": [37.79], \"legendgroup\": \"Alamo Square\", \"lon\": [-122.4], \"marker\": {\"color\": \"#636efa\", \"size\": [366.02], \"sizemode\": \"area\", \"sizeref\": 2.259975}, \"mode\": \"markers\", \"name\": \"Alamo Square\", \"showlegend\": true, \"subplot\": \"mapbox\", \"type\": \"scattermapbox\"}, {\"hovertemplate\": \"neighborhood=Anza Vista<br>sale_price_sqr_foot=%{marker.size}<br>Lat=%{lat}<br>Lon=%{lon}<extra></extra>\", \"lat\": [37.78], \"legendgroup\": \"Anza Vista\", \"lon\": [-122.44], \"marker\": {\"color\": \"#EF553B\", \"size\": [373.38], \"sizemode\": \"area\", \"sizeref\": 2.259975}, \"mode\": \"markers\", \"name\": \"Anza Vista\", \"showlegend\": true, \"subplot\": \"mapbox\", \"type\": \"scattermapbox\"}, {\"hovertemplate\": \"neighborhood=Bayview<br>sale_price_sqr_foot=%{marker.size}<br>Lat=%{lat}<br>Lon=%{lon}<extra></extra>\", \"lat\": [37.73], \"legendgroup\": \"Bayview\", \"lon\": [-122.4], \"marker\": {\"color\": \"#00cc96\", \"size\": [204.59], \"sizemode\": \"area\", \"sizeref\": 2.259975}, \"mode\": \"markers\", \"name\": \"Bayview\", \"showlegend\": true, \"subplot\": \"mapbox\", \"type\": \"scattermapbox\"}, {\"hovertemplate\": \"neighborhood=Bayview Heights<br>sale_price_sqr_foot=%{marker.size}<br>Lat=%{lat}<br>Lon=%{lon}<extra></extra>\", \"lat\": [37.73], \"legendgroup\": \"Bayview Heights\", \"lon\": [-122.41], \"marker\": {\"color\": \"#ab63fa\", \"size\": [590.79], \"sizemode\": \"area\", \"sizeref\": 2.259975}, \"mode\": \"markers\", \"name\": \"Bayview Heights\", \"showlegend\": true, \"subplot\": \"mapbox\", \"type\": \"scattermapbox\"}, {\"hovertemplate\": \"neighborhood=Bernal Heights <br>sale_price_sqr_foot=%{marker.size}<br>Lat=%{lat}<br>Lon=%{lon}<extra></extra>\", \"lat\": [37.73], \"legendgroup\": \"Bernal Heights \", \"lon\": [-122.44], \"marker\": {\"color\": \"#FFA15A\", \"size\": [576.75], \"sizemode\": \"area\", \"sizeref\": 2.259975}, \"mode\": \"markers\", \"name\": \"Bernal Heights \", \"showlegend\": true, \"subplot\": \"mapbox\", \"type\": \"scattermapbox\"}, {\"hovertemplate\": \"neighborhood=Buena Vista Park<br>sale_price_sqr_foot=%{marker.size}<br>Lat=%{lat}<br>Lon=%{lon}<extra></extra>\", \"lat\": [37.77], \"legendgroup\": \"Buena Vista Park\", \"lon\": [-122.44], \"marker\": {\"color\": \"#19d3f3\", \"size\": [452.68], \"sizemode\": \"area\", \"sizeref\": 2.259975}, \"mode\": \"markers\", \"name\": \"Buena Vista Park\", \"showlegend\": true, \"subplot\": \"mapbox\", \"type\": \"scattermapbox\"}, {\"hovertemplate\": \"neighborhood=Central Richmond<br>sale_price_sqr_foot=%{marker.size}<br>Lat=%{lat}<br>Lon=%{lon}<extra></extra>\", \"lat\": [37.78], \"legendgroup\": \"Central Richmond\", \"lon\": [-122.45], \"marker\": {\"color\": \"#FF6692\", \"size\": [394.42], \"sizemode\": \"area\", \"sizeref\": 2.259975}, \"mode\": \"markers\", \"name\": \"Central Richmond\", \"showlegend\": true, \"subplot\": \"mapbox\", \"type\": \"scattermapbox\"}, {\"hovertemplate\": \"neighborhood=Central Sunset<br>sale_price_sqr_foot=%{marker.size}<br>Lat=%{lat}<br>Lon=%{lon}<extra></extra>\", \"lat\": [37.75], \"legendgroup\": \"Central Sunset\", \"lon\": [-122.49], \"marker\": {\"color\": \"#B6E880\", \"size\": [423.69], \"sizemode\": \"area\", \"sizeref\": 2.259975}, \"mode\": \"markers\", \"name\": \"Central Sunset\", \"showlegend\": true, \"subplot\": \"mapbox\", \"type\": \"scattermapbox\"}, {\"hovertemplate\": \"neighborhood=Clarendon Heights<br>sale_price_sqr_foot=%{marker.size}<br>Lat=%{lat}<br>Lon=%{lon}<extra></extra>\", \"lat\": [37.75], \"legendgroup\": \"Clarendon Heights\", \"lon\": [-122.45], \"marker\": {\"color\": \"#FF97FF\", \"size\": [487.24], \"sizemode\": \"area\", \"sizeref\": 2.259975}, \"mode\": \"markers\", \"name\": \"Clarendon Heights\", \"showlegend\": true, \"subplot\": \"mapbox\", \"type\": \"scattermapbox\"}, {\"hovertemplate\": \"neighborhood=Corona Heights<br>sale_price_sqr_foot=%{marker.size}<br>Lat=%{lat}<br>Lon=%{lon}<extra></extra>\", \"lat\": [37.79], \"legendgroup\": \"Corona Heights\", \"lon\": [-122.46], \"marker\": {\"color\": \"#FECB52\", \"size\": [587.54], \"sizemode\": \"area\", \"sizeref\": 2.259975}, \"mode\": \"markers\", \"name\": \"Corona Heights\", \"showlegend\": true, \"subplot\": \"mapbox\", \"type\": \"scattermapbox\"}, {\"hovertemplate\": \"neighborhood=Cow Hollow<br>sale_price_sqr_foot=%{marker.size}<br>Lat=%{lat}<br>Lon=%{lon}<extra></extra>\", \"lat\": [37.79], \"legendgroup\": \"Cow Hollow\", \"lon\": [-122.44], \"marker\": {\"color\": \"#636efa\", \"size\": [665.96], \"sizemode\": \"area\", \"sizeref\": 2.259975}, \"mode\": \"markers\", \"name\": \"Cow Hollow\", \"showlegend\": true, \"subplot\": \"mapbox\", \"type\": \"scattermapbox\"}, {\"hovertemplate\": \"neighborhood=Croker Amazon<br>sale_price_sqr_foot=%{marker.size}<br>Lat=%{lat}<br>Lon=%{lon}<extra></extra>\", \"lat\": [37.72], \"legendgroup\": \"Croker Amazon\", \"lon\": [-122.44], \"marker\": {\"color\": \"#EF553B\", \"size\": [303.0], \"sizemode\": \"area\", \"sizeref\": 2.259975}, \"mode\": \"markers\", \"name\": \"Croker Amazon\", \"showlegend\": true, \"subplot\": \"mapbox\", \"type\": \"scattermapbox\"}, {\"hovertemplate\": \"neighborhood=Diamond Heights<br>sale_price_sqr_foot=%{marker.size}<br>Lat=%{lat}<br>Lon=%{lon}<extra></extra>\", \"lat\": [37.73], \"legendgroup\": \"Diamond Heights\", \"lon\": [-122.44], \"marker\": {\"color\": \"#00cc96\", \"size\": [434.99], \"sizemode\": \"area\", \"sizeref\": 2.259975}, \"mode\": \"markers\", \"name\": \"Diamond Heights\", \"showlegend\": true, \"subplot\": \"mapbox\", \"type\": \"scattermapbox\"}, {\"hovertemplate\": \"neighborhood=Downtown <br>sale_price_sqr_foot=%{marker.size}<br>Lat=%{lat}<br>Lon=%{lon}<extra></extra>\", \"lat\": [37.79], \"legendgroup\": \"Downtown \", \"lon\": [-122.4], \"marker\": {\"color\": \"#ab63fa\", \"size\": [391.43], \"sizemode\": \"area\", \"sizeref\": 2.259975}, \"mode\": \"markers\", \"name\": \"Downtown \", \"showlegend\": true, \"subplot\": \"mapbox\", \"type\": \"scattermapbox\"}, {\"hovertemplate\": \"neighborhood=Duboce Triangle<br>sale_price_sqr_foot=%{marker.size}<br>Lat=%{lat}<br>Lon=%{lon}<extra></extra>\", \"lat\": [37.77], \"legendgroup\": \"Duboce Triangle\", \"lon\": [-122.43], \"marker\": {\"color\": \"#FFA15A\", \"size\": [502.6], \"sizemode\": \"area\", \"sizeref\": 2.259975}, \"mode\": \"markers\", \"name\": \"Duboce Triangle\", \"showlegend\": true, \"subplot\": \"mapbox\", \"type\": \"scattermapbox\"}, {\"hovertemplate\": \"neighborhood=Eureka Valley/Dolores Heights<br>sale_price_sqr_foot=%{marker.size}<br>Lat=%{lat}<br>Lon=%{lon}<extra></extra>\", \"lat\": [37.76], \"legendgroup\": \"Eureka Valley/Dolores Heights\", \"lon\": [-122.44], \"marker\": {\"color\": \"#19d3f3\", \"size\": [642.25], \"sizemode\": \"area\", \"sizeref\": 2.259975}, \"mode\": \"markers\", \"name\": \"Eureka Valley/Dolores Heights\", \"showlegend\": true, \"subplot\": \"mapbox\", \"type\": \"scattermapbox\"}, {\"hovertemplate\": \"neighborhood=Excelsior<br>sale_price_sqr_foot=%{marker.size}<br>Lat=%{lat}<br>Lon=%{lon}<extra></extra>\", \"lat\": [37.73], \"legendgroup\": \"Excelsior\", \"lon\": [-122.41], \"marker\": {\"color\": \"#FF6692\", \"size\": [388.77], \"sizemode\": \"area\", \"sizeref\": 2.259975}, \"mode\": \"markers\", \"name\": \"Excelsior\", \"showlegend\": true, \"subplot\": \"mapbox\", \"type\": \"scattermapbox\"}, {\"hovertemplate\": \"neighborhood=Financial District North<br>sale_price_sqr_foot=%{marker.size}<br>Lat=%{lat}<br>Lon=%{lon}<extra></extra>\", \"lat\": [37.79], \"legendgroup\": \"Financial District North\", \"lon\": [-122.4], \"marker\": {\"color\": \"#B6E880\", \"size\": [391.36], \"sizemode\": \"area\", \"sizeref\": 2.259975}, \"mode\": \"markers\", \"name\": \"Financial District North\", \"showlegend\": true, \"subplot\": \"mapbox\", \"type\": \"scattermapbox\"}, {\"hovertemplate\": \"neighborhood=Financial District South<br>sale_price_sqr_foot=%{marker.size}<br>Lat=%{lat}<br>Lon=%{lon}<extra></extra>\", \"lat\": [37.79], \"legendgroup\": \"Financial District South\", \"lon\": [-122.4], \"marker\": {\"color\": \"#FF97FF\", \"size\": [455.84], \"sizemode\": \"area\", \"sizeref\": 2.259975}, \"mode\": \"markers\", \"name\": \"Financial District South\", \"showlegend\": true, \"subplot\": \"mapbox\", \"type\": \"scattermapbox\"}, {\"hovertemplate\": \"neighborhood=Forest Knolls<br>sale_price_sqr_foot=%{marker.size}<br>Lat=%{lat}<br>Lon=%{lon}<extra></extra>\", \"lat\": [37.76], \"legendgroup\": \"Forest Knolls\", \"lon\": [-122.46], \"marker\": {\"color\": \"#FECB52\", \"size\": [321.84], \"sizemode\": \"area\", \"sizeref\": 2.259975}, \"mode\": \"markers\", \"name\": \"Forest Knolls\", \"showlegend\": true, \"subplot\": \"mapbox\", \"type\": \"scattermapbox\"}, {\"hovertemplate\": \"neighborhood=Glen Park<br>sale_price_sqr_foot=%{marker.size}<br>Lat=%{lat}<br>Lon=%{lon}<extra></extra>\", \"lat\": [37.73], \"legendgroup\": \"Glen Park\", \"lon\": [-122.44], \"marker\": {\"color\": \"#636efa\", \"size\": [623.83], \"sizemode\": \"area\", \"sizeref\": 2.259975}, \"mode\": \"markers\", \"name\": \"Glen Park\", \"showlegend\": true, \"subplot\": \"mapbox\", \"type\": \"scattermapbox\"}, {\"hovertemplate\": \"neighborhood=Golden Gate Heights<br>sale_price_sqr_foot=%{marker.size}<br>Lat=%{lat}<br>Lon=%{lon}<extra></extra>\", \"lat\": [37.76], \"legendgroup\": \"Golden Gate Heights\", \"lon\": [-122.46], \"marker\": {\"color\": \"#EF553B\", \"size\": [639.39], \"sizemode\": \"area\", \"sizeref\": 2.259975}, \"mode\": \"markers\", \"name\": \"Golden Gate Heights\", \"showlegend\": true, \"subplot\": \"mapbox\", \"type\": \"scattermapbox\"}, {\"hovertemplate\": \"neighborhood=Haight Ashbury<br>sale_price_sqr_foot=%{marker.size}<br>Lat=%{lat}<br>Lon=%{lon}<extra></extra>\", \"lat\": [37.77], \"legendgroup\": \"Haight Ashbury\", \"lon\": [-122.44], \"marker\": {\"color\": \"#00cc96\", \"size\": [449.54], \"sizemode\": \"area\", \"sizeref\": 2.259975}, \"mode\": \"markers\", \"name\": \"Haight Ashbury\", \"showlegend\": true, \"subplot\": \"mapbox\", \"type\": \"scattermapbox\"}, {\"hovertemplate\": \"neighborhood=Hayes Valley<br>sale_price_sqr_foot=%{marker.size}<br>Lat=%{lat}<br>Lon=%{lon}<extra></extra>\", \"lat\": [37.77], \"legendgroup\": \"Hayes Valley\", \"lon\": [-122.44], \"marker\": {\"color\": \"#ab63fa\", \"size\": [355.93], \"sizemode\": \"area\", \"sizeref\": 2.259975}, \"mode\": \"markers\", \"name\": \"Hayes Valley\", \"showlegend\": true, \"subplot\": \"mapbox\", \"type\": \"scattermapbox\"}, {\"hovertemplate\": \"neighborhood=Hunters Point<br>sale_price_sqr_foot=%{marker.size}<br>Lat=%{lat}<br>Lon=%{lon}<extra></extra>\", \"lat\": [37.73], \"legendgroup\": \"Hunters Point\", \"lon\": [-122.37], \"marker\": {\"color\": \"#FFA15A\", \"size\": [170.62], \"sizemode\": \"area\", \"sizeref\": 2.259975}, \"mode\": \"markers\", \"name\": \"Hunters Point\", \"showlegend\": true, \"subplot\": \"mapbox\", \"type\": \"scattermapbox\"}, {\"hovertemplate\": \"neighborhood=Ingleside <br>sale_price_sqr_foot=%{marker.size}<br>Lat=%{lat}<br>Lon=%{lon}<extra></extra>\", \"lat\": [37.72], \"legendgroup\": \"Ingleside \", \"lon\": [-122.49], \"marker\": {\"color\": \"#19d3f3\", \"size\": [367.9], \"sizemode\": \"area\", \"sizeref\": 2.259975}, \"mode\": \"markers\", \"name\": \"Ingleside \", \"showlegend\": true, \"subplot\": \"mapbox\", \"type\": \"scattermapbox\"}, {\"hovertemplate\": \"neighborhood=Ingleside Heights<br>sale_price_sqr_foot=%{marker.size}<br>Lat=%{lat}<br>Lon=%{lon}<extra></extra>\", \"lat\": [37.72], \"legendgroup\": \"Ingleside Heights\", \"lon\": [-122.49], \"marker\": {\"color\": \"#FF6692\", \"size\": [384.8], \"sizemode\": \"area\", \"sizeref\": 2.259975}, \"mode\": \"markers\", \"name\": \"Ingleside Heights\", \"showlegend\": true, \"subplot\": \"mapbox\", \"type\": \"scattermapbox\"}, {\"hovertemplate\": \"neighborhood=Inner Mission<br>sale_price_sqr_foot=%{marker.size}<br>Lat=%{lat}<br>Lon=%{lon}<extra></extra>\", \"lat\": [37.75], \"legendgroup\": \"Inner Mission\", \"lon\": [-122.42], \"marker\": {\"color\": \"#B6E880\", \"size\": [397.67], \"sizemode\": \"area\", \"sizeref\": 2.259975}, \"mode\": \"markers\", \"name\": \"Inner Mission\", \"showlegend\": true, \"subplot\": \"mapbox\", \"type\": \"scattermapbox\"}, {\"hovertemplate\": \"neighborhood=Inner Parkside<br>sale_price_sqr_foot=%{marker.size}<br>Lat=%{lat}<br>Lon=%{lon}<extra></extra>\", \"lat\": [37.75], \"legendgroup\": \"Inner Parkside\", \"lon\": [-122.49], \"marker\": {\"color\": \"#FF97FF\", \"size\": [519.39], \"sizemode\": \"area\", \"sizeref\": 2.259975}, \"mode\": \"markers\", \"name\": \"Inner Parkside\", \"showlegend\": true, \"subplot\": \"mapbox\", \"type\": \"scattermapbox\"}, {\"hovertemplate\": \"neighborhood=Inner Richmond<br>sale_price_sqr_foot=%{marker.size}<br>Lat=%{lat}<br>Lon=%{lon}<extra></extra>\", \"lat\": [37.77], \"legendgroup\": \"Inner Richmond\", \"lon\": [-122.48], \"marker\": {\"color\": \"#FECB52\", \"size\": [378.59], \"sizemode\": \"area\", \"sizeref\": 2.259975}, \"mode\": \"markers\", \"name\": \"Inner Richmond\", \"showlegend\": true, \"subplot\": \"mapbox\", \"type\": \"scattermapbox\"}, {\"hovertemplate\": \"neighborhood=Inner Sunset<br>sale_price_sqr_foot=%{marker.size}<br>Lat=%{lat}<br>Lon=%{lon}<extra></extra>\", \"lat\": [37.75], \"legendgroup\": \"Inner Sunset\", \"lon\": [-122.49], \"marker\": {\"color\": \"#636efa\", \"size\": [413.67], \"sizemode\": \"area\", \"sizeref\": 2.259975}, \"mode\": \"markers\", \"name\": \"Inner Sunset\", \"showlegend\": true, \"subplot\": \"mapbox\", \"type\": \"scattermapbox\"}, {\"hovertemplate\": \"neighborhood=Jordan Park/Laurel Heights<br>sale_price_sqr_foot=%{marker.size}<br>Lat=%{lat}<br>Lon=%{lon}<extra></extra>\", \"lat\": [37.79], \"legendgroup\": \"Jordan Park/Laurel Heights\", \"lon\": [-122.46], \"marker\": {\"color\": \"#EF553B\", \"size\": [529.38], \"sizemode\": \"area\", \"sizeref\": 2.259975}, \"mode\": \"markers\", \"name\": \"Jordan Park/Laurel Heights\", \"showlegend\": true, \"subplot\": \"mapbox\", \"type\": \"scattermapbox\"}, {\"hovertemplate\": \"neighborhood=Lake --The Presidio<br>sale_price_sqr_foot=%{marker.size}<br>Lat=%{lat}<br>Lon=%{lon}<extra></extra>\", \"lat\": [37.8], \"legendgroup\": \"Lake --The Presidio\", \"lon\": [-122.45], \"marker\": {\"color\": \"#00cc96\", \"size\": [409.95], \"sizemode\": \"area\", \"sizeref\": 2.259975}, \"mode\": \"markers\", \"name\": \"Lake --The Presidio\", \"showlegend\": true, \"subplot\": \"mapbox\", \"type\": \"scattermapbox\"}, {\"hovertemplate\": \"neighborhood=Lone Mountain<br>sale_price_sqr_foot=%{marker.size}<br>Lat=%{lat}<br>Lon=%{lon}<extra></extra>\", \"lat\": [37.78], \"legendgroup\": \"Lone Mountain\", \"lon\": [-122.45], \"marker\": {\"color\": \"#ab63fa\", \"size\": [478.23], \"sizemode\": \"area\", \"sizeref\": 2.259975}, \"mode\": \"markers\", \"name\": \"Lone Mountain\", \"showlegend\": true, \"subplot\": \"mapbox\", \"type\": \"scattermapbox\"}, {\"hovertemplate\": \"neighborhood=Lower Pacific Heights<br>sale_price_sqr_foot=%{marker.size}<br>Lat=%{lat}<br>Lon=%{lon}<extra></extra>\", \"lat\": [37.79], \"legendgroup\": \"Lower Pacific Heights\", \"lon\": [-122.44], \"marker\": {\"color\": \"#FFA15A\", \"size\": [539.24], \"sizemode\": \"area\", \"sizeref\": 2.259975}, \"mode\": \"markers\", \"name\": \"Lower Pacific Heights\", \"showlegend\": true, \"subplot\": \"mapbox\", \"type\": \"scattermapbox\"}, {\"hovertemplate\": \"neighborhood=Marina<br>sale_price_sqr_foot=%{marker.size}<br>Lat=%{lat}<br>Lon=%{lon}<extra></extra>\", \"lat\": [37.8], \"legendgroup\": \"Marina\", \"lon\": [-122.47], \"marker\": {\"color\": \"#19d3f3\", \"size\": [583.75], \"sizemode\": \"area\", \"sizeref\": 2.259975}, \"mode\": \"markers\", \"name\": \"Marina\", \"showlegend\": true, \"subplot\": \"mapbox\", \"type\": \"scattermapbox\"}, {\"hovertemplate\": \"neighborhood=Merced Heights<br>sale_price_sqr_foot=%{marker.size}<br>Lat=%{lat}<br>Lon=%{lon}<extra></extra>\", \"lat\": [37.72], \"legendgroup\": \"Merced Heights\", \"lon\": [-122.47], \"marker\": {\"color\": \"#FF6692\", \"size\": [788.84], \"sizemode\": \"area\", \"sizeref\": 2.259975}, \"mode\": \"markers\", \"name\": \"Merced Heights\", \"showlegend\": true, \"subplot\": \"mapbox\", \"type\": \"scattermapbox\"}, {\"hovertemplate\": \"neighborhood=Midtown Terrace<br>sale_price_sqr_foot=%{marker.size}<br>Lat=%{lat}<br>Lon=%{lon}<extra></extra>\", \"lat\": [37.75], \"legendgroup\": \"Midtown Terrace\", \"lon\": [-122.45], \"marker\": {\"color\": \"#B6E880\", \"size\": [550.51], \"sizemode\": \"area\", \"sizeref\": 2.259975}, \"mode\": \"markers\", \"name\": \"Midtown Terrace\", \"showlegend\": true, \"subplot\": \"mapbox\", \"type\": \"scattermapbox\"}, {\"hovertemplate\": \"neighborhood=Miraloma Park<br>sale_price_sqr_foot=%{marker.size}<br>Lat=%{lat}<br>Lon=%{lon}<extra></extra>\", \"lat\": [37.73], \"legendgroup\": \"Miraloma Park\", \"lon\": [-122.46], \"marker\": {\"color\": \"#FF97FF\", \"size\": [779.81], \"sizemode\": \"area\", \"sizeref\": 2.259975}, \"mode\": \"markers\", \"name\": \"Miraloma Park\", \"showlegend\": true, \"subplot\": \"mapbox\", \"type\": \"scattermapbox\"}, {\"hovertemplate\": \"neighborhood=Mission Bay<br>sale_price_sqr_foot=%{marker.size}<br>Lat=%{lat}<br>Lon=%{lon}<extra></extra>\", \"lat\": [37.78], \"legendgroup\": \"Mission Bay\", \"lon\": [-122.4], \"marker\": {\"color\": \"#FECB52\", \"size\": [566.19], \"sizemode\": \"area\", \"sizeref\": 2.259975}, \"mode\": \"markers\", \"name\": \"Mission Bay\", \"showlegend\": true, \"subplot\": \"mapbox\", \"type\": \"scattermapbox\"}, {\"hovertemplate\": \"neighborhood=Mission Dolores<br>sale_price_sqr_foot=%{marker.size}<br>Lat=%{lat}<br>Lon=%{lon}<extra></extra>\", \"lat\": [37.75], \"legendgroup\": \"Mission Dolores\", \"lon\": [-122.43], \"marker\": {\"color\": \"#636efa\", \"size\": [418.92], \"sizemode\": \"area\", \"sizeref\": 2.259975}, \"mode\": \"markers\", \"name\": \"Mission Dolores\", \"showlegend\": true, \"subplot\": \"mapbox\", \"type\": \"scattermapbox\"}, {\"hovertemplate\": \"neighborhood=Mission Terrace<br>sale_price_sqr_foot=%{marker.size}<br>Lat=%{lat}<br>Lon=%{lon}<extra></extra>\", \"lat\": [37.73], \"legendgroup\": \"Mission Terrace\", \"lon\": [-122.44], \"marker\": {\"color\": \"#EF553B\", \"size\": [523.47], \"sizemode\": \"area\", \"sizeref\": 2.259975}, \"mode\": \"markers\", \"name\": \"Mission Terrace\", \"showlegend\": true, \"subplot\": \"mapbox\", \"type\": \"scattermapbox\"}, {\"hovertemplate\": \"neighborhood=Nob Hill<br>sale_price_sqr_foot=%{marker.size}<br>Lat=%{lat}<br>Lon=%{lon}<extra></extra>\", \"lat\": [37.79], \"legendgroup\": \"Nob Hill\", \"lon\": [-122.44], \"marker\": {\"color\": \"#00cc96\", \"size\": [458.2], \"sizemode\": \"area\", \"sizeref\": 2.259975}, \"mode\": \"markers\", \"name\": \"Nob Hill\", \"showlegend\": true, \"subplot\": \"mapbox\", \"type\": \"scattermapbox\"}, {\"hovertemplate\": \"neighborhood=Noe Valley<br>sale_price_sqr_foot=%{marker.size}<br>Lat=%{lat}<br>Lon=%{lon}<extra></extra>\", \"lat\": [37.75], \"legendgroup\": \"Noe Valley\", \"lon\": [-122.45], \"marker\": {\"color\": \"#ab63fa\", \"size\": [542.44], \"sizemode\": \"area\", \"sizeref\": 2.259975}, \"mode\": \"markers\", \"name\": \"Noe Valley\", \"showlegend\": true, \"subplot\": \"mapbox\", \"type\": \"scattermapbox\"}, {\"hovertemplate\": \"neighborhood=North Beach<br>sale_price_sqr_foot=%{marker.size}<br>Lat=%{lat}<br>Lon=%{lon}<extra></extra>\", \"lat\": [37.8], \"legendgroup\": \"North Beach\", \"lon\": [-122.4], \"marker\": {\"color\": \"#FFA15A\", \"size\": [411.65], \"sizemode\": \"area\", \"sizeref\": 2.259975}, \"mode\": \"markers\", \"name\": \"North Beach\", \"showlegend\": true, \"subplot\": \"mapbox\", \"type\": \"scattermapbox\"}, {\"hovertemplate\": \"neighborhood=North Waterfront<br>sale_price_sqr_foot=%{marker.size}<br>Lat=%{lat}<br>Lon=%{lon}<extra></extra>\", \"lat\": [37.8], \"legendgroup\": \"North Waterfront\", \"lon\": [-122.4], \"marker\": {\"color\": \"#19d3f3\", \"size\": [498.27], \"sizemode\": \"area\", \"sizeref\": 2.259975}, \"mode\": \"markers\", \"name\": \"North Waterfront\", \"showlegend\": true, \"subplot\": \"mapbox\", \"type\": \"scattermapbox\"}, {\"hovertemplate\": \"neighborhood=Oceanview<br>sale_price_sqr_foot=%{marker.size}<br>Lat=%{lat}<br>Lon=%{lon}<extra></extra>\", \"lat\": [37.72], \"legendgroup\": \"Oceanview\", \"lon\": [-122.47], \"marker\": {\"color\": \"#FF6692\", \"size\": [330.1], \"sizemode\": \"area\", \"sizeref\": 2.259975}, \"mode\": \"markers\", \"name\": \"Oceanview\", \"showlegend\": true, \"subplot\": \"mapbox\", \"type\": \"scattermapbox\"}, {\"hovertemplate\": \"neighborhood=Outer Mission<br>sale_price_sqr_foot=%{marker.size}<br>Lat=%{lat}<br>Lon=%{lon}<extra></extra>\", \"lat\": [37.72], \"legendgroup\": \"Outer Mission\", \"lon\": [-122.44], \"marker\": {\"color\": \"#B6E880\", \"size\": [242.37], \"sizemode\": \"area\", \"sizeref\": 2.259975}, \"mode\": \"markers\", \"name\": \"Outer Mission\", \"showlegend\": true, \"subplot\": \"mapbox\", \"type\": \"scattermapbox\"}, {\"hovertemplate\": \"neighborhood=Outer Parkside<br>sale_price_sqr_foot=%{marker.size}<br>Lat=%{lat}<br>Lon=%{lon}<extra></extra>\", \"lat\": [37.75], \"legendgroup\": \"Outer Parkside\", \"lon\": [-122.45], \"marker\": {\"color\": \"#FF97FF\", \"size\": [485.03], \"sizemode\": \"area\", \"sizeref\": 2.259975}, \"mode\": \"markers\", \"name\": \"Outer Parkside\", \"showlegend\": true, \"subplot\": \"mapbox\", \"type\": \"scattermapbox\"}, {\"hovertemplate\": \"neighborhood=Outer Richmond <br>sale_price_sqr_foot=%{marker.size}<br>Lat=%{lat}<br>Lon=%{lon}<extra></extra>\", \"lat\": [37.77], \"legendgroup\": \"Outer Richmond \", \"lon\": [-122.48], \"marker\": {\"color\": \"#FECB52\", \"size\": [473.9], \"sizemode\": \"area\", \"sizeref\": 2.259975}, \"mode\": \"markers\", \"name\": \"Outer Richmond \", \"showlegend\": true, \"subplot\": \"mapbox\", \"type\": \"scattermapbox\"}, {\"hovertemplate\": \"neighborhood=Outer Sunset<br>sale_price_sqr_foot=%{marker.size}<br>Lat=%{lat}<br>Lon=%{lon}<extra></extra>\", \"lat\": [37.75], \"legendgroup\": \"Outer Sunset\", \"lon\": [-122.49], \"marker\": {\"color\": \"#636efa\", \"size\": [394.22], \"sizemode\": \"area\", \"sizeref\": 2.259975}, \"mode\": \"markers\", \"name\": \"Outer Sunset\", \"showlegend\": true, \"subplot\": \"mapbox\", \"type\": \"scattermapbox\"}, {\"hovertemplate\": \"neighborhood=Pacific Heights<br>sale_price_sqr_foot=%{marker.size}<br>Lat=%{lat}<br>Lon=%{lon}<extra></extra>\", \"lat\": [37.79], \"legendgroup\": \"Pacific Heights\", \"lon\": [-122.44], \"marker\": {\"color\": \"#EF553B\", \"size\": [689.56], \"sizemode\": \"area\", \"sizeref\": 2.259975}, \"mode\": \"markers\", \"name\": \"Pacific Heights\", \"showlegend\": true, \"subplot\": \"mapbox\", \"type\": \"scattermapbox\"}, {\"hovertemplate\": \"neighborhood=Park North<br>sale_price_sqr_foot=%{marker.size}<br>Lat=%{lat}<br>Lon=%{lon}<extra></extra>\", \"lat\": [37.73], \"legendgroup\": \"Park North\", \"lon\": [-122.48], \"marker\": {\"color\": \"#00cc96\", \"size\": [373.73], \"sizemode\": \"area\", \"sizeref\": 2.259975}, \"mode\": \"markers\", \"name\": \"Park North\", \"showlegend\": true, \"subplot\": \"mapbox\", \"type\": \"scattermapbox\"}, {\"hovertemplate\": \"neighborhood=Parkside<br>sale_price_sqr_foot=%{marker.size}<br>Lat=%{lat}<br>Lon=%{lon}<extra></extra>\", \"lat\": [37.75], \"legendgroup\": \"Parkside\", \"lon\": [-122.49], \"marker\": {\"color\": \"#ab63fa\", \"size\": [336.17], \"sizemode\": \"area\", \"sizeref\": 2.259975}, \"mode\": \"markers\", \"name\": \"Parkside\", \"showlegend\": true, \"subplot\": \"mapbox\", \"type\": \"scattermapbox\"}, {\"hovertemplate\": \"neighborhood=Parnassus/Ashbury Heights<br>sale_price_sqr_foot=%{marker.size}<br>Lat=%{lat}<br>Lon=%{lon}<extra></extra>\", \"lat\": [37.76], \"legendgroup\": \"Parnassus/Ashbury Heights\", \"lon\": [-122.46], \"marker\": {\"color\": \"#FFA15A\", \"size\": [632.74], \"sizemode\": \"area\", \"sizeref\": 2.259975}, \"mode\": \"markers\", \"name\": \"Parnassus/Ashbury Heights\", \"showlegend\": true, \"subplot\": \"mapbox\", \"type\": \"scattermapbox\"}, {\"hovertemplate\": \"neighborhood=Portola<br>sale_price_sqr_foot=%{marker.size}<br>Lat=%{lat}<br>Lon=%{lon}<extra></extra>\", \"lat\": [37.73], \"legendgroup\": \"Portola\", \"lon\": [-122.4], \"marker\": {\"color\": \"#19d3f3\", \"size\": [327.11], \"sizemode\": \"area\", \"sizeref\": 2.259975}, \"mode\": \"markers\", \"name\": \"Portola\", \"showlegend\": true, \"subplot\": \"mapbox\", \"type\": \"scattermapbox\"}, {\"hovertemplate\": \"neighborhood=Potrero Hill<br>sale_price_sqr_foot=%{marker.size}<br>Lat=%{lat}<br>Lon=%{lon}<extra></extra>\", \"lat\": [37.73], \"legendgroup\": \"Potrero Hill\", \"lon\": [-122.38], \"marker\": {\"color\": \"#FF6692\", \"size\": [662.01], \"sizemode\": \"area\", \"sizeref\": 2.259975}, \"mode\": \"markers\", \"name\": \"Potrero Hill\", \"showlegend\": true, \"subplot\": \"mapbox\", \"type\": \"scattermapbox\"}, {\"hovertemplate\": \"neighborhood=Presidio Heights<br>sale_price_sqr_foot=%{marker.size}<br>Lat=%{lat}<br>Lon=%{lon}<extra></extra>\", \"lat\": [37.79], \"legendgroup\": \"Presidio Heights\", \"lon\": [-122.46], \"marker\": {\"color\": \"#B6E880\", \"size\": [675.35], \"sizemode\": \"area\", \"sizeref\": 2.259975}, \"mode\": \"markers\", \"name\": \"Presidio Heights\", \"showlegend\": true, \"subplot\": \"mapbox\", \"type\": \"scattermapbox\"}, {\"hovertemplate\": \"neighborhood=Russian Hill<br>sale_price_sqr_foot=%{marker.size}<br>Lat=%{lat}<br>Lon=%{lon}<extra></extra>\", \"lat\": [37.79], \"legendgroup\": \"Russian Hill\", \"lon\": [-122.44], \"marker\": {\"color\": \"#FF97FF\", \"size\": [608.98], \"sizemode\": \"area\", \"sizeref\": 2.259975}, \"mode\": \"markers\", \"name\": \"Russian Hill\", \"showlegend\": true, \"subplot\": \"mapbox\", \"type\": \"scattermapbox\"}, {\"hovertemplate\": \"neighborhood=Silver Terrace<br>sale_price_sqr_foot=%{marker.size}<br>Lat=%{lat}<br>Lon=%{lon}<extra></extra>\", \"lat\": [37.73], \"legendgroup\": \"Silver Terrace\", \"lon\": [-122.4], \"marker\": {\"color\": \"#FECB52\", \"size\": [170.29], \"sizemode\": \"area\", \"sizeref\": 2.259975}, \"mode\": \"markers\", \"name\": \"Silver Terrace\", \"showlegend\": true, \"subplot\": \"mapbox\", \"type\": \"scattermapbox\"}, {\"hovertemplate\": \"neighborhood=South Beach<br>sale_price_sqr_foot=%{marker.size}<br>Lat=%{lat}<br>Lon=%{lon}<extra></extra>\", \"lat\": [37.78], \"legendgroup\": \"South Beach\", \"lon\": [-122.4], \"marker\": {\"color\": \"#636efa\", \"size\": [650.12], \"sizemode\": \"area\", \"sizeref\": 2.259975}, \"mode\": \"markers\", \"name\": \"South Beach\", \"showlegend\": true, \"subplot\": \"mapbox\", \"type\": \"scattermapbox\"}, {\"hovertemplate\": \"neighborhood=South of Market<br>sale_price_sqr_foot=%{marker.size}<br>Lat=%{lat}<br>Lon=%{lon}<extra></extra>\", \"lat\": [37.79], \"legendgroup\": \"South of Market\", \"lon\": [-122.4], \"marker\": {\"color\": \"#EF553B\", \"size\": [570.27], \"sizemode\": \"area\", \"sizeref\": 2.259975}, \"mode\": \"markers\", \"name\": \"South of Market\", \"showlegend\": true, \"subplot\": \"mapbox\", \"type\": \"scattermapbox\"}, {\"hovertemplate\": \"neighborhood=Sunnyside<br>sale_price_sqr_foot=%{marker.size}<br>Lat=%{lat}<br>Lon=%{lon}<extra></extra>\", \"lat\": [37.73], \"legendgroup\": \"Sunnyside\", \"lon\": [-122.46], \"marker\": {\"color\": \"#00cc96\", \"size\": [528.32], \"sizemode\": \"area\", \"sizeref\": 2.259975}, \"mode\": \"markers\", \"name\": \"Sunnyside\", \"showlegend\": true, \"subplot\": \"mapbox\", \"type\": \"scattermapbox\"}, {\"hovertemplate\": \"neighborhood=Telegraph Hill<br>sale_price_sqr_foot=%{marker.size}<br>Lat=%{lat}<br>Lon=%{lon}<extra></extra>\", \"lat\": [37.8], \"legendgroup\": \"Telegraph Hill\", \"lon\": [-122.4], \"marker\": {\"color\": \"#ab63fa\", \"size\": [676.51], \"sizemode\": \"area\", \"sizeref\": 2.259975}, \"mode\": \"markers\", \"name\": \"Telegraph Hill\", \"showlegend\": true, \"subplot\": \"mapbox\", \"type\": \"scattermapbox\"}, {\"hovertemplate\": \"neighborhood=Twin Peaks<br>sale_price_sqr_foot=%{marker.size}<br>Lat=%{lat}<br>Lon=%{lon}<extra></extra>\", \"lat\": [37.75], \"legendgroup\": \"Twin Peaks\", \"lon\": [-122.45], \"marker\": {\"color\": \"#FFA15A\", \"size\": [469.4], \"sizemode\": \"area\", \"sizeref\": 2.259975}, \"mode\": \"markers\", \"name\": \"Twin Peaks\", \"showlegend\": true, \"subplot\": \"mapbox\", \"type\": \"scattermapbox\"}, {\"hovertemplate\": \"neighborhood=Union Square District<br>sale_price_sqr_foot=%{marker.size}<br>Lat=%{lat}<br>Lon=%{lon}<extra></extra>\", \"lat\": [37.79], \"legendgroup\": \"Union Square District\", \"lon\": [-122.4], \"marker\": {\"color\": \"#19d3f3\", \"size\": [903.99], \"sizemode\": \"area\", \"sizeref\": 2.259975}, \"mode\": \"markers\", \"name\": \"Union Square District\", \"showlegend\": true, \"subplot\": \"mapbox\", \"type\": \"scattermapbox\"}, {\"hovertemplate\": \"neighborhood=Van Ness/ Civic Center<br>sale_price_sqr_foot=%{marker.size}<br>Lat=%{lat}<br>Lon=%{lon}<extra></extra>\", \"lat\": [37.78], \"legendgroup\": \"Van Ness/ Civic Center\", \"lon\": [-122.42], \"marker\": {\"color\": \"#FF6692\", \"size\": [404.15], \"sizemode\": \"area\", \"sizeref\": 2.259975}, \"mode\": \"markers\", \"name\": \"Van Ness/ Civic Center\", \"showlegend\": true, \"subplot\": \"mapbox\", \"type\": \"scattermapbox\"}, {\"hovertemplate\": \"neighborhood=Visitacion Valley<br>sale_price_sqr_foot=%{marker.size}<br>Lat=%{lat}<br>Lon=%{lon}<extra></extra>\", \"lat\": [37.73], \"legendgroup\": \"Visitacion Valley\", \"lon\": [-122.41], \"marker\": {\"color\": \"#B6E880\", \"size\": [301.47], \"sizemode\": \"area\", \"sizeref\": 2.259975}, \"mode\": \"markers\", \"name\": \"Visitacion Valley\", \"showlegend\": true, \"subplot\": \"mapbox\", \"type\": \"scattermapbox\"}, {\"hovertemplate\": \"neighborhood=West Portal<br>sale_price_sqr_foot=%{marker.size}<br>Lat=%{lat}<br>Lon=%{lon}<extra></extra>\", \"lat\": [37.74], \"legendgroup\": \"West Portal\", \"lon\": [-122.46], \"marker\": {\"color\": \"#FF97FF\", \"size\": [498.49], \"sizemode\": \"area\", \"sizeref\": 2.259975}, \"mode\": \"markers\", \"name\": \"West Portal\", \"showlegend\": true, \"subplot\": \"mapbox\", \"type\": \"scattermapbox\"}, {\"hovertemplate\": \"neighborhood=Western Addition<br>sale_price_sqr_foot=%{marker.size}<br>Lat=%{lat}<br>Lon=%{lon}<extra></extra>\", \"lat\": [37.79], \"legendgroup\": \"Western Addition\", \"lon\": [-122.44], \"marker\": {\"color\": \"#FECB52\", \"size\": [307.56], \"sizemode\": \"area\", \"sizeref\": 2.259975}, \"mode\": \"markers\", \"name\": \"Western Addition\", \"showlegend\": true, \"subplot\": \"mapbox\", \"type\": \"scattermapbox\"}, {\"hovertemplate\": \"neighborhood=Westwood Highlands<br>sale_price_sqr_foot=%{marker.size}<br>Lat=%{lat}<br>Lon=%{lon}<extra></extra>\", \"lat\": [37.73], \"legendgroup\": \"Westwood Highlands\", \"lon\": [-122.46], \"marker\": {\"color\": \"#636efa\", \"size\": [533.7], \"sizemode\": \"area\", \"sizeref\": 2.259975}, \"mode\": \"markers\", \"name\": \"Westwood Highlands\", \"showlegend\": true, \"subplot\": \"mapbox\", \"type\": \"scattermapbox\"}, {\"hovertemplate\": \"neighborhood=Westwood Park<br>sale_price_sqr_foot=%{marker.size}<br>Lat=%{lat}<br>Lon=%{lon}<extra></extra>\", \"lat\": [37.73], \"legendgroup\": \"Westwood Park\", \"lon\": [-122.46], \"marker\": {\"color\": \"#EF553B\", \"size\": [687.09], \"sizemode\": \"area\", \"sizeref\": 2.259975}, \"mode\": \"markers\", \"name\": \"Westwood Park\", \"showlegend\": true, \"subplot\": \"mapbox\", \"type\": \"scattermapbox\"}, {\"hovertemplate\": \"neighborhood=Yerba Buena<br>sale_price_sqr_foot=%{marker.size}<br>Lat=%{lat}<br>Lon=%{lon}<extra></extra>\", \"lat\": [37.79], \"legendgroup\": \"Yerba Buena\", \"lon\": [-122.4], \"marker\": {\"color\": \"#00cc96\", \"size\": [576.71], \"sizemode\": \"area\", \"sizeref\": 2.259975}, \"mode\": \"markers\", \"name\": \"Yerba Buena\", \"showlegend\": true, \"subplot\": \"mapbox\", \"type\": \"scattermapbox\"}],\n",
       "                        {\"legend\": {\"itemsizing\": \"constant\", \"title\": {\"text\": \"neighborhood\"}, \"tracegroupgap\": 0}, \"mapbox\": {\"accesstoken\": \"pk.eyJ1IjoiamtwMDU4NiIsImEiOiJja2F4Nzc5a3owMjMxMzBvOTNnaDV0d3IwIn0.UMp9LzCDYq7rdaZL7Tfo0A\", \"center\": {\"lat\": 37.759589041095886, \"lon\": -122.43972602739714}, \"domain\": {\"x\": [0.0, 1.0], \"y\": [0.0, 1.0]}, \"zoom\": 10}, \"margin\": {\"t\": 60}, \"template\": {\"data\": {\"bar\": [{\"error_x\": {\"color\": \"#2a3f5f\"}, \"error_y\": {\"color\": \"#2a3f5f\"}, \"marker\": {\"line\": {\"color\": \"#E5ECF6\", \"width\": 0.5}}, \"type\": \"bar\"}], \"barpolar\": [{\"marker\": {\"line\": {\"color\": \"#E5ECF6\", \"width\": 0.5}}, \"type\": \"barpolar\"}], \"carpet\": [{\"aaxis\": {\"endlinecolor\": \"#2a3f5f\", \"gridcolor\": \"white\", \"linecolor\": \"white\", \"minorgridcolor\": \"white\", \"startlinecolor\": \"#2a3f5f\"}, \"baxis\": {\"endlinecolor\": \"#2a3f5f\", \"gridcolor\": \"white\", \"linecolor\": \"white\", \"minorgridcolor\": \"white\", \"startlinecolor\": \"#2a3f5f\"}, \"type\": \"carpet\"}], \"choropleth\": [{\"colorbar\": {\"outlinewidth\": 0, \"ticks\": \"\"}, \"type\": \"choropleth\"}], \"contour\": [{\"colorbar\": {\"outlinewidth\": 0, \"ticks\": \"\"}, \"colorscale\": [[0.0, \"#0d0887\"], [0.1111111111111111, \"#46039f\"], [0.2222222222222222, \"#7201a8\"], [0.3333333333333333, \"#9c179e\"], [0.4444444444444444, \"#bd3786\"], [0.5555555555555556, \"#d8576b\"], [0.6666666666666666, \"#ed7953\"], [0.7777777777777778, \"#fb9f3a\"], [0.8888888888888888, \"#fdca26\"], [1.0, \"#f0f921\"]], \"type\": \"contour\"}], \"contourcarpet\": [{\"colorbar\": {\"outlinewidth\": 0, \"ticks\": \"\"}, \"type\": \"contourcarpet\"}], \"heatmap\": [{\"colorbar\": {\"outlinewidth\": 0, \"ticks\": \"\"}, \"colorscale\": [[0.0, \"#0d0887\"], [0.1111111111111111, \"#46039f\"], [0.2222222222222222, \"#7201a8\"], [0.3333333333333333, \"#9c179e\"], [0.4444444444444444, \"#bd3786\"], [0.5555555555555556, \"#d8576b\"], [0.6666666666666666, \"#ed7953\"], [0.7777777777777778, \"#fb9f3a\"], [0.8888888888888888, \"#fdca26\"], [1.0, \"#f0f921\"]], \"type\": \"heatmap\"}], \"heatmapgl\": [{\"colorbar\": {\"outlinewidth\": 0, \"ticks\": \"\"}, \"colorscale\": [[0.0, \"#0d0887\"], [0.1111111111111111, \"#46039f\"], [0.2222222222222222, \"#7201a8\"], [0.3333333333333333, \"#9c179e\"], [0.4444444444444444, \"#bd3786\"], [0.5555555555555556, \"#d8576b\"], [0.6666666666666666, \"#ed7953\"], [0.7777777777777778, \"#fb9f3a\"], [0.8888888888888888, \"#fdca26\"], [1.0, \"#f0f921\"]], \"type\": \"heatmapgl\"}], \"histogram\": [{\"marker\": {\"colorbar\": {\"outlinewidth\": 0, \"ticks\": \"\"}}, \"type\": \"histogram\"}], \"histogram2d\": [{\"colorbar\": {\"outlinewidth\": 0, \"ticks\": \"\"}, \"colorscale\": [[0.0, \"#0d0887\"], [0.1111111111111111, \"#46039f\"], [0.2222222222222222, \"#7201a8\"], [0.3333333333333333, \"#9c179e\"], [0.4444444444444444, \"#bd3786\"], [0.5555555555555556, \"#d8576b\"], [0.6666666666666666, \"#ed7953\"], [0.7777777777777778, \"#fb9f3a\"], [0.8888888888888888, \"#fdca26\"], [1.0, \"#f0f921\"]], \"type\": \"histogram2d\"}], \"histogram2dcontour\": [{\"colorbar\": {\"outlinewidth\": 0, \"ticks\": \"\"}, \"colorscale\": [[0.0, \"#0d0887\"], [0.1111111111111111, \"#46039f\"], [0.2222222222222222, \"#7201a8\"], [0.3333333333333333, \"#9c179e\"], [0.4444444444444444, \"#bd3786\"], [0.5555555555555556, \"#d8576b\"], [0.6666666666666666, \"#ed7953\"], [0.7777777777777778, \"#fb9f3a\"], [0.8888888888888888, \"#fdca26\"], [1.0, \"#f0f921\"]], \"type\": \"histogram2dcontour\"}], \"mesh3d\": [{\"colorbar\": {\"outlinewidth\": 0, \"ticks\": \"\"}, \"type\": \"mesh3d\"}], \"parcoords\": [{\"line\": {\"colorbar\": {\"outlinewidth\": 0, \"ticks\": \"\"}}, \"type\": \"parcoords\"}], \"pie\": [{\"automargin\": true, \"type\": \"pie\"}], \"scatter\": [{\"marker\": {\"colorbar\": {\"outlinewidth\": 0, \"ticks\": \"\"}}, \"type\": \"scatter\"}], \"scatter3d\": [{\"line\": {\"colorbar\": {\"outlinewidth\": 0, \"ticks\": \"\"}}, \"marker\": {\"colorbar\": {\"outlinewidth\": 0, \"ticks\": \"\"}}, \"type\": \"scatter3d\"}], \"scattercarpet\": [{\"marker\": {\"colorbar\": {\"outlinewidth\": 0, \"ticks\": \"\"}}, \"type\": \"scattercarpet\"}], \"scattergeo\": [{\"marker\": {\"colorbar\": {\"outlinewidth\": 0, \"ticks\": \"\"}}, \"type\": \"scattergeo\"}], \"scattergl\": [{\"marker\": {\"colorbar\": {\"outlinewidth\": 0, \"ticks\": \"\"}}, \"type\": \"scattergl\"}], \"scattermapbox\": [{\"marker\": {\"colorbar\": {\"outlinewidth\": 0, \"ticks\": \"\"}}, \"type\": \"scattermapbox\"}], \"scatterpolar\": [{\"marker\": {\"colorbar\": {\"outlinewidth\": 0, \"ticks\": \"\"}}, \"type\": \"scatterpolar\"}], \"scatterpolargl\": [{\"marker\": {\"colorbar\": {\"outlinewidth\": 0, \"ticks\": \"\"}}, \"type\": \"scatterpolargl\"}], \"scatterternary\": [{\"marker\": {\"colorbar\": {\"outlinewidth\": 0, \"ticks\": \"\"}}, \"type\": \"scatterternary\"}], \"surface\": [{\"colorbar\": {\"outlinewidth\": 0, \"ticks\": \"\"}, \"colorscale\": [[0.0, \"#0d0887\"], [0.1111111111111111, \"#46039f\"], [0.2222222222222222, \"#7201a8\"], [0.3333333333333333, \"#9c179e\"], [0.4444444444444444, \"#bd3786\"], [0.5555555555555556, \"#d8576b\"], [0.6666666666666666, \"#ed7953\"], [0.7777777777777778, \"#fb9f3a\"], [0.8888888888888888, \"#fdca26\"], [1.0, \"#f0f921\"]], \"type\": \"surface\"}], \"table\": [{\"cells\": {\"fill\": {\"color\": \"#EBF0F8\"}, \"line\": {\"color\": \"white\"}}, \"header\": {\"fill\": {\"color\": \"#C8D4E3\"}, \"line\": {\"color\": \"white\"}}, \"type\": \"table\"}]}, \"layout\": {\"annotationdefaults\": {\"arrowcolor\": \"#2a3f5f\", \"arrowhead\": 0, \"arrowwidth\": 1}, \"coloraxis\": {\"colorbar\": {\"outlinewidth\": 0, \"ticks\": \"\"}}, \"colorscale\": {\"diverging\": [[0, \"#8e0152\"], [0.1, \"#c51b7d\"], [0.2, \"#de77ae\"], [0.3, \"#f1b6da\"], [0.4, \"#fde0ef\"], [0.5, \"#f7f7f7\"], [0.6, \"#e6f5d0\"], [0.7, \"#b8e186\"], [0.8, \"#7fbc41\"], [0.9, \"#4d9221\"], [1, \"#276419\"]], \"sequential\": [[0.0, \"#0d0887\"], [0.1111111111111111, \"#46039f\"], [0.2222222222222222, \"#7201a8\"], [0.3333333333333333, \"#9c179e\"], [0.4444444444444444, \"#bd3786\"], [0.5555555555555556, \"#d8576b\"], [0.6666666666666666, \"#ed7953\"], [0.7777777777777778, \"#fb9f3a\"], [0.8888888888888888, \"#fdca26\"], [1.0, \"#f0f921\"]], \"sequentialminus\": [[0.0, \"#0d0887\"], [0.1111111111111111, \"#46039f\"], [0.2222222222222222, \"#7201a8\"], [0.3333333333333333, \"#9c179e\"], [0.4444444444444444, \"#bd3786\"], [0.5555555555555556, \"#d8576b\"], [0.6666666666666666, \"#ed7953\"], [0.7777777777777778, \"#fb9f3a\"], [0.8888888888888888, \"#fdca26\"], [1.0, \"#f0f921\"]]}, \"colorway\": [\"#636efa\", \"#EF553B\", \"#00cc96\", \"#ab63fa\", \"#FFA15A\", \"#19d3f3\", \"#FF6692\", \"#B6E880\", \"#FF97FF\", \"#FECB52\"], \"font\": {\"color\": \"#2a3f5f\"}, \"geo\": {\"bgcolor\": \"white\", \"lakecolor\": \"white\", \"landcolor\": \"#E5ECF6\", \"showlakes\": true, \"showland\": true, \"subunitcolor\": \"white\"}, \"hoverlabel\": {\"align\": \"left\"}, \"hovermode\": \"closest\", \"mapbox\": {\"style\": \"light\"}, \"paper_bgcolor\": \"white\", \"plot_bgcolor\": \"#E5ECF6\", \"polar\": {\"angularaxis\": {\"gridcolor\": \"white\", \"linecolor\": \"white\", \"ticks\": \"\"}, \"bgcolor\": \"#E5ECF6\", \"radialaxis\": {\"gridcolor\": \"white\", \"linecolor\": \"white\", \"ticks\": \"\"}}, \"scene\": {\"xaxis\": {\"backgroundcolor\": \"#E5ECF6\", \"gridcolor\": \"white\", \"gridwidth\": 2, \"linecolor\": \"white\", \"showbackground\": true, \"ticks\": \"\", \"zerolinecolor\": \"white\"}, \"yaxis\": {\"backgroundcolor\": \"#E5ECF6\", \"gridcolor\": \"white\", \"gridwidth\": 2, \"linecolor\": \"white\", \"showbackground\": true, \"ticks\": \"\", \"zerolinecolor\": \"white\"}, \"zaxis\": {\"backgroundcolor\": \"#E5ECF6\", \"gridcolor\": \"white\", \"gridwidth\": 2, \"linecolor\": \"white\", \"showbackground\": true, \"ticks\": \"\", \"zerolinecolor\": \"white\"}}, \"shapedefaults\": {\"line\": {\"color\": \"#2a3f5f\"}}, \"ternary\": {\"aaxis\": {\"gridcolor\": \"white\", \"linecolor\": \"white\", \"ticks\": \"\"}, \"baxis\": {\"gridcolor\": \"white\", \"linecolor\": \"white\", \"ticks\": \"\"}, \"bgcolor\": \"#E5ECF6\", \"caxis\": {\"gridcolor\": \"white\", \"linecolor\": \"white\", \"ticks\": \"\"}}, \"title\": {\"x\": 0.05}, \"xaxis\": {\"automargin\": true, \"gridcolor\": \"white\", \"linecolor\": \"white\", \"ticks\": \"\", \"title\": {\"standoff\": 15}, \"zerolinecolor\": \"white\", \"zerolinewidth\": 2}, \"yaxis\": {\"automargin\": true, \"gridcolor\": \"white\", \"linecolor\": \"white\", \"ticks\": \"\", \"title\": {\"standoff\": 15}, \"zerolinecolor\": \"white\", \"zerolinewidth\": 2}}}},\n",
       "                        {\"responsive\": true}\n",
       "                    ).then(function(){\n",
       "                            \n",
       "var gd = document.getElementById('90d941b7-aee2-4c24-984d-1ff1fc161b97');\n",
       "var x = new MutationObserver(function (mutations, observer) {{\n",
       "        var display = window.getComputedStyle(gd).display;\n",
       "        if (!display || display === 'none') {{\n",
       "            console.log([gd, 'removed!']);\n",
       "            Plotly.purge(gd);\n",
       "            observer.disconnect();\n",
       "        }}\n",
       "}});\n",
       "\n",
       "// Listen for the removal of the full notebook cells\n",
       "var notebookContainer = gd.closest('#notebook-container');\n",
       "if (notebookContainer) {{\n",
       "    x.observe(notebookContainer, {childList: true});\n",
       "}}\n",
       "\n",
       "// Listen for the clearing of the current output cell\n",
       "var outputEl = gd.closest('.output');\n",
       "if (outputEl) {{\n",
       "    x.observe(outputEl, {childList: true});\n",
       "}}\n",
       "\n",
       "                        })\n",
       "                };\n",
       "                });\n",
       "            </script>\n",
       "        </div>"
      ]
     },
     "metadata": {},
     "output_type": "display_data"
    }
   ],
   "source": [
    "# Create a scatter mapbox to analyze neighborhood info\n",
    "map = px.scatter_mapbox(\n",
    "    sf_data_group_6_joined,\n",
    "    lat=\"Lat\",\n",
    "    lon=\"Lon\",\n",
    "    size=\"sale_price_sqr_foot\",\n",
    "    color=\"neighborhood\",\n",
    "    zoom=10\n",
    ")\n",
    "\n",
    "# Display the map\n",
    "map.show()"
   ]
  },
  {
   "cell_type": "code",
   "execution_count": null,
   "metadata": {},
   "outputs": [],
   "source": []
  }
 ],
 "metadata": {
  "file_extension": ".py",
  "kernelspec": {
   "display_name": "Python 3",
   "language": "python",
   "name": "python3"
  },
  "language_info": {
   "codemirror_mode": {
    "name": "ipython",
    "version": 3
   },
   "file_extension": ".py",
   "mimetype": "text/x-python",
   "name": "python",
   "nbconvert_exporter": "python",
   "pygments_lexer": "ipython3",
   "version": "3.7.7"
  },
  "mimetype": "text/x-python",
  "name": "python",
  "npconvert_exporter": "python",
  "pygments_lexer": "ipython3",
  "version": 3
 },
 "nbformat": 4,
 "nbformat_minor": 4
}
